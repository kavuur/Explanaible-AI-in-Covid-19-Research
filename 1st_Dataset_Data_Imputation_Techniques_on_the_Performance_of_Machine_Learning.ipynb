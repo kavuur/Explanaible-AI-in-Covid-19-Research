{
  "nbformat": 4,
  "nbformat_minor": 0,
  "metadata": {
    "colab": {
      "provenance": []
    },
    "kernelspec": {
      "name": "python3",
      "display_name": "Python 3"
    },
    "language_info": {
      "name": "python"
    },
    "accelerator": "GPU",
    "gpuClass": "standard"
  },
  "cells": [
    {
      "cell_type": "code",
      "execution_count": null,
      "metadata": {
        "colab": {
          "base_uri": "https://localhost:8080/"
        },
        "id": "LnbXbLhaHMGc",
        "outputId": "00740031-55b5-4d98-bd4e-1e242f92d3da"
      },
      "outputs": [
        {
          "output_type": "stream",
          "name": "stdout",
          "text": [
            "Mounted at /content/drive\n"
          ]
        }
      ],
      "source": [
        "from google.colab import drive\n",
        "drive.mount('/content/drive')"
      ]
    },
    {
      "cell_type": "code",
      "source": [
        "import pandas as pd\n"
      ],
      "metadata": {
        "id": "qwRCzHQTH6Qb"
      },
      "execution_count": null,
      "outputs": []
    },
    {
      "cell_type": "markdown",
      "source": [
        "## Predicting the Severity of Covid-19 cases"
      ],
      "metadata": {
        "id": "M_5Cf1N2ZKmD"
      }
    },
    {
      "cell_type": "code",
      "source": [
        "missing_values = [\"n/a\", \"na\", \"--\"]"
      ],
      "metadata": {
        "id": "PPKYud_dS4ff"
      },
      "execution_count": null,
      "outputs": []
    },
    {
      "cell_type": "code",
      "source": [
        "df = pd.read_csv('/content/drive/My Drive/Colab Notebooks/Explainable-AI/Paper-2//Covid-19/dataset.csv', na_values = missing_values)\n"
      ],
      "metadata": {
        "id": "VV8gWDoLJQ_d"
      },
      "execution_count": null,
      "outputs": []
    },
    {
      "cell_type": "code",
      "source": [
        "df.shape"
      ],
      "metadata": {
        "colab": {
          "base_uri": "https://localhost:8080/"
        },
        "id": "czS4UU4SNS5F",
        "outputId": "0fbd79d4-2998-4c0f-a960-386d4f1d8f71"
      },
      "execution_count": null,
      "outputs": [
        {
          "output_type": "execute_result",
          "data": {
            "text/plain": [
              "(601, 66)"
            ]
          },
          "metadata": {},
          "execution_count": 5
        }
      ]
    },
    {
      "cell_type": "code",
      "source": [
        "df.head()"
      ],
      "metadata": {
        "id": "g8TkZuH6HdnW",
        "colab": {
          "base_uri": "https://localhost:8080/",
          "height": 317
        },
        "outputId": "1b4861ed-05f0-4c40-e731-92f76e07a781"
      },
      "execution_count": null,
      "outputs": [
        {
          "output_type": "execute_result",
          "data": {
            "text/plain": [
              "   Unnamed: 0  Size  Interval  Degree_Severe  Degree_Nonsevere   Age  Sex_F  \\\n",
              "0         697     1       3.0          False                 1  40.0    1.0   \n",
              "1         698     1       NaN          False                 1  74.0    1.0   \n",
              "2         699     1       3.0          False                 1  73.0    1.0   \n",
              "3         700     1       1.0           True                 0  66.0    1.0   \n",
              "4         701     1       1.0           True                 0  67.0    0.0   \n",
              "\n",
              "   Sex_M  Underlying_comorbidities_Hypertension  \\\n",
              "0    0.0                                    0.0   \n",
              "1    0.0                                    0.0   \n",
              "2    0.0                                    0.0   \n",
              "3    0.0                                    1.0   \n",
              "4    1.0                                    0.0   \n",
              "\n",
              "   Underlying_comorbidities_Endocrine_disease  ...  source  any_Underlying  \\\n",
              "0                                         0.0  ...  online           False   \n",
              "1                                         0.0  ...  online           False   \n",
              "2                                         0.0  ...  online           False   \n",
              "3                                         0.0  ...  online            True   \n",
              "4                                         0.0  ...  online           False   \n",
              "\n",
              "   any_Symptoms  CK  Troponin_I  O2%  consolidation_ratio%  \\\n",
              "0          True NaN         NaN  NaN                   NaN   \n",
              "1          True NaN         NaN  NaN                   NaN   \n",
              "2          True NaN         NaN  NaN                   NaN   \n",
              "3          True NaN         NaN  NaN                   NaN   \n",
              "4          True NaN         NaN  NaN                   NaN   \n",
              "\n",
              "   ground_glass_opacity_ratio%  non_severe_to_severe_time  \\\n",
              "0                          NaN                        NaN   \n",
              "1                          NaN                        NaN   \n",
              "2                          NaN                        NaN   \n",
              "3                          NaN                        NaN   \n",
              "4                          NaN                        NaN   \n",
              "\n",
              "   non_severe_to_severe  \n",
              "0                     0  \n",
              "1                     0  \n",
              "2                     0  \n",
              "3                     0  \n",
              "4                     0  \n",
              "\n",
              "[5 rows x 66 columns]"
            ],
            "text/html": [
              "\n",
              "  <div id=\"df-89899542-bc12-4415-949a-d8a02ccc51a2\">\n",
              "    <div class=\"colab-df-container\">\n",
              "      <div>\n",
              "<style scoped>\n",
              "    .dataframe tbody tr th:only-of-type {\n",
              "        vertical-align: middle;\n",
              "    }\n",
              "\n",
              "    .dataframe tbody tr th {\n",
              "        vertical-align: top;\n",
              "    }\n",
              "\n",
              "    .dataframe thead th {\n",
              "        text-align: right;\n",
              "    }\n",
              "</style>\n",
              "<table border=\"1\" class=\"dataframe\">\n",
              "  <thead>\n",
              "    <tr style=\"text-align: right;\">\n",
              "      <th></th>\n",
              "      <th>Unnamed: 0</th>\n",
              "      <th>Size</th>\n",
              "      <th>Interval</th>\n",
              "      <th>Degree_Severe</th>\n",
              "      <th>Degree_Nonsevere</th>\n",
              "      <th>Age</th>\n",
              "      <th>Sex_F</th>\n",
              "      <th>Sex_M</th>\n",
              "      <th>Underlying_comorbidities_Hypertension</th>\n",
              "      <th>Underlying_comorbidities_Endocrine_disease</th>\n",
              "      <th>...</th>\n",
              "      <th>source</th>\n",
              "      <th>any_Underlying</th>\n",
              "      <th>any_Symptoms</th>\n",
              "      <th>CK</th>\n",
              "      <th>Troponin_I</th>\n",
              "      <th>O2%</th>\n",
              "      <th>consolidation_ratio%</th>\n",
              "      <th>ground_glass_opacity_ratio%</th>\n",
              "      <th>non_severe_to_severe_time</th>\n",
              "      <th>non_severe_to_severe</th>\n",
              "    </tr>\n",
              "  </thead>\n",
              "  <tbody>\n",
              "    <tr>\n",
              "      <th>0</th>\n",
              "      <td>697</td>\n",
              "      <td>1</td>\n",
              "      <td>3.0</td>\n",
              "      <td>False</td>\n",
              "      <td>1</td>\n",
              "      <td>40.0</td>\n",
              "      <td>1.0</td>\n",
              "      <td>0.0</td>\n",
              "      <td>0.0</td>\n",
              "      <td>0.0</td>\n",
              "      <td>...</td>\n",
              "      <td>online</td>\n",
              "      <td>False</td>\n",
              "      <td>True</td>\n",
              "      <td>NaN</td>\n",
              "      <td>NaN</td>\n",
              "      <td>NaN</td>\n",
              "      <td>NaN</td>\n",
              "      <td>NaN</td>\n",
              "      <td>NaN</td>\n",
              "      <td>0</td>\n",
              "    </tr>\n",
              "    <tr>\n",
              "      <th>1</th>\n",
              "      <td>698</td>\n",
              "      <td>1</td>\n",
              "      <td>NaN</td>\n",
              "      <td>False</td>\n",
              "      <td>1</td>\n",
              "      <td>74.0</td>\n",
              "      <td>1.0</td>\n",
              "      <td>0.0</td>\n",
              "      <td>0.0</td>\n",
              "      <td>0.0</td>\n",
              "      <td>...</td>\n",
              "      <td>online</td>\n",
              "      <td>False</td>\n",
              "      <td>True</td>\n",
              "      <td>NaN</td>\n",
              "      <td>NaN</td>\n",
              "      <td>NaN</td>\n",
              "      <td>NaN</td>\n",
              "      <td>NaN</td>\n",
              "      <td>NaN</td>\n",
              "      <td>0</td>\n",
              "    </tr>\n",
              "    <tr>\n",
              "      <th>2</th>\n",
              "      <td>699</td>\n",
              "      <td>1</td>\n",
              "      <td>3.0</td>\n",
              "      <td>False</td>\n",
              "      <td>1</td>\n",
              "      <td>73.0</td>\n",
              "      <td>1.0</td>\n",
              "      <td>0.0</td>\n",
              "      <td>0.0</td>\n",
              "      <td>0.0</td>\n",
              "      <td>...</td>\n",
              "      <td>online</td>\n",
              "      <td>False</td>\n",
              "      <td>True</td>\n",
              "      <td>NaN</td>\n",
              "      <td>NaN</td>\n",
              "      <td>NaN</td>\n",
              "      <td>NaN</td>\n",
              "      <td>NaN</td>\n",
              "      <td>NaN</td>\n",
              "      <td>0</td>\n",
              "    </tr>\n",
              "    <tr>\n",
              "      <th>3</th>\n",
              "      <td>700</td>\n",
              "      <td>1</td>\n",
              "      <td>1.0</td>\n",
              "      <td>True</td>\n",
              "      <td>0</td>\n",
              "      <td>66.0</td>\n",
              "      <td>1.0</td>\n",
              "      <td>0.0</td>\n",
              "      <td>1.0</td>\n",
              "      <td>0.0</td>\n",
              "      <td>...</td>\n",
              "      <td>online</td>\n",
              "      <td>True</td>\n",
              "      <td>True</td>\n",
              "      <td>NaN</td>\n",
              "      <td>NaN</td>\n",
              "      <td>NaN</td>\n",
              "      <td>NaN</td>\n",
              "      <td>NaN</td>\n",
              "      <td>NaN</td>\n",
              "      <td>0</td>\n",
              "    </tr>\n",
              "    <tr>\n",
              "      <th>4</th>\n",
              "      <td>701</td>\n",
              "      <td>1</td>\n",
              "      <td>1.0</td>\n",
              "      <td>True</td>\n",
              "      <td>0</td>\n",
              "      <td>67.0</td>\n",
              "      <td>0.0</td>\n",
              "      <td>1.0</td>\n",
              "      <td>0.0</td>\n",
              "      <td>0.0</td>\n",
              "      <td>...</td>\n",
              "      <td>online</td>\n",
              "      <td>False</td>\n",
              "      <td>True</td>\n",
              "      <td>NaN</td>\n",
              "      <td>NaN</td>\n",
              "      <td>NaN</td>\n",
              "      <td>NaN</td>\n",
              "      <td>NaN</td>\n",
              "      <td>NaN</td>\n",
              "      <td>0</td>\n",
              "    </tr>\n",
              "  </tbody>\n",
              "</table>\n",
              "<p>5 rows × 66 columns</p>\n",
              "</div>\n",
              "      <button class=\"colab-df-convert\" onclick=\"convertToInteractive('df-89899542-bc12-4415-949a-d8a02ccc51a2')\"\n",
              "              title=\"Convert this dataframe to an interactive table.\"\n",
              "              style=\"display:none;\">\n",
              "        \n",
              "  <svg xmlns=\"http://www.w3.org/2000/svg\" height=\"24px\"viewBox=\"0 0 24 24\"\n",
              "       width=\"24px\">\n",
              "    <path d=\"M0 0h24v24H0V0z\" fill=\"none\"/>\n",
              "    <path d=\"M18.56 5.44l.94 2.06.94-2.06 2.06-.94-2.06-.94-.94-2.06-.94 2.06-2.06.94zm-11 1L8.5 8.5l.94-2.06 2.06-.94-2.06-.94L8.5 2.5l-.94 2.06-2.06.94zm10 10l.94 2.06.94-2.06 2.06-.94-2.06-.94-.94-2.06-.94 2.06-2.06.94z\"/><path d=\"M17.41 7.96l-1.37-1.37c-.4-.4-.92-.59-1.43-.59-.52 0-1.04.2-1.43.59L10.3 9.45l-7.72 7.72c-.78.78-.78 2.05 0 2.83L4 21.41c.39.39.9.59 1.41.59.51 0 1.02-.2 1.41-.59l7.78-7.78 2.81-2.81c.8-.78.8-2.07 0-2.86zM5.41 20L4 18.59l7.72-7.72 1.47 1.35L5.41 20z\"/>\n",
              "  </svg>\n",
              "      </button>\n",
              "      \n",
              "  <style>\n",
              "    .colab-df-container {\n",
              "      display:flex;\n",
              "      flex-wrap:wrap;\n",
              "      gap: 12px;\n",
              "    }\n",
              "\n",
              "    .colab-df-convert {\n",
              "      background-color: #E8F0FE;\n",
              "      border: none;\n",
              "      border-radius: 50%;\n",
              "      cursor: pointer;\n",
              "      display: none;\n",
              "      fill: #1967D2;\n",
              "      height: 32px;\n",
              "      padding: 0 0 0 0;\n",
              "      width: 32px;\n",
              "    }\n",
              "\n",
              "    .colab-df-convert:hover {\n",
              "      background-color: #E2EBFA;\n",
              "      box-shadow: 0px 1px 2px rgba(60, 64, 67, 0.3), 0px 1px 3px 1px rgba(60, 64, 67, 0.15);\n",
              "      fill: #174EA6;\n",
              "    }\n",
              "\n",
              "    [theme=dark] .colab-df-convert {\n",
              "      background-color: #3B4455;\n",
              "      fill: #D2E3FC;\n",
              "    }\n",
              "\n",
              "    [theme=dark] .colab-df-convert:hover {\n",
              "      background-color: #434B5C;\n",
              "      box-shadow: 0px 1px 3px 1px rgba(0, 0, 0, 0.15);\n",
              "      filter: drop-shadow(0px 1px 2px rgba(0, 0, 0, 0.3));\n",
              "      fill: #FFFFFF;\n",
              "    }\n",
              "  </style>\n",
              "\n",
              "      <script>\n",
              "        const buttonEl =\n",
              "          document.querySelector('#df-89899542-bc12-4415-949a-d8a02ccc51a2 button.colab-df-convert');\n",
              "        buttonEl.style.display =\n",
              "          google.colab.kernel.accessAllowed ? 'block' : 'none';\n",
              "\n",
              "        async function convertToInteractive(key) {\n",
              "          const element = document.querySelector('#df-89899542-bc12-4415-949a-d8a02ccc51a2');\n",
              "          const dataTable =\n",
              "            await google.colab.kernel.invokeFunction('convertToInteractive',\n",
              "                                                     [key], {});\n",
              "          if (!dataTable) return;\n",
              "\n",
              "          const docLinkHtml = 'Like what you see? Visit the ' +\n",
              "            '<a target=\"_blank\" href=https://colab.research.google.com/notebooks/data_table.ipynb>data table notebook</a>'\n",
              "            + ' to learn more about interactive tables.';\n",
              "          element.innerHTML = '';\n",
              "          dataTable['output_type'] = 'display_data';\n",
              "          await google.colab.output.renderOutput(dataTable, element);\n",
              "          const docLink = document.createElement('div');\n",
              "          docLink.innerHTML = docLinkHtml;\n",
              "          element.appendChild(docLink);\n",
              "        }\n",
              "      </script>\n",
              "    </div>\n",
              "  </div>\n",
              "  "
            ]
          },
          "metadata": {},
          "execution_count": 6
        }
      ]
    },
    {
      "cell_type": "markdown",
      "source": [
        "|**Interval**|**Degree_Severity**|**age**|**Sex**|**any_Underlying**|**any_Symptoms**|**CK**|**Troponin_I**|**consolidation_ratio**|**ground_glass_opacity_ratio**|**non_severe_to_severe**|\t\n",
        "|-------|---------|---------|-------|--------|--------|----------|----------|----------|----------|----------|\n",
        "|3.0|False|40.0|1|False|True|NaN|NaN|NaN|NaN|0|\n",
        "|NaN.0|False|74.0|1|False|True|NaN|NaN|NaN|NaN|0|\n",
        "|3.0|False|73.0|1|False|True|NaN|NaN|NaN|NaN|0|\n",
        "|1.0|True|66.0|1|True|True|NaN|NaN|NaN|NaN|0|\n",
        "|1.0|True|67.0|0|False|True|NaN|NaN|NaN|NaN|0|\n",
        "\n"
      ],
      "metadata": {
        "id": "paZhLJEnf6Vd"
      }
    },
    {
      "cell_type": "code",
      "source": [
        "df=df.drop(['Unnamed: 0','Size'],axis=1)"
      ],
      "metadata": {
        "id": "3_CYAuG4cv-v"
      },
      "execution_count": null,
      "outputs": []
    },
    {
      "cell_type": "code",
      "source": [
        "df.columns"
      ],
      "metadata": {
        "colab": {
          "base_uri": "https://localhost:8080/"
        },
        "id": "cujaNruDQ6bk",
        "outputId": "49c51154-cd52-48b5-c045-44a15afac782"
      },
      "execution_count": null,
      "outputs": [
        {
          "output_type": "execute_result",
          "data": {
            "text/plain": [
              "Index(['Interval', 'Degree_Severe', 'Degree_Nonsevere', 'Age', 'Sex_F',\n",
              "       'Sex_M', 'Underlying_comorbidities_Hypertension',\n",
              "       'Underlying_comorbidities_Endocrine_disease',\n",
              "       'Underlying_comorbidities_CVD',\n",
              "       'Underlying_comorbidities_Chronic_Lung_disease',\n",
              "       'Underlying_comorbidities_Digestive_Disease',\n",
              "       'Underlying_comorbidities_Renal_disease',\n",
              "       'Underlying_comorbidities_Tumor',\n",
              "       'Underlying_comorbidities_Cerebrovascular/Nervous_Disease',\n",
              "       'Underlying_comorbidities_Immune_disorder',\n",
              "       'Underlying_comorbidities_Others', 'Symptoms_Fever', 'Symptoms_Cough',\n",
              "       'Symptoms_Expectoration', 'Symptoms_Hemoptysis', 'Symptoms_Dyspnea',\n",
              "       'Symptoms_Catarrh', 'Symptoms_Fatigue', 'Symptoms_Anorexia',\n",
              "       'Symptoms_Nausea/Emesis', 'Symptoms_Myalgia',\n",
              "       'Symptoms_Dizziness/Headache', 'Symptoms_Pharyngalgia',\n",
              "       'Symptoms_Chest/back_pain', 'Symptoms_Chest_tightness',\n",
              "       'Symptoms_Abdominal_pain/diarrhea', 'Temperature_High',\n",
              "       'Temperature_Moderate', 'Temperature_Low', 'Laboratory_test_WBC',\n",
              "       'Laboratory_test_L', 'Laboratory_test_N', 'Laboratory_test_ESR_(mm/hr)',\n",
              "       'Laboratory_test_CRP_(mg/L)', 'Laboratory_test_PCT_(ng/ml)',\n",
              "       'Laboratory_test_HTI_(pg/ml)', 'Laboratory_test_CK_MB_(ng/ml)',\n",
              "       'Laboratory_test_D_dimer_(ug/ml)', 'Laboratory_test_ALT_(U/L)',\n",
              "       'Laboratory_test_AST_(U/L)', 'Laboratory_test_TB_(umol/L)',\n",
              "       'Laboratory_test_ALB_(g/L)', 'Laboratory_test_LDH_(U/L)',\n",
              "       'Laboratory_test_BUN_(mmol/L)', 'Laboratory_test_SCr_(umol/L)',\n",
              "       'Laboratory_test_PT_(s)', 'Laboratory_test_Lac_(mmol/L)',\n",
              "       'Laboratory_test_IL_6_(pg/ml)', 'Laboratory_test_Lymphopenia', 'source',\n",
              "       'any_Underlying', 'any_Symptoms', 'CK', 'Troponin_I', 'O2%',\n",
              "       'consolidation_ratio%', 'ground_glass_opacity_ratio%',\n",
              "       'non_severe_to_severe_time', 'non_severe_to_severe'],\n",
              "      dtype='object')"
            ]
          },
          "metadata": {},
          "execution_count": 8
        }
      ]
    },
    {
      "cell_type": "code",
      "source": [
        "L=list(df.columns)"
      ],
      "metadata": {
        "id": "cNuIOAewSWri"
      },
      "execution_count": null,
      "outputs": []
    },
    {
      "cell_type": "code",
      "source": [
        "df.columns[df.isnull().any()]\n"
      ],
      "metadata": {
        "id": "45L6qP2ZSpQU",
        "colab": {
          "base_uri": "https://localhost:8080/"
        },
        "outputId": "a442feec-2da7-4b69-88a0-fbf4552ac93a"
      },
      "execution_count": null,
      "outputs": [
        {
          "output_type": "execute_result",
          "data": {
            "text/plain": [
              "Index(['Interval', 'Age', 'Sex_F', 'Sex_M',\n",
              "       'Underlying_comorbidities_Hypertension',\n",
              "       'Underlying_comorbidities_Endocrine_disease',\n",
              "       'Underlying_comorbidities_CVD',\n",
              "       'Underlying_comorbidities_Chronic_Lung_disease',\n",
              "       'Underlying_comorbidities_Digestive_Disease',\n",
              "       'Underlying_comorbidities_Renal_disease',\n",
              "       'Underlying_comorbidities_Tumor',\n",
              "       'Underlying_comorbidities_Cerebrovascular/Nervous_Disease',\n",
              "       'Underlying_comorbidities_Immune_disorder',\n",
              "       'Underlying_comorbidities_Others', 'Symptoms_Fever', 'Symptoms_Cough',\n",
              "       'Symptoms_Expectoration', 'Symptoms_Hemoptysis', 'Symptoms_Dyspnea',\n",
              "       'Symptoms_Catarrh', 'Symptoms_Fatigue', 'Symptoms_Anorexia',\n",
              "       'Symptoms_Nausea/Emesis', 'Symptoms_Myalgia',\n",
              "       'Symptoms_Dizziness/Headache', 'Symptoms_Pharyngalgia',\n",
              "       'Symptoms_Chest/back_pain', 'Symptoms_Chest_tightness',\n",
              "       'Symptoms_Abdominal_pain/diarrhea', 'Temperature_High',\n",
              "       'Temperature_Moderate', 'Temperature_Low', 'Laboratory_test_WBC',\n",
              "       'Laboratory_test_L', 'Laboratory_test_N', 'Laboratory_test_ESR_(mm/hr)',\n",
              "       'Laboratory_test_CRP_(mg/L)', 'Laboratory_test_PCT_(ng/ml)',\n",
              "       'Laboratory_test_HTI_(pg/ml)', 'Laboratory_test_CK_MB_(ng/ml)',\n",
              "       'Laboratory_test_D_dimer_(ug/ml)', 'Laboratory_test_ALT_(U/L)',\n",
              "       'Laboratory_test_AST_(U/L)', 'Laboratory_test_TB_(umol/L)',\n",
              "       'Laboratory_test_ALB_(g/L)', 'Laboratory_test_LDH_(U/L)',\n",
              "       'Laboratory_test_BUN_(mmol/L)', 'Laboratory_test_SCr_(umol/L)',\n",
              "       'Laboratory_test_PT_(s)', 'Laboratory_test_Lac_(mmol/L)',\n",
              "       'Laboratory_test_IL_6_(pg/ml)', 'Laboratory_test_Lymphopenia', 'CK',\n",
              "       'Troponin_I', 'O2%', 'consolidation_ratio%',\n",
              "       'ground_glass_opacity_ratio%', 'non_severe_to_severe_time'],\n",
              "      dtype='object')"
            ]
          },
          "metadata": {},
          "execution_count": 10
        }
      ]
    },
    {
      "cell_type": "markdown",
      "source": [
        "Remove all columns with 30% of missing data"
      ],
      "metadata": {
        "id": "i7Hbu8HYJtoe"
      }
    },
    {
      "cell_type": "code",
      "source": [
        "L=[]\n",
        "L_less=[]\n",
        "for i in df.columns:\n",
        "  if((df[i].isnull().sum())<(0.45*(df.shape[0]))):\n",
        "    L.append(i)\n",
        "  else:\n",
        "    L_less.append(i)\n",
        "\n"
      ],
      "metadata": {
        "id": "wujfFQ0eFsKZ"
      },
      "execution_count": null,
      "outputs": []
    },
    {
      "cell_type": "code",
      "source": [
        "list(L)"
      ],
      "metadata": {
        "colab": {
          "base_uri": "https://localhost:8080/"
        },
        "id": "0IcO8fvXJd1o",
        "outputId": "5423e4f3-9062-4657-979c-a718e0b16e5a"
      },
      "execution_count": null,
      "outputs": [
        {
          "output_type": "execute_result",
          "data": {
            "text/plain": [
              "['Interval',\n",
              " 'Degree_Severe',\n",
              " 'Degree_Nonsevere',\n",
              " 'Age',\n",
              " 'Sex_F',\n",
              " 'Sex_M',\n",
              " 'Underlying_comorbidities_Hypertension',\n",
              " 'Underlying_comorbidities_Endocrine_disease',\n",
              " 'Underlying_comorbidities_CVD',\n",
              " 'Underlying_comorbidities_Chronic_Lung_disease',\n",
              " 'Underlying_comorbidities_Digestive_Disease',\n",
              " 'Underlying_comorbidities_Renal_disease',\n",
              " 'Underlying_comorbidities_Tumor',\n",
              " 'Underlying_comorbidities_Cerebrovascular/Nervous_Disease',\n",
              " 'Underlying_comorbidities_Immune_disorder',\n",
              " 'Underlying_comorbidities_Others',\n",
              " 'Symptoms_Fever',\n",
              " 'Symptoms_Cough',\n",
              " 'Symptoms_Dyspnea',\n",
              " 'Symptoms_Fatigue',\n",
              " 'Symptoms_Nausea/Emesis',\n",
              " 'Symptoms_Myalgia',\n",
              " 'Symptoms_Dizziness/Headache',\n",
              " 'Laboratory_test_WBC',\n",
              " 'Laboratory_test_L',\n",
              " 'Laboratory_test_N',\n",
              " 'Laboratory_test_CRP_(mg/L)',\n",
              " 'Laboratory_test_CK_MB_(ng/ml)',\n",
              " 'Laboratory_test_D_dimer_(ug/ml)',\n",
              " 'Laboratory_test_ALT_(U/L)',\n",
              " 'Laboratory_test_AST_(U/L)',\n",
              " 'Laboratory_test_TB_(umol/L)',\n",
              " 'Laboratory_test_ALB_(g/L)',\n",
              " 'Laboratory_test_LDH_(U/L)',\n",
              " 'Laboratory_test_SCr_(umol/L)',\n",
              " 'source',\n",
              " 'any_Underlying',\n",
              " 'any_Symptoms',\n",
              " 'CK',\n",
              " 'non_severe_to_severe']"
            ]
          },
          "metadata": {},
          "execution_count": 12
        }
      ]
    },
    {
      "cell_type": "code",
      "source": [
        "list(L_less)"
      ],
      "metadata": {
        "colab": {
          "base_uri": "https://localhost:8080/"
        },
        "id": "0OGyWk1l_kdU",
        "outputId": "b2c78c57-862a-4ee6-c42f-ee77fbdd9b94"
      },
      "execution_count": null,
      "outputs": [
        {
          "output_type": "execute_result",
          "data": {
            "text/plain": [
              "['Symptoms_Expectoration',\n",
              " 'Symptoms_Hemoptysis',\n",
              " 'Symptoms_Catarrh',\n",
              " 'Symptoms_Anorexia',\n",
              " 'Symptoms_Pharyngalgia',\n",
              " 'Symptoms_Chest/back_pain',\n",
              " 'Symptoms_Chest_tightness',\n",
              " 'Symptoms_Abdominal_pain/diarrhea',\n",
              " 'Temperature_High',\n",
              " 'Temperature_Moderate',\n",
              " 'Temperature_Low',\n",
              " 'Laboratory_test_ESR_(mm/hr)',\n",
              " 'Laboratory_test_PCT_(ng/ml)',\n",
              " 'Laboratory_test_HTI_(pg/ml)',\n",
              " 'Laboratory_test_BUN_(mmol/L)',\n",
              " 'Laboratory_test_PT_(s)',\n",
              " 'Laboratory_test_Lac_(mmol/L)',\n",
              " 'Laboratory_test_IL_6_(pg/ml)',\n",
              " 'Laboratory_test_Lymphopenia',\n",
              " 'Troponin_I',\n",
              " 'O2%',\n",
              " 'consolidation_ratio%',\n",
              " 'ground_glass_opacity_ratio%',\n",
              " 'non_severe_to_severe_time']"
            ]
          },
          "metadata": {},
          "execution_count": 13
        }
      ]
    },
    {
      "cell_type": "code",
      "source": [
        "len(L_less)"
      ],
      "metadata": {
        "colab": {
          "base_uri": "https://localhost:8080/"
        },
        "id": "X9jImiFaMjeT",
        "outputId": "2590e3f0-1fe8-4881-f53f-a720ff8b0c87"
      },
      "execution_count": null,
      "outputs": [
        {
          "output_type": "execute_result",
          "data": {
            "text/plain": [
              "24"
            ]
          },
          "metadata": {},
          "execution_count": 14
        }
      ]
    },
    {
      "cell_type": "code",
      "source": [
        "df[L].head()"
      ],
      "metadata": {
        "colab": {
          "base_uri": "https://localhost:8080/",
          "height": 299
        },
        "id": "_uFs2gXEaOFt",
        "outputId": "fd08af47-d24e-4074-e310-38620ff24bcb"
      },
      "execution_count": null,
      "outputs": [
        {
          "output_type": "execute_result",
          "data": {
            "text/plain": [
              "   Interval  Degree_Severe  Degree_Nonsevere   Age  Sex_F  Sex_M  \\\n",
              "0       3.0          False                 1  40.0    1.0    0.0   \n",
              "1       NaN          False                 1  74.0    1.0    0.0   \n",
              "2       3.0          False                 1  73.0    1.0    0.0   \n",
              "3       1.0           True                 0  66.0    1.0    0.0   \n",
              "4       1.0           True                 0  67.0    0.0    1.0   \n",
              "\n",
              "   Underlying_comorbidities_Hypertension  \\\n",
              "0                                    0.0   \n",
              "1                                    0.0   \n",
              "2                                    0.0   \n",
              "3                                    1.0   \n",
              "4                                    0.0   \n",
              "\n",
              "   Underlying_comorbidities_Endocrine_disease  Underlying_comorbidities_CVD  \\\n",
              "0                                         0.0                           0.0   \n",
              "1                                         0.0                           0.0   \n",
              "2                                         0.0                           0.0   \n",
              "3                                         0.0                           0.0   \n",
              "4                                         0.0                           0.0   \n",
              "\n",
              "   Underlying_comorbidities_Chronic_Lung_disease  ...  \\\n",
              "0                                            0.0  ...   \n",
              "1                                            0.0  ...   \n",
              "2                                            0.0  ...   \n",
              "3                                            0.0  ...   \n",
              "4                                            0.0  ...   \n",
              "\n",
              "   Laboratory_test_AST_(U/L)  Laboratory_test_TB_(umol/L)  \\\n",
              "0                        NaN                          NaN   \n",
              "1                        NaN                          NaN   \n",
              "2                        NaN                          NaN   \n",
              "3                        NaN                          NaN   \n",
              "4                        NaN                          NaN   \n",
              "\n",
              "   Laboratory_test_ALB_(g/L)  Laboratory_test_LDH_(U/L)  \\\n",
              "0                        NaN                        NaN   \n",
              "1                        NaN                        NaN   \n",
              "2                        NaN                        NaN   \n",
              "3                        NaN                        NaN   \n",
              "4                        NaN                        NaN   \n",
              "\n",
              "   Laboratory_test_SCr_(umol/L)  source  any_Underlying  any_Symptoms  CK  \\\n",
              "0                           NaN  online           False          True NaN   \n",
              "1                           NaN  online           False          True NaN   \n",
              "2                           NaN  online           False          True NaN   \n",
              "3                           NaN  online            True          True NaN   \n",
              "4                           NaN  online           False          True NaN   \n",
              "\n",
              "   non_severe_to_severe  \n",
              "0                     0  \n",
              "1                     0  \n",
              "2                     0  \n",
              "3                     0  \n",
              "4                     0  \n",
              "\n",
              "[5 rows x 40 columns]"
            ],
            "text/html": [
              "\n",
              "  <div id=\"df-105d625e-e4e1-4ec0-8901-fdb458be5cdf\">\n",
              "    <div class=\"colab-df-container\">\n",
              "      <div>\n",
              "<style scoped>\n",
              "    .dataframe tbody tr th:only-of-type {\n",
              "        vertical-align: middle;\n",
              "    }\n",
              "\n",
              "    .dataframe tbody tr th {\n",
              "        vertical-align: top;\n",
              "    }\n",
              "\n",
              "    .dataframe thead th {\n",
              "        text-align: right;\n",
              "    }\n",
              "</style>\n",
              "<table border=\"1\" class=\"dataframe\">\n",
              "  <thead>\n",
              "    <tr style=\"text-align: right;\">\n",
              "      <th></th>\n",
              "      <th>Interval</th>\n",
              "      <th>Degree_Severe</th>\n",
              "      <th>Degree_Nonsevere</th>\n",
              "      <th>Age</th>\n",
              "      <th>Sex_F</th>\n",
              "      <th>Sex_M</th>\n",
              "      <th>Underlying_comorbidities_Hypertension</th>\n",
              "      <th>Underlying_comorbidities_Endocrine_disease</th>\n",
              "      <th>Underlying_comorbidities_CVD</th>\n",
              "      <th>Underlying_comorbidities_Chronic_Lung_disease</th>\n",
              "      <th>...</th>\n",
              "      <th>Laboratory_test_AST_(U/L)</th>\n",
              "      <th>Laboratory_test_TB_(umol/L)</th>\n",
              "      <th>Laboratory_test_ALB_(g/L)</th>\n",
              "      <th>Laboratory_test_LDH_(U/L)</th>\n",
              "      <th>Laboratory_test_SCr_(umol/L)</th>\n",
              "      <th>source</th>\n",
              "      <th>any_Underlying</th>\n",
              "      <th>any_Symptoms</th>\n",
              "      <th>CK</th>\n",
              "      <th>non_severe_to_severe</th>\n",
              "    </tr>\n",
              "  </thead>\n",
              "  <tbody>\n",
              "    <tr>\n",
              "      <th>0</th>\n",
              "      <td>3.0</td>\n",
              "      <td>False</td>\n",
              "      <td>1</td>\n",
              "      <td>40.0</td>\n",
              "      <td>1.0</td>\n",
              "      <td>0.0</td>\n",
              "      <td>0.0</td>\n",
              "      <td>0.0</td>\n",
              "      <td>0.0</td>\n",
              "      <td>0.0</td>\n",
              "      <td>...</td>\n",
              "      <td>NaN</td>\n",
              "      <td>NaN</td>\n",
              "      <td>NaN</td>\n",
              "      <td>NaN</td>\n",
              "      <td>NaN</td>\n",
              "      <td>online</td>\n",
              "      <td>False</td>\n",
              "      <td>True</td>\n",
              "      <td>NaN</td>\n",
              "      <td>0</td>\n",
              "    </tr>\n",
              "    <tr>\n",
              "      <th>1</th>\n",
              "      <td>NaN</td>\n",
              "      <td>False</td>\n",
              "      <td>1</td>\n",
              "      <td>74.0</td>\n",
              "      <td>1.0</td>\n",
              "      <td>0.0</td>\n",
              "      <td>0.0</td>\n",
              "      <td>0.0</td>\n",
              "      <td>0.0</td>\n",
              "      <td>0.0</td>\n",
              "      <td>...</td>\n",
              "      <td>NaN</td>\n",
              "      <td>NaN</td>\n",
              "      <td>NaN</td>\n",
              "      <td>NaN</td>\n",
              "      <td>NaN</td>\n",
              "      <td>online</td>\n",
              "      <td>False</td>\n",
              "      <td>True</td>\n",
              "      <td>NaN</td>\n",
              "      <td>0</td>\n",
              "    </tr>\n",
              "    <tr>\n",
              "      <th>2</th>\n",
              "      <td>3.0</td>\n",
              "      <td>False</td>\n",
              "      <td>1</td>\n",
              "      <td>73.0</td>\n",
              "      <td>1.0</td>\n",
              "      <td>0.0</td>\n",
              "      <td>0.0</td>\n",
              "      <td>0.0</td>\n",
              "      <td>0.0</td>\n",
              "      <td>0.0</td>\n",
              "      <td>...</td>\n",
              "      <td>NaN</td>\n",
              "      <td>NaN</td>\n",
              "      <td>NaN</td>\n",
              "      <td>NaN</td>\n",
              "      <td>NaN</td>\n",
              "      <td>online</td>\n",
              "      <td>False</td>\n",
              "      <td>True</td>\n",
              "      <td>NaN</td>\n",
              "      <td>0</td>\n",
              "    </tr>\n",
              "    <tr>\n",
              "      <th>3</th>\n",
              "      <td>1.0</td>\n",
              "      <td>True</td>\n",
              "      <td>0</td>\n",
              "      <td>66.0</td>\n",
              "      <td>1.0</td>\n",
              "      <td>0.0</td>\n",
              "      <td>1.0</td>\n",
              "      <td>0.0</td>\n",
              "      <td>0.0</td>\n",
              "      <td>0.0</td>\n",
              "      <td>...</td>\n",
              "      <td>NaN</td>\n",
              "      <td>NaN</td>\n",
              "      <td>NaN</td>\n",
              "      <td>NaN</td>\n",
              "      <td>NaN</td>\n",
              "      <td>online</td>\n",
              "      <td>True</td>\n",
              "      <td>True</td>\n",
              "      <td>NaN</td>\n",
              "      <td>0</td>\n",
              "    </tr>\n",
              "    <tr>\n",
              "      <th>4</th>\n",
              "      <td>1.0</td>\n",
              "      <td>True</td>\n",
              "      <td>0</td>\n",
              "      <td>67.0</td>\n",
              "      <td>0.0</td>\n",
              "      <td>1.0</td>\n",
              "      <td>0.0</td>\n",
              "      <td>0.0</td>\n",
              "      <td>0.0</td>\n",
              "      <td>0.0</td>\n",
              "      <td>...</td>\n",
              "      <td>NaN</td>\n",
              "      <td>NaN</td>\n",
              "      <td>NaN</td>\n",
              "      <td>NaN</td>\n",
              "      <td>NaN</td>\n",
              "      <td>online</td>\n",
              "      <td>False</td>\n",
              "      <td>True</td>\n",
              "      <td>NaN</td>\n",
              "      <td>0</td>\n",
              "    </tr>\n",
              "  </tbody>\n",
              "</table>\n",
              "<p>5 rows × 40 columns</p>\n",
              "</div>\n",
              "      <button class=\"colab-df-convert\" onclick=\"convertToInteractive('df-105d625e-e4e1-4ec0-8901-fdb458be5cdf')\"\n",
              "              title=\"Convert this dataframe to an interactive table.\"\n",
              "              style=\"display:none;\">\n",
              "        \n",
              "  <svg xmlns=\"http://www.w3.org/2000/svg\" height=\"24px\"viewBox=\"0 0 24 24\"\n",
              "       width=\"24px\">\n",
              "    <path d=\"M0 0h24v24H0V0z\" fill=\"none\"/>\n",
              "    <path d=\"M18.56 5.44l.94 2.06.94-2.06 2.06-.94-2.06-.94-.94-2.06-.94 2.06-2.06.94zm-11 1L8.5 8.5l.94-2.06 2.06-.94-2.06-.94L8.5 2.5l-.94 2.06-2.06.94zm10 10l.94 2.06.94-2.06 2.06-.94-2.06-.94-.94-2.06-.94 2.06-2.06.94z\"/><path d=\"M17.41 7.96l-1.37-1.37c-.4-.4-.92-.59-1.43-.59-.52 0-1.04.2-1.43.59L10.3 9.45l-7.72 7.72c-.78.78-.78 2.05 0 2.83L4 21.41c.39.39.9.59 1.41.59.51 0 1.02-.2 1.41-.59l7.78-7.78 2.81-2.81c.8-.78.8-2.07 0-2.86zM5.41 20L4 18.59l7.72-7.72 1.47 1.35L5.41 20z\"/>\n",
              "  </svg>\n",
              "      </button>\n",
              "      \n",
              "  <style>\n",
              "    .colab-df-container {\n",
              "      display:flex;\n",
              "      flex-wrap:wrap;\n",
              "      gap: 12px;\n",
              "    }\n",
              "\n",
              "    .colab-df-convert {\n",
              "      background-color: #E8F0FE;\n",
              "      border: none;\n",
              "      border-radius: 50%;\n",
              "      cursor: pointer;\n",
              "      display: none;\n",
              "      fill: #1967D2;\n",
              "      height: 32px;\n",
              "      padding: 0 0 0 0;\n",
              "      width: 32px;\n",
              "    }\n",
              "\n",
              "    .colab-df-convert:hover {\n",
              "      background-color: #E2EBFA;\n",
              "      box-shadow: 0px 1px 2px rgba(60, 64, 67, 0.3), 0px 1px 3px 1px rgba(60, 64, 67, 0.15);\n",
              "      fill: #174EA6;\n",
              "    }\n",
              "\n",
              "    [theme=dark] .colab-df-convert {\n",
              "      background-color: #3B4455;\n",
              "      fill: #D2E3FC;\n",
              "    }\n",
              "\n",
              "    [theme=dark] .colab-df-convert:hover {\n",
              "      background-color: #434B5C;\n",
              "      box-shadow: 0px 1px 3px 1px rgba(0, 0, 0, 0.15);\n",
              "      filter: drop-shadow(0px 1px 2px rgba(0, 0, 0, 0.3));\n",
              "      fill: #FFFFFF;\n",
              "    }\n",
              "  </style>\n",
              "\n",
              "      <script>\n",
              "        const buttonEl =\n",
              "          document.querySelector('#df-105d625e-e4e1-4ec0-8901-fdb458be5cdf button.colab-df-convert');\n",
              "        buttonEl.style.display =\n",
              "          google.colab.kernel.accessAllowed ? 'block' : 'none';\n",
              "\n",
              "        async function convertToInteractive(key) {\n",
              "          const element = document.querySelector('#df-105d625e-e4e1-4ec0-8901-fdb458be5cdf');\n",
              "          const dataTable =\n",
              "            await google.colab.kernel.invokeFunction('convertToInteractive',\n",
              "                                                     [key], {});\n",
              "          if (!dataTable) return;\n",
              "\n",
              "          const docLinkHtml = 'Like what you see? Visit the ' +\n",
              "            '<a target=\"_blank\" href=https://colab.research.google.com/notebooks/data_table.ipynb>data table notebook</a>'\n",
              "            + ' to learn more about interactive tables.';\n",
              "          element.innerHTML = '';\n",
              "          dataTable['output_type'] = 'display_data';\n",
              "          await google.colab.output.renderOutput(dataTable, element);\n",
              "          const docLink = document.createElement('div');\n",
              "          docLink.innerHTML = docLinkHtml;\n",
              "          element.appendChild(docLink);\n",
              "        }\n",
              "      </script>\n",
              "    </div>\n",
              "  </div>\n",
              "  "
            ]
          },
          "metadata": {},
          "execution_count": 15
        }
      ]
    },
    {
      "cell_type": "code",
      "source": [
        "df[L].info()"
      ],
      "metadata": {
        "colab": {
          "base_uri": "https://localhost:8080/"
        },
        "id": "SdgUuP2WaWcS",
        "outputId": "2f045354-09cd-4f8a-cd10-5eea305c462c"
      },
      "execution_count": null,
      "outputs": [
        {
          "output_type": "stream",
          "name": "stdout",
          "text": [
            "<class 'pandas.core.frame.DataFrame'>\n",
            "RangeIndex: 601 entries, 0 to 600\n",
            "Data columns (total 40 columns):\n",
            " #   Column                                                    Non-Null Count  Dtype  \n",
            "---  ------                                                    --------------  -----  \n",
            " 0   Interval                                                  489 non-null    float64\n",
            " 1   Degree_Severe                                             601 non-null    bool   \n",
            " 2   Degree_Nonsevere                                          601 non-null    int64  \n",
            " 3   Age                                                       599 non-null    float64\n",
            " 4   Sex_F                                                     599 non-null    float64\n",
            " 5   Sex_M                                                     599 non-null    float64\n",
            " 6   Underlying_comorbidities_Hypertension                     478 non-null    float64\n",
            " 7   Underlying_comorbidities_Endocrine_disease                478 non-null    float64\n",
            " 8   Underlying_comorbidities_CVD                              477 non-null    float64\n",
            " 9   Underlying_comorbidities_Chronic_Lung_disease             477 non-null    float64\n",
            " 10  Underlying_comorbidities_Digestive_Disease                477 non-null    float64\n",
            " 11  Underlying_comorbidities_Renal_disease                    477 non-null    float64\n",
            " 12  Underlying_comorbidities_Tumor                            477 non-null    float64\n",
            " 13  Underlying_comorbidities_Cerebrovascular/Nervous_Disease  477 non-null    float64\n",
            " 14  Underlying_comorbidities_Immune_disorder                  477 non-null    float64\n",
            " 15  Underlying_comorbidities_Others                           477 non-null    float64\n",
            " 16  Symptoms_Fever                                            578 non-null    float64\n",
            " 17  Symptoms_Cough                                            479 non-null    float64\n",
            " 18  Symptoms_Dyspnea                                          545 non-null    float64\n",
            " 19  Symptoms_Fatigue                                          479 non-null    float64\n",
            " 20  Symptoms_Nausea/Emesis                                    481 non-null    float64\n",
            " 21  Symptoms_Myalgia                                          481 non-null    float64\n",
            " 22  Symptoms_Dizziness/Headache                               481 non-null    float64\n",
            " 23  Laboratory_test_WBC                                       506 non-null    float64\n",
            " 24  Laboratory_test_L                                         499 non-null    float64\n",
            " 25  Laboratory_test_N                                         499 non-null    float64\n",
            " 26  Laboratory_test_CRP_(mg/L)                                454 non-null    float64\n",
            " 27  Laboratory_test_CK_MB_(ng/ml)                             380 non-null    float64\n",
            " 28  Laboratory_test_D_dimer_(ug/ml)                           390 non-null    float64\n",
            " 29  Laboratory_test_ALT_(U/L)                                 399 non-null    float64\n",
            " 30  Laboratory_test_AST_(U/L)                                 405 non-null    float64\n",
            " 31  Laboratory_test_TB_(umol/L)                               380 non-null    float64\n",
            " 32  Laboratory_test_ALB_(g/L)                                 444 non-null    float64\n",
            " 33  Laboratory_test_LDH_(U/L)                                 429 non-null    float64\n",
            " 34  Laboratory_test_SCr_(umol/L)                              445 non-null    float64\n",
            " 35  source                                                    601 non-null    object \n",
            " 36  any_Underlying                                            601 non-null    bool   \n",
            " 37  any_Symptoms                                              601 non-null    bool   \n",
            " 38  CK                                                        384 non-null    float64\n",
            " 39  non_severe_to_severe                                      601 non-null    int64  \n",
            "dtypes: bool(3), float64(34), int64(2), object(1)\n",
            "memory usage: 175.6+ KB\n"
          ]
        }
      ]
    },
    {
      "cell_type": "code",
      "source": [
        "df=df[L]"
      ],
      "metadata": {
        "id": "7GbqX4KwHJhE"
      },
      "execution_count": null,
      "outputs": []
    },
    {
      "cell_type": "code",
      "source": [
        "import numpy as np"
      ],
      "metadata": {
        "id": "4iGJFXpmK8C0"
      },
      "execution_count": null,
      "outputs": []
    },
    {
      "cell_type": "code",
      "source": [
        "numeric_data=df.select_dtypes(include=np.number)\n"
      ],
      "metadata": {
        "id": "QBpiPSKbHWab"
      },
      "execution_count": null,
      "outputs": []
    },
    {
      "cell_type": "code",
      "source": [
        "numeric_data.shape"
      ],
      "metadata": {
        "colab": {
          "base_uri": "https://localhost:8080/"
        },
        "id": "lIPIDYl6aw5y",
        "outputId": "195efeef-3daf-4bfd-fa02-2b73a565fc00"
      },
      "execution_count": null,
      "outputs": [
        {
          "output_type": "execute_result",
          "data": {
            "text/plain": [
              "(601, 36)"
            ]
          },
          "metadata": {},
          "execution_count": 20
        }
      ]
    },
    {
      "cell_type": "code",
      "source": [
        "non_numeric=df.select_dtypes(include = ['object'])\n"
      ],
      "metadata": {
        "id": "cwfT1CXgGTBw"
      },
      "execution_count": null,
      "outputs": []
    },
    {
      "cell_type": "code",
      "source": [
        "boolean=df.select_dtypes(include = ['bool'])\n"
      ],
      "metadata": {
        "id": "3jYTqipebp8p"
      },
      "execution_count": null,
      "outputs": []
    },
    {
      "cell_type": "code",
      "source": [
        "boolean.shape"
      ],
      "metadata": {
        "colab": {
          "base_uri": "https://localhost:8080/"
        },
        "id": "el1CBd1Ca03-",
        "outputId": "133bcb78-9dbe-4256-c4ab-b796d1c74127"
      },
      "execution_count": null,
      "outputs": [
        {
          "output_type": "execute_result",
          "data": {
            "text/plain": [
              "(601, 3)"
            ]
          },
          "metadata": {},
          "execution_count": 23
        }
      ]
    },
    {
      "cell_type": "code",
      "source": [
        "non_numeric=pd.concat([non_numeric,boolean], axis=1)"
      ],
      "metadata": {
        "id": "kOgJKcBybAPP"
      },
      "execution_count": null,
      "outputs": []
    },
    {
      "cell_type": "code",
      "source": [
        "non_numeric.shape"
      ],
      "metadata": {
        "colab": {
          "base_uri": "https://localhost:8080/"
        },
        "id": "xztbn7h0b8hS",
        "outputId": "92a367b8-be13-4f95-d8d9-56abc378ff00"
      },
      "execution_count": null,
      "outputs": [
        {
          "output_type": "execute_result",
          "data": {
            "text/plain": [
              "(601, 4)"
            ]
          },
          "metadata": {},
          "execution_count": 25
        }
      ]
    },
    {
      "cell_type": "markdown",
      "source": [
        "# Imputation Methods"
      ],
      "metadata": {
        "id": "6PxqbKYsLGa7"
      }
    },
    {
      "cell_type": "markdown",
      "source": [
        "Using a multivariate imputation method to deal with missing values"
      ],
      "metadata": {
        "id": "A9MpWSqHHW4O"
      }
    },
    {
      "cell_type": "code",
      "source": [
        "from sklearn.experimental import enable_iterative_imputer\n",
        "from sklearn.impute import IterativeImputer"
      ],
      "metadata": {
        "id": "TAUZZfo1GfuQ"
      },
      "execution_count": null,
      "outputs": []
    },
    {
      "cell_type": "code",
      "source": [
        "imp = IterativeImputer(max_iter=10, random_state=0)"
      ],
      "metadata": {
        "id": "OfJh024uH6am"
      },
      "execution_count": null,
      "outputs": []
    },
    {
      "cell_type": "code",
      "source": [
        "imp.fit(numeric_data)"
      ],
      "metadata": {
        "colab": {
          "base_uri": "https://localhost:8080/"
        },
        "id": "y3mb-YPZR6ud",
        "outputId": "d71ce696-8e7b-4d86-8a5a-6a36a10e8079"
      },
      "execution_count": null,
      "outputs": [
        {
          "output_type": "execute_result",
          "data": {
            "text/plain": [
              "IterativeImputer(random_state=0)"
            ]
          },
          "metadata": {},
          "execution_count": 28
        }
      ]
    },
    {
      "cell_type": "code",
      "source": [
        "imputed_numeric=np.round(imp.transform(numeric_data))"
      ],
      "metadata": {
        "id": "DnZuSGV8UMAO"
      },
      "execution_count": null,
      "outputs": []
    },
    {
      "cell_type": "code",
      "source": [
        "imputed_numeric.shape"
      ],
      "metadata": {
        "colab": {
          "base_uri": "https://localhost:8080/"
        },
        "id": "YVmCN51WUVZo",
        "outputId": "c1b9f81e-2629-40b1-9b59-44b61f9ab95f"
      },
      "execution_count": null,
      "outputs": [
        {
          "output_type": "execute_result",
          "data": {
            "text/plain": [
              "(601, 36)"
            ]
          },
          "metadata": {},
          "execution_count": 30
        }
      ]
    },
    {
      "cell_type": "code",
      "source": [
        "num_df=pd.DataFrame(imputed_numeric, columns=numeric_data.columns)"
      ],
      "metadata": {
        "id": "0hklcJgLUiLY"
      },
      "execution_count": null,
      "outputs": []
    },
    {
      "cell_type": "markdown",
      "source": [
        "Using a Univariate(Median) imputation method to deal with missing values"
      ],
      "metadata": {
        "id": "ZGT_QMHvHl3y"
      }
    },
    {
      "cell_type": "code",
      "source": [
        "from sklearn.impute import SimpleImputer\n",
        "i = SimpleImputer(missing_values=np.nan, strategy='median')"
      ],
      "metadata": {
        "id": "tHMblnG_GVUZ"
      },
      "execution_count": null,
      "outputs": []
    },
    {
      "cell_type": "code",
      "source": [
        "i.fit(numeric_data)"
      ],
      "metadata": {
        "colab": {
          "base_uri": "https://localhost:8080/"
        },
        "id": "ezDr9bz1Gl6P",
        "outputId": "8f297cef-3e28-48c9-85ae-d09f5efcd793"
      },
      "execution_count": null,
      "outputs": [
        {
          "output_type": "execute_result",
          "data": {
            "text/plain": [
              "SimpleImputer(strategy='median')"
            ]
          },
          "metadata": {},
          "execution_count": 33
        }
      ]
    },
    {
      "cell_type": "code",
      "source": [
        "simple_imputed=np.round(i.transform(numeric_data))"
      ],
      "metadata": {
        "id": "spngFcUPGshW"
      },
      "execution_count": null,
      "outputs": []
    },
    {
      "cell_type": "code",
      "source": [
        "simple_imputed_df=pd.DataFrame(simple_imputed, columns=numeric_data.columns)"
      ],
      "metadata": {
        "id": "dNpr9K8aG2fM"
      },
      "execution_count": null,
      "outputs": []
    },
    {
      "cell_type": "markdown",
      "source": [
        "Using a Regression approach to predict missing values in numeric_data"
      ],
      "metadata": {
        "id": "hF55MFPwHq51"
      }
    },
    {
      "cell_type": "code",
      "source": [
        "from sklearn.ensemble import RandomForestRegressor\n",
        "import xgboost as xgb\n",
        "from sklearn.experimental import enable_iterative_imputer\n",
        "from sklearn.impute import IterativeImputer\n"
      ],
      "metadata": {
        "id": "dWQkVtbEIYeg"
      },
      "execution_count": null,
      "outputs": []
    },
    {
      "cell_type": "code",
      "source": [
        "imp_mean = IterativeImputer(estimator=xgb.XGBRegressor(), random_state=0)\n",
        "imp_mean.fit(numeric_data)\n",
        "regressor_imputed_df=pd.DataFrame(imp_mean.transform(numeric_data))"
      ],
      "metadata": {
        "colab": {
          "base_uri": "https://localhost:8080/"
        },
        "id": "fQybU2B8IkGx",
        "outputId": "f2f647e8-5abd-4a96-883b-0bbf8697ee66"
      },
      "execution_count": null,
      "outputs": [
        {
          "output_type": "stream",
          "name": "stdout",
          "text": [
            "[09:24:09] WARNING: /workspace/src/objective/regression_obj.cu:152: reg:linear is now deprecated in favor of reg:squarederror.\n",
            "[09:24:09] WARNING: /workspace/src/objective/regression_obj.cu:152: reg:linear is now deprecated in favor of reg:squarederror.\n",
            "[09:24:09] WARNING: /workspace/src/objective/regression_obj.cu:152: reg:linear is now deprecated in favor of reg:squarederror.\n",
            "[09:24:09] WARNING: /workspace/src/objective/regression_obj.cu:152: reg:linear is now deprecated in favor of reg:squarederror.\n",
            "[09:24:10] WARNING: /workspace/src/objective/regression_obj.cu:152: reg:linear is now deprecated in favor of reg:squarederror.\n",
            "[09:24:10] WARNING: /workspace/src/objective/regression_obj.cu:152: reg:linear is now deprecated in favor of reg:squarederror.\n",
            "[09:24:10] WARNING: /workspace/src/objective/regression_obj.cu:152: reg:linear is now deprecated in favor of reg:squarederror.\n",
            "[09:24:10] WARNING: /workspace/src/objective/regression_obj.cu:152: reg:linear is now deprecated in favor of reg:squarederror.\n",
            "[09:24:10] WARNING: /workspace/src/objective/regression_obj.cu:152: reg:linear is now deprecated in favor of reg:squarederror.\n",
            "[09:24:10] WARNING: /workspace/src/objective/regression_obj.cu:152: reg:linear is now deprecated in favor of reg:squarederror.\n",
            "[09:24:10] WARNING: /workspace/src/objective/regression_obj.cu:152: reg:linear is now deprecated in favor of reg:squarederror.\n",
            "[09:24:10] WARNING: /workspace/src/objective/regression_obj.cu:152: reg:linear is now deprecated in favor of reg:squarederror.\n",
            "[09:24:10] WARNING: /workspace/src/objective/regression_obj.cu:152: reg:linear is now deprecated in favor of reg:squarederror.\n",
            "[09:24:10] WARNING: /workspace/src/objective/regression_obj.cu:152: reg:linear is now deprecated in favor of reg:squarederror.\n",
            "[09:24:10] WARNING: /workspace/src/objective/regression_obj.cu:152: reg:linear is now deprecated in favor of reg:squarederror.\n",
            "[09:24:11] WARNING: /workspace/src/objective/regression_obj.cu:152: reg:linear is now deprecated in favor of reg:squarederror.\n",
            "[09:24:11] WARNING: /workspace/src/objective/regression_obj.cu:152: reg:linear is now deprecated in favor of reg:squarederror.\n",
            "[09:24:11] WARNING: /workspace/src/objective/regression_obj.cu:152: reg:linear is now deprecated in favor of reg:squarederror.\n",
            "[09:24:11] WARNING: /workspace/src/objective/regression_obj.cu:152: reg:linear is now deprecated in favor of reg:squarederror.\n",
            "[09:24:11] WARNING: /workspace/src/objective/regression_obj.cu:152: reg:linear is now deprecated in favor of reg:squarederror.\n",
            "[09:24:11] WARNING: /workspace/src/objective/regression_obj.cu:152: reg:linear is now deprecated in favor of reg:squarederror.\n",
            "[09:24:11] WARNING: /workspace/src/objective/regression_obj.cu:152: reg:linear is now deprecated in favor of reg:squarederror.\n",
            "[09:24:11] WARNING: /workspace/src/objective/regression_obj.cu:152: reg:linear is now deprecated in favor of reg:squarederror.\n",
            "[09:24:11] WARNING: /workspace/src/objective/regression_obj.cu:152: reg:linear is now deprecated in favor of reg:squarederror.\n",
            "[09:24:11] WARNING: /workspace/src/objective/regression_obj.cu:152: reg:linear is now deprecated in favor of reg:squarederror.\n",
            "[09:24:11] WARNING: /workspace/src/objective/regression_obj.cu:152: reg:linear is now deprecated in favor of reg:squarederror.\n",
            "[09:24:11] WARNING: /workspace/src/objective/regression_obj.cu:152: reg:linear is now deprecated in favor of reg:squarederror.\n",
            "[09:24:12] WARNING: /workspace/src/objective/regression_obj.cu:152: reg:linear is now deprecated in favor of reg:squarederror.\n",
            "[09:24:12] WARNING: /workspace/src/objective/regression_obj.cu:152: reg:linear is now deprecated in favor of reg:squarederror.\n",
            "[09:24:12] WARNING: /workspace/src/objective/regression_obj.cu:152: reg:linear is now deprecated in favor of reg:squarederror.\n",
            "[09:24:12] WARNING: /workspace/src/objective/regression_obj.cu:152: reg:linear is now deprecated in favor of reg:squarederror.\n",
            "[09:24:12] WARNING: /workspace/src/objective/regression_obj.cu:152: reg:linear is now deprecated in favor of reg:squarederror.\n",
            "[09:24:12] WARNING: /workspace/src/objective/regression_obj.cu:152: reg:linear is now deprecated in favor of reg:squarederror.\n",
            "[09:24:12] WARNING: /workspace/src/objective/regression_obj.cu:152: reg:linear is now deprecated in favor of reg:squarederror.\n",
            "[09:24:12] WARNING: /workspace/src/objective/regression_obj.cu:152: reg:linear is now deprecated in favor of reg:squarederror.\n",
            "[09:24:12] WARNING: /workspace/src/objective/regression_obj.cu:152: reg:linear is now deprecated in favor of reg:squarederror.\n",
            "[09:24:12] WARNING: /workspace/src/objective/regression_obj.cu:152: reg:linear is now deprecated in favor of reg:squarederror.\n",
            "[09:24:12] WARNING: /workspace/src/objective/regression_obj.cu:152: reg:linear is now deprecated in favor of reg:squarederror.\n",
            "[09:24:13] WARNING: /workspace/src/objective/regression_obj.cu:152: reg:linear is now deprecated in favor of reg:squarederror.\n",
            "[09:24:13] WARNING: /workspace/src/objective/regression_obj.cu:152: reg:linear is now deprecated in favor of reg:squarederror.\n",
            "[09:24:13] WARNING: /workspace/src/objective/regression_obj.cu:152: reg:linear is now deprecated in favor of reg:squarederror.\n",
            "[09:24:13] WARNING: /workspace/src/objective/regression_obj.cu:152: reg:linear is now deprecated in favor of reg:squarederror.\n",
            "[09:24:13] WARNING: /workspace/src/objective/regression_obj.cu:152: reg:linear is now deprecated in favor of reg:squarederror.\n",
            "[09:24:13] WARNING: /workspace/src/objective/regression_obj.cu:152: reg:linear is now deprecated in favor of reg:squarederror.\n",
            "[09:24:13] WARNING: /workspace/src/objective/regression_obj.cu:152: reg:linear is now deprecated in favor of reg:squarederror.\n",
            "[09:24:13] WARNING: /workspace/src/objective/regression_obj.cu:152: reg:linear is now deprecated in favor of reg:squarederror.\n",
            "[09:24:13] WARNING: /workspace/src/objective/regression_obj.cu:152: reg:linear is now deprecated in favor of reg:squarederror.\n",
            "[09:24:13] WARNING: /workspace/src/objective/regression_obj.cu:152: reg:linear is now deprecated in favor of reg:squarederror.\n",
            "[09:24:14] WARNING: /workspace/src/objective/regression_obj.cu:152: reg:linear is now deprecated in favor of reg:squarederror.\n",
            "[09:24:14] WARNING: /workspace/src/objective/regression_obj.cu:152: reg:linear is now deprecated in favor of reg:squarederror.\n",
            "[09:24:14] WARNING: /workspace/src/objective/regression_obj.cu:152: reg:linear is now deprecated in favor of reg:squarederror.\n",
            "[09:24:14] WARNING: /workspace/src/objective/regression_obj.cu:152: reg:linear is now deprecated in favor of reg:squarederror.\n",
            "[09:24:14] WARNING: /workspace/src/objective/regression_obj.cu:152: reg:linear is now deprecated in favor of reg:squarederror.\n",
            "[09:24:14] WARNING: /workspace/src/objective/regression_obj.cu:152: reg:linear is now deprecated in favor of reg:squarederror.\n",
            "[09:24:14] WARNING: /workspace/src/objective/regression_obj.cu:152: reg:linear is now deprecated in favor of reg:squarederror.\n",
            "[09:24:14] WARNING: /workspace/src/objective/regression_obj.cu:152: reg:linear is now deprecated in favor of reg:squarederror.\n",
            "[09:24:14] WARNING: /workspace/src/objective/regression_obj.cu:152: reg:linear is now deprecated in favor of reg:squarederror.\n",
            "[09:24:14] WARNING: /workspace/src/objective/regression_obj.cu:152: reg:linear is now deprecated in favor of reg:squarederror.\n",
            "[09:24:14] WARNING: /workspace/src/objective/regression_obj.cu:152: reg:linear is now deprecated in favor of reg:squarederror.\n",
            "[09:24:15] WARNING: /workspace/src/objective/regression_obj.cu:152: reg:linear is now deprecated in favor of reg:squarederror.\n",
            "[09:24:15] WARNING: /workspace/src/objective/regression_obj.cu:152: reg:linear is now deprecated in favor of reg:squarederror.\n",
            "[09:24:15] WARNING: /workspace/src/objective/regression_obj.cu:152: reg:linear is now deprecated in favor of reg:squarederror.\n",
            "[09:24:15] WARNING: /workspace/src/objective/regression_obj.cu:152: reg:linear is now deprecated in favor of reg:squarederror.\n",
            "[09:24:15] WARNING: /workspace/src/objective/regression_obj.cu:152: reg:linear is now deprecated in favor of reg:squarederror.\n",
            "[09:24:15] WARNING: /workspace/src/objective/regression_obj.cu:152: reg:linear is now deprecated in favor of reg:squarederror.\n",
            "[09:24:15] WARNING: /workspace/src/objective/regression_obj.cu:152: reg:linear is now deprecated in favor of reg:squarederror.\n",
            "[09:24:15] WARNING: /workspace/src/objective/regression_obj.cu:152: reg:linear is now deprecated in favor of reg:squarederror.\n",
            "[09:24:15] WARNING: /workspace/src/objective/regression_obj.cu:152: reg:linear is now deprecated in favor of reg:squarederror.\n",
            "[09:24:15] WARNING: /workspace/src/objective/regression_obj.cu:152: reg:linear is now deprecated in favor of reg:squarederror.\n",
            "[09:24:15] WARNING: /workspace/src/objective/regression_obj.cu:152: reg:linear is now deprecated in favor of reg:squarederror.\n",
            "[09:24:15] WARNING: /workspace/src/objective/regression_obj.cu:152: reg:linear is now deprecated in favor of reg:squarederror.\n",
            "[09:24:15] WARNING: /workspace/src/objective/regression_obj.cu:152: reg:linear is now deprecated in favor of reg:squarederror.\n",
            "[09:24:16] WARNING: /workspace/src/objective/regression_obj.cu:152: reg:linear is now deprecated in favor of reg:squarederror.\n",
            "[09:24:16] WARNING: /workspace/src/objective/regression_obj.cu:152: reg:linear is now deprecated in favor of reg:squarederror.\n",
            "[09:24:16] WARNING: /workspace/src/objective/regression_obj.cu:152: reg:linear is now deprecated in favor of reg:squarederror.\n",
            "[09:24:16] WARNING: /workspace/src/objective/regression_obj.cu:152: reg:linear is now deprecated in favor of reg:squarederror.\n",
            "[09:24:16] WARNING: /workspace/src/objective/regression_obj.cu:152: reg:linear is now deprecated in favor of reg:squarederror.\n",
            "[09:24:16] WARNING: /workspace/src/objective/regression_obj.cu:152: reg:linear is now deprecated in favor of reg:squarederror.\n",
            "[09:24:16] WARNING: /workspace/src/objective/regression_obj.cu:152: reg:linear is now deprecated in favor of reg:squarederror.\n",
            "[09:24:16] WARNING: /workspace/src/objective/regression_obj.cu:152: reg:linear is now deprecated in favor of reg:squarederror.\n",
            "[09:24:16] WARNING: /workspace/src/objective/regression_obj.cu:152: reg:linear is now deprecated in favor of reg:squarederror.\n",
            "[09:24:17] WARNING: /workspace/src/objective/regression_obj.cu:152: reg:linear is now deprecated in favor of reg:squarederror.\n",
            "[09:24:17] WARNING: /workspace/src/objective/regression_obj.cu:152: reg:linear is now deprecated in favor of reg:squarederror.\n",
            "[09:24:17] WARNING: /workspace/src/objective/regression_obj.cu:152: reg:linear is now deprecated in favor of reg:squarederror.\n",
            "[09:24:17] WARNING: /workspace/src/objective/regression_obj.cu:152: reg:linear is now deprecated in favor of reg:squarederror.\n",
            "[09:24:17] WARNING: /workspace/src/objective/regression_obj.cu:152: reg:linear is now deprecated in favor of reg:squarederror.\n",
            "[09:24:17] WARNING: /workspace/src/objective/regression_obj.cu:152: reg:linear is now deprecated in favor of reg:squarederror.\n",
            "[09:24:17] WARNING: /workspace/src/objective/regression_obj.cu:152: reg:linear is now deprecated in favor of reg:squarederror.\n",
            "[09:24:17] WARNING: /workspace/src/objective/regression_obj.cu:152: reg:linear is now deprecated in favor of reg:squarederror.\n",
            "[09:24:17] WARNING: /workspace/src/objective/regression_obj.cu:152: reg:linear is now deprecated in favor of reg:squarederror.\n",
            "[09:24:17] WARNING: /workspace/src/objective/regression_obj.cu:152: reg:linear is now deprecated in favor of reg:squarederror.\n",
            "[09:24:17] WARNING: /workspace/src/objective/regression_obj.cu:152: reg:linear is now deprecated in favor of reg:squarederror.\n",
            "[09:24:18] WARNING: /workspace/src/objective/regression_obj.cu:152: reg:linear is now deprecated in favor of reg:squarederror.\n",
            "[09:24:18] WARNING: /workspace/src/objective/regression_obj.cu:152: reg:linear is now deprecated in favor of reg:squarederror.\n",
            "[09:24:18] WARNING: /workspace/src/objective/regression_obj.cu:152: reg:linear is now deprecated in favor of reg:squarederror.\n",
            "[09:24:18] WARNING: /workspace/src/objective/regression_obj.cu:152: reg:linear is now deprecated in favor of reg:squarederror.\n",
            "[09:24:18] WARNING: /workspace/src/objective/regression_obj.cu:152: reg:linear is now deprecated in favor of reg:squarederror.\n",
            "[09:24:18] WARNING: /workspace/src/objective/regression_obj.cu:152: reg:linear is now deprecated in favor of reg:squarederror.\n",
            "[09:24:18] WARNING: /workspace/src/objective/regression_obj.cu:152: reg:linear is now deprecated in favor of reg:squarederror.\n",
            "[09:24:18] WARNING: /workspace/src/objective/regression_obj.cu:152: reg:linear is now deprecated in favor of reg:squarederror.\n",
            "[09:24:18] WARNING: /workspace/src/objective/regression_obj.cu:152: reg:linear is now deprecated in favor of reg:squarederror.\n",
            "[09:24:18] WARNING: /workspace/src/objective/regression_obj.cu:152: reg:linear is now deprecated in favor of reg:squarederror.\n",
            "[09:24:18] WARNING: /workspace/src/objective/regression_obj.cu:152: reg:linear is now deprecated in favor of reg:squarederror.\n",
            "[09:24:18] WARNING: /workspace/src/objective/regression_obj.cu:152: reg:linear is now deprecated in favor of reg:squarederror.\n",
            "[09:24:19] WARNING: /workspace/src/objective/regression_obj.cu:152: reg:linear is now deprecated in favor of reg:squarederror.\n",
            "[09:24:19] WARNING: /workspace/src/objective/regression_obj.cu:152: reg:linear is now deprecated in favor of reg:squarederror.\n",
            "[09:24:19] WARNING: /workspace/src/objective/regression_obj.cu:152: reg:linear is now deprecated in favor of reg:squarederror.\n",
            "[09:24:19] WARNING: /workspace/src/objective/regression_obj.cu:152: reg:linear is now deprecated in favor of reg:squarederror.\n",
            "[09:24:19] WARNING: /workspace/src/objective/regression_obj.cu:152: reg:linear is now deprecated in favor of reg:squarederror.\n",
            "[09:24:19] WARNING: /workspace/src/objective/regression_obj.cu:152: reg:linear is now deprecated in favor of reg:squarederror.\n",
            "[09:24:19] WARNING: /workspace/src/objective/regression_obj.cu:152: reg:linear is now deprecated in favor of reg:squarederror.\n",
            "[09:24:19] WARNING: /workspace/src/objective/regression_obj.cu:152: reg:linear is now deprecated in favor of reg:squarederror.\n",
            "[09:24:19] WARNING: /workspace/src/objective/regression_obj.cu:152: reg:linear is now deprecated in favor of reg:squarederror.\n",
            "[09:24:19] WARNING: /workspace/src/objective/regression_obj.cu:152: reg:linear is now deprecated in favor of reg:squarederror.\n",
            "[09:24:19] WARNING: /workspace/src/objective/regression_obj.cu:152: reg:linear is now deprecated in favor of reg:squarederror.\n",
            "[09:24:20] WARNING: /workspace/src/objective/regression_obj.cu:152: reg:linear is now deprecated in favor of reg:squarederror.\n",
            "[09:24:20] WARNING: /workspace/src/objective/regression_obj.cu:152: reg:linear is now deprecated in favor of reg:squarederror.\n",
            "[09:24:20] WARNING: /workspace/src/objective/regression_obj.cu:152: reg:linear is now deprecated in favor of reg:squarederror.\n",
            "[09:24:20] WARNING: /workspace/src/objective/regression_obj.cu:152: reg:linear is now deprecated in favor of reg:squarederror.\n",
            "[09:24:20] WARNING: /workspace/src/objective/regression_obj.cu:152: reg:linear is now deprecated in favor of reg:squarederror.\n",
            "[09:24:20] WARNING: /workspace/src/objective/regression_obj.cu:152: reg:linear is now deprecated in favor of reg:squarederror.\n",
            "[09:24:20] WARNING: /workspace/src/objective/regression_obj.cu:152: reg:linear is now deprecated in favor of reg:squarederror.\n",
            "[09:24:20] WARNING: /workspace/src/objective/regression_obj.cu:152: reg:linear is now deprecated in favor of reg:squarederror.\n",
            "[09:24:20] WARNING: /workspace/src/objective/regression_obj.cu:152: reg:linear is now deprecated in favor of reg:squarederror.\n",
            "[09:24:20] WARNING: /workspace/src/objective/regression_obj.cu:152: reg:linear is now deprecated in favor of reg:squarederror.\n",
            "[09:24:21] WARNING: /workspace/src/objective/regression_obj.cu:152: reg:linear is now deprecated in favor of reg:squarederror.\n",
            "[09:24:21] WARNING: /workspace/src/objective/regression_obj.cu:152: reg:linear is now deprecated in favor of reg:squarederror.\n",
            "[09:24:21] WARNING: /workspace/src/objective/regression_obj.cu:152: reg:linear is now deprecated in favor of reg:squarederror.\n",
            "[09:24:21] WARNING: /workspace/src/objective/regression_obj.cu:152: reg:linear is now deprecated in favor of reg:squarederror.\n",
            "[09:24:21] WARNING: /workspace/src/objective/regression_obj.cu:152: reg:linear is now deprecated in favor of reg:squarederror.\n",
            "[09:24:21] WARNING: /workspace/src/objective/regression_obj.cu:152: reg:linear is now deprecated in favor of reg:squarederror.\n",
            "[09:24:21] WARNING: /workspace/src/objective/regression_obj.cu:152: reg:linear is now deprecated in favor of reg:squarederror.\n",
            "[09:24:21] WARNING: /workspace/src/objective/regression_obj.cu:152: reg:linear is now deprecated in favor of reg:squarederror.\n",
            "[09:24:21] WARNING: /workspace/src/objective/regression_obj.cu:152: reg:linear is now deprecated in favor of reg:squarederror.\n",
            "[09:24:21] WARNING: /workspace/src/objective/regression_obj.cu:152: reg:linear is now deprecated in favor of reg:squarederror.\n",
            "[09:24:21] WARNING: /workspace/src/objective/regression_obj.cu:152: reg:linear is now deprecated in favor of reg:squarederror.\n",
            "[09:24:22] WARNING: /workspace/src/objective/regression_obj.cu:152: reg:linear is now deprecated in favor of reg:squarederror.\n",
            "[09:24:22] WARNING: /workspace/src/objective/regression_obj.cu:152: reg:linear is now deprecated in favor of reg:squarederror.\n",
            "[09:24:22] WARNING: /workspace/src/objective/regression_obj.cu:152: reg:linear is now deprecated in favor of reg:squarederror.\n",
            "[09:24:22] WARNING: /workspace/src/objective/regression_obj.cu:152: reg:linear is now deprecated in favor of reg:squarederror.\n",
            "[09:24:22] WARNING: /workspace/src/objective/regression_obj.cu:152: reg:linear is now deprecated in favor of reg:squarederror.\n",
            "[09:24:22] WARNING: /workspace/src/objective/regression_obj.cu:152: reg:linear is now deprecated in favor of reg:squarederror.\n",
            "[09:24:22] WARNING: /workspace/src/objective/regression_obj.cu:152: reg:linear is now deprecated in favor of reg:squarederror.\n",
            "[09:24:22] WARNING: /workspace/src/objective/regression_obj.cu:152: reg:linear is now deprecated in favor of reg:squarederror.\n",
            "[09:24:22] WARNING: /workspace/src/objective/regression_obj.cu:152: reg:linear is now deprecated in favor of reg:squarederror.\n",
            "[09:24:22] WARNING: /workspace/src/objective/regression_obj.cu:152: reg:linear is now deprecated in favor of reg:squarederror.\n",
            "[09:24:22] WARNING: /workspace/src/objective/regression_obj.cu:152: reg:linear is now deprecated in favor of reg:squarederror.\n",
            "[09:24:22] WARNING: /workspace/src/objective/regression_obj.cu:152: reg:linear is now deprecated in favor of reg:squarederror.\n",
            "[09:24:23] WARNING: /workspace/src/objective/regression_obj.cu:152: reg:linear is now deprecated in favor of reg:squarederror.\n",
            "[09:24:23] WARNING: /workspace/src/objective/regression_obj.cu:152: reg:linear is now deprecated in favor of reg:squarederror.\n",
            "[09:24:23] WARNING: /workspace/src/objective/regression_obj.cu:152: reg:linear is now deprecated in favor of reg:squarederror.\n",
            "[09:24:23] WARNING: /workspace/src/objective/regression_obj.cu:152: reg:linear is now deprecated in favor of reg:squarederror.\n",
            "[09:24:23] WARNING: /workspace/src/objective/regression_obj.cu:152: reg:linear is now deprecated in favor of reg:squarederror.\n",
            "[09:24:23] WARNING: /workspace/src/objective/regression_obj.cu:152: reg:linear is now deprecated in favor of reg:squarederror.\n",
            "[09:24:23] WARNING: /workspace/src/objective/regression_obj.cu:152: reg:linear is now deprecated in favor of reg:squarederror.\n",
            "[09:24:23] WARNING: /workspace/src/objective/regression_obj.cu:152: reg:linear is now deprecated in favor of reg:squarederror.\n",
            "[09:24:23] WARNING: /workspace/src/objective/regression_obj.cu:152: reg:linear is now deprecated in favor of reg:squarederror.\n",
            "[09:24:23] WARNING: /workspace/src/objective/regression_obj.cu:152: reg:linear is now deprecated in favor of reg:squarederror.\n",
            "[09:24:24] WARNING: /workspace/src/objective/regression_obj.cu:152: reg:linear is now deprecated in favor of reg:squarederror.\n",
            "[09:24:24] WARNING: /workspace/src/objective/regression_obj.cu:152: reg:linear is now deprecated in favor of reg:squarederror.\n",
            "[09:24:24] WARNING: /workspace/src/objective/regression_obj.cu:152: reg:linear is now deprecated in favor of reg:squarederror.\n",
            "[09:24:24] WARNING: /workspace/src/objective/regression_obj.cu:152: reg:linear is now deprecated in favor of reg:squarederror.\n",
            "[09:24:24] WARNING: /workspace/src/objective/regression_obj.cu:152: reg:linear is now deprecated in favor of reg:squarederror.\n",
            "[09:24:24] WARNING: /workspace/src/objective/regression_obj.cu:152: reg:linear is now deprecated in favor of reg:squarederror.\n",
            "[09:24:24] WARNING: /workspace/src/objective/regression_obj.cu:152: reg:linear is now deprecated in favor of reg:squarederror.\n",
            "[09:24:24] WARNING: /workspace/src/objective/regression_obj.cu:152: reg:linear is now deprecated in favor of reg:squarederror.\n",
            "[09:24:24] WARNING: /workspace/src/objective/regression_obj.cu:152: reg:linear is now deprecated in favor of reg:squarederror.\n",
            "[09:24:24] WARNING: /workspace/src/objective/regression_obj.cu:152: reg:linear is now deprecated in favor of reg:squarederror.\n",
            "[09:24:24] WARNING: /workspace/src/objective/regression_obj.cu:152: reg:linear is now deprecated in favor of reg:squarederror.\n",
            "[09:24:25] WARNING: /workspace/src/objective/regression_obj.cu:152: reg:linear is now deprecated in favor of reg:squarederror.\n",
            "[09:24:25] WARNING: /workspace/src/objective/regression_obj.cu:152: reg:linear is now deprecated in favor of reg:squarederror.\n",
            "[09:24:25] WARNING: /workspace/src/objective/regression_obj.cu:152: reg:linear is now deprecated in favor of reg:squarederror.\n",
            "[09:24:25] WARNING: /workspace/src/objective/regression_obj.cu:152: reg:linear is now deprecated in favor of reg:squarederror.\n",
            "[09:24:25] WARNING: /workspace/src/objective/regression_obj.cu:152: reg:linear is now deprecated in favor of reg:squarederror.\n",
            "[09:24:25] WARNING: /workspace/src/objective/regression_obj.cu:152: reg:linear is now deprecated in favor of reg:squarederror.\n",
            "[09:24:25] WARNING: /workspace/src/objective/regression_obj.cu:152: reg:linear is now deprecated in favor of reg:squarederror.\n",
            "[09:24:25] WARNING: /workspace/src/objective/regression_obj.cu:152: reg:linear is now deprecated in favor of reg:squarederror.\n",
            "[09:24:25] WARNING: /workspace/src/objective/regression_obj.cu:152: reg:linear is now deprecated in favor of reg:squarederror.\n",
            "[09:24:25] WARNING: /workspace/src/objective/regression_obj.cu:152: reg:linear is now deprecated in favor of reg:squarederror.\n",
            "[09:24:25] WARNING: /workspace/src/objective/regression_obj.cu:152: reg:linear is now deprecated in favor of reg:squarederror.\n",
            "[09:24:25] WARNING: /workspace/src/objective/regression_obj.cu:152: reg:linear is now deprecated in favor of reg:squarederror.\n",
            "[09:24:26] WARNING: /workspace/src/objective/regression_obj.cu:152: reg:linear is now deprecated in favor of reg:squarederror.\n",
            "[09:24:26] WARNING: /workspace/src/objective/regression_obj.cu:152: reg:linear is now deprecated in favor of reg:squarederror.\n",
            "[09:24:26] WARNING: /workspace/src/objective/regression_obj.cu:152: reg:linear is now deprecated in favor of reg:squarederror.\n",
            "[09:24:26] WARNING: /workspace/src/objective/regression_obj.cu:152: reg:linear is now deprecated in favor of reg:squarederror.\n",
            "[09:24:26] WARNING: /workspace/src/objective/regression_obj.cu:152: reg:linear is now deprecated in favor of reg:squarederror.\n",
            "[09:24:26] WARNING: /workspace/src/objective/regression_obj.cu:152: reg:linear is now deprecated in favor of reg:squarederror.\n",
            "[09:24:26] WARNING: /workspace/src/objective/regression_obj.cu:152: reg:linear is now deprecated in favor of reg:squarederror.\n",
            "[09:24:26] WARNING: /workspace/src/objective/regression_obj.cu:152: reg:linear is now deprecated in favor of reg:squarederror.\n",
            "[09:24:26] WARNING: /workspace/src/objective/regression_obj.cu:152: reg:linear is now deprecated in favor of reg:squarederror.\n",
            "[09:24:26] WARNING: /workspace/src/objective/regression_obj.cu:152: reg:linear is now deprecated in favor of reg:squarederror.\n",
            "[09:24:27] WARNING: /workspace/src/objective/regression_obj.cu:152: reg:linear is now deprecated in favor of reg:squarederror.\n",
            "[09:24:27] WARNING: /workspace/src/objective/regression_obj.cu:152: reg:linear is now deprecated in favor of reg:squarederror.\n",
            "[09:24:27] WARNING: /workspace/src/objective/regression_obj.cu:152: reg:linear is now deprecated in favor of reg:squarederror.\n",
            "[09:24:27] WARNING: /workspace/src/objective/regression_obj.cu:152: reg:linear is now deprecated in favor of reg:squarederror.\n",
            "[09:24:27] WARNING: /workspace/src/objective/regression_obj.cu:152: reg:linear is now deprecated in favor of reg:squarederror.\n",
            "[09:24:27] WARNING: /workspace/src/objective/regression_obj.cu:152: reg:linear is now deprecated in favor of reg:squarederror.\n",
            "[09:24:27] WARNING: /workspace/src/objective/regression_obj.cu:152: reg:linear is now deprecated in favor of reg:squarederror.\n",
            "[09:24:27] WARNING: /workspace/src/objective/regression_obj.cu:152: reg:linear is now deprecated in favor of reg:squarederror.\n",
            "[09:24:27] WARNING: /workspace/src/objective/regression_obj.cu:152: reg:linear is now deprecated in favor of reg:squarederror.\n",
            "[09:24:27] WARNING: /workspace/src/objective/regression_obj.cu:152: reg:linear is now deprecated in favor of reg:squarederror.\n",
            "[09:24:27] WARNING: /workspace/src/objective/regression_obj.cu:152: reg:linear is now deprecated in favor of reg:squarederror.\n",
            "[09:24:28] WARNING: /workspace/src/objective/regression_obj.cu:152: reg:linear is now deprecated in favor of reg:squarederror.\n",
            "[09:24:28] WARNING: /workspace/src/objective/regression_obj.cu:152: reg:linear is now deprecated in favor of reg:squarederror.\n",
            "[09:24:28] WARNING: /workspace/src/objective/regression_obj.cu:152: reg:linear is now deprecated in favor of reg:squarederror.\n",
            "[09:24:28] WARNING: /workspace/src/objective/regression_obj.cu:152: reg:linear is now deprecated in favor of reg:squarederror.\n",
            "[09:24:28] WARNING: /workspace/src/objective/regression_obj.cu:152: reg:linear is now deprecated in favor of reg:squarederror.\n",
            "[09:24:28] WARNING: /workspace/src/objective/regression_obj.cu:152: reg:linear is now deprecated in favor of reg:squarederror.\n",
            "[09:24:28] WARNING: /workspace/src/objective/regression_obj.cu:152: reg:linear is now deprecated in favor of reg:squarederror.\n",
            "[09:24:28] WARNING: /workspace/src/objective/regression_obj.cu:152: reg:linear is now deprecated in favor of reg:squarederror.\n",
            "[09:24:28] WARNING: /workspace/src/objective/regression_obj.cu:152: reg:linear is now deprecated in favor of reg:squarederror.\n",
            "[09:24:28] WARNING: /workspace/src/objective/regression_obj.cu:152: reg:linear is now deprecated in favor of reg:squarederror.\n",
            "[09:24:28] WARNING: /workspace/src/objective/regression_obj.cu:152: reg:linear is now deprecated in favor of reg:squarederror.\n",
            "[09:24:28] WARNING: /workspace/src/objective/regression_obj.cu:152: reg:linear is now deprecated in favor of reg:squarederror.\n",
            "[09:24:29] WARNING: /workspace/src/objective/regression_obj.cu:152: reg:linear is now deprecated in favor of reg:squarederror.\n",
            "[09:24:29] WARNING: /workspace/src/objective/regression_obj.cu:152: reg:linear is now deprecated in favor of reg:squarederror.\n",
            "[09:24:29] WARNING: /workspace/src/objective/regression_obj.cu:152: reg:linear is now deprecated in favor of reg:squarederror.\n",
            "[09:24:29] WARNING: /workspace/src/objective/regression_obj.cu:152: reg:linear is now deprecated in favor of reg:squarederror.\n",
            "[09:24:29] WARNING: /workspace/src/objective/regression_obj.cu:152: reg:linear is now deprecated in favor of reg:squarederror.\n",
            "[09:24:29] WARNING: /workspace/src/objective/regression_obj.cu:152: reg:linear is now deprecated in favor of reg:squarederror.\n",
            "[09:24:29] WARNING: /workspace/src/objective/regression_obj.cu:152: reg:linear is now deprecated in favor of reg:squarederror.\n",
            "[09:24:29] WARNING: /workspace/src/objective/regression_obj.cu:152: reg:linear is now deprecated in favor of reg:squarederror.\n",
            "[09:24:29] WARNING: /workspace/src/objective/regression_obj.cu:152: reg:linear is now deprecated in favor of reg:squarederror.\n",
            "[09:24:29] WARNING: /workspace/src/objective/regression_obj.cu:152: reg:linear is now deprecated in favor of reg:squarederror.\n",
            "[09:24:30] WARNING: /workspace/src/objective/regression_obj.cu:152: reg:linear is now deprecated in favor of reg:squarederror.\n",
            "[09:24:30] WARNING: /workspace/src/objective/regression_obj.cu:152: reg:linear is now deprecated in favor of reg:squarederror.\n",
            "[09:24:30] WARNING: /workspace/src/objective/regression_obj.cu:152: reg:linear is now deprecated in favor of reg:squarederror.\n",
            "[09:24:30] WARNING: /workspace/src/objective/regression_obj.cu:152: reg:linear is now deprecated in favor of reg:squarederror.\n",
            "[09:24:30] WARNING: /workspace/src/objective/regression_obj.cu:152: reg:linear is now deprecated in favor of reg:squarederror.\n",
            "[09:24:30] WARNING: /workspace/src/objective/regression_obj.cu:152: reg:linear is now deprecated in favor of reg:squarederror.\n",
            "[09:24:30] WARNING: /workspace/src/objective/regression_obj.cu:152: reg:linear is now deprecated in favor of reg:squarederror.\n",
            "[09:24:30] WARNING: /workspace/src/objective/regression_obj.cu:152: reg:linear is now deprecated in favor of reg:squarederror.\n",
            "[09:24:30] WARNING: /workspace/src/objective/regression_obj.cu:152: reg:linear is now deprecated in favor of reg:squarederror.\n",
            "[09:24:30] WARNING: /workspace/src/objective/regression_obj.cu:152: reg:linear is now deprecated in favor of reg:squarederror.\n",
            "[09:24:30] WARNING: /workspace/src/objective/regression_obj.cu:152: reg:linear is now deprecated in favor of reg:squarederror.\n",
            "[09:24:31] WARNING: /workspace/src/objective/regression_obj.cu:152: reg:linear is now deprecated in favor of reg:squarederror.\n",
            "[09:24:31] WARNING: /workspace/src/objective/regression_obj.cu:152: reg:linear is now deprecated in favor of reg:squarederror.\n",
            "[09:24:31] WARNING: /workspace/src/objective/regression_obj.cu:152: reg:linear is now deprecated in favor of reg:squarederror.\n",
            "[09:24:31] WARNING: /workspace/src/objective/regression_obj.cu:152: reg:linear is now deprecated in favor of reg:squarederror.\n",
            "[09:24:31] WARNING: /workspace/src/objective/regression_obj.cu:152: reg:linear is now deprecated in favor of reg:squarederror.\n",
            "[09:24:31] WARNING: /workspace/src/objective/regression_obj.cu:152: reg:linear is now deprecated in favor of reg:squarederror.\n",
            "[09:24:31] WARNING: /workspace/src/objective/regression_obj.cu:152: reg:linear is now deprecated in favor of reg:squarederror.\n",
            "[09:24:31] WARNING: /workspace/src/objective/regression_obj.cu:152: reg:linear is now deprecated in favor of reg:squarederror.\n",
            "[09:24:31] WARNING: /workspace/src/objective/regression_obj.cu:152: reg:linear is now deprecated in favor of reg:squarederror.\n",
            "[09:24:31] WARNING: /workspace/src/objective/regression_obj.cu:152: reg:linear is now deprecated in favor of reg:squarederror.\n",
            "[09:24:31] WARNING: /workspace/src/objective/regression_obj.cu:152: reg:linear is now deprecated in favor of reg:squarederror.\n",
            "[09:24:32] WARNING: /workspace/src/objective/regression_obj.cu:152: reg:linear is now deprecated in favor of reg:squarederror.\n",
            "[09:24:32] WARNING: /workspace/src/objective/regression_obj.cu:152: reg:linear is now deprecated in favor of reg:squarederror.\n",
            "[09:24:32] WARNING: /workspace/src/objective/regression_obj.cu:152: reg:linear is now deprecated in favor of reg:squarederror.\n",
            "[09:24:32] WARNING: /workspace/src/objective/regression_obj.cu:152: reg:linear is now deprecated in favor of reg:squarederror.\n",
            "[09:24:32] WARNING: /workspace/src/objective/regression_obj.cu:152: reg:linear is now deprecated in favor of reg:squarederror.\n",
            "[09:24:32] WARNING: /workspace/src/objective/regression_obj.cu:152: reg:linear is now deprecated in favor of reg:squarederror.\n",
            "[09:24:32] WARNING: /workspace/src/objective/regression_obj.cu:152: reg:linear is now deprecated in favor of reg:squarederror.\n",
            "[09:24:32] WARNING: /workspace/src/objective/regression_obj.cu:152: reg:linear is now deprecated in favor of reg:squarederror.\n",
            "[09:24:32] WARNING: /workspace/src/objective/regression_obj.cu:152: reg:linear is now deprecated in favor of reg:squarederror.\n",
            "[09:24:32] WARNING: /workspace/src/objective/regression_obj.cu:152: reg:linear is now deprecated in favor of reg:squarederror.\n",
            "[09:24:32] WARNING: /workspace/src/objective/regression_obj.cu:152: reg:linear is now deprecated in favor of reg:squarederror.\n",
            "[09:24:33] WARNING: /workspace/src/objective/regression_obj.cu:152: reg:linear is now deprecated in favor of reg:squarederror.\n",
            "[09:24:33] WARNING: /workspace/src/objective/regression_obj.cu:152: reg:linear is now deprecated in favor of reg:squarederror.\n",
            "[09:24:33] WARNING: /workspace/src/objective/regression_obj.cu:152: reg:linear is now deprecated in favor of reg:squarederror.\n",
            "[09:24:33] WARNING: /workspace/src/objective/regression_obj.cu:152: reg:linear is now deprecated in favor of reg:squarederror.\n",
            "[09:24:33] WARNING: /workspace/src/objective/regression_obj.cu:152: reg:linear is now deprecated in favor of reg:squarederror.\n",
            "[09:24:33] WARNING: /workspace/src/objective/regression_obj.cu:152: reg:linear is now deprecated in favor of reg:squarederror.\n",
            "[09:24:33] WARNING: /workspace/src/objective/regression_obj.cu:152: reg:linear is now deprecated in favor of reg:squarederror.\n",
            "[09:24:33] WARNING: /workspace/src/objective/regression_obj.cu:152: reg:linear is now deprecated in favor of reg:squarederror.\n",
            "[09:24:33] WARNING: /workspace/src/objective/regression_obj.cu:152: reg:linear is now deprecated in favor of reg:squarederror.\n",
            "[09:24:33] WARNING: /workspace/src/objective/regression_obj.cu:152: reg:linear is now deprecated in favor of reg:squarederror.\n",
            "[09:24:33] WARNING: /workspace/src/objective/regression_obj.cu:152: reg:linear is now deprecated in favor of reg:squarederror.\n",
            "[09:24:34] WARNING: /workspace/src/objective/regression_obj.cu:152: reg:linear is now deprecated in favor of reg:squarederror.\n",
            "[09:24:34] WARNING: /workspace/src/objective/regression_obj.cu:152: reg:linear is now deprecated in favor of reg:squarederror.\n",
            "[09:24:34] WARNING: /workspace/src/objective/regression_obj.cu:152: reg:linear is now deprecated in favor of reg:squarederror.\n",
            "[09:24:34] WARNING: /workspace/src/objective/regression_obj.cu:152: reg:linear is now deprecated in favor of reg:squarederror.\n",
            "[09:24:34] WARNING: /workspace/src/objective/regression_obj.cu:152: reg:linear is now deprecated in favor of reg:squarederror.\n",
            "[09:24:34] WARNING: /workspace/src/objective/regression_obj.cu:152: reg:linear is now deprecated in favor of reg:squarederror.\n",
            "[09:24:34] WARNING: /workspace/src/objective/regression_obj.cu:152: reg:linear is now deprecated in favor of reg:squarederror.\n",
            "[09:24:34] WARNING: /workspace/src/objective/regression_obj.cu:152: reg:linear is now deprecated in favor of reg:squarederror.\n",
            "[09:24:34] WARNING: /workspace/src/objective/regression_obj.cu:152: reg:linear is now deprecated in favor of reg:squarederror.\n",
            "[09:24:34] WARNING: /workspace/src/objective/regression_obj.cu:152: reg:linear is now deprecated in favor of reg:squarederror.\n",
            "[09:24:34] WARNING: /workspace/src/objective/regression_obj.cu:152: reg:linear is now deprecated in favor of reg:squarederror.\n",
            "[09:24:35] WARNING: /workspace/src/objective/regression_obj.cu:152: reg:linear is now deprecated in favor of reg:squarederror.\n",
            "[09:24:35] WARNING: /workspace/src/objective/regression_obj.cu:152: reg:linear is now deprecated in favor of reg:squarederror.\n",
            "[09:24:35] WARNING: /workspace/src/objective/regression_obj.cu:152: reg:linear is now deprecated in favor of reg:squarederror.\n",
            "[09:24:35] WARNING: /workspace/src/objective/regression_obj.cu:152: reg:linear is now deprecated in favor of reg:squarederror.\n",
            "[09:24:35] WARNING: /workspace/src/objective/regression_obj.cu:152: reg:linear is now deprecated in favor of reg:squarederror.\n",
            "[09:24:35] WARNING: /workspace/src/objective/regression_obj.cu:152: reg:linear is now deprecated in favor of reg:squarederror.\n",
            "[09:24:35] WARNING: /workspace/src/objective/regression_obj.cu:152: reg:linear is now deprecated in favor of reg:squarederror.\n",
            "[09:24:35] WARNING: /workspace/src/objective/regression_obj.cu:152: reg:linear is now deprecated in favor of reg:squarederror.\n",
            "[09:24:35] WARNING: /workspace/src/objective/regression_obj.cu:152: reg:linear is now deprecated in favor of reg:squarederror.\n",
            "[09:24:35] WARNING: /workspace/src/objective/regression_obj.cu:152: reg:linear is now deprecated in favor of reg:squarederror.\n",
            "[09:24:35] WARNING: /workspace/src/objective/regression_obj.cu:152: reg:linear is now deprecated in favor of reg:squarederror.\n",
            "[09:24:35] WARNING: /workspace/src/objective/regression_obj.cu:152: reg:linear is now deprecated in favor of reg:squarederror.\n",
            "[09:24:36] WARNING: /workspace/src/objective/regression_obj.cu:152: reg:linear is now deprecated in favor of reg:squarederror.\n",
            "[09:24:36] WARNING: /workspace/src/objective/regression_obj.cu:152: reg:linear is now deprecated in favor of reg:squarederror.\n",
            "[09:24:36] WARNING: /workspace/src/objective/regression_obj.cu:152: reg:linear is now deprecated in favor of reg:squarederror.\n",
            "[09:24:36] WARNING: /workspace/src/objective/regression_obj.cu:152: reg:linear is now deprecated in favor of reg:squarederror.\n",
            "[09:24:36] WARNING: /workspace/src/objective/regression_obj.cu:152: reg:linear is now deprecated in favor of reg:squarederror.\n",
            "[09:24:36] WARNING: /workspace/src/objective/regression_obj.cu:152: reg:linear is now deprecated in favor of reg:squarederror.\n",
            "[09:24:36] WARNING: /workspace/src/objective/regression_obj.cu:152: reg:linear is now deprecated in favor of reg:squarederror.\n",
            "[09:24:36] WARNING: /workspace/src/objective/regression_obj.cu:152: reg:linear is now deprecated in favor of reg:squarederror.\n",
            "[09:24:36] WARNING: /workspace/src/objective/regression_obj.cu:152: reg:linear is now deprecated in favor of reg:squarederror.\n",
            "[09:24:37] WARNING: /workspace/src/objective/regression_obj.cu:152: reg:linear is now deprecated in favor of reg:squarederror.\n",
            "[09:24:37] WARNING: /workspace/src/objective/regression_obj.cu:152: reg:linear is now deprecated in favor of reg:squarederror.\n",
            "[09:24:37] WARNING: /workspace/src/objective/regression_obj.cu:152: reg:linear is now deprecated in favor of reg:squarederror.\n",
            "[09:24:37] WARNING: /workspace/src/objective/regression_obj.cu:152: reg:linear is now deprecated in favor of reg:squarederror.\n",
            "[09:24:37] WARNING: /workspace/src/objective/regression_obj.cu:152: reg:linear is now deprecated in favor of reg:squarederror.\n",
            "[09:24:37] WARNING: /workspace/src/objective/regression_obj.cu:152: reg:linear is now deprecated in favor of reg:squarederror.\n",
            "[09:24:37] WARNING: /workspace/src/objective/regression_obj.cu:152: reg:linear is now deprecated in favor of reg:squarederror.\n",
            "[09:24:37] WARNING: /workspace/src/objective/regression_obj.cu:152: reg:linear is now deprecated in favor of reg:squarederror.\n",
            "[09:24:37] WARNING: /workspace/src/objective/regression_obj.cu:152: reg:linear is now deprecated in favor of reg:squarederror.\n",
            "[09:24:37] WARNING: /workspace/src/objective/regression_obj.cu:152: reg:linear is now deprecated in favor of reg:squarederror.\n",
            "[09:24:37] WARNING: /workspace/src/objective/regression_obj.cu:152: reg:linear is now deprecated in favor of reg:squarederror.\n",
            "[09:24:38] WARNING: /workspace/src/objective/regression_obj.cu:152: reg:linear is now deprecated in favor of reg:squarederror.\n",
            "[09:24:38] WARNING: /workspace/src/objective/regression_obj.cu:152: reg:linear is now deprecated in favor of reg:squarederror.\n",
            "[09:24:38] WARNING: /workspace/src/objective/regression_obj.cu:152: reg:linear is now deprecated in favor of reg:squarederror.\n",
            "[09:24:38] WARNING: /workspace/src/objective/regression_obj.cu:152: reg:linear is now deprecated in favor of reg:squarederror.\n",
            "[09:24:38] WARNING: /workspace/src/objective/regression_obj.cu:152: reg:linear is now deprecated in favor of reg:squarederror.\n",
            "[09:24:38] WARNING: /workspace/src/objective/regression_obj.cu:152: reg:linear is now deprecated in favor of reg:squarederror.\n",
            "[09:24:38] WARNING: /workspace/src/objective/regression_obj.cu:152: reg:linear is now deprecated in favor of reg:squarederror.\n",
            "[09:24:38] WARNING: /workspace/src/objective/regression_obj.cu:152: reg:linear is now deprecated in favor of reg:squarederror.\n",
            "[09:24:38] WARNING: /workspace/src/objective/regression_obj.cu:152: reg:linear is now deprecated in favor of reg:squarederror.\n",
            "[09:24:38] WARNING: /workspace/src/objective/regression_obj.cu:152: reg:linear is now deprecated in favor of reg:squarederror.\n",
            "[09:24:38] WARNING: /workspace/src/objective/regression_obj.cu:152: reg:linear is now deprecated in favor of reg:squarederror.\n",
            "[09:24:38] WARNING: /workspace/src/objective/regression_obj.cu:152: reg:linear is now deprecated in favor of reg:squarederror.\n",
            "[09:24:39] WARNING: /workspace/src/objective/regression_obj.cu:152: reg:linear is now deprecated in favor of reg:squarederror.\n",
            "[09:24:39] WARNING: /workspace/src/objective/regression_obj.cu:152: reg:linear is now deprecated in favor of reg:squarederror.\n",
            "[09:24:39] WARNING: /workspace/src/objective/regression_obj.cu:152: reg:linear is now deprecated in favor of reg:squarederror.\n",
            "[09:24:39] WARNING: /workspace/src/objective/regression_obj.cu:152: reg:linear is now deprecated in favor of reg:squarederror.\n",
            "[09:24:39] WARNING: /workspace/src/objective/regression_obj.cu:152: reg:linear is now deprecated in favor of reg:squarederror.\n",
            "[09:24:39] WARNING: /workspace/src/objective/regression_obj.cu:152: reg:linear is now deprecated in favor of reg:squarederror.\n",
            "[09:24:39] WARNING: /workspace/src/objective/regression_obj.cu:152: reg:linear is now deprecated in favor of reg:squarederror.\n",
            "[09:24:39] WARNING: /workspace/src/objective/regression_obj.cu:152: reg:linear is now deprecated in favor of reg:squarederror.\n",
            "[09:24:39] WARNING: /workspace/src/objective/regression_obj.cu:152: reg:linear is now deprecated in favor of reg:squarederror.\n",
            "[09:24:39] WARNING: /workspace/src/objective/regression_obj.cu:152: reg:linear is now deprecated in favor of reg:squarederror.\n",
            "[09:24:40] WARNING: /workspace/src/objective/regression_obj.cu:152: reg:linear is now deprecated in favor of reg:squarederror.\n",
            "[09:24:40] WARNING: /workspace/src/objective/regression_obj.cu:152: reg:linear is now deprecated in favor of reg:squarederror.\n",
            "[09:24:40] WARNING: /workspace/src/objective/regression_obj.cu:152: reg:linear is now deprecated in favor of reg:squarederror.\n",
            "[09:24:40] WARNING: /workspace/src/objective/regression_obj.cu:152: reg:linear is now deprecated in favor of reg:squarederror.\n",
            "[09:24:40] WARNING: /workspace/src/objective/regression_obj.cu:152: reg:linear is now deprecated in favor of reg:squarederror.\n",
            "[09:24:40] WARNING: /workspace/src/objective/regression_obj.cu:152: reg:linear is now deprecated in favor of reg:squarederror.\n",
            "[09:24:40] WARNING: /workspace/src/objective/regression_obj.cu:152: reg:linear is now deprecated in favor of reg:squarederror.\n",
            "[09:24:40] WARNING: /workspace/src/objective/regression_obj.cu:152: reg:linear is now deprecated in favor of reg:squarederror.\n",
            "[09:24:40] WARNING: /workspace/src/objective/regression_obj.cu:152: reg:linear is now deprecated in favor of reg:squarederror.\n",
            "[09:24:40] WARNING: /workspace/src/objective/regression_obj.cu:152: reg:linear is now deprecated in favor of reg:squarederror.\n",
            "[09:24:40] WARNING: /workspace/src/objective/regression_obj.cu:152: reg:linear is now deprecated in favor of reg:squarederror.\n",
            "[09:24:41] WARNING: /workspace/src/objective/regression_obj.cu:152: reg:linear is now deprecated in favor of reg:squarederror.\n",
            "[09:24:41] WARNING: /workspace/src/objective/regression_obj.cu:152: reg:linear is now deprecated in favor of reg:squarederror.\n",
            "[09:24:41] WARNING: /workspace/src/objective/regression_obj.cu:152: reg:linear is now deprecated in favor of reg:squarederror.\n",
            "[09:24:41] WARNING: /workspace/src/objective/regression_obj.cu:152: reg:linear is now deprecated in favor of reg:squarederror.\n",
            "[09:24:41] WARNING: /workspace/src/objective/regression_obj.cu:152: reg:linear is now deprecated in favor of reg:squarederror.\n",
            "[09:24:41] WARNING: /workspace/src/objective/regression_obj.cu:152: reg:linear is now deprecated in favor of reg:squarederror.\n",
            "[09:24:41] WARNING: /workspace/src/objective/regression_obj.cu:152: reg:linear is now deprecated in favor of reg:squarederror.\n",
            "[09:24:41] WARNING: /workspace/src/objective/regression_obj.cu:152: reg:linear is now deprecated in favor of reg:squarederror.\n",
            "[09:24:41] WARNING: /workspace/src/objective/regression_obj.cu:152: reg:linear is now deprecated in favor of reg:squarederror.\n",
            "[09:24:41] WARNING: /workspace/src/objective/regression_obj.cu:152: reg:linear is now deprecated in favor of reg:squarederror.\n",
            "[09:24:41] WARNING: /workspace/src/objective/regression_obj.cu:152: reg:linear is now deprecated in favor of reg:squarederror.\n",
            "[09:24:41] WARNING: /workspace/src/objective/regression_obj.cu:152: reg:linear is now deprecated in favor of reg:squarederror.\n",
            "[09:24:42] WARNING: /workspace/src/objective/regression_obj.cu:152: reg:linear is now deprecated in favor of reg:squarederror.\n",
            "[09:24:42] WARNING: /workspace/src/objective/regression_obj.cu:152: reg:linear is now deprecated in favor of reg:squarederror.\n",
            "[09:24:42] WARNING: /workspace/src/objective/regression_obj.cu:152: reg:linear is now deprecated in favor of reg:squarederror.\n",
            "[09:24:42] WARNING: /workspace/src/objective/regression_obj.cu:152: reg:linear is now deprecated in favor of reg:squarederror.\n"
          ]
        },
        {
          "output_type": "stream",
          "name": "stderr",
          "text": [
            "/usr/local/lib/python3.7/dist-packages/sklearn/impute/_iterative.py:701: ConvergenceWarning: [IterativeImputer] Early stopping criterion not reached.\n",
            "  ConvergenceWarning,\n"
          ]
        }
      ]
    },
    {
      "cell_type": "code",
      "source": [
        "num_df.head()"
      ],
      "metadata": {
        "colab": {
          "base_uri": "https://localhost:8080/",
          "height": 299
        },
        "id": "tkyQM9OLUx-Y",
        "outputId": "4636956e-973c-4c6c-883e-d8eaeb4e629c"
      },
      "execution_count": null,
      "outputs": [
        {
          "output_type": "execute_result",
          "data": {
            "text/plain": [
              "   Interval  Degree_Nonsevere   Age  Sex_F  Sex_M  \\\n",
              "0       3.0               1.0  40.0    1.0    0.0   \n",
              "1       6.0               1.0  74.0    1.0    0.0   \n",
              "2       3.0               1.0  73.0    1.0    0.0   \n",
              "3       1.0               0.0  66.0    1.0    0.0   \n",
              "4       1.0               0.0  67.0    0.0    1.0   \n",
              "\n",
              "   Underlying_comorbidities_Hypertension  \\\n",
              "0                                    0.0   \n",
              "1                                    0.0   \n",
              "2                                    0.0   \n",
              "3                                    1.0   \n",
              "4                                    0.0   \n",
              "\n",
              "   Underlying_comorbidities_Endocrine_disease  Underlying_comorbidities_CVD  \\\n",
              "0                                         0.0                           0.0   \n",
              "1                                         0.0                           0.0   \n",
              "2                                         0.0                           0.0   \n",
              "3                                         0.0                           0.0   \n",
              "4                                         0.0                           0.0   \n",
              "\n",
              "   Underlying_comorbidities_Chronic_Lung_disease  \\\n",
              "0                                            0.0   \n",
              "1                                            0.0   \n",
              "2                                            0.0   \n",
              "3                                            0.0   \n",
              "4                                            0.0   \n",
              "\n",
              "   Underlying_comorbidities_Digestive_Disease  ...  \\\n",
              "0                                         0.0  ...   \n",
              "1                                         0.0  ...   \n",
              "2                                         0.0  ...   \n",
              "3                                         0.0  ...   \n",
              "4                                         0.0  ...   \n",
              "\n",
              "   Laboratory_test_CK_MB_(ng/ml)  Laboratory_test_D_dimer_(ug/ml)  \\\n",
              "0                           13.0                             66.0   \n",
              "1                           14.0                            104.0   \n",
              "2                           14.0                            103.0   \n",
              "3                           14.0                             98.0   \n",
              "4                           14.0                             99.0   \n",
              "\n",
              "   Laboratory_test_ALT_(U/L)  Laboratory_test_AST_(U/L)  \\\n",
              "0                       25.0                       28.0   \n",
              "1                       24.0                       34.0   \n",
              "2                       24.0                       34.0   \n",
              "3                       25.0                       32.0   \n",
              "4                       25.0                       33.0   \n",
              "\n",
              "   Laboratory_test_TB_(umol/L)  Laboratory_test_ALB_(g/L)  \\\n",
              "0                         14.0                       40.0   \n",
              "1                         14.0                       38.0   \n",
              "2                         14.0                       38.0   \n",
              "3                         14.0                       38.0   \n",
              "4                         14.0                       38.0   \n",
              "\n",
              "   Laboratory_test_LDH_(U/L)  Laboratory_test_SCr_(umol/L)     CK  \\\n",
              "0                      214.0                          62.0  112.0   \n",
              "1                      266.0                          64.0  131.0   \n",
              "2                      264.0                          64.0  131.0   \n",
              "3                      258.0                          64.0  127.0   \n",
              "4                      260.0                          64.0  128.0   \n",
              "\n",
              "   non_severe_to_severe  \n",
              "0                   0.0  \n",
              "1                   0.0  \n",
              "2                   0.0  \n",
              "3                   0.0  \n",
              "4                   0.0  \n",
              "\n",
              "[5 rows x 36 columns]"
            ],
            "text/html": [
              "\n",
              "  <div id=\"df-b77cb1e7-968b-45b6-b57a-bf8699df0766\">\n",
              "    <div class=\"colab-df-container\">\n",
              "      <div>\n",
              "<style scoped>\n",
              "    .dataframe tbody tr th:only-of-type {\n",
              "        vertical-align: middle;\n",
              "    }\n",
              "\n",
              "    .dataframe tbody tr th {\n",
              "        vertical-align: top;\n",
              "    }\n",
              "\n",
              "    .dataframe thead th {\n",
              "        text-align: right;\n",
              "    }\n",
              "</style>\n",
              "<table border=\"1\" class=\"dataframe\">\n",
              "  <thead>\n",
              "    <tr style=\"text-align: right;\">\n",
              "      <th></th>\n",
              "      <th>Interval</th>\n",
              "      <th>Degree_Nonsevere</th>\n",
              "      <th>Age</th>\n",
              "      <th>Sex_F</th>\n",
              "      <th>Sex_M</th>\n",
              "      <th>Underlying_comorbidities_Hypertension</th>\n",
              "      <th>Underlying_comorbidities_Endocrine_disease</th>\n",
              "      <th>Underlying_comorbidities_CVD</th>\n",
              "      <th>Underlying_comorbidities_Chronic_Lung_disease</th>\n",
              "      <th>Underlying_comorbidities_Digestive_Disease</th>\n",
              "      <th>...</th>\n",
              "      <th>Laboratory_test_CK_MB_(ng/ml)</th>\n",
              "      <th>Laboratory_test_D_dimer_(ug/ml)</th>\n",
              "      <th>Laboratory_test_ALT_(U/L)</th>\n",
              "      <th>Laboratory_test_AST_(U/L)</th>\n",
              "      <th>Laboratory_test_TB_(umol/L)</th>\n",
              "      <th>Laboratory_test_ALB_(g/L)</th>\n",
              "      <th>Laboratory_test_LDH_(U/L)</th>\n",
              "      <th>Laboratory_test_SCr_(umol/L)</th>\n",
              "      <th>CK</th>\n",
              "      <th>non_severe_to_severe</th>\n",
              "    </tr>\n",
              "  </thead>\n",
              "  <tbody>\n",
              "    <tr>\n",
              "      <th>0</th>\n",
              "      <td>3.0</td>\n",
              "      <td>1.0</td>\n",
              "      <td>40.0</td>\n",
              "      <td>1.0</td>\n",
              "      <td>0.0</td>\n",
              "      <td>0.0</td>\n",
              "      <td>0.0</td>\n",
              "      <td>0.0</td>\n",
              "      <td>0.0</td>\n",
              "      <td>0.0</td>\n",
              "      <td>...</td>\n",
              "      <td>13.0</td>\n",
              "      <td>66.0</td>\n",
              "      <td>25.0</td>\n",
              "      <td>28.0</td>\n",
              "      <td>14.0</td>\n",
              "      <td>40.0</td>\n",
              "      <td>214.0</td>\n",
              "      <td>62.0</td>\n",
              "      <td>112.0</td>\n",
              "      <td>0.0</td>\n",
              "    </tr>\n",
              "    <tr>\n",
              "      <th>1</th>\n",
              "      <td>6.0</td>\n",
              "      <td>1.0</td>\n",
              "      <td>74.0</td>\n",
              "      <td>1.0</td>\n",
              "      <td>0.0</td>\n",
              "      <td>0.0</td>\n",
              "      <td>0.0</td>\n",
              "      <td>0.0</td>\n",
              "      <td>0.0</td>\n",
              "      <td>0.0</td>\n",
              "      <td>...</td>\n",
              "      <td>14.0</td>\n",
              "      <td>104.0</td>\n",
              "      <td>24.0</td>\n",
              "      <td>34.0</td>\n",
              "      <td>14.0</td>\n",
              "      <td>38.0</td>\n",
              "      <td>266.0</td>\n",
              "      <td>64.0</td>\n",
              "      <td>131.0</td>\n",
              "      <td>0.0</td>\n",
              "    </tr>\n",
              "    <tr>\n",
              "      <th>2</th>\n",
              "      <td>3.0</td>\n",
              "      <td>1.0</td>\n",
              "      <td>73.0</td>\n",
              "      <td>1.0</td>\n",
              "      <td>0.0</td>\n",
              "      <td>0.0</td>\n",
              "      <td>0.0</td>\n",
              "      <td>0.0</td>\n",
              "      <td>0.0</td>\n",
              "      <td>0.0</td>\n",
              "      <td>...</td>\n",
              "      <td>14.0</td>\n",
              "      <td>103.0</td>\n",
              "      <td>24.0</td>\n",
              "      <td>34.0</td>\n",
              "      <td>14.0</td>\n",
              "      <td>38.0</td>\n",
              "      <td>264.0</td>\n",
              "      <td>64.0</td>\n",
              "      <td>131.0</td>\n",
              "      <td>0.0</td>\n",
              "    </tr>\n",
              "    <tr>\n",
              "      <th>3</th>\n",
              "      <td>1.0</td>\n",
              "      <td>0.0</td>\n",
              "      <td>66.0</td>\n",
              "      <td>1.0</td>\n",
              "      <td>0.0</td>\n",
              "      <td>1.0</td>\n",
              "      <td>0.0</td>\n",
              "      <td>0.0</td>\n",
              "      <td>0.0</td>\n",
              "      <td>0.0</td>\n",
              "      <td>...</td>\n",
              "      <td>14.0</td>\n",
              "      <td>98.0</td>\n",
              "      <td>25.0</td>\n",
              "      <td>32.0</td>\n",
              "      <td>14.0</td>\n",
              "      <td>38.0</td>\n",
              "      <td>258.0</td>\n",
              "      <td>64.0</td>\n",
              "      <td>127.0</td>\n",
              "      <td>0.0</td>\n",
              "    </tr>\n",
              "    <tr>\n",
              "      <th>4</th>\n",
              "      <td>1.0</td>\n",
              "      <td>0.0</td>\n",
              "      <td>67.0</td>\n",
              "      <td>0.0</td>\n",
              "      <td>1.0</td>\n",
              "      <td>0.0</td>\n",
              "      <td>0.0</td>\n",
              "      <td>0.0</td>\n",
              "      <td>0.0</td>\n",
              "      <td>0.0</td>\n",
              "      <td>...</td>\n",
              "      <td>14.0</td>\n",
              "      <td>99.0</td>\n",
              "      <td>25.0</td>\n",
              "      <td>33.0</td>\n",
              "      <td>14.0</td>\n",
              "      <td>38.0</td>\n",
              "      <td>260.0</td>\n",
              "      <td>64.0</td>\n",
              "      <td>128.0</td>\n",
              "      <td>0.0</td>\n",
              "    </tr>\n",
              "  </tbody>\n",
              "</table>\n",
              "<p>5 rows × 36 columns</p>\n",
              "</div>\n",
              "      <button class=\"colab-df-convert\" onclick=\"convertToInteractive('df-b77cb1e7-968b-45b6-b57a-bf8699df0766')\"\n",
              "              title=\"Convert this dataframe to an interactive table.\"\n",
              "              style=\"display:none;\">\n",
              "        \n",
              "  <svg xmlns=\"http://www.w3.org/2000/svg\" height=\"24px\"viewBox=\"0 0 24 24\"\n",
              "       width=\"24px\">\n",
              "    <path d=\"M0 0h24v24H0V0z\" fill=\"none\"/>\n",
              "    <path d=\"M18.56 5.44l.94 2.06.94-2.06 2.06-.94-2.06-.94-.94-2.06-.94 2.06-2.06.94zm-11 1L8.5 8.5l.94-2.06 2.06-.94-2.06-.94L8.5 2.5l-.94 2.06-2.06.94zm10 10l.94 2.06.94-2.06 2.06-.94-2.06-.94-.94-2.06-.94 2.06-2.06.94z\"/><path d=\"M17.41 7.96l-1.37-1.37c-.4-.4-.92-.59-1.43-.59-.52 0-1.04.2-1.43.59L10.3 9.45l-7.72 7.72c-.78.78-.78 2.05 0 2.83L4 21.41c.39.39.9.59 1.41.59.51 0 1.02-.2 1.41-.59l7.78-7.78 2.81-2.81c.8-.78.8-2.07 0-2.86zM5.41 20L4 18.59l7.72-7.72 1.47 1.35L5.41 20z\"/>\n",
              "  </svg>\n",
              "      </button>\n",
              "      \n",
              "  <style>\n",
              "    .colab-df-container {\n",
              "      display:flex;\n",
              "      flex-wrap:wrap;\n",
              "      gap: 12px;\n",
              "    }\n",
              "\n",
              "    .colab-df-convert {\n",
              "      background-color: #E8F0FE;\n",
              "      border: none;\n",
              "      border-radius: 50%;\n",
              "      cursor: pointer;\n",
              "      display: none;\n",
              "      fill: #1967D2;\n",
              "      height: 32px;\n",
              "      padding: 0 0 0 0;\n",
              "      width: 32px;\n",
              "    }\n",
              "\n",
              "    .colab-df-convert:hover {\n",
              "      background-color: #E2EBFA;\n",
              "      box-shadow: 0px 1px 2px rgba(60, 64, 67, 0.3), 0px 1px 3px 1px rgba(60, 64, 67, 0.15);\n",
              "      fill: #174EA6;\n",
              "    }\n",
              "\n",
              "    [theme=dark] .colab-df-convert {\n",
              "      background-color: #3B4455;\n",
              "      fill: #D2E3FC;\n",
              "    }\n",
              "\n",
              "    [theme=dark] .colab-df-convert:hover {\n",
              "      background-color: #434B5C;\n",
              "      box-shadow: 0px 1px 3px 1px rgba(0, 0, 0, 0.15);\n",
              "      filter: drop-shadow(0px 1px 2px rgba(0, 0, 0, 0.3));\n",
              "      fill: #FFFFFF;\n",
              "    }\n",
              "  </style>\n",
              "\n",
              "      <script>\n",
              "        const buttonEl =\n",
              "          document.querySelector('#df-b77cb1e7-968b-45b6-b57a-bf8699df0766 button.colab-df-convert');\n",
              "        buttonEl.style.display =\n",
              "          google.colab.kernel.accessAllowed ? 'block' : 'none';\n",
              "\n",
              "        async function convertToInteractive(key) {\n",
              "          const element = document.querySelector('#df-b77cb1e7-968b-45b6-b57a-bf8699df0766');\n",
              "          const dataTable =\n",
              "            await google.colab.kernel.invokeFunction('convertToInteractive',\n",
              "                                                     [key], {});\n",
              "          if (!dataTable) return;\n",
              "\n",
              "          const docLinkHtml = 'Like what you see? Visit the ' +\n",
              "            '<a target=\"_blank\" href=https://colab.research.google.com/notebooks/data_table.ipynb>data table notebook</a>'\n",
              "            + ' to learn more about interactive tables.';\n",
              "          element.innerHTML = '';\n",
              "          dataTable['output_type'] = 'display_data';\n",
              "          await google.colab.output.renderOutput(dataTable, element);\n",
              "          const docLink = document.createElement('div');\n",
              "          docLink.innerHTML = docLinkHtml;\n",
              "          element.appendChild(docLink);\n",
              "        }\n",
              "      </script>\n",
              "    </div>\n",
              "  </div>\n",
              "  "
            ]
          },
          "metadata": {},
          "execution_count": 38
        }
      ]
    },
    {
      "cell_type": "code",
      "source": [
        "numeric_data.head()"
      ],
      "metadata": {
        "colab": {
          "base_uri": "https://localhost:8080/",
          "height": 299
        },
        "id": "U31qdFS8U3dc",
        "outputId": "a563a3b6-be98-4197-f522-050dae1e32db"
      },
      "execution_count": null,
      "outputs": [
        {
          "output_type": "execute_result",
          "data": {
            "text/plain": [
              "   Interval  Degree_Nonsevere   Age  Sex_F  Sex_M  \\\n",
              "0       3.0                 1  40.0    1.0    0.0   \n",
              "1       NaN                 1  74.0    1.0    0.0   \n",
              "2       3.0                 1  73.0    1.0    0.0   \n",
              "3       1.0                 0  66.0    1.0    0.0   \n",
              "4       1.0                 0  67.0    0.0    1.0   \n",
              "\n",
              "   Underlying_comorbidities_Hypertension  \\\n",
              "0                                    0.0   \n",
              "1                                    0.0   \n",
              "2                                    0.0   \n",
              "3                                    1.0   \n",
              "4                                    0.0   \n",
              "\n",
              "   Underlying_comorbidities_Endocrine_disease  Underlying_comorbidities_CVD  \\\n",
              "0                                         0.0                           0.0   \n",
              "1                                         0.0                           0.0   \n",
              "2                                         0.0                           0.0   \n",
              "3                                         0.0                           0.0   \n",
              "4                                         0.0                           0.0   \n",
              "\n",
              "   Underlying_comorbidities_Chronic_Lung_disease  \\\n",
              "0                                            0.0   \n",
              "1                                            0.0   \n",
              "2                                            0.0   \n",
              "3                                            0.0   \n",
              "4                                            0.0   \n",
              "\n",
              "   Underlying_comorbidities_Digestive_Disease  ...  \\\n",
              "0                                         0.0  ...   \n",
              "1                                         0.0  ...   \n",
              "2                                         0.0  ...   \n",
              "3                                         0.0  ...   \n",
              "4                                         0.0  ...   \n",
              "\n",
              "   Laboratory_test_CK_MB_(ng/ml)  Laboratory_test_D_dimer_(ug/ml)  \\\n",
              "0                            NaN                              NaN   \n",
              "1                            NaN                              NaN   \n",
              "2                            NaN                              NaN   \n",
              "3                            NaN                              NaN   \n",
              "4                            NaN                              NaN   \n",
              "\n",
              "   Laboratory_test_ALT_(U/L)  Laboratory_test_AST_(U/L)  \\\n",
              "0                        NaN                        NaN   \n",
              "1                        NaN                        NaN   \n",
              "2                        NaN                        NaN   \n",
              "3                        NaN                        NaN   \n",
              "4                        NaN                        NaN   \n",
              "\n",
              "   Laboratory_test_TB_(umol/L)  Laboratory_test_ALB_(g/L)  \\\n",
              "0                          NaN                        NaN   \n",
              "1                          NaN                        NaN   \n",
              "2                          NaN                        NaN   \n",
              "3                          NaN                        NaN   \n",
              "4                          NaN                        NaN   \n",
              "\n",
              "   Laboratory_test_LDH_(U/L)  Laboratory_test_SCr_(umol/L)  CK  \\\n",
              "0                        NaN                           NaN NaN   \n",
              "1                        NaN                           NaN NaN   \n",
              "2                        NaN                           NaN NaN   \n",
              "3                        NaN                           NaN NaN   \n",
              "4                        NaN                           NaN NaN   \n",
              "\n",
              "   non_severe_to_severe  \n",
              "0                     0  \n",
              "1                     0  \n",
              "2                     0  \n",
              "3                     0  \n",
              "4                     0  \n",
              "\n",
              "[5 rows x 36 columns]"
            ],
            "text/html": [
              "\n",
              "  <div id=\"df-9f94a1ad-f341-4d81-b634-a48c1e4a8f42\">\n",
              "    <div class=\"colab-df-container\">\n",
              "      <div>\n",
              "<style scoped>\n",
              "    .dataframe tbody tr th:only-of-type {\n",
              "        vertical-align: middle;\n",
              "    }\n",
              "\n",
              "    .dataframe tbody tr th {\n",
              "        vertical-align: top;\n",
              "    }\n",
              "\n",
              "    .dataframe thead th {\n",
              "        text-align: right;\n",
              "    }\n",
              "</style>\n",
              "<table border=\"1\" class=\"dataframe\">\n",
              "  <thead>\n",
              "    <tr style=\"text-align: right;\">\n",
              "      <th></th>\n",
              "      <th>Interval</th>\n",
              "      <th>Degree_Nonsevere</th>\n",
              "      <th>Age</th>\n",
              "      <th>Sex_F</th>\n",
              "      <th>Sex_M</th>\n",
              "      <th>Underlying_comorbidities_Hypertension</th>\n",
              "      <th>Underlying_comorbidities_Endocrine_disease</th>\n",
              "      <th>Underlying_comorbidities_CVD</th>\n",
              "      <th>Underlying_comorbidities_Chronic_Lung_disease</th>\n",
              "      <th>Underlying_comorbidities_Digestive_Disease</th>\n",
              "      <th>...</th>\n",
              "      <th>Laboratory_test_CK_MB_(ng/ml)</th>\n",
              "      <th>Laboratory_test_D_dimer_(ug/ml)</th>\n",
              "      <th>Laboratory_test_ALT_(U/L)</th>\n",
              "      <th>Laboratory_test_AST_(U/L)</th>\n",
              "      <th>Laboratory_test_TB_(umol/L)</th>\n",
              "      <th>Laboratory_test_ALB_(g/L)</th>\n",
              "      <th>Laboratory_test_LDH_(U/L)</th>\n",
              "      <th>Laboratory_test_SCr_(umol/L)</th>\n",
              "      <th>CK</th>\n",
              "      <th>non_severe_to_severe</th>\n",
              "    </tr>\n",
              "  </thead>\n",
              "  <tbody>\n",
              "    <tr>\n",
              "      <th>0</th>\n",
              "      <td>3.0</td>\n",
              "      <td>1</td>\n",
              "      <td>40.0</td>\n",
              "      <td>1.0</td>\n",
              "      <td>0.0</td>\n",
              "      <td>0.0</td>\n",
              "      <td>0.0</td>\n",
              "      <td>0.0</td>\n",
              "      <td>0.0</td>\n",
              "      <td>0.0</td>\n",
              "      <td>...</td>\n",
              "      <td>NaN</td>\n",
              "      <td>NaN</td>\n",
              "      <td>NaN</td>\n",
              "      <td>NaN</td>\n",
              "      <td>NaN</td>\n",
              "      <td>NaN</td>\n",
              "      <td>NaN</td>\n",
              "      <td>NaN</td>\n",
              "      <td>NaN</td>\n",
              "      <td>0</td>\n",
              "    </tr>\n",
              "    <tr>\n",
              "      <th>1</th>\n",
              "      <td>NaN</td>\n",
              "      <td>1</td>\n",
              "      <td>74.0</td>\n",
              "      <td>1.0</td>\n",
              "      <td>0.0</td>\n",
              "      <td>0.0</td>\n",
              "      <td>0.0</td>\n",
              "      <td>0.0</td>\n",
              "      <td>0.0</td>\n",
              "      <td>0.0</td>\n",
              "      <td>...</td>\n",
              "      <td>NaN</td>\n",
              "      <td>NaN</td>\n",
              "      <td>NaN</td>\n",
              "      <td>NaN</td>\n",
              "      <td>NaN</td>\n",
              "      <td>NaN</td>\n",
              "      <td>NaN</td>\n",
              "      <td>NaN</td>\n",
              "      <td>NaN</td>\n",
              "      <td>0</td>\n",
              "    </tr>\n",
              "    <tr>\n",
              "      <th>2</th>\n",
              "      <td>3.0</td>\n",
              "      <td>1</td>\n",
              "      <td>73.0</td>\n",
              "      <td>1.0</td>\n",
              "      <td>0.0</td>\n",
              "      <td>0.0</td>\n",
              "      <td>0.0</td>\n",
              "      <td>0.0</td>\n",
              "      <td>0.0</td>\n",
              "      <td>0.0</td>\n",
              "      <td>...</td>\n",
              "      <td>NaN</td>\n",
              "      <td>NaN</td>\n",
              "      <td>NaN</td>\n",
              "      <td>NaN</td>\n",
              "      <td>NaN</td>\n",
              "      <td>NaN</td>\n",
              "      <td>NaN</td>\n",
              "      <td>NaN</td>\n",
              "      <td>NaN</td>\n",
              "      <td>0</td>\n",
              "    </tr>\n",
              "    <tr>\n",
              "      <th>3</th>\n",
              "      <td>1.0</td>\n",
              "      <td>0</td>\n",
              "      <td>66.0</td>\n",
              "      <td>1.0</td>\n",
              "      <td>0.0</td>\n",
              "      <td>1.0</td>\n",
              "      <td>0.0</td>\n",
              "      <td>0.0</td>\n",
              "      <td>0.0</td>\n",
              "      <td>0.0</td>\n",
              "      <td>...</td>\n",
              "      <td>NaN</td>\n",
              "      <td>NaN</td>\n",
              "      <td>NaN</td>\n",
              "      <td>NaN</td>\n",
              "      <td>NaN</td>\n",
              "      <td>NaN</td>\n",
              "      <td>NaN</td>\n",
              "      <td>NaN</td>\n",
              "      <td>NaN</td>\n",
              "      <td>0</td>\n",
              "    </tr>\n",
              "    <tr>\n",
              "      <th>4</th>\n",
              "      <td>1.0</td>\n",
              "      <td>0</td>\n",
              "      <td>67.0</td>\n",
              "      <td>0.0</td>\n",
              "      <td>1.0</td>\n",
              "      <td>0.0</td>\n",
              "      <td>0.0</td>\n",
              "      <td>0.0</td>\n",
              "      <td>0.0</td>\n",
              "      <td>0.0</td>\n",
              "      <td>...</td>\n",
              "      <td>NaN</td>\n",
              "      <td>NaN</td>\n",
              "      <td>NaN</td>\n",
              "      <td>NaN</td>\n",
              "      <td>NaN</td>\n",
              "      <td>NaN</td>\n",
              "      <td>NaN</td>\n",
              "      <td>NaN</td>\n",
              "      <td>NaN</td>\n",
              "      <td>0</td>\n",
              "    </tr>\n",
              "  </tbody>\n",
              "</table>\n",
              "<p>5 rows × 36 columns</p>\n",
              "</div>\n",
              "      <button class=\"colab-df-convert\" onclick=\"convertToInteractive('df-9f94a1ad-f341-4d81-b634-a48c1e4a8f42')\"\n",
              "              title=\"Convert this dataframe to an interactive table.\"\n",
              "              style=\"display:none;\">\n",
              "        \n",
              "  <svg xmlns=\"http://www.w3.org/2000/svg\" height=\"24px\"viewBox=\"0 0 24 24\"\n",
              "       width=\"24px\">\n",
              "    <path d=\"M0 0h24v24H0V0z\" fill=\"none\"/>\n",
              "    <path d=\"M18.56 5.44l.94 2.06.94-2.06 2.06-.94-2.06-.94-.94-2.06-.94 2.06-2.06.94zm-11 1L8.5 8.5l.94-2.06 2.06-.94-2.06-.94L8.5 2.5l-.94 2.06-2.06.94zm10 10l.94 2.06.94-2.06 2.06-.94-2.06-.94-.94-2.06-.94 2.06-2.06.94z\"/><path d=\"M17.41 7.96l-1.37-1.37c-.4-.4-.92-.59-1.43-.59-.52 0-1.04.2-1.43.59L10.3 9.45l-7.72 7.72c-.78.78-.78 2.05 0 2.83L4 21.41c.39.39.9.59 1.41.59.51 0 1.02-.2 1.41-.59l7.78-7.78 2.81-2.81c.8-.78.8-2.07 0-2.86zM5.41 20L4 18.59l7.72-7.72 1.47 1.35L5.41 20z\"/>\n",
              "  </svg>\n",
              "      </button>\n",
              "      \n",
              "  <style>\n",
              "    .colab-df-container {\n",
              "      display:flex;\n",
              "      flex-wrap:wrap;\n",
              "      gap: 12px;\n",
              "    }\n",
              "\n",
              "    .colab-df-convert {\n",
              "      background-color: #E8F0FE;\n",
              "      border: none;\n",
              "      border-radius: 50%;\n",
              "      cursor: pointer;\n",
              "      display: none;\n",
              "      fill: #1967D2;\n",
              "      height: 32px;\n",
              "      padding: 0 0 0 0;\n",
              "      width: 32px;\n",
              "    }\n",
              "\n",
              "    .colab-df-convert:hover {\n",
              "      background-color: #E2EBFA;\n",
              "      box-shadow: 0px 1px 2px rgba(60, 64, 67, 0.3), 0px 1px 3px 1px rgba(60, 64, 67, 0.15);\n",
              "      fill: #174EA6;\n",
              "    }\n",
              "\n",
              "    [theme=dark] .colab-df-convert {\n",
              "      background-color: #3B4455;\n",
              "      fill: #D2E3FC;\n",
              "    }\n",
              "\n",
              "    [theme=dark] .colab-df-convert:hover {\n",
              "      background-color: #434B5C;\n",
              "      box-shadow: 0px 1px 3px 1px rgba(0, 0, 0, 0.15);\n",
              "      filter: drop-shadow(0px 1px 2px rgba(0, 0, 0, 0.3));\n",
              "      fill: #FFFFFF;\n",
              "    }\n",
              "  </style>\n",
              "\n",
              "      <script>\n",
              "        const buttonEl =\n",
              "          document.querySelector('#df-9f94a1ad-f341-4d81-b634-a48c1e4a8f42 button.colab-df-convert');\n",
              "        buttonEl.style.display =\n",
              "          google.colab.kernel.accessAllowed ? 'block' : 'none';\n",
              "\n",
              "        async function convertToInteractive(key) {\n",
              "          const element = document.querySelector('#df-9f94a1ad-f341-4d81-b634-a48c1e4a8f42');\n",
              "          const dataTable =\n",
              "            await google.colab.kernel.invokeFunction('convertToInteractive',\n",
              "                                                     [key], {});\n",
              "          if (!dataTable) return;\n",
              "\n",
              "          const docLinkHtml = 'Like what you see? Visit the ' +\n",
              "            '<a target=\"_blank\" href=https://colab.research.google.com/notebooks/data_table.ipynb>data table notebook</a>'\n",
              "            + ' to learn more about interactive tables.';\n",
              "          element.innerHTML = '';\n",
              "          dataTable['output_type'] = 'display_data';\n",
              "          await google.colab.output.renderOutput(dataTable, element);\n",
              "          const docLink = document.createElement('div');\n",
              "          docLink.innerHTML = docLinkHtml;\n",
              "          element.appendChild(docLink);\n",
              "        }\n",
              "      </script>\n",
              "    </div>\n",
              "  </div>\n",
              "  "
            ]
          },
          "metadata": {},
          "execution_count": 39
        }
      ]
    },
    {
      "cell_type": "code",
      "source": [
        "numeric_data['Interval'].isnull().sum()"
      ],
      "metadata": {
        "colab": {
          "base_uri": "https://localhost:8080/"
        },
        "id": "zZ5BpOuyU9oK",
        "outputId": "3b349439-f372-4016-959b-2e0b367f11bb"
      },
      "execution_count": null,
      "outputs": [
        {
          "output_type": "execute_result",
          "data": {
            "text/plain": [
              "112"
            ]
          },
          "metadata": {},
          "execution_count": 40
        }
      ]
    },
    {
      "cell_type": "code",
      "source": [
        "num_df['Interval'].isnull().sum()"
      ],
      "metadata": {
        "colab": {
          "base_uri": "https://localhost:8080/"
        },
        "id": "gY2NMJZuVJpk",
        "outputId": "02db00b5-2139-40d7-ffde-d92bade8fa11"
      },
      "execution_count": null,
      "outputs": [
        {
          "output_type": "execute_result",
          "data": {
            "text/plain": [
              "0"
            ]
          },
          "metadata": {},
          "execution_count": 41
        }
      ]
    },
    {
      "cell_type": "code",
      "source": [
        "non_numeric.info()"
      ],
      "metadata": {
        "colab": {
          "base_uri": "https://localhost:8080/"
        },
        "id": "7ow5wo8KVPkE",
        "outputId": "94d71a65-7f60-4574-c24f-3da314fbe0f2"
      },
      "execution_count": null,
      "outputs": [
        {
          "output_type": "stream",
          "name": "stdout",
          "text": [
            "<class 'pandas.core.frame.DataFrame'>\n",
            "RangeIndex: 601 entries, 0 to 600\n",
            "Data columns (total 4 columns):\n",
            " #   Column          Non-Null Count  Dtype \n",
            "---  ------          --------------  ----- \n",
            " 0   source          601 non-null    object\n",
            " 1   Degree_Severe   601 non-null    bool  \n",
            " 2   any_Underlying  601 non-null    bool  \n",
            " 3   any_Symptoms    601 non-null    bool  \n",
            "dtypes: bool(3), object(1)\n",
            "memory usage: 6.6+ KB\n"
          ]
        }
      ]
    },
    {
      "cell_type": "code",
      "source": [
        "non_numeric['source'].head()"
      ],
      "metadata": {
        "colab": {
          "base_uri": "https://localhost:8080/"
        },
        "id": "vaEKkL_DVh73",
        "outputId": "888caf3f-6f6b-4a32-f212-bccb799e8cd3"
      },
      "execution_count": null,
      "outputs": [
        {
          "output_type": "execute_result",
          "data": {
            "text/plain": [
              "0    online\n",
              "1    online\n",
              "2    online\n",
              "3    online\n",
              "4    online\n",
              "Name: source, dtype: object"
            ]
          },
          "metadata": {},
          "execution_count": 43
        }
      ]
    },
    {
      "cell_type": "code",
      "source": [
        "non_numeric.head(2)"
      ],
      "metadata": {
        "id": "f053oCtcWvwV",
        "colab": {
          "base_uri": "https://localhost:8080/",
          "height": 112
        },
        "outputId": "3eccfb45-fde5-4551-de66-1e53ef60d43f"
      },
      "execution_count": null,
      "outputs": [
        {
          "output_type": "execute_result",
          "data": {
            "text/plain": [
              "   source  Degree_Severe  any_Underlying  any_Symptoms\n",
              "0  online          False           False          True\n",
              "1  online          False           False          True"
            ],
            "text/html": [
              "\n",
              "  <div id=\"df-1d4cd640-bbb9-49ef-8a45-b61cccdce6e5\">\n",
              "    <div class=\"colab-df-container\">\n",
              "      <div>\n",
              "<style scoped>\n",
              "    .dataframe tbody tr th:only-of-type {\n",
              "        vertical-align: middle;\n",
              "    }\n",
              "\n",
              "    .dataframe tbody tr th {\n",
              "        vertical-align: top;\n",
              "    }\n",
              "\n",
              "    .dataframe thead th {\n",
              "        text-align: right;\n",
              "    }\n",
              "</style>\n",
              "<table border=\"1\" class=\"dataframe\">\n",
              "  <thead>\n",
              "    <tr style=\"text-align: right;\">\n",
              "      <th></th>\n",
              "      <th>source</th>\n",
              "      <th>Degree_Severe</th>\n",
              "      <th>any_Underlying</th>\n",
              "      <th>any_Symptoms</th>\n",
              "    </tr>\n",
              "  </thead>\n",
              "  <tbody>\n",
              "    <tr>\n",
              "      <th>0</th>\n",
              "      <td>online</td>\n",
              "      <td>False</td>\n",
              "      <td>False</td>\n",
              "      <td>True</td>\n",
              "    </tr>\n",
              "    <tr>\n",
              "      <th>1</th>\n",
              "      <td>online</td>\n",
              "      <td>False</td>\n",
              "      <td>False</td>\n",
              "      <td>True</td>\n",
              "    </tr>\n",
              "  </tbody>\n",
              "</table>\n",
              "</div>\n",
              "      <button class=\"colab-df-convert\" onclick=\"convertToInteractive('df-1d4cd640-bbb9-49ef-8a45-b61cccdce6e5')\"\n",
              "              title=\"Convert this dataframe to an interactive table.\"\n",
              "              style=\"display:none;\">\n",
              "        \n",
              "  <svg xmlns=\"http://www.w3.org/2000/svg\" height=\"24px\"viewBox=\"0 0 24 24\"\n",
              "       width=\"24px\">\n",
              "    <path d=\"M0 0h24v24H0V0z\" fill=\"none\"/>\n",
              "    <path d=\"M18.56 5.44l.94 2.06.94-2.06 2.06-.94-2.06-.94-.94-2.06-.94 2.06-2.06.94zm-11 1L8.5 8.5l.94-2.06 2.06-.94-2.06-.94L8.5 2.5l-.94 2.06-2.06.94zm10 10l.94 2.06.94-2.06 2.06-.94-2.06-.94-.94-2.06-.94 2.06-2.06.94z\"/><path d=\"M17.41 7.96l-1.37-1.37c-.4-.4-.92-.59-1.43-.59-.52 0-1.04.2-1.43.59L10.3 9.45l-7.72 7.72c-.78.78-.78 2.05 0 2.83L4 21.41c.39.39.9.59 1.41.59.51 0 1.02-.2 1.41-.59l7.78-7.78 2.81-2.81c.8-.78.8-2.07 0-2.86zM5.41 20L4 18.59l7.72-7.72 1.47 1.35L5.41 20z\"/>\n",
              "  </svg>\n",
              "      </button>\n",
              "      \n",
              "  <style>\n",
              "    .colab-df-container {\n",
              "      display:flex;\n",
              "      flex-wrap:wrap;\n",
              "      gap: 12px;\n",
              "    }\n",
              "\n",
              "    .colab-df-convert {\n",
              "      background-color: #E8F0FE;\n",
              "      border: none;\n",
              "      border-radius: 50%;\n",
              "      cursor: pointer;\n",
              "      display: none;\n",
              "      fill: #1967D2;\n",
              "      height: 32px;\n",
              "      padding: 0 0 0 0;\n",
              "      width: 32px;\n",
              "    }\n",
              "\n",
              "    .colab-df-convert:hover {\n",
              "      background-color: #E2EBFA;\n",
              "      box-shadow: 0px 1px 2px rgba(60, 64, 67, 0.3), 0px 1px 3px 1px rgba(60, 64, 67, 0.15);\n",
              "      fill: #174EA6;\n",
              "    }\n",
              "\n",
              "    [theme=dark] .colab-df-convert {\n",
              "      background-color: #3B4455;\n",
              "      fill: #D2E3FC;\n",
              "    }\n",
              "\n",
              "    [theme=dark] .colab-df-convert:hover {\n",
              "      background-color: #434B5C;\n",
              "      box-shadow: 0px 1px 3px 1px rgba(0, 0, 0, 0.15);\n",
              "      filter: drop-shadow(0px 1px 2px rgba(0, 0, 0, 0.3));\n",
              "      fill: #FFFFFF;\n",
              "    }\n",
              "  </style>\n",
              "\n",
              "      <script>\n",
              "        const buttonEl =\n",
              "          document.querySelector('#df-1d4cd640-bbb9-49ef-8a45-b61cccdce6e5 button.colab-df-convert');\n",
              "        buttonEl.style.display =\n",
              "          google.colab.kernel.accessAllowed ? 'block' : 'none';\n",
              "\n",
              "        async function convertToInteractive(key) {\n",
              "          const element = document.querySelector('#df-1d4cd640-bbb9-49ef-8a45-b61cccdce6e5');\n",
              "          const dataTable =\n",
              "            await google.colab.kernel.invokeFunction('convertToInteractive',\n",
              "                                                     [key], {});\n",
              "          if (!dataTable) return;\n",
              "\n",
              "          const docLinkHtml = 'Like what you see? Visit the ' +\n",
              "            '<a target=\"_blank\" href=https://colab.research.google.com/notebooks/data_table.ipynb>data table notebook</a>'\n",
              "            + ' to learn more about interactive tables.';\n",
              "          element.innerHTML = '';\n",
              "          dataTable['output_type'] = 'display_data';\n",
              "          await google.colab.output.renderOutput(dataTable, element);\n",
              "          const docLink = document.createElement('div');\n",
              "          docLink.innerHTML = docLinkHtml;\n",
              "          element.appendChild(docLink);\n",
              "        }\n",
              "      </script>\n",
              "    </div>\n",
              "  </div>\n",
              "  "
            ]
          },
          "metadata": {},
          "execution_count": 44
        }
      ]
    },
    {
      "cell_type": "markdown",
      "source": [
        "Dealing with missing values in the non numeric data"
      ],
      "metadata": {
        "id": "EBcgqs63_0Ox"
      }
    },
    {
      "cell_type": "code",
      "source": [
        "non_numeric=non_numeric.fillna(method=\"pad\", limit=1)"
      ],
      "metadata": {
        "id": "9VV4j-BEuM7A"
      },
      "execution_count": null,
      "outputs": []
    },
    {
      "cell_type": "code",
      "source": [
        "non_numeric=non_numeric.fillna(method=\"bfill\", limit=1)"
      ],
      "metadata": {
        "id": "Kf1XX8E0uQzk"
      },
      "execution_count": null,
      "outputs": []
    },
    {
      "cell_type": "code",
      "source": [
        "non_numeric.head(1)"
      ],
      "metadata": {
        "colab": {
          "base_uri": "https://localhost:8080/",
          "height": 81
        },
        "id": "73_AjY56ejGP",
        "outputId": "f0c63619-8ea0-44e0-8d0a-75efc140c7be"
      },
      "execution_count": null,
      "outputs": [
        {
          "output_type": "execute_result",
          "data": {
            "text/plain": [
              "   source  Degree_Severe  any_Underlying  any_Symptoms\n",
              "0  online          False           False          True"
            ],
            "text/html": [
              "\n",
              "  <div id=\"df-89e46fb2-75fc-4573-86d1-dd44358d62ba\">\n",
              "    <div class=\"colab-df-container\">\n",
              "      <div>\n",
              "<style scoped>\n",
              "    .dataframe tbody tr th:only-of-type {\n",
              "        vertical-align: middle;\n",
              "    }\n",
              "\n",
              "    .dataframe tbody tr th {\n",
              "        vertical-align: top;\n",
              "    }\n",
              "\n",
              "    .dataframe thead th {\n",
              "        text-align: right;\n",
              "    }\n",
              "</style>\n",
              "<table border=\"1\" class=\"dataframe\">\n",
              "  <thead>\n",
              "    <tr style=\"text-align: right;\">\n",
              "      <th></th>\n",
              "      <th>source</th>\n",
              "      <th>Degree_Severe</th>\n",
              "      <th>any_Underlying</th>\n",
              "      <th>any_Symptoms</th>\n",
              "    </tr>\n",
              "  </thead>\n",
              "  <tbody>\n",
              "    <tr>\n",
              "      <th>0</th>\n",
              "      <td>online</td>\n",
              "      <td>False</td>\n",
              "      <td>False</td>\n",
              "      <td>True</td>\n",
              "    </tr>\n",
              "  </tbody>\n",
              "</table>\n",
              "</div>\n",
              "      <button class=\"colab-df-convert\" onclick=\"convertToInteractive('df-89e46fb2-75fc-4573-86d1-dd44358d62ba')\"\n",
              "              title=\"Convert this dataframe to an interactive table.\"\n",
              "              style=\"display:none;\">\n",
              "        \n",
              "  <svg xmlns=\"http://www.w3.org/2000/svg\" height=\"24px\"viewBox=\"0 0 24 24\"\n",
              "       width=\"24px\">\n",
              "    <path d=\"M0 0h24v24H0V0z\" fill=\"none\"/>\n",
              "    <path d=\"M18.56 5.44l.94 2.06.94-2.06 2.06-.94-2.06-.94-.94-2.06-.94 2.06-2.06.94zm-11 1L8.5 8.5l.94-2.06 2.06-.94-2.06-.94L8.5 2.5l-.94 2.06-2.06.94zm10 10l.94 2.06.94-2.06 2.06-.94-2.06-.94-.94-2.06-.94 2.06-2.06.94z\"/><path d=\"M17.41 7.96l-1.37-1.37c-.4-.4-.92-.59-1.43-.59-.52 0-1.04.2-1.43.59L10.3 9.45l-7.72 7.72c-.78.78-.78 2.05 0 2.83L4 21.41c.39.39.9.59 1.41.59.51 0 1.02-.2 1.41-.59l7.78-7.78 2.81-2.81c.8-.78.8-2.07 0-2.86zM5.41 20L4 18.59l7.72-7.72 1.47 1.35L5.41 20z\"/>\n",
              "  </svg>\n",
              "      </button>\n",
              "      \n",
              "  <style>\n",
              "    .colab-df-container {\n",
              "      display:flex;\n",
              "      flex-wrap:wrap;\n",
              "      gap: 12px;\n",
              "    }\n",
              "\n",
              "    .colab-df-convert {\n",
              "      background-color: #E8F0FE;\n",
              "      border: none;\n",
              "      border-radius: 50%;\n",
              "      cursor: pointer;\n",
              "      display: none;\n",
              "      fill: #1967D2;\n",
              "      height: 32px;\n",
              "      padding: 0 0 0 0;\n",
              "      width: 32px;\n",
              "    }\n",
              "\n",
              "    .colab-df-convert:hover {\n",
              "      background-color: #E2EBFA;\n",
              "      box-shadow: 0px 1px 2px rgba(60, 64, 67, 0.3), 0px 1px 3px 1px rgba(60, 64, 67, 0.15);\n",
              "      fill: #174EA6;\n",
              "    }\n",
              "\n",
              "    [theme=dark] .colab-df-convert {\n",
              "      background-color: #3B4455;\n",
              "      fill: #D2E3FC;\n",
              "    }\n",
              "\n",
              "    [theme=dark] .colab-df-convert:hover {\n",
              "      background-color: #434B5C;\n",
              "      box-shadow: 0px 1px 3px 1px rgba(0, 0, 0, 0.15);\n",
              "      filter: drop-shadow(0px 1px 2px rgba(0, 0, 0, 0.3));\n",
              "      fill: #FFFFFF;\n",
              "    }\n",
              "  </style>\n",
              "\n",
              "      <script>\n",
              "        const buttonEl =\n",
              "          document.querySelector('#df-89e46fb2-75fc-4573-86d1-dd44358d62ba button.colab-df-convert');\n",
              "        buttonEl.style.display =\n",
              "          google.colab.kernel.accessAllowed ? 'block' : 'none';\n",
              "\n",
              "        async function convertToInteractive(key) {\n",
              "          const element = document.querySelector('#df-89e46fb2-75fc-4573-86d1-dd44358d62ba');\n",
              "          const dataTable =\n",
              "            await google.colab.kernel.invokeFunction('convertToInteractive',\n",
              "                                                     [key], {});\n",
              "          if (!dataTable) return;\n",
              "\n",
              "          const docLinkHtml = 'Like what you see? Visit the ' +\n",
              "            '<a target=\"_blank\" href=https://colab.research.google.com/notebooks/data_table.ipynb>data table notebook</a>'\n",
              "            + ' to learn more about interactive tables.';\n",
              "          element.innerHTML = '';\n",
              "          dataTable['output_type'] = 'display_data';\n",
              "          await google.colab.output.renderOutput(dataTable, element);\n",
              "          const docLink = document.createElement('div');\n",
              "          docLink.innerHTML = docLinkHtml;\n",
              "          element.appendChild(docLink);\n",
              "        }\n",
              "      </script>\n",
              "    </div>\n",
              "  </div>\n",
              "  "
            ]
          },
          "metadata": {},
          "execution_count": 47
        }
      ]
    },
    {
      "cell_type": "code",
      "source": [
        "non_numeric['Degree_Severe'],_=pd.factorize(non_numeric['Degree_Severe'])"
      ],
      "metadata": {
        "id": "zJGasK8UF9r-"
      },
      "execution_count": null,
      "outputs": []
    },
    {
      "cell_type": "code",
      "source": [
        "source=pd.get_dummies(non_numeric['source'], prefix='source')\n",
        "any_Underlying=pd.get_dummies(non_numeric['any_Underlying'], prefix='any_Underlying')\n",
        "any_Symptoms=pd.get_dummies(non_numeric['any_Symptoms'], prefix='any_Symptoms')\n"
      ],
      "metadata": {
        "id": "WG4PxuwcRRet"
      },
      "execution_count": null,
      "outputs": []
    },
    {
      "cell_type": "code",
      "source": [
        "objects=pd.concat([source,any_Underlying,any_Symptoms,non_numeric['Degree_Severe']], axis=1)"
      ],
      "metadata": {
        "id": "9wP8chvCWknu"
      },
      "execution_count": null,
      "outputs": []
    },
    {
      "cell_type": "code",
      "source": [
        "objects.head()"
      ],
      "metadata": {
        "colab": {
          "base_uri": "https://localhost:8080/",
          "height": 270
        },
        "id": "WjR9lHNrSQ3r",
        "outputId": "aa1d8f1b-4b2c-4895-d02f-21399785912e"
      },
      "execution_count": null,
      "outputs": [
        {
          "output_type": "execute_result",
          "data": {
            "text/plain": [
              "   source_guizhou  source_guizhou_update  source_online  any_Underlying_False  \\\n",
              "0               0                      0              1                     1   \n",
              "1               0                      0              1                     1   \n",
              "2               0                      0              1                     1   \n",
              "3               0                      0              1                     0   \n",
              "4               0                      0              1                     1   \n",
              "\n",
              "   any_Underlying_True  any_Symptoms_False  any_Symptoms_True  Degree_Severe  \n",
              "0                    0                   0                  1              0  \n",
              "1                    0                   0                  1              0  \n",
              "2                    0                   0                  1              0  \n",
              "3                    1                   0                  1              1  \n",
              "4                    0                   0                  1              1  "
            ],
            "text/html": [
              "\n",
              "  <div id=\"df-f7506868-a75c-4f18-9e73-205297587601\">\n",
              "    <div class=\"colab-df-container\">\n",
              "      <div>\n",
              "<style scoped>\n",
              "    .dataframe tbody tr th:only-of-type {\n",
              "        vertical-align: middle;\n",
              "    }\n",
              "\n",
              "    .dataframe tbody tr th {\n",
              "        vertical-align: top;\n",
              "    }\n",
              "\n",
              "    .dataframe thead th {\n",
              "        text-align: right;\n",
              "    }\n",
              "</style>\n",
              "<table border=\"1\" class=\"dataframe\">\n",
              "  <thead>\n",
              "    <tr style=\"text-align: right;\">\n",
              "      <th></th>\n",
              "      <th>source_guizhou</th>\n",
              "      <th>source_guizhou_update</th>\n",
              "      <th>source_online</th>\n",
              "      <th>any_Underlying_False</th>\n",
              "      <th>any_Underlying_True</th>\n",
              "      <th>any_Symptoms_False</th>\n",
              "      <th>any_Symptoms_True</th>\n",
              "      <th>Degree_Severe</th>\n",
              "    </tr>\n",
              "  </thead>\n",
              "  <tbody>\n",
              "    <tr>\n",
              "      <th>0</th>\n",
              "      <td>0</td>\n",
              "      <td>0</td>\n",
              "      <td>1</td>\n",
              "      <td>1</td>\n",
              "      <td>0</td>\n",
              "      <td>0</td>\n",
              "      <td>1</td>\n",
              "      <td>0</td>\n",
              "    </tr>\n",
              "    <tr>\n",
              "      <th>1</th>\n",
              "      <td>0</td>\n",
              "      <td>0</td>\n",
              "      <td>1</td>\n",
              "      <td>1</td>\n",
              "      <td>0</td>\n",
              "      <td>0</td>\n",
              "      <td>1</td>\n",
              "      <td>0</td>\n",
              "    </tr>\n",
              "    <tr>\n",
              "      <th>2</th>\n",
              "      <td>0</td>\n",
              "      <td>0</td>\n",
              "      <td>1</td>\n",
              "      <td>1</td>\n",
              "      <td>0</td>\n",
              "      <td>0</td>\n",
              "      <td>1</td>\n",
              "      <td>0</td>\n",
              "    </tr>\n",
              "    <tr>\n",
              "      <th>3</th>\n",
              "      <td>0</td>\n",
              "      <td>0</td>\n",
              "      <td>1</td>\n",
              "      <td>0</td>\n",
              "      <td>1</td>\n",
              "      <td>0</td>\n",
              "      <td>1</td>\n",
              "      <td>1</td>\n",
              "    </tr>\n",
              "    <tr>\n",
              "      <th>4</th>\n",
              "      <td>0</td>\n",
              "      <td>0</td>\n",
              "      <td>1</td>\n",
              "      <td>1</td>\n",
              "      <td>0</td>\n",
              "      <td>0</td>\n",
              "      <td>1</td>\n",
              "      <td>1</td>\n",
              "    </tr>\n",
              "  </tbody>\n",
              "</table>\n",
              "</div>\n",
              "      <button class=\"colab-df-convert\" onclick=\"convertToInteractive('df-f7506868-a75c-4f18-9e73-205297587601')\"\n",
              "              title=\"Convert this dataframe to an interactive table.\"\n",
              "              style=\"display:none;\">\n",
              "        \n",
              "  <svg xmlns=\"http://www.w3.org/2000/svg\" height=\"24px\"viewBox=\"0 0 24 24\"\n",
              "       width=\"24px\">\n",
              "    <path d=\"M0 0h24v24H0V0z\" fill=\"none\"/>\n",
              "    <path d=\"M18.56 5.44l.94 2.06.94-2.06 2.06-.94-2.06-.94-.94-2.06-.94 2.06-2.06.94zm-11 1L8.5 8.5l.94-2.06 2.06-.94-2.06-.94L8.5 2.5l-.94 2.06-2.06.94zm10 10l.94 2.06.94-2.06 2.06-.94-2.06-.94-.94-2.06-.94 2.06-2.06.94z\"/><path d=\"M17.41 7.96l-1.37-1.37c-.4-.4-.92-.59-1.43-.59-.52 0-1.04.2-1.43.59L10.3 9.45l-7.72 7.72c-.78.78-.78 2.05 0 2.83L4 21.41c.39.39.9.59 1.41.59.51 0 1.02-.2 1.41-.59l7.78-7.78 2.81-2.81c.8-.78.8-2.07 0-2.86zM5.41 20L4 18.59l7.72-7.72 1.47 1.35L5.41 20z\"/>\n",
              "  </svg>\n",
              "      </button>\n",
              "      \n",
              "  <style>\n",
              "    .colab-df-container {\n",
              "      display:flex;\n",
              "      flex-wrap:wrap;\n",
              "      gap: 12px;\n",
              "    }\n",
              "\n",
              "    .colab-df-convert {\n",
              "      background-color: #E8F0FE;\n",
              "      border: none;\n",
              "      border-radius: 50%;\n",
              "      cursor: pointer;\n",
              "      display: none;\n",
              "      fill: #1967D2;\n",
              "      height: 32px;\n",
              "      padding: 0 0 0 0;\n",
              "      width: 32px;\n",
              "    }\n",
              "\n",
              "    .colab-df-convert:hover {\n",
              "      background-color: #E2EBFA;\n",
              "      box-shadow: 0px 1px 2px rgba(60, 64, 67, 0.3), 0px 1px 3px 1px rgba(60, 64, 67, 0.15);\n",
              "      fill: #174EA6;\n",
              "    }\n",
              "\n",
              "    [theme=dark] .colab-df-convert {\n",
              "      background-color: #3B4455;\n",
              "      fill: #D2E3FC;\n",
              "    }\n",
              "\n",
              "    [theme=dark] .colab-df-convert:hover {\n",
              "      background-color: #434B5C;\n",
              "      box-shadow: 0px 1px 3px 1px rgba(0, 0, 0, 0.15);\n",
              "      filter: drop-shadow(0px 1px 2px rgba(0, 0, 0, 0.3));\n",
              "      fill: #FFFFFF;\n",
              "    }\n",
              "  </style>\n",
              "\n",
              "      <script>\n",
              "        const buttonEl =\n",
              "          document.querySelector('#df-f7506868-a75c-4f18-9e73-205297587601 button.colab-df-convert');\n",
              "        buttonEl.style.display =\n",
              "          google.colab.kernel.accessAllowed ? 'block' : 'none';\n",
              "\n",
              "        async function convertToInteractive(key) {\n",
              "          const element = document.querySelector('#df-f7506868-a75c-4f18-9e73-205297587601');\n",
              "          const dataTable =\n",
              "            await google.colab.kernel.invokeFunction('convertToInteractive',\n",
              "                                                     [key], {});\n",
              "          if (!dataTable) return;\n",
              "\n",
              "          const docLinkHtml = 'Like what you see? Visit the ' +\n",
              "            '<a target=\"_blank\" href=https://colab.research.google.com/notebooks/data_table.ipynb>data table notebook</a>'\n",
              "            + ' to learn more about interactive tables.';\n",
              "          element.innerHTML = '';\n",
              "          dataTable['output_type'] = 'display_data';\n",
              "          await google.colab.output.renderOutput(dataTable, element);\n",
              "          const docLink = document.createElement('div');\n",
              "          docLink.innerHTML = docLinkHtml;\n",
              "          element.appendChild(docLink);\n",
              "        }\n",
              "      </script>\n",
              "    </div>\n",
              "  </div>\n",
              "  "
            ]
          },
          "metadata": {},
          "execution_count": 51
        }
      ]
    },
    {
      "cell_type": "code",
      "source": [
        "objects.shape"
      ],
      "metadata": {
        "colab": {
          "base_uri": "https://localhost:8080/"
        },
        "id": "K-WUB-ujgdhw",
        "outputId": "5a338912-a73a-4b36-d2ff-373b83f23677"
      },
      "execution_count": null,
      "outputs": [
        {
          "output_type": "execute_result",
          "data": {
            "text/plain": [
              "(601, 8)"
            ]
          },
          "metadata": {},
          "execution_count": 52
        }
      ]
    },
    {
      "cell_type": "code",
      "source": [
        "from sklearn.preprocessing import StandardScaler\n"
      ],
      "metadata": {
        "id": "DBgiho-gnr_P"
      },
      "execution_count": null,
      "outputs": []
    },
    {
      "cell_type": "markdown",
      "source": [
        "## Joining and Scaling Data Imputed by The Regressor model"
      ],
      "metadata": {
        "id": "ayRa4lGlLgjf"
      }
    },
    {
      "cell_type": "code",
      "source": [
        "regressor_scaled=StandardScaler().fit_transform(regressor_imputed_df)"
      ],
      "metadata": {
        "id": "Y1_NgaBwMBJt"
      },
      "execution_count": null,
      "outputs": []
    },
    {
      "cell_type": "code",
      "source": [
        "regressor_scaled.shape"
      ],
      "metadata": {
        "colab": {
          "base_uri": "https://localhost:8080/"
        },
        "id": "_yON5vHXhRS7",
        "outputId": "e309e4e6-5036-4f75-d1af-e1e01e971335"
      },
      "execution_count": null,
      "outputs": [
        {
          "output_type": "execute_result",
          "data": {
            "text/plain": [
              "(601, 36)"
            ]
          },
          "metadata": {},
          "execution_count": 55
        }
      ]
    },
    {
      "cell_type": "code",
      "source": [
        "numeric_data.shape"
      ],
      "metadata": {
        "colab": {
          "base_uri": "https://localhost:8080/"
        },
        "id": "YnqKBtNghTLi",
        "outputId": "83842807-a535-45e5-b2fb-0a5574b33b39"
      },
      "execution_count": null,
      "outputs": [
        {
          "output_type": "execute_result",
          "data": {
            "text/plain": [
              "(601, 36)"
            ]
          },
          "metadata": {},
          "execution_count": 56
        }
      ]
    },
    {
      "cell_type": "code",
      "source": [
        "regressor_imputed_df=pd.DataFrame(regressor_scaled, columns=numeric_data.columns)"
      ],
      "metadata": {
        "id": "0WO651FQMZ4y"
      },
      "execution_count": null,
      "outputs": []
    },
    {
      "cell_type": "code",
      "source": [
        "data=pd.concat([regressor_imputed_df,objects], axis=1)\n"
      ],
      "metadata": {
        "id": "ijTSgVs5MOSr"
      },
      "execution_count": null,
      "outputs": []
    },
    {
      "cell_type": "code",
      "source": [
        "corr_matrix = data.corr(method='pearson')\n"
      ],
      "metadata": {
        "id": "Svdu9rcYiUXy"
      },
      "execution_count": null,
      "outputs": []
    },
    {
      "cell_type": "code",
      "source": [
        "corr_matrix[\"Degree_Severe\"].sort_values(ascending=False).head(20)"
      ],
      "metadata": {
        "colab": {
          "base_uri": "https://localhost:8080/"
        },
        "id": "g7SrClZbiVmB",
        "outputId": "07134c72-d584-4225-83a6-873f64652cc1"
      },
      "execution_count": null,
      "outputs": [
        {
          "output_type": "execute_result",
          "data": {
            "text/plain": [
              "Degree_Severe                                    1.000000\n",
              "non_severe_to_severe                             0.500605\n",
              "Laboratory_test_CRP_(mg/L)                       0.345249\n",
              "Age                                              0.297767\n",
              "Laboratory_test_LDH_(U/L)                        0.258064\n",
              "Laboratory_test_AST_(U/L)                        0.247231\n",
              "source_guizhou                                   0.212176\n",
              "Symptoms_Dyspnea                                 0.208016\n",
              "Symptoms_Fatigue                                 0.197952\n",
              "CK                                               0.185188\n",
              "Symptoms_Cough                                   0.154791\n",
              "any_Underlying_True                              0.153503\n",
              "Laboratory_test_ALT_(U/L)                        0.150271\n",
              "Laboratory_test_N                                0.149769\n",
              "Symptoms_Nausea/Emesis                           0.124355\n",
              "Laboratory_test_CK_MB_(ng/ml)                    0.114439\n",
              "Underlying_comorbidities_Others                  0.104255\n",
              "Underlying_comorbidities_Chronic_Lung_disease    0.086209\n",
              "Symptoms_Myalgia                                 0.085149\n",
              "Underlying_comorbidities_Tumor                   0.082708\n",
              "Name: Degree_Severe, dtype: float64"
            ]
          },
          "metadata": {},
          "execution_count": 60
        }
      ]
    },
    {
      "cell_type": "code",
      "source": [
        "corr_matrix[\"Degree_Severe\"].sort_values(ascending=False).tail(20)"
      ],
      "metadata": {
        "colab": {
          "base_uri": "https://localhost:8080/"
        },
        "id": "05Bf47fgiiLz",
        "outputId": "13ec89de-e5d4-4b47-db0b-6b238f881cb8"
      },
      "execution_count": null,
      "outputs": [
        {
          "output_type": "execute_result",
          "data": {
            "text/plain": [
              "Sex_M                                                       0.061898\n",
              "Laboratory_test_D_dimer_(ug/ml)                             0.058325\n",
              "Underlying_comorbidities_CVD                                0.056617\n",
              "source_online                                               0.056188\n",
              "Symptoms_Dizziness/Headache                                 0.056035\n",
              "Symptoms_Fever                                              0.048528\n",
              "Underlying_comorbidities_Renal_disease                      0.042148\n",
              "Underlying_comorbidities_Hypertension                       0.033504\n",
              "Interval                                                    0.015317\n",
              "Underlying_comorbidities_Cerebrovascular/Nervous_Disease    0.003302\n",
              "Laboratory_test_TB_(umol/L)                                -0.004052\n",
              "Underlying_comorbidities_Immune_disorder                   -0.005638\n",
              "Laboratory_test_WBC                                        -0.014256\n",
              "Sex_F                                                      -0.067645\n",
              "any_Symptoms_True                                          -0.075436\n",
              "Laboratory_test_L                                          -0.124764\n",
              "any_Underlying_False                                       -0.153503\n",
              "Laboratory_test_ALB_(g/L)                                  -0.182289\n",
              "source_guizhou_update                                      -0.197569\n",
              "Degree_Nonsevere                                           -0.991270\n",
              "Name: Degree_Severe, dtype: float64"
            ]
          },
          "metadata": {},
          "execution_count": 61
        }
      ]
    },
    {
      "cell_type": "code",
      "source": [
        "data=data.drop('Degree_Nonsevere',axis=1)"
      ],
      "metadata": {
        "id": "SHMJwjpsivPQ"
      },
      "execution_count": null,
      "outputs": []
    },
    {
      "cell_type": "code",
      "source": [
        "data.shape"
      ],
      "metadata": {
        "colab": {
          "base_uri": "https://localhost:8080/"
        },
        "id": "XGxfV7GQi2zP",
        "outputId": "318918a2-0ff2-4582-9c46-7735d384d2d8"
      },
      "execution_count": null,
      "outputs": [
        {
          "output_type": "execute_result",
          "data": {
            "text/plain": [
              "(601, 43)"
            ]
          },
          "metadata": {},
          "execution_count": 63
        }
      ]
    },
    {
      "cell_type": "code",
      "source": [
        "y=data['Degree_Severe']"
      ],
      "metadata": {
        "id": "stI469TJbYow"
      },
      "execution_count": null,
      "outputs": []
    },
    {
      "cell_type": "code",
      "source": [
        "X=data.iloc[:,:-1]"
      ],
      "metadata": {
        "id": "KhLa2VqkH_vJ"
      },
      "execution_count": null,
      "outputs": []
    },
    {
      "cell_type": "markdown",
      "source": [
        "## Reducing Dimensionality of X Imputed by Regressor Model"
      ],
      "metadata": {
        "id": "SL1SSI82IL5X"
      }
    },
    {
      "cell_type": "code",
      "source": [
        "from sklearn.decomposition import PCA\n",
        "from sklearn.model_selection import GridSearchCV\n",
        "from sklearn.model_selection import cross_val_score\n",
        "from sklearn.model_selection import KFold\n",
        "from sklearn.svm import SVC\n"
      ],
      "metadata": {
        "id": "PzYSEzmoIHnV"
      },
      "execution_count": null,
      "outputs": []
    },
    {
      "cell_type": "code",
      "source": [
        "X.shape"
      ],
      "metadata": {
        "id": "On-xJ6QfIaeU",
        "colab": {
          "base_uri": "https://localhost:8080/"
        },
        "outputId": "c6fc9188-aa69-4cb7-c5cb-96117bb39f28"
      },
      "execution_count": null,
      "outputs": [
        {
          "output_type": "execute_result",
          "data": {
            "text/plain": [
              "(601, 42)"
            ]
          },
          "metadata": {},
          "execution_count": 67
        }
      ]
    },
    {
      "cell_type": "markdown",
      "source": [
        "The following code computes PCA without reducing dimensionality, then computes the minimum\n",
        "number of dimensions required to preserve 95% of the training set’s variance:"
      ],
      "metadata": {
        "id": "ByQUll54P3us"
      }
    },
    {
      "cell_type": "code",
      "source": [
        "pca = PCA()\n",
        "pca.fit(X)\n",
        "cumsum = np.cumsum(pca.explained_variance_ratio_)\n",
        "d = np.argmax(cumsum >= 0.95) + 1"
      ],
      "metadata": {
        "id": "9--L3CvlIPeX"
      },
      "execution_count": null,
      "outputs": []
    },
    {
      "cell_type": "code",
      "source": [
        "pca = PCA(n_components=0.95)\n",
        "X_reduced = pca.fit_transform(X)"
      ],
      "metadata": {
        "id": "pcnlV1OHIWCX"
      },
      "execution_count": null,
      "outputs": []
    },
    {
      "cell_type": "code",
      "source": [
        "X_reduced.shape"
      ],
      "metadata": {
        "colab": {
          "base_uri": "https://localhost:8080/"
        },
        "id": "8AolPZgwKV-b",
        "outputId": "ad409610-dfd8-4f8b-9de9-d58d4f3fab1a"
      },
      "execution_count": null,
      "outputs": [
        {
          "output_type": "execute_result",
          "data": {
            "text/plain": [
              "(601, 31)"
            ]
          },
          "metadata": {},
          "execution_count": 70
        }
      ]
    },
    {
      "cell_type": "markdown",
      "source": [
        "Features selected by PCA from the initial number of features"
      ],
      "metadata": {
        "id": "_rWpQh2OxToH"
      }
    },
    {
      "cell_type": "code",
      "source": [
        "# number of components\n",
        "n_pcs= pca.components_.shape[0]\n",
        "\n",
        "# get the index of the most important feature on EACH component\n",
        "# LIST COMPREHENSION HERE\n",
        "most_important = [np.abs(pca.components_[i]).argmax() for i in range(n_pcs)]\n",
        "\n",
        "initial_feature_names = X.columns\n",
        "# get the names\n",
        "most_important_names = [initial_feature_names[most_important[i]] for i in range(n_pcs)]\n",
        "\n",
        "# LIST COMPREHENSION HERE AGAIN\n",
        "dic = {'PC{}'.format(i): most_important_names[i] for i in range(n_pcs)}\n",
        "\n",
        "# build the dataframe\n",
        "df = pd.DataFrame(dic.items())"
      ],
      "metadata": {
        "id": "3Je026vQK9rC"
      },
      "execution_count": null,
      "outputs": []
    },
    {
      "cell_type": "code",
      "source": [
        "selected_features=list(df.iloc[:,1])"
      ],
      "metadata": {
        "id": "6D0xBu9Bxdxs"
      },
      "execution_count": null,
      "outputs": []
    },
    {
      "cell_type": "code",
      "source": [
        "pca.n_components_\n"
      ],
      "metadata": {
        "colab": {
          "base_uri": "https://localhost:8080/"
        },
        "id": "yFdqxRIVOQMp",
        "outputId": "da85a7c7-de4a-4025-e2a0-bb53a6046371"
      },
      "execution_count": null,
      "outputs": [
        {
          "output_type": "execute_result",
          "data": {
            "text/plain": [
              "31"
            ]
          },
          "metadata": {},
          "execution_count": 73
        }
      ]
    },
    {
      "cell_type": "code",
      "source": [
        "selected_features"
      ],
      "metadata": {
        "colab": {
          "base_uri": "https://localhost:8080/"
        },
        "id": "Ru4IB0NOAxcI",
        "outputId": "16c8d2c9-649d-4d46-cda4-4915414c7889"
      },
      "execution_count": null,
      "outputs": [
        {
          "output_type": "execute_result",
          "data": {
            "text/plain": [
              "['Laboratory_test_AST_(U/L)',\n",
              " 'Sex_M',\n",
              " 'Underlying_comorbidities_Renal_disease',\n",
              " 'Symptoms_Fever',\n",
              " 'Underlying_comorbidities_Renal_disease',\n",
              " 'Laboratory_test_N',\n",
              " 'Underlying_comorbidities_Digestive_Disease',\n",
              " 'Symptoms_Cough',\n",
              " 'Symptoms_Nausea/Emesis',\n",
              " 'Symptoms_Myalgia',\n",
              " 'Underlying_comorbidities_Cerebrovascular/Nervous_Disease',\n",
              " 'Symptoms_Fatigue',\n",
              " 'Symptoms_Dizziness/Headache',\n",
              " 'Laboratory_test_D_dimer_(ug/ml)',\n",
              " 'Interval',\n",
              " 'Laboratory_test_WBC',\n",
              " 'Laboratory_test_WBC',\n",
              " 'Symptoms_Dizziness/Headache',\n",
              " 'Underlying_comorbidities_Tumor',\n",
              " 'Laboratory_test_ALB_(g/L)',\n",
              " 'Laboratory_test_L',\n",
              " 'Underlying_comorbidities_Others',\n",
              " 'Symptoms_Fatigue',\n",
              " 'Underlying_comorbidities_CVD',\n",
              " 'Symptoms_Fatigue',\n",
              " 'Laboratory_test_SCr_(umol/L)',\n",
              " 'Age',\n",
              " 'Laboratory_test_TB_(umol/L)',\n",
              " 'CK',\n",
              " 'Underlying_comorbidities_Hypertension',\n",
              " 'Laboratory_test_CRP_(mg/L)']"
            ]
          },
          "metadata": {},
          "execution_count": 74
        }
      ]
    },
    {
      "cell_type": "markdown",
      "source": [
        "Training Models with PCA X Imputed by Regressor Model and without Cross Validation"
      ],
      "metadata": {
        "id": "t6Y1ksvEQhJj"
      }
    },
    {
      "cell_type": "code",
      "source": [
        "from keras.models import Sequential\n",
        "from keras.layers import Dense\n",
        "from keras.utils import np_utils\n"
      ],
      "metadata": {
        "id": "4HlptCReQEgC"
      },
      "execution_count": null,
      "outputs": []
    },
    {
      "cell_type": "code",
      "source": [
        "from sklearn.model_selection import train_test_split\n",
        "import xgboost as xgb\n",
        "from sklearn.metrics import classification_report\n"
      ],
      "metadata": {
        "id": "aSSP-snVQZdO"
      },
      "execution_count": null,
      "outputs": []
    },
    {
      "cell_type": "code",
      "source": [
        "Xtrain,Xtest,Ytrain,Ytest=train_test_split(X_reduced,y,random_state=42,stratify=y)"
      ],
      "metadata": {
        "id": "_WBf_zc8Qu71"
      },
      "execution_count": null,
      "outputs": []
    },
    {
      "cell_type": "code",
      "source": [
        "batch_size = 128\n",
        "num_classes = 1\n",
        "epochs = 50"
      ],
      "metadata": {
        "id": "DDHwisY4Q80_"
      },
      "execution_count": null,
      "outputs": []
    },
    {
      "cell_type": "code",
      "source": [
        "# model = Sequential()\n",
        "# model.add(Dense(33, activation='relu', input_dim=(31)))\n",
        "# model.add(Dense(35, activation='relu'))\n",
        "# # model.add(Dense(128, activation='relu'))\n",
        "# # model.add(Dense(64, activation='relu'))\n",
        "# model.add(Dense(num_classes, activation='sigmoid'))"
      ],
      "metadata": {
        "id": "WdWM_BCbRCer"
      },
      "execution_count": null,
      "outputs": []
    },
    {
      "cell_type": "code",
      "source": [
        "# model.summary()\n"
      ],
      "metadata": {
        "id": "gBAbNoY1ROBU"
      },
      "execution_count": null,
      "outputs": []
    },
    {
      "cell_type": "code",
      "source": [
        "# model.compile(loss='binary_crossentropy',\n",
        "#               optimizer='RMSprop',\n",
        "#               metrics=['accuracy'])\n",
        "\n"
      ],
      "metadata": {
        "id": "ozyO3ZaGRQ4w"
      },
      "execution_count": null,
      "outputs": []
    },
    {
      "cell_type": "code",
      "source": [
        "# # history = model.fit(Xtrain, Ytrain,batch_size=batch_size,epochs=epochs,verbose=0,\n",
        "#                     validation_data=(Xtest, Ytest))"
      ],
      "metadata": {
        "id": "_ulvFdaIRz6u"
      },
      "execution_count": null,
      "outputs": []
    },
    {
      "cell_type": "code",
      "source": [
        "# loss,accuracy=model.evaluate(Xtest,Ytest)\n",
        "# print(\"Accuracy: %.2f\"%(accuracy*100),\"%\")"
      ],
      "metadata": {
        "id": "gX8Iw2S3RkGg"
      },
      "execution_count": null,
      "outputs": []
    },
    {
      "cell_type": "code",
      "source": [
        "# y_pred=np.round(model.predict(Xtest)).ravel()\n",
        "# print(\"\\nCR by library method=\\n\",\n",
        "#           classification_report(Ytest, y_pred))"
      ],
      "metadata": {
        "id": "6aYWfC2VOx5V"
      },
      "execution_count": null,
      "outputs": []
    },
    {
      "cell_type": "code",
      "source": [
        "import matplotlib.pyplot as plt\n",
        "import pickle\n",
        "from sklearn import metrics\n"
      ],
      "metadata": {
        "id": "S0jlA75iJpd2"
      },
      "execution_count": null,
      "outputs": []
    },
    {
      "cell_type": "code",
      "source": [
        "# filename = '/content/drive/My Drive/Colab Notebooks/Explainable-AI/Paper-2/models/1-exp/Regressor/MLP/PCA_Without_Cross_Validation/MLP_PCA_without_Cross-Validation.sav'\n",
        "# pickle.dump(model, open(filename, 'wb')) \n",
        "# MLP_Regressor_imputed_PCA_Non_Cross_accuracy=float(classification_report(Ytest, y_pred).split()[15])"
      ],
      "metadata": {
        "id": "5fW_WsDZPO8m"
      },
      "execution_count": null,
      "outputs": []
    },
    {
      "cell_type": "code",
      "source": [
        "loaded_model = pickle.load(open('/content/drive/My Drive/Colab Notebooks/Explainable-AI/Paper-2/models/1-exp/Regressor/MLP/PCA_Without_Cross_Validation/MLP_PCA_without_Cross-Validation.sav', 'rb'))\n",
        "y_pred = loaded_model.predict(Xtest)\n",
        "fpr_mlp, tpr_mlp, _ = metrics.roc_curve(Ytest, y_pred)\n",
        "auc_mlp = round(metrics.roc_auc_score(Ytest, y_pred), 4)"
      ],
      "metadata": {
        "id": "RZEfdFsEPSCn"
      },
      "execution_count": null,
      "outputs": []
    },
    {
      "cell_type": "code",
      "source": [
        "y_pred=np.round(loaded_model.predict(Xtest)).ravel()\n",
        "print(\"\\nCR by library method=\\n\",\n",
        "          classification_report(Ytest, y_pred))"
      ],
      "metadata": {
        "colab": {
          "base_uri": "https://localhost:8080/"
        },
        "id": "888-yXToMBWT",
        "outputId": "7decd3ed-6863-4d6d-a5eb-737c0ec1f17e"
      },
      "execution_count": null,
      "outputs": [
        {
          "output_type": "stream",
          "name": "stdout",
          "text": [
            "\n",
            "CR by library method=\n",
            "               precision    recall  f1-score   support\n",
            "\n",
            "           0       0.85      0.97      0.91       113\n",
            "           1       0.86      0.50      0.63        38\n",
            "\n",
            "    accuracy                           0.85       151\n",
            "   macro avg       0.86      0.74      0.77       151\n",
            "weighted avg       0.86      0.85      0.84       151\n",
            "\n"
          ]
        }
      ]
    },
    {
      "cell_type": "code",
      "source": [
        "from sklearn.metrics import confusion_matrix\n",
        "confusion_matrix(Ytest, y_pred, labels=[0,1])"
      ],
      "metadata": {
        "colab": {
          "base_uri": "https://localhost:8080/"
        },
        "id": "niFdQRdQMGfN",
        "outputId": "675a2be8-060e-480c-988a-1e76be0efd2e"
      },
      "execution_count": null,
      "outputs": [
        {
          "output_type": "execute_result",
          "data": {
            "text/plain": [
              "array([[110,   3],\n",
              "       [ 19,  19]])"
            ]
          },
          "metadata": {},
          "execution_count": 90
        }
      ]
    },
    {
      "cell_type": "code",
      "source": [
        "MLP_Regressor_imputed_PCA_Non_Cross_accuracy=float(classification_report(Ytest, y_pred).split()[15])\n",
        "MLP_Regressor_imputed_PCA_Non_Cross_accuracy"
      ],
      "metadata": {
        "colab": {
          "base_uri": "https://localhost:8080/"
        },
        "id": "yhr3LgQ9Mgjy",
        "outputId": "14da0f22-2b03-4641-c8d1-018c08a17c8a"
      },
      "execution_count": null,
      "outputs": [
        {
          "output_type": "execute_result",
          "data": {
            "text/plain": [
              "0.85"
            ]
          },
          "metadata": {},
          "execution_count": 91
        }
      ]
    },
    {
      "cell_type": "code",
      "source": [
        "import xgboost as xgb\n"
      ],
      "metadata": {
        "id": "2l3xyyfYScCD"
      },
      "execution_count": null,
      "outputs": []
    },
    {
      "cell_type": "code",
      "source": [
        "# model=xgb.XGBClassifier(learning_rate =0.1,\n",
        "#  n_estimators=1000,\n",
        "#  max_depth=5,\n",
        "#  min_child_weight=1,\n",
        "#  gamma=0,\n",
        "#  subsample=0.8,\n",
        "#  colsample_bytree=0.8,\n",
        "#  objective= 'binary:logistic',\n",
        "#  nthread=4,\n",
        "#  scale_pos_weight=1,\n",
        "#  seed=27)\n"
      ],
      "metadata": {
        "id": "_T0OXQIW_ZV6"
      },
      "execution_count": null,
      "outputs": []
    },
    {
      "cell_type": "code",
      "source": [
        "# model.fit(Xtrain, Ytrain)"
      ],
      "metadata": {
        "id": "bG7S2Oqs_u5i"
      },
      "execution_count": null,
      "outputs": []
    },
    {
      "cell_type": "code",
      "source": [
        "# y_pred=np.round(model.predict(Xtest)).ravel()\n",
        "# print(\"\\nCR by library method=\\n\",\n",
        "#           classification_report(Ytest, y_pred))"
      ],
      "metadata": {
        "id": "qlrORiUpRKsn"
      },
      "execution_count": null,
      "outputs": []
    },
    {
      "cell_type": "code",
      "source": [
        "from sklearn.metrics import accuracy_score"
      ],
      "metadata": {
        "id": "iEgprM_eByxh"
      },
      "execution_count": null,
      "outputs": []
    },
    {
      "cell_type": "code",
      "source": [
        "# y_pred=model.predict(Xtest)\n",
        "# print(\"The accuracy is %.2f\"%(accuracy_score(y_pred,Ytest)*100),\"%\")"
      ],
      "metadata": {
        "id": "-LBXqtOBAABI"
      },
      "execution_count": null,
      "outputs": []
    },
    {
      "cell_type": "code",
      "source": [
        "# filename = '/content/drive/My Drive/Colab Notebooks/Explainable-AI/Paper-2/models/1-exp/Regressor/XGB/PCA_Without_Cross_Validation/XGB_PCA_without_Cross-Validation.sav'\n",
        "# pickle.dump(model, open(filename, 'wb')) "
      ],
      "metadata": {
        "id": "zwsXMNOcM46T"
      },
      "execution_count": null,
      "outputs": []
    },
    {
      "cell_type": "code",
      "source": [
        "loaded_model = pickle.load(open('/content/drive/My Drive/Colab Notebooks/Explainable-AI/Paper-2/models/1-exp/Regressor/XGB/PCA_Without_Cross_Validation/XGB_PCA_without_Cross-Validation.sav', 'rb'))\n",
        "y_pred = loaded_model.predict(Xtest)\n",
        "fpr_xgb, tpr_xgb, _ = metrics.roc_curve(Ytest, y_pred)\n",
        "auc_xgb = round(metrics.roc_auc_score(Ytest, y_pred), 4)\n"
      ],
      "metadata": {
        "id": "ie6N-4DfNXX5"
      },
      "execution_count": null,
      "outputs": []
    },
    {
      "cell_type": "code",
      "source": [
        "XGB_Regressor_imputed_PCA_Non_Cross_accuracy=float(classification_report(Ytest, y_pred).split()[15])\n",
        "XGB_Regressor_imputed_PCA_Non_Cross_accuracy"
      ],
      "metadata": {
        "colab": {
          "base_uri": "https://localhost:8080/"
        },
        "id": "tgELu-33NVea",
        "outputId": "173b87ee-fa63-4ca3-9e33-0baf4dbe145c"
      },
      "execution_count": null,
      "outputs": [
        {
          "output_type": "execute_result",
          "data": {
            "text/plain": [
              "0.83"
            ]
          },
          "metadata": {},
          "execution_count": 100
        }
      ]
    },
    {
      "cell_type": "code",
      "source": [
        "y_pred=np.round(loaded_model.predict(Xtest)).ravel()\n",
        "print(\"\\nCR by library method=\\n\",\n",
        "          classification_report(Ytest, y_pred))"
      ],
      "metadata": {
        "colab": {
          "base_uri": "https://localhost:8080/"
        },
        "id": "jztesrggN7ZN",
        "outputId": "2bfc44b0-41db-4ce1-80bf-9fc7e2372c3a"
      },
      "execution_count": null,
      "outputs": [
        {
          "output_type": "stream",
          "name": "stdout",
          "text": [
            "\n",
            "CR by library method=\n",
            "               precision    recall  f1-score   support\n",
            "\n",
            "           0       0.84      0.96      0.90       113\n",
            "           1       0.81      0.45      0.58        38\n",
            "\n",
            "    accuracy                           0.83       151\n",
            "   macro avg       0.82      0.71      0.74       151\n",
            "weighted avg       0.83      0.83      0.82       151\n",
            "\n"
          ]
        }
      ]
    },
    {
      "cell_type": "code",
      "source": [
        "# clf=SVC()\n",
        "# clf.fit(Xtrain,Ytrain)\n",
        "# y_pred=clf.predict(Xtest)\n",
        "# print(\"The accuracy is %.2f\"%(accuracy_score(y_pred,Ytest)*100),\"%\")"
      ],
      "metadata": {
        "id": "Q8YWCg3yOAaW"
      },
      "execution_count": null,
      "outputs": []
    },
    {
      "cell_type": "code",
      "source": [
        "# filename = '/content/drive/My Drive/Colab Notebooks/Explainable-AI/Paper-2/models/1-exp/Regressor/SVM/PCA_Without_Cross_Validation/SVM_PCA_without_Cross-Validation.sav'\n",
        "# pickle.dump(clf, open(filename, 'wb')) \n"
      ],
      "metadata": {
        "id": "UZrmP_5GOIfM"
      },
      "execution_count": null,
      "outputs": []
    },
    {
      "cell_type": "code",
      "source": [
        "loaded_model = pickle.load(open('/content/drive/My Drive/Colab Notebooks/Explainable-AI/Paper-2/models/1-exp/Regressor/SVM/PCA_Without_Cross_Validation/SVM_PCA_without_Cross-Validation.sav', 'rb'))\n",
        "y_pred = loaded_model.predict(Xtest)\n",
        "fpr_svc, tpr_svc, _ = metrics.roc_curve(Ytest, y_pred)\n",
        "auc_svc = round(metrics.roc_auc_score(Ytest, y_pred), 4)\n"
      ],
      "metadata": {
        "id": "4bhBXZfKOoRR"
      },
      "execution_count": null,
      "outputs": []
    },
    {
      "cell_type": "code",
      "source": [
        "y_pred=np.round(loaded_model.predict(Xtest)).ravel()\n",
        "print(\"\\nCR by library method=\\n\",\n",
        "          classification_report(Ytest, y_pred))"
      ],
      "metadata": {
        "colab": {
          "base_uri": "https://localhost:8080/"
        },
        "id": "qU8s9oNLRQyb",
        "outputId": "8013ff43-d1e3-4823-e54c-d48f58ad3c03"
      },
      "execution_count": null,
      "outputs": [
        {
          "output_type": "stream",
          "name": "stdout",
          "text": [
            "\n",
            "CR by library method=\n",
            "               precision    recall  f1-score   support\n",
            "\n",
            "           0       0.82      0.99      0.90       113\n",
            "           1       0.93      0.37      0.53        38\n",
            "\n",
            "    accuracy                           0.83       151\n",
            "   macro avg       0.88      0.68      0.71       151\n",
            "weighted avg       0.85      0.83      0.81       151\n",
            "\n"
          ]
        }
      ]
    },
    {
      "cell_type": "code",
      "source": [
        "SVC_Regressor_imputed_PCA_accuracy=float(classification_report(Ytest, y_pred).split()[15])\n",
        "SVC_Regressor_imputed_PCA_accuracy"
      ],
      "metadata": {
        "colab": {
          "base_uri": "https://localhost:8080/"
        },
        "id": "h_2fiYOqOY70",
        "outputId": "b7693852-bc68-4c72-8d02-229b85c8ae39"
      },
      "execution_count": null,
      "outputs": [
        {
          "output_type": "execute_result",
          "data": {
            "text/plain": [
              "0.83"
            ]
          },
          "metadata": {},
          "execution_count": 107
        }
      ]
    },
    {
      "cell_type": "code",
      "source": [
        "plt.gcf().set_size_inches(16.5, 13.5)\n",
        "plt.subplot(211)\n",
        "plt.plot(fpr_mlp,tpr_mlp,marker='.',label=\"MLP_PCA_Non-CV, AUC=\"+str(auc_mlp))\n",
        "plt.subplot(211)\n",
        "plt.plot(fpr_xgb,tpr_xgb,linestyle='--',label=\"XGBoost_PCA_Non-CV, AUC=\"+str(auc_xgb))\n",
        "plt.subplot(211)\n",
        "plt.plot(fpr_svc,tpr_svc,linestyle='--',label=\"SVC_PCA_Non-CV, AUC=\"+str(auc_svc))\n",
        "plt.xlabel('False Positive Rate')\n",
        "plt.ylabel('True Positive Rate')\n",
        "plt.title(\"ROC Curve Plot of PCA without Cross-Validation\")\n",
        "plt.legend()"
      ],
      "metadata": {
        "colab": {
          "base_uri": "https://localhost:8080/",
          "height": 494
        },
        "id": "Thp5pQ_wPfdL",
        "outputId": "203349c9-8662-40a3-e0df-5f7d6042a8bf"
      },
      "execution_count": null,
      "outputs": [
        {
          "output_type": "stream",
          "name": "stderr",
          "text": [
            "/usr/local/lib/python3.7/dist-packages/ipykernel_launcher.py:4: MatplotlibDeprecationWarning: Adding an axes using the same arguments as a previous axes currently reuses the earlier instance.  In a future version, a new instance will always be created and returned.  Meanwhile, this warning can be suppressed, and the future behavior ensured, by passing a unique label to each axes instance.\n",
            "  after removing the cwd from sys.path.\n",
            "/usr/local/lib/python3.7/dist-packages/ipykernel_launcher.py:6: MatplotlibDeprecationWarning: Adding an axes using the same arguments as a previous axes currently reuses the earlier instance.  In a future version, a new instance will always be created and returned.  Meanwhile, this warning can be suppressed, and the future behavior ensured, by passing a unique label to each axes instance.\n",
            "  \n"
          ]
        },
        {
          "output_type": "execute_result",
          "data": {
            "text/plain": [
              "<matplotlib.legend.Legend at 0x7f55b2e37e50>"
            ]
          },
          "metadata": {},
          "execution_count": 108
        },
        {
          "output_type": "display_data",
          "data": {
            "text/plain": [
              "<Figure size 1188x972 with 1 Axes>"
            ],
            "image/png": "[encoded data removed]"
          },
          "metadata": {
            "needs_background": "light"
          }
        }
      ]
    },
    {
      "cell_type": "markdown",
      "source": [
        "## Training Models with PCA X Imputed by Regressor Model and with Cross Validation"
      ],
      "metadata": {
        "id": "L949GjFIOLat"
      }
    },
    {
      "cell_type": "code",
      "source": [
        "\n",
        "# K-fold Cross Validation model evaluation\n",
        "acc_per_fold=[]\n",
        "loss_per_fold=[]\n",
        "inputs =np.array(X_reduced)\n",
        "targets = np.array(y)\n",
        "kfold = KFold(n_splits=3, shuffle=True)\n",
        "fold_no = 1\n",
        "for train, test in kfold.split(inputs, targets):\n",
        "\n",
        "  # Define the model architecture\n",
        "  model = Sequential()\n",
        "  model.add(Dense(33, activation='relu', input_dim=(31)))\n",
        "  model.add(Dense(35, activation='relu'))\n",
        "  model.add(Dense(num_classes, activation='sigmoid'))\n",
        "\n",
        "  # Compile the model\n",
        "  model.compile(loss='binary_crossentropy',\n",
        "              optimizer='RMSprop',\n",
        "              metrics=['accuracy'])\n",
        "\n",
        "\n",
        "  # Generate a print\n",
        "  print('------------------------------------------------------------------------')\n",
        "  print(f'Training for fold {fold_no} ...')\n",
        "\n",
        "  # Fit data to model\n",
        "  history = model.fit(inputs[train], targets[train],\n",
        "              batch_size=batch_size,\n",
        "              epochs=epochs,\n",
        "              verbose=0)\n",
        "  # Generate generalization metrics\n",
        "  scores = model.evaluate(inputs[test], targets[test], verbose=0)\n",
        "  print(f'Score for fold {fold_no}: {model.metrics_names[0]} of {scores[0]}; {model.metrics_names[1]} of {scores[1]*100}%')\n",
        "  acc_per_fold.append(scores[1] * 100)\n",
        "  loss_per_fold.append(scores[0])\n",
        "\n",
        "  # Increase fold number\n",
        "  fold_no = fold_no + 1\n",
        "y_pred=np.round(model.predict(inputs[test])).ravel()\n",
        "print(\"\\nCR by library method=\\n\",\n",
        "          classification_report(targets[test], y_pred))"
      ],
      "metadata": {
        "colab": {
          "base_uri": "https://localhost:8080/"
        },
        "id": "iyJpqOPmvwbq",
        "outputId": "64d5ddf0-e3ad-47ed-9b9c-242ee38a6e34"
      },
      "execution_count": null,
      "outputs": [
        {
          "output_type": "stream",
          "name": "stdout",
          "text": [
            "------------------------------------------------------------------------\n",
            "Training for fold 1 ...\n",
            "Score for fold 1: loss of 0.4101403057575226; accuracy of 85.57214140892029%\n",
            "------------------------------------------------------------------------\n",
            "Training for fold 2 ...\n",
            "Score for fold 2: loss of 0.4234808385372162; accuracy of 83.49999785423279%\n",
            "------------------------------------------------------------------------\n",
            "Training for fold 3 ...\n",
            "Score for fold 3: loss of 0.3809076249599457; accuracy of 82.99999833106995%\n",
            "\n",
            "CR by library method=\n",
            "               precision    recall  f1-score   support\n",
            "\n",
            "           0       0.87      0.90      0.88       144\n",
            "           1       0.72      0.64      0.68        56\n",
            "\n",
            "    accuracy                           0.83       200\n",
            "   macro avg       0.79      0.77      0.78       200\n",
            "weighted avg       0.83      0.83      0.83       200\n",
            "\n"
          ]
        }
      ]
    },
    {
      "cell_type": "code",
      "source": [
        "# filename = '/content/drive/My Drive/Colab Notebooks/Explainable-AI/Paper-2/models/1-exp/Regressor/MLP/PCA_Cross_Validation/MLP_PCA_Cross_Validation.sav'\n",
        "# pickle.dump(model, open(filename, 'wb')) \n"
      ],
      "metadata": {
        "id": "ynz-6_B0QTrN"
      },
      "execution_count": null,
      "outputs": []
    },
    {
      "cell_type": "code",
      "source": [
        "loaded_model = pickle.load(open('/content/drive/My Drive/Colab Notebooks/Explainable-AI/Paper-2/models/1-exp/Regressor/MLP/PCA_Cross_Validation/MLP_PCA_Cross_Validation.sav', 'rb'))\n",
        "y_pred = loaded_model.predict(Xtest)\n",
        "fpr_mlp, tpr_mlp, _ = metrics.roc_curve(Ytest, y_pred)\n",
        "auc_mlp = round(metrics.roc_auc_score(Ytest, y_pred), 4)"
      ],
      "metadata": {
        "id": "yXBKHyEPQW6u"
      },
      "execution_count": null,
      "outputs": []
    },
    {
      "cell_type": "code",
      "source": [
        "y_pred=np.round(loaded_model.predict(inputs[test])).ravel()\n",
        "print(\"\\nCR by library method=\\n\",\n",
        "          classification_report(targets[test], y_pred))"
      ],
      "metadata": {
        "colab": {
          "base_uri": "https://localhost:8080/"
        },
        "id": "3ji6YF9SQdAh",
        "outputId": "71c19a54-d221-4ac7-a95d-504605769a40"
      },
      "execution_count": null,
      "outputs": [
        {
          "output_type": "stream",
          "name": "stdout",
          "text": [
            "\n",
            "CR by library method=\n",
            "               precision    recall  f1-score   support\n",
            "\n",
            "           0       0.90      0.94      0.92       144\n",
            "           1       0.82      0.73      0.77        56\n",
            "\n",
            "    accuracy                           0.88       200\n",
            "   macro avg       0.86      0.83      0.85       200\n",
            "weighted avg       0.88      0.88      0.88       200\n",
            "\n"
          ]
        }
      ]
    },
    {
      "cell_type": "code",
      "source": [
        "MLP_Regressor_imputed_PCA_Cross_Validation_AUC=metrics.roc_auc_score(targets[test], y_pred)\n",
        "MLP_Regressor_imputed_PCA_Cross_Validation_AUC"
      ],
      "metadata": {
        "colab": {
          "base_uri": "https://localhost:8080/"
        },
        "id": "TZgS3uHfQhRR",
        "outputId": "5ca26be5-de7c-4e6e-ad35-e0dfb7abd937"
      },
      "execution_count": null,
      "outputs": [
        {
          "output_type": "execute_result",
          "data": {
            "text/plain": [
              "0.8348214285714286"
            ]
          },
          "metadata": {},
          "execution_count": 115
        }
      ]
    },
    {
      "cell_type": "markdown",
      "source": [
        "XGB boost with K-fold cross validation"
      ],
      "metadata": {
        "id": "5xkHWV5jOYmE"
      }
    },
    {
      "cell_type": "code",
      "source": [
        "# cv = KFold(n_splits=3)\n",
        "# PARAMETERS = {\"subsample\":[0.5, 0.75, 1],\n",
        "#               \"colsample_bytree\":[0.5, 0.75, 1],\n",
        "#               \"max_depth\":[2,5, 6, 12],\n",
        "#               \"min_child_weight\":[1,5,15],\n",
        "#               \"learning_rate\":[0.3, 0.1, 0.03],\n",
        "#               \"n_estimators\":[100,500,1000]}\n",
        "# full = xgb.XGBClassifier(n_estimators=100, n_jobs=-1)\n",
        "# model_gs = GridSearchCV(full,param_grid=PARAMETERS,cv=cv,scoring=\"accuracy\")\n",
        "# model_gs.fit(Xtrain,Ytrain, eval_metric=\"error\",verbose=0)\n",
        "# y_pred=model_gs.predict(Xtest)\n",
        "# print(\"The accuracy is %.2f\"%(accuracy_score(y_pred,Ytest)*100),\"%\")"
      ],
      "metadata": {
        "id": "7XjO3jqzOaIn"
      },
      "execution_count": null,
      "outputs": []
    },
    {
      "cell_type": "code",
      "source": [
        "# filename = '/content/drive/My Drive/Colab Notebooks/Explainable-AI/Paper-2/models/1-exp/Regressor/XGB/PCA_Cross_Validation/XGB_PCA_Cross_Validation.sav'\n",
        "# pickle.dump(model_gs, open(filename, 'wb')) \n"
      ],
      "metadata": {
        "id": "fxNYnfROS9JS"
      },
      "execution_count": null,
      "outputs": []
    },
    {
      "cell_type": "code",
      "source": [
        "loaded_model = pickle.load(open('/content/drive/My Drive/Colab Notebooks/Explainable-AI/Paper-2/models/1-exp/Regressor/XGB/PCA_Cross_Validation/XGB_PCA_Cross_Validation.sav', 'rb'))\n",
        "y_pred = loaded_model.predict(Xtest)\n",
        "fpr_xgb, tpr_xgb, _ = metrics.roc_curve(Ytest, y_pred)\n",
        "auc_xgb= round(metrics.roc_auc_score(Ytest, y_pred), 4)\n"
      ],
      "metadata": {
        "id": "gAlvV3TJS_Na"
      },
      "execution_count": null,
      "outputs": []
    },
    {
      "cell_type": "code",
      "source": [
        "y_pred=np.round(loaded_model.predict(Xtest)).ravel()\n",
        "print(\"\\nCR by library method=\\n\",\n",
        "          classification_report(Ytest, y_pred))"
      ],
      "metadata": {
        "colab": {
          "base_uri": "https://localhost:8080/"
        },
        "id": "kuA-4OmARVet",
        "outputId": "fa1317ee-0d47-434d-f29f-67b0a3a0d64f"
      },
      "execution_count": null,
      "outputs": [
        {
          "output_type": "stream",
          "name": "stdout",
          "text": [
            "\n",
            "CR by library method=\n",
            "               precision    recall  f1-score   support\n",
            "\n",
            "           0       0.85      0.95      0.90       113\n",
            "           1       0.76      0.50      0.60        38\n",
            "\n",
            "    accuracy                           0.83       151\n",
            "   macro avg       0.80      0.72      0.75       151\n",
            "weighted avg       0.83      0.83      0.82       151\n",
            "\n"
          ]
        }
      ]
    },
    {
      "cell_type": "code",
      "source": [
        "XGBoost_Regressor_imputed_PCA_Cross_Validation_accuracy=float(classification_report(Ytest, y_pred).split()[15])\n",
        "XGBoost_Regressor_imputed_PCA_Cross_Validation_accuracy"
      ],
      "metadata": {
        "colab": {
          "base_uri": "https://localhost:8080/"
        },
        "id": "E-XZE06NTM1m",
        "outputId": "09967136-a854-457f-9372-84274e1371fd"
      },
      "execution_count": null,
      "outputs": [
        {
          "output_type": "execute_result",
          "data": {
            "text/plain": [
              "0.83"
            ]
          },
          "metadata": {},
          "execution_count": 120
        }
      ]
    },
    {
      "cell_type": "markdown",
      "source": [
        "Support Vector Machine with cross validation"
      ],
      "metadata": {
        "id": "RqRujHZ4OhUQ"
      }
    },
    {
      "cell_type": "code",
      "source": [
        "# tuned_parameters =  [{'kernel': ['rbf'], 'gamma': [1e-2, 1e-3, 1e-4, 1e-5],\n",
        "#                      'C': [0.001, 0.10, 0.1, 10, 25, 50, 100, 1000]},\n",
        "#                     {'kernel': ['sigmoid'], 'gamma': [1e-2, 1e-3, 1e-4, 1e-5],\n",
        "#                      'C': [0.001, 0.10, 0.1, 10, 25, 50, 100, 1000] },{'kernel': ['linear'], 'C': [0.001, 0.10, 0.1, 10, 25, 50, 100, 1000]}] \n",
        "# clf = GridSearchCV(SVC(), tuned_parameters, cv=cv,\n",
        "#                        scoring='accuracy')\n",
        "# clf.fit(Xtrain,Ytrain)\n",
        "# y_pred=clf.predict(Xtest)\n",
        "# print(\"The accuracy is %.2f\"%(accuracy_score(y_pred,Ytest)*100),\"%\")"
      ],
      "metadata": {
        "id": "pJQHC6mLOkaA"
      },
      "execution_count": null,
      "outputs": []
    },
    {
      "cell_type": "code",
      "source": [
        "# filename = '/content/drive/My Drive/Colab Notebooks/Explainable-AI/Paper-2/models/1-exp/Regressor/SVM/PCA_Cross_Validation/SVM_PCA_Cross_Validation.sav'\n",
        "# pickle.dump(clf, open(filename, 'wb')) \n"
      ],
      "metadata": {
        "id": "2FSleIuoUObj"
      },
      "execution_count": null,
      "outputs": []
    },
    {
      "cell_type": "code",
      "source": [
        "loaded_model = pickle.load(open('/content/drive/My Drive/Colab Notebooks/Explainable-AI/Paper-2/models/1-exp/Regressor/SVM/PCA_Cross_Validation/SVM_PCA_Cross_Validation.sav', 'rb'))\n",
        "y_pred = loaded_model.predict(Xtest)\n",
        "fpr_svc, tpr_svc, _ = metrics.roc_curve(Ytest, y_pred)\n",
        "auc_svc = round(metrics.roc_auc_score(Ytest, y_pred), 4)"
      ],
      "metadata": {
        "id": "alm5m9EwUP_5"
      },
      "execution_count": null,
      "outputs": []
    },
    {
      "cell_type": "code",
      "source": [
        "y_pred=np.round(loaded_model.predict(Xtest)).ravel()\n",
        "print(\"\\nCR by library method=\\n\",\n",
        "          classification_report(Ytest, y_pred))"
      ],
      "metadata": {
        "colab": {
          "base_uri": "https://localhost:8080/"
        },
        "id": "kHkUsz3aRdZ0",
        "outputId": "2ab8aaaa-115e-442b-dc64-39afa544b50a"
      },
      "execution_count": null,
      "outputs": [
        {
          "output_type": "stream",
          "name": "stdout",
          "text": [
            "\n",
            "CR by library method=\n",
            "               precision    recall  f1-score   support\n",
            "\n",
            "           0       0.85      0.97      0.91       113\n",
            "           1       0.86      0.47      0.61        38\n",
            "\n",
            "    accuracy                           0.85       151\n",
            "   macro avg       0.85      0.72      0.76       151\n",
            "weighted avg       0.85      0.85      0.83       151\n",
            "\n"
          ]
        }
      ]
    },
    {
      "cell_type": "code",
      "source": [
        "SVC_Regressor_imputed_PCA_Cross_Validation_accuracy=float(classification_report(Ytest, y_pred).split()[15])\n",
        "SVC_Regressor_imputed_PCA_Cross_Validation_accuracy"
      ],
      "metadata": {
        "colab": {
          "base_uri": "https://localhost:8080/"
        },
        "id": "ymypDXOUUZJv",
        "outputId": "c8d68beb-5766-4cdb-9706-590b5712d3f3"
      },
      "execution_count": null,
      "outputs": [
        {
          "output_type": "execute_result",
          "data": {
            "text/plain": [
              "0.85"
            ]
          },
          "metadata": {},
          "execution_count": 125
        }
      ]
    },
    {
      "cell_type": "code",
      "source": [
        "plt.gcf().set_size_inches(16.5, 13.5)\n",
        "plt.subplot(211)\n",
        "plt.plot(fpr_mlp,tpr_mlp,linestyle='--',label=\"MLP_PCA_CV, AUC=\"+str(auc_mlp))\n",
        "plt.subplot(211)\n",
        "plt.plot(fpr_xgb,tpr_xgb,linestyle='--',label=\"XGBoost_PCA_CV, AUC=\"+str(auc_xgb))\n",
        "plt.subplot(211)\n",
        "plt.plot(fpr_svc,tpr_svc,linestyle='--',label=\"SVC_PCA_CV, AUC=\"+str(auc_svc))\n",
        "plt.xlabel('False Positive Rate')\n",
        "plt.ylabel('True Positive Rate')\n",
        "plt.title(\"ROC Curve Plot of PCA with Cross-Validation\")\n",
        "plt.legend()"
      ],
      "metadata": {
        "colab": {
          "base_uri": "https://localhost:8080/",
          "height": 494
        },
        "id": "NiWRiwhFVGCm",
        "outputId": "0b2ba7e1-dd7c-4209-e054-627974ecbbc9"
      },
      "execution_count": null,
      "outputs": [
        {
          "output_type": "stream",
          "name": "stderr",
          "text": [
            "/usr/local/lib/python3.7/dist-packages/ipykernel_launcher.py:4: MatplotlibDeprecationWarning: Adding an axes using the same arguments as a previous axes currently reuses the earlier instance.  In a future version, a new instance will always be created and returned.  Meanwhile, this warning can be suppressed, and the future behavior ensured, by passing a unique label to each axes instance.\n",
            "  after removing the cwd from sys.path.\n",
            "/usr/local/lib/python3.7/dist-packages/ipykernel_launcher.py:6: MatplotlibDeprecationWarning: Adding an axes using the same arguments as a previous axes currently reuses the earlier instance.  In a future version, a new instance will always be created and returned.  Meanwhile, this warning can be suppressed, and the future behavior ensured, by passing a unique label to each axes instance.\n",
            "  \n"
          ]
        },
        {
          "output_type": "execute_result",
          "data": {
            "text/plain": [
              "<matplotlib.legend.Legend at 0x7f55b41b71d0>"
            ]
          },
          "metadata": {},
          "execution_count": 126
        },
        {
          "output_type": "display_data",
          "data": {
            "text/plain": [
              "<Figure size 1188x972 with 1 Axes>"
            ],
            "image/png": "[encoded data removed]"
          },
          "metadata": {
            "needs_background": "light"
          }
        }
      ]
    },
    {
      "cell_type": "markdown",
      "source": [
        "# Training Models with Non-PCA X Imputed by Regressor Model and without Cross Validation"
      ],
      "metadata": {
        "id": "SSJ4RbfFPZqw"
      }
    },
    {
      "cell_type": "code",
      "source": [
        "Xtrain,Xtest,Ytrain,Ytest=train_test_split(X,y,random_state=42,stratify=y)"
      ],
      "metadata": {
        "id": "tR_6bov5PpFF"
      },
      "execution_count": null,
      "outputs": []
    },
    {
      "cell_type": "code",
      "source": [
        "# m = Sequential()\n",
        "# m.add(Dense(44, activation='relu', input_dim=(42)))\n",
        "# m.add(Dense(46, activation='relu'))\n",
        "# # m.add(Dense(128, activation='relu'))\n",
        "# # m.add(Dense(64, activation='relu'))\n",
        "# m.add(Dense(num_classes, activation='sigmoid'))"
      ],
      "metadata": {
        "id": "wAv86yUCP9Ow"
      },
      "execution_count": null,
      "outputs": []
    },
    {
      "cell_type": "code",
      "source": [
        "# m.compile(loss='binary_crossentropy',\n",
        "#               optimizer='RMSprop',\n",
        "#               metrics=['accuracy'])\n",
        "# history = m.fit(Xtrain, Ytrain,batch_size=batch_size,epochs=epochs,verbose=0,\n",
        "#                     validation_data=(Xtest, Ytest))"
      ],
      "metadata": {
        "id": "KQgQzDRxP-38"
      },
      "execution_count": null,
      "outputs": []
    },
    {
      "cell_type": "code",
      "source": [
        "# loss,accuracy=m.evaluate(Xtest,Ytest)\n",
        "# print(\"Accuracy: %.2f\"%(accuracy*100),\"%\")"
      ],
      "metadata": {
        "id": "Aorxvu01QELJ"
      },
      "execution_count": null,
      "outputs": []
    },
    {
      "cell_type": "code",
      "source": [
        "# filename = '/content/drive/My Drive/Colab Notebooks/Explainable-AI/Paper-2/models/1-exp/Regressor/MLP/Non_PCA_Without_Cross_Validation/MLP_Non_PCA_Without_Cross_Validation.sav'\n",
        "# pickle.dump(m, open(filename, 'wb')) \n"
      ],
      "metadata": {
        "id": "diKfwiZ4Yoml"
      },
      "execution_count": null,
      "outputs": []
    },
    {
      "cell_type": "code",
      "source": [
        "loaded_model = pickle.load(open('/content/drive/My Drive/Colab Notebooks/Explainable-AI/Paper-2/models/1-exp/Regressor/MLP/Non_PCA_Without_Cross_Validation/MLP_Non_PCA_Without_Cross_Validation.sav', 'rb'))\n",
        "y_pred = loaded_model.predict(Xtest)\n",
        "fpr_mlp, tpr_mlp, _ = metrics.roc_curve(Ytest, y_pred)\n",
        "auc_mlp = round(metrics.roc_auc_score(Ytest, y_pred), 4)"
      ],
      "metadata": {
        "id": "hpEPBBquYvCe"
      },
      "execution_count": null,
      "outputs": []
    },
    {
      "cell_type": "code",
      "source": [
        "y_pred=np.round(loaded_model.predict(Xtest)).ravel()\n",
        "print(\"\\nCR by library method=\\n\",\n",
        "          classification_report(Ytest, y_pred))"
      ],
      "metadata": {
        "colab": {
          "base_uri": "https://localhost:8080/"
        },
        "id": "QkSPCw_iRkD3",
        "outputId": "89939837-3983-44b7-cc5f-e77f9a8fe83a"
      },
      "execution_count": null,
      "outputs": [
        {
          "output_type": "stream",
          "name": "stdout",
          "text": [
            "\n",
            "CR by library method=\n",
            "               precision    recall  f1-score   support\n",
            "\n",
            "           0       0.85      0.96      0.90       113\n",
            "           1       0.83      0.50      0.62        38\n",
            "\n",
            "    accuracy                           0.85       151\n",
            "   macro avg       0.84      0.73      0.76       151\n",
            "weighted avg       0.85      0.85      0.83       151\n",
            "\n"
          ]
        }
      ]
    },
    {
      "cell_type": "code",
      "source": [
        "MLP_Regressor_imputed_Non_PCA_Non_Cross_accuracy=float(classification_report(Ytest, y_pred).split()[15])\n",
        "MLP_Regressor_imputed_Non_PCA_Non_Cross_accuracy"
      ],
      "metadata": {
        "colab": {
          "base_uri": "https://localhost:8080/"
        },
        "id": "A3oBtmRFZcVO",
        "outputId": "a71283dd-794b-4891-ba59-ee1f6014be97"
      },
      "execution_count": null,
      "outputs": [
        {
          "output_type": "execute_result",
          "data": {
            "text/plain": [
              "0.85"
            ]
          },
          "metadata": {},
          "execution_count": 134
        }
      ]
    },
    {
      "cell_type": "markdown",
      "source": [
        "XGB boost without K-fold cross validation\n"
      ],
      "metadata": {
        "id": "X0YY8udrQM9o"
      }
    },
    {
      "cell_type": "code",
      "source": [
        "# full_boost=xgb.XGBClassifier(learning_rate =0.1,\n",
        "#  n_estimators=1000,\n",
        "#  max_depth=5,\n",
        "#  min_child_weight=1,\n",
        "#  gamma=0,\n",
        "#  subsample=0.8,\n",
        "#  colsample_bytree=0.8,\n",
        "#  objective= 'binary:logistic',\n",
        "#  nthread=4,\n",
        "#  scale_pos_weight=1,\n",
        "#  seed=27)\n",
        "# full_boost.fit(Xtrain, Ytrain)\n",
        "# y_pred=full_boost.predict(Xtest)\n",
        "# print(\"The accuracy is %.2f\"%(accuracy_score(y_pred,Ytest)*100),\"%\")"
      ],
      "metadata": {
        "id": "Z2axu29CQSMw"
      },
      "execution_count": null,
      "outputs": []
    },
    {
      "cell_type": "code",
      "source": [
        "# filename = '/content/drive/My Drive/Colab Notebooks/Explainable-AI/Paper-2/models/1-exp/Regressor/XGB/Non_PCA_Without_Cross_Validation/XGB_Non_PCA_Without_Cross_Validation.sav' \n",
        "# pickle.dump(full_boost, open(filename, 'wb')) \n"
      ],
      "metadata": {
        "id": "kyfBf2cjZ28j"
      },
      "execution_count": null,
      "outputs": []
    },
    {
      "cell_type": "code",
      "source": [
        "loadedmodel = pickle.load(open('/content/drive/My Drive/Colab Notebooks/Explainable-AI/Paper-2/models/1-exp/Regressor/XGB/Non_PCA_Without_Cross_Validation/XGB_Non_PCA_Without_Cross_Validation.sav', 'rb'))\n",
        "y_pred = loadedmodel.predict(Xtest)\n",
        "fpr_xgb, tpr_xgb, _ = metrics.roc_curve(Ytest, y_pred)\n",
        "auc_xgb = round(metrics.roc_auc_score(Ytest, y_pred), 4)\n"
      ],
      "metadata": {
        "id": "IugLuHoMZ350"
      },
      "execution_count": null,
      "outputs": []
    },
    {
      "cell_type": "code",
      "source": [
        "y_pred=np.round(loadedmodel.predict(Xtest)).ravel()\n",
        "print(\"\\nCR by library method=\\n\",\n",
        "          classification_report(Ytest, y_pred))"
      ],
      "metadata": {
        "colab": {
          "base_uri": "https://localhost:8080/"
        },
        "id": "Lx0JgT4MRoUE",
        "outputId": "4331aea2-f090-483c-de30-589e358b3ae8"
      },
      "execution_count": null,
      "outputs": [
        {
          "output_type": "stream",
          "name": "stdout",
          "text": [
            "\n",
            "CR by library method=\n",
            "               precision    recall  f1-score   support\n",
            "\n",
            "           0       0.90      0.98      0.94       113\n",
            "           1       0.93      0.68      0.79        38\n",
            "\n",
            "    accuracy                           0.91       151\n",
            "   macro avg       0.92      0.83      0.86       151\n",
            "weighted avg       0.91      0.91      0.90       151\n",
            "\n"
          ]
        }
      ]
    },
    {
      "cell_type": "code",
      "source": [
        "XGBoost_Regressor_imputed_Non_PCA_Non_Cross_accuracy=float(classification_report(Ytest, y_pred).split()[15])\n",
        "XGBoost_Regressor_imputed_Non_PCA_Non_Cross_accuracy"
      ],
      "metadata": {
        "colab": {
          "base_uri": "https://localhost:8080/"
        },
        "id": "k_bpyvvpZ-qw",
        "outputId": "cc88449b-7655-44d7-8253-4c3753fc529c"
      },
      "execution_count": null,
      "outputs": [
        {
          "output_type": "execute_result",
          "data": {
            "text/plain": [
              "0.91"
            ]
          },
          "metadata": {},
          "execution_count": 139
        }
      ]
    },
    {
      "cell_type": "markdown",
      "source": [
        "Support Vector Machine with cross validation"
      ],
      "metadata": {
        "id": "4SMkCC2PQWB8"
      }
    },
    {
      "cell_type": "code",
      "source": [
        "# clf=SVC()\n",
        "# clf.fit(Xtrain,Ytrain)\n",
        "# y_pred=clf.predict(Xtest)\n",
        "# print(\"The accuracy is %.2f\"%(accuracy_score(y_pred,Ytest)*100),\"%\")"
      ],
      "metadata": {
        "id": "wVuf6NWRQa1w"
      },
      "execution_count": null,
      "outputs": []
    },
    {
      "cell_type": "code",
      "source": [
        "# filename = '/content/drive/My Drive/Colab Notebooks/Explainable-AI/Paper-2/models/1-exp/Regressor/SVM/Non_PCA_Without_Cross_Validation/SVM_Non_PCA_Without_Cross_Validation.sav'\n",
        "# pickle.dump(clf, open(filename, 'wb')) \n"
      ],
      "metadata": {
        "id": "Q7__aCzpa8Yy"
      },
      "execution_count": null,
      "outputs": []
    },
    {
      "cell_type": "code",
      "source": [
        "loaded_model = pickle.load(open('/content/drive/My Drive/Colab Notebooks/Explainable-AI/Paper-2/models/1-exp/Regressor/SVM/Non_PCA_Without_Cross_Validation/SVM_Non_PCA_Without_Cross_Validation.sav', 'rb'))\n",
        "y_pred = loaded_model.predict(Xtest)\n",
        "fpr_svc, tpr_svc, _ = metrics.roc_curve(Ytest, y_pred)\n",
        "auc_svc = round(metrics.roc_auc_score(Ytest, y_pred), 4)"
      ],
      "metadata": {
        "id": "NrGG1-PMbBqn"
      },
      "execution_count": null,
      "outputs": []
    },
    {
      "cell_type": "code",
      "source": [
        "y_pred=np.round(loaded_model.predict(Xtest)).ravel()\n",
        "print(\"\\nCR by library method=\\n\",\n",
        "          classification_report(Ytest, y_pred))"
      ],
      "metadata": {
        "colab": {
          "base_uri": "https://localhost:8080/"
        },
        "id": "azf9_BbgRtLd",
        "outputId": "7d51116a-d506-4506-bee3-4956be6e96c3"
      },
      "execution_count": null,
      "outputs": [
        {
          "output_type": "stream",
          "name": "stdout",
          "text": [
            "\n",
            "CR by library method=\n",
            "               precision    recall  f1-score   support\n",
            "\n",
            "           0       0.82      0.99      0.90       113\n",
            "           1       0.93      0.34      0.50        38\n",
            "\n",
            "    accuracy                           0.83       151\n",
            "   macro avg       0.87      0.67      0.70       151\n",
            "weighted avg       0.85      0.83      0.80       151\n",
            "\n"
          ]
        }
      ]
    },
    {
      "cell_type": "code",
      "source": [
        "SVC_Regressor_imputed_Non_PCA_Non_Cross_accuracy=float(classification_report(Ytest, y_pred).split()[15])\n",
        "SVC_Regressor_imputed_Non_PCA_Non_Cross_accuracy"
      ],
      "metadata": {
        "colab": {
          "base_uri": "https://localhost:8080/"
        },
        "id": "C0A2p3XkbE7v",
        "outputId": "64c5925e-bf66-405f-ab1a-c69e2288fa0d"
      },
      "execution_count": null,
      "outputs": [
        {
          "output_type": "execute_result",
          "data": {
            "text/plain": [
              "0.83"
            ]
          },
          "metadata": {},
          "execution_count": 144
        }
      ]
    },
    {
      "cell_type": "code",
      "source": [
        "plt.gcf().set_size_inches(16.5, 13.5)\n",
        "plt.subplot(211)\n",
        "plt.plot(fpr_mlp,tpr_mlp, linestyle='--',label=\"MLP_Non-PCA_Non-CV, AUC=\"+str(auc_mlp))\n",
        "plt.subplot(211)\n",
        "plt.plot(fpr_xgb,tpr_xgb, linestyle='--',label=\"XGBoost_Non-PCA_Non-CV, AUC=\"+str(auc_xgb))\n",
        "plt.subplot(211)\n",
        "plt.plot(fpr_svc,tpr_svc, linestyle='--',label=\"SVC_Non-PCA_Non-CV, AUC=\"+str(auc_svc))\n",
        "plt.xlabel('False Positive Rate')\n",
        "plt.ylabel('True Positive Rate')\n",
        "plt.title(\"ROC Curve Plot of Non-PCA without Cross-Validation\")\n",
        "plt.legend()"
      ],
      "metadata": {
        "colab": {
          "base_uri": "https://localhost:8080/",
          "height": 494
        },
        "id": "yxNg1VHYbyoW",
        "outputId": "4cc14318-3d29-4c4a-a214-94c21f269c4a"
      },
      "execution_count": null,
      "outputs": [
        {
          "output_type": "stream",
          "name": "stderr",
          "text": [
            "/usr/local/lib/python3.7/dist-packages/ipykernel_launcher.py:4: MatplotlibDeprecationWarning: Adding an axes using the same arguments as a previous axes currently reuses the earlier instance.  In a future version, a new instance will always be created and returned.  Meanwhile, this warning can be suppressed, and the future behavior ensured, by passing a unique label to each axes instance.\n",
            "  after removing the cwd from sys.path.\n",
            "/usr/local/lib/python3.7/dist-packages/ipykernel_launcher.py:6: MatplotlibDeprecationWarning: Adding an axes using the same arguments as a previous axes currently reuses the earlier instance.  In a future version, a new instance will always be created and returned.  Meanwhile, this warning can be suppressed, and the future behavior ensured, by passing a unique label to each axes instance.\n",
            "  \n"
          ]
        },
        {
          "output_type": "execute_result",
          "data": {
            "text/plain": [
              "<matplotlib.legend.Legend at 0x7f55b37355d0>"
            ]
          },
          "metadata": {},
          "execution_count": 145
        },
        {
          "output_type": "display_data",
          "data": {
            "text/plain": [
              "<Figure size 1188x972 with 1 Axes>"
            ],
            "image/png": "[encoded data removed]"
          },
          "metadata": {
            "needs_background": "light"
          }
        }
      ]
    },
    {
      "cell_type": "markdown",
      "source": [
        "## Training Models with Non-PCA X Imputed by Regressor Model and with Cross Validation"
      ],
      "metadata": {
        "id": "FL7Agq59QirZ"
      }
    },
    {
      "cell_type": "code",
      "source": [
        "\n",
        "# K-fold Cross Validation model evaluation\n",
        "acc_per_fold=[]\n",
        "loss_per_fold=[]\n",
        "inputs =np.array(X)\n",
        "targets = np.array(y)\n",
        "kfold = KFold(n_splits=3, shuffle=True)\n",
        "fold_no = 1\n",
        "for train, test in kfold.split(inputs, targets):\n",
        "\n",
        "  # Define the model architecture\n",
        "  model = Sequential()\n",
        "  model.add(Dense(33, activation='relu', input_dim=(42)))\n",
        "  model.add(Dense(35, activation='relu'))\n",
        "  model.add(Dense(num_classes, activation='sigmoid'))\n",
        "\n",
        "  # Compile the model\n",
        "  model.compile(loss='binary_crossentropy',\n",
        "              optimizer='RMSprop',\n",
        "              metrics=['accuracy'])\n",
        "\n",
        "\n",
        "  # Generate a print\n",
        "  print('------------------------------------------------------------------------')\n",
        "  print(f'Training for fold {fold_no} ...')\n",
        "\n",
        "  # Fit data to model\n",
        "  history = model.fit(inputs[train], targets[train],\n",
        "              batch_size=batch_size,\n",
        "              epochs=epochs,\n",
        "              verbose=0)\n",
        "  # Generate generalization metrics\n",
        "  scores = model.evaluate(inputs[test], targets[test], verbose=0)\n",
        "  print(f'Score for fold {fold_no}: {model.metrics_names[0]} of {scores[0]}; {model.metrics_names[1]} of {scores[1]*100}%')\n",
        "  acc_per_fold.append(scores[1] * 100)\n",
        "  loss_per_fold.append(scores[0])\n",
        "\n",
        "  # Increase fold number\n",
        "  fold_no = fold_no + 1\n",
        "y_pred=np.round(model.predict(inputs[test])).ravel()\n",
        "print(\"\\nCR by library method=\\n\",\n",
        "          classification_report(targets[test], y_pred))"
      ],
      "metadata": {
        "colab": {
          "base_uri": "https://localhost:8080/"
        },
        "id": "uf4sHla6wCav",
        "outputId": "9a4cf6e6-a28f-41c0-dac5-0b279874cb9c"
      },
      "execution_count": null,
      "outputs": [
        {
          "output_type": "stream",
          "name": "stdout",
          "text": [
            "------------------------------------------------------------------------\n",
            "Training for fold 1 ...\n",
            "Score for fold 1: loss of 0.41414567828178406; accuracy of 84.57711338996887%\n",
            "------------------------------------------------------------------------\n",
            "Training for fold 2 ...\n",
            "Score for fold 2: loss of 0.4079505205154419; accuracy of 84.50000286102295%\n",
            "------------------------------------------------------------------------\n",
            "Training for fold 3 ...\n",
            "Score for fold 3: loss of 0.42550456523895264; accuracy of 84.50000286102295%\n",
            "\n",
            "CR by library method=\n",
            "               precision    recall  f1-score   support\n",
            "\n",
            "           0       0.89      0.91      0.90       157\n",
            "           1       0.65      0.60      0.63        43\n",
            "\n",
            "    accuracy                           0.84       200\n",
            "   macro avg       0.77      0.76      0.76       200\n",
            "weighted avg       0.84      0.84      0.84       200\n",
            "\n"
          ]
        }
      ]
    },
    {
      "cell_type": "code",
      "source": [
        "# filename = '/content/drive/My Drive/Colab Notebooks/Explainable-AI/Paper-2/models/1-exp/Regressor/MLP/Non_PCA_Cross_Validation/MLP_Non_PCA_Cross_Validation.sav'\n",
        "# pickle.dump(model, open(filename, 'wb')) \n"
      ],
      "metadata": {
        "id": "twa_AREzcM3E"
      },
      "execution_count": null,
      "outputs": []
    },
    {
      "cell_type": "code",
      "source": [
        "loaded_model = pickle.load(open('/content/drive/My Drive/Colab Notebooks/Explainable-AI/Paper-2/models/1-exp/Regressor/MLP/Non_PCA_Cross_Validation/MLP_Non_PCA_Cross_Validation.sav', 'rb'))\n",
        "y_pred = loaded_model.predict(Xtest)\n",
        "fpr_mlp, tpr_mlp, _ = metrics.roc_curve(Ytest, y_pred)\n",
        "auc_mlp = round(metrics.roc_auc_score(Ytest, y_pred), 4)"
      ],
      "metadata": {
        "id": "HsAqO__9cN3x"
      },
      "execution_count": null,
      "outputs": []
    },
    {
      "cell_type": "code",
      "source": [
        "y_pred=np.round(loaded_model.predict(inputs[test])).ravel()\n",
        "print(\"\\nCR by library method=\\n\",\n",
        "          classification_report(targets[test], y_pred))"
      ],
      "metadata": {
        "colab": {
          "base_uri": "https://localhost:8080/"
        },
        "id": "7ZiolUHRcV_e",
        "outputId": "d77daa63-b8f9-4dd8-decc-568eed82c51f"
      },
      "execution_count": null,
      "outputs": [
        {
          "output_type": "stream",
          "name": "stdout",
          "text": [
            "\n",
            "CR by library method=\n",
            "               precision    recall  f1-score   support\n",
            "\n",
            "           0       0.92      0.98      0.95       157\n",
            "           1       0.91      0.67      0.77        43\n",
            "\n",
            "    accuracy                           0.92       200\n",
            "   macro avg       0.91      0.83      0.86       200\n",
            "weighted avg       0.91      0.92      0.91       200\n",
            "\n"
          ]
        }
      ]
    },
    {
      "cell_type": "code",
      "source": [
        "MLP_Regressor_imputed_Non_PCA_Cross_Validation_accuracy=float((classification_report(targets[test], y_pred)).split()[15])\n",
        "MLP_Regressor_imputed_Non_PCA_Cross_Validation_accuracy"
      ],
      "metadata": {
        "colab": {
          "base_uri": "https://localhost:8080/"
        },
        "id": "ik-lv0UeccaU",
        "outputId": "97ddceb5-c283-40e2-e735-348147bb3bcc"
      },
      "execution_count": null,
      "outputs": [
        {
          "output_type": "execute_result",
          "data": {
            "text/plain": [
              "0.92"
            ]
          },
          "metadata": {},
          "execution_count": 150
        }
      ]
    },
    {
      "cell_type": "markdown",
      "source": [
        "XGB boost with K-fold cross validation"
      ],
      "metadata": {
        "id": "azHC80XtQw58"
      }
    },
    {
      "cell_type": "code",
      "source": [
        "# cv = KFold(n_splits=2)\n",
        "# PARAMETERS = {\"subsample\":[0.5, 0.75, 1],\n",
        "#               \"colsample_bytree\":[0.5, 0.75, 1],\n",
        "#               \"max_depth\":[2,5, 6, 12],\n",
        "#               \"min_child_weight\":[1,5,15],\n",
        "#               \"learning_rate\":[0.3, 0.1, 0.03],\n",
        "#               \"n_estimators\":[100,500,1000]}\n",
        "# full = xgb.XGBClassifier(n_estimators=100, n_jobs=-1)\n",
        "# model_gs = GridSearchCV(full,param_grid=PARAMETERS,cv=cv,scoring=\"accuracy\")\n",
        "# model_gs.fit(Xtrain,Ytrain, eval_metric=\"error\",verbose=0)\n",
        "# y_pred=model_gs.predict(Xtest)\n",
        "# print(\"The accuracy is %.2f\"%(accuracy_score(y_pred,Ytest)*100),\"%\")"
      ],
      "metadata": {
        "id": "uaGp62ocQyXA"
      },
      "execution_count": null,
      "outputs": []
    },
    {
      "cell_type": "code",
      "source": [
        "# filename = '/content/drive/My Drive/Colab Notebooks/Explainable-AI/Paper-2/models/1-exp/Regressor/XGB/Non_PCA_Cross_Validation/XGB_Non_PCA_Cross_Validation.sav'\n",
        "# pickle.dump(model_gs, open(filename, 'wb')) \n"
      ],
      "metadata": {
        "id": "qW3gVoUvdsML"
      },
      "execution_count": null,
      "outputs": []
    },
    {
      "cell_type": "code",
      "source": [
        "loadedmodel = pickle.load(open('/content/drive/My Drive/Colab Notebooks/Explainable-AI/Paper-2/models/1-exp/Regressor/XGB/Non_PCA_Cross_Validation/XGB_Non_PCA_Cross_Validation.sav', 'rb'))\n",
        "y_pred = loadedmodel.predict(Xtest)\n",
        "fpr_xgb, tpr_xgb, _ = metrics.roc_curve(Ytest, y_pred)\n",
        "auc_xgb = round(metrics.roc_auc_score(Ytest, y_pred), 4)"
      ],
      "metadata": {
        "id": "4GQXh53ldvyA"
      },
      "execution_count": null,
      "outputs": []
    },
    {
      "cell_type": "code",
      "source": [
        "y_pred=np.round(loadedmodel.predict(Xtest)).ravel()\n",
        "print(\"\\nCR by library method=\\n\",\n",
        "          classification_report(Ytest, y_pred))"
      ],
      "metadata": {
        "colab": {
          "base_uri": "https://localhost:8080/"
        },
        "id": "eRIU06UQRvYJ",
        "outputId": "a9a3bfc1-fc6c-4860-8fe9-1e41e5ebd5ec"
      },
      "execution_count": null,
      "outputs": [
        {
          "output_type": "stream",
          "name": "stdout",
          "text": [
            "\n",
            "CR by library method=\n",
            "               precision    recall  f1-score   support\n",
            "\n",
            "           0       0.85      0.99      0.91       113\n",
            "           1       0.95      0.47      0.63        38\n",
            "\n",
            "    accuracy                           0.86       151\n",
            "   macro avg       0.90      0.73      0.77       151\n",
            "weighted avg       0.87      0.86      0.84       151\n",
            "\n"
          ]
        }
      ]
    },
    {
      "cell_type": "code",
      "source": [
        "XGBoost_Regressor_imputed_Non_PCA_Cross_Validation_accuracy=float(classification_report(Ytest, y_pred).split()[15])\n",
        "XGBoost_Regressor_imputed_Non_PCA_Cross_Validation_accuracy"
      ],
      "metadata": {
        "colab": {
          "base_uri": "https://localhost:8080/"
        },
        "id": "vbQgGkc5d3vv",
        "outputId": "c5c83b6e-7152-49f3-b694-b24bf85122cd"
      },
      "execution_count": null,
      "outputs": [
        {
          "output_type": "execute_result",
          "data": {
            "text/plain": [
              "0.86"
            ]
          },
          "metadata": {},
          "execution_count": 155
        }
      ]
    },
    {
      "cell_type": "markdown",
      "source": [
        "Support Vector Machine with cross validation"
      ],
      "metadata": {
        "id": "Io4hqRoFQ2Nr"
      }
    },
    {
      "cell_type": "code",
      "source": [
        "# tuned_parameters =  [{'kernel': ['rbf'], 'gamma': [1e-2, 1e-3, 1e-4, 1e-5],\n",
        "#                      'C': [0.001, 0.10, 0.1, 10, 25, 50, 100, 1000]},\n",
        "#                     {'kernel': ['sigmoid'], 'gamma': [1e-2, 1e-3, 1e-4, 1e-5],\n",
        "#                      'C': [0.001, 0.10, 0.1, 10, 25, 50, 100, 1000] },{'kernel': ['linear'], 'C': [0.001, 0.10, 0.1, 10, 25, 50, 100, 1000]}] \n",
        "# clf = GridSearchCV(SVC(), tuned_parameters, cv=cv,\n",
        "#                        scoring='accuracy')\n",
        "# clf.fit(Xtrain,Ytrain)\n",
        "# y_pred=clf.predict(Xtest)\n",
        "# print(\"The accuracy is %.2f\"%(accuracy_score(y_pred,Ytest)*100),\"%\")"
      ],
      "metadata": {
        "id": "UOwVApsCQ7WY"
      },
      "execution_count": null,
      "outputs": []
    },
    {
      "cell_type": "code",
      "source": [
        "# filename = '/content/drive/My Drive/Colab Notebooks/Explainable-AI/Paper-2/models/1-exp/Regressor/SVM/Non_PCA_Cross_Validation/SVM_Non_PCA_Cross_Validation.sav'\n",
        "# pickle.dump(clf, open(filename, 'wb')) \n"
      ],
      "metadata": {
        "id": "xc2WeDzQfZmB"
      },
      "execution_count": null,
      "outputs": []
    },
    {
      "cell_type": "code",
      "source": [
        "loaded_model = pickle.load(open('/content/drive/My Drive/Colab Notebooks/Explainable-AI/Paper-2/models/1-exp/Regressor/SVM/Non_PCA_Cross_Validation/SVM_Non_PCA_Cross_Validation.sav', 'rb'))\n",
        "y_pred = loaded_model.predict(Xtest)\n",
        "fpr_svc, tpr_svc, _ = metrics.roc_curve(Ytest, y_pred)\n",
        "auc_svc = round(metrics.roc_auc_score(Ytest, y_pred), 4)"
      ],
      "metadata": {
        "id": "mhwtdxwmfayU"
      },
      "execution_count": null,
      "outputs": []
    },
    {
      "cell_type": "code",
      "source": [
        "y_pred=np.round(loaded_model.predict(Xtest)).ravel()\n",
        "print(\"\\nCR by library method=\\n\",\n",
        "          classification_report(Ytest, y_pred))"
      ],
      "metadata": {
        "colab": {
          "base_uri": "https://localhost:8080/"
        },
        "id": "cPQ4O-C9RyLa",
        "outputId": "14ed1dd5-95fa-4bf2-95d2-51a8d431f49d"
      },
      "execution_count": null,
      "outputs": [
        {
          "output_type": "stream",
          "name": "stdout",
          "text": [
            "\n",
            "CR by library method=\n",
            "               precision    recall  f1-score   support\n",
            "\n",
            "           0       0.83      0.97      0.89       113\n",
            "           1       0.83      0.39      0.54        38\n",
            "\n",
            "    accuracy                           0.83       151\n",
            "   macro avg       0.83      0.68      0.72       151\n",
            "weighted avg       0.83      0.83      0.80       151\n",
            "\n"
          ]
        }
      ]
    },
    {
      "cell_type": "code",
      "source": [
        "SVC_Regressor_imputed_Non_PCA_Cross_Validation_accuracy=float(classification_report(Ytest, y_pred).split()[15])\n",
        "SVC_Regressor_imputed_Non_PCA_Cross_Validation_accuracy"
      ],
      "metadata": {
        "colab": {
          "base_uri": "https://localhost:8080/"
        },
        "id": "q73PTv-kf2ba",
        "outputId": "781e6687-b939-41bf-9b51-7dc760611c2b"
      },
      "execution_count": null,
      "outputs": [
        {
          "output_type": "execute_result",
          "data": {
            "text/plain": [
              "0.83"
            ]
          },
          "metadata": {},
          "execution_count": 160
        }
      ]
    },
    {
      "cell_type": "code",
      "source": [
        "plt.gcf().set_size_inches(16.5, 13.5)\n",
        "plt.subplot(211)\n",
        "plt.plot(fpr_mlp,tpr_mlp, linestyle='--',label=\"MLP_Non-PCA_CV, AUC=\"+str(auc_mlp))\n",
        "plt.subplot(211)\n",
        "plt.plot(fpr_xgb,tpr_xgb, linestyle='--',label=\"XGBoost_Non-PCA_CV, AUC=\"+str(auc_xgb))\n",
        "plt.subplot(211)\n",
        "plt.plot(fpr_svc,tpr_svc, linestyle='--',label=\"SVC_Non-PCA_CV, AUC=\"+str(auc_svc))\n",
        "plt.xlabel('False Positive Rate')\n",
        "plt.ylabel('True Positive Rate')\n",
        "plt.title(\"ROC Curve Plot of Non-PCA with Cross-Validation\")\n",
        "plt.legend()"
      ],
      "metadata": {
        "colab": {
          "base_uri": "https://localhost:8080/",
          "height": 494
        },
        "id": "Byh-2AozgezV",
        "outputId": "08f3a7af-d354-466b-eea1-bed4558d9dc8"
      },
      "execution_count": null,
      "outputs": [
        {
          "output_type": "stream",
          "name": "stderr",
          "text": [
            "/usr/local/lib/python3.7/dist-packages/ipykernel_launcher.py:4: MatplotlibDeprecationWarning: Adding an axes using the same arguments as a previous axes currently reuses the earlier instance.  In a future version, a new instance will always be created and returned.  Meanwhile, this warning can be suppressed, and the future behavior ensured, by passing a unique label to each axes instance.\n",
            "  after removing the cwd from sys.path.\n",
            "/usr/local/lib/python3.7/dist-packages/ipykernel_launcher.py:6: MatplotlibDeprecationWarning: Adding an axes using the same arguments as a previous axes currently reuses the earlier instance.  In a future version, a new instance will always be created and returned.  Meanwhile, this warning can be suppressed, and the future behavior ensured, by passing a unique label to each axes instance.\n",
            "  \n"
          ]
        },
        {
          "output_type": "execute_result",
          "data": {
            "text/plain": [
              "<matplotlib.legend.Legend at 0x7f55b4234f50>"
            ]
          },
          "metadata": {},
          "execution_count": 161
        },
        {
          "output_type": "display_data",
          "data": {
            "text/plain": [
              "<Figure size 1188x972 with 1 Axes>"
            ],
            "image/png": "[encoded data removed]"
          },
          "metadata": {
            "needs_background": "light"
          }
        }
      ]
    },
    {
      "cell_type": "markdown",
      "source": [
        "### Joining and Scaling Data Imputed by the Multivariate Imputation method\n"
      ],
      "metadata": {
        "id": "5Ra74Zy0RCJc"
      }
    },
    {
      "cell_type": "code",
      "source": [
        "num_df=pd.DataFrame(imputed_numeric, columns=numeric_data.columns)\n",
        "multivariate_scaled=StandardScaler().fit_transform(num_df)\n",
        "multivariate_imputed_df=pd.DataFrame(multivariate_scaled, columns=numeric_data.columns)"
      ],
      "metadata": {
        "id": "aTtuudSXXvlL"
      },
      "execution_count": null,
      "outputs": []
    },
    {
      "cell_type": "code",
      "source": [
        "data=pd.concat([multivariate_imputed_df,objects], axis=1)\n"
      ],
      "metadata": {
        "id": "0pvLQ4S3WVWY"
      },
      "execution_count": null,
      "outputs": []
    },
    {
      "cell_type": "code",
      "source": [
        "y=data['Degree_Severe']\n",
        "X=data.iloc[:,:-1]"
      ],
      "metadata": {
        "id": "sFd3RoYUYpGH"
      },
      "execution_count": null,
      "outputs": []
    },
    {
      "cell_type": "code",
      "source": [
        "pca = PCA()\n",
        "pca.fit(X)\n",
        "cumsum = np.cumsum(pca.explained_variance_ratio_)\n",
        "d = np.argmax(cumsum >= 0.95) + 1\n",
        "pca = PCA(n_components=0.95)\n",
        "X_reduced = pca.fit_transform(X)"
      ],
      "metadata": {
        "id": "0n5ucAQcYs4N"
      },
      "execution_count": null,
      "outputs": []
    },
    {
      "cell_type": "code",
      "source": [
        "# number of components\n",
        "n_pcs= pca.components_.shape[0]\n",
        "\n",
        "# get the index of the most important feature on EACH component\n",
        "# LIST COMPREHENSION HERE\n",
        "most_important = [np.abs(pca.components_[i]).argmax() for i in range(n_pcs)]\n",
        "\n",
        "initial_feature_names = X.columns\n",
        "# get the names\n",
        "most_important_names = [initial_feature_names[most_important[i]] for i in range(n_pcs)]\n",
        "\n",
        "# LIST COMPREHENSION HERE AGAIN\n",
        "dic = {'PC{}'.format(i): most_important_names[i] for i in range(n_pcs)}\n",
        "\n",
        "# build the dataframe\n",
        "df = pd.DataFrame(dic.items())"
      ],
      "metadata": {
        "id": "q50aCkLRY40A"
      },
      "execution_count": null,
      "outputs": []
    },
    {
      "cell_type": "code",
      "source": [
        "Xtrain,Xtest,Ytrain,Ytest=train_test_split(X_reduced,y,random_state=42,stratify=y)"
      ],
      "metadata": {
        "id": "fFBUzqAsY5wl"
      },
      "execution_count": null,
      "outputs": []
    },
    {
      "cell_type": "code",
      "source": [
        "X_reduced.shape"
      ],
      "metadata": {
        "colab": {
          "base_uri": "https://localhost:8080/"
        },
        "id": "LKdRZIST3e7k",
        "outputId": "96444202-1702-46da-f699-3e0263914360"
      },
      "execution_count": null,
      "outputs": [
        {
          "output_type": "execute_result",
          "data": {
            "text/plain": [
              "(601, 31)"
            ]
          },
          "metadata": {},
          "execution_count": 168
        }
      ]
    },
    {
      "cell_type": "markdown",
      "source": [
        "## Training Models with PCA X Imputed by Multivariate Method and without Cross Validation"
      ],
      "metadata": {
        "id": "DmrUxXq3S0eE"
      }
    },
    {
      "cell_type": "code",
      "source": [
        "# model = Sequential()\n",
        "# model.add(Dense(33, activation='relu', input_dim=(31)))\n",
        "# model.add(Dense(35, activation='relu'))\n",
        "# # model.add(Dense(128, activation='relu'))\n",
        "# # model.add(Dense(64, activation='relu'))\n",
        "# model.add(Dense(num_classes, activation='sigmoid'))"
      ],
      "metadata": {
        "id": "XDA2Db-NS4tW"
      },
      "execution_count": null,
      "outputs": []
    },
    {
      "cell_type": "code",
      "source": [
        "# model.compile(loss='binary_crossentropy',\n",
        "#               optimizer='RMSprop',\n",
        "#               metrics=['accuracy'])\n",
        "# history = model.fit(Xtrain, Ytrain,batch_size=batch_size,epochs=epochs,verbose=0,\n",
        "#                     validation_data=(Xtest, Ytest))"
      ],
      "metadata": {
        "id": "Q0tzUBBDTLRF"
      },
      "execution_count": null,
      "outputs": []
    },
    {
      "cell_type": "code",
      "source": [
        "# loss,accuracy=model.evaluate(Xtest,Ytest)\n",
        "# print(\"Accuracy: %.2f\"%(accuracy*100),\"%\")"
      ],
      "metadata": {
        "id": "0eQd8v3ATRyB"
      },
      "execution_count": null,
      "outputs": []
    },
    {
      "cell_type": "code",
      "source": [
        "# filename = '/content/drive/My Drive/Colab Notebooks/Explainable-AI/Paper-2/models/1-exp/Multivariate/MLP/PCA_Without_Cross_Validation/MLP_PCA_Without_Cross_Validation.sav'\n",
        "# pickle.dump(model, open(filename, 'wb')) \n"
      ],
      "metadata": {
        "id": "BmFuW99PiK8y"
      },
      "execution_count": null,
      "outputs": []
    },
    {
      "cell_type": "code",
      "source": [
        "loaded_model = pickle.load(open('/content/drive/My Drive/Colab Notebooks/Explainable-AI/Paper-2/models/1-exp/Multivariate/MLP/PCA_Without_Cross_Validation/MLP_PCA_Without_Cross_Validation.sav', 'rb'))\n",
        "y_pred = loaded_model.predict(Xtest)\n",
        "fpr_mlp, tpr_mlp, _ = metrics.roc_curve(Ytest, y_pred)\n",
        "auc_mlp = round(metrics.roc_auc_score(Ytest, y_pred), 4)"
      ],
      "metadata": {
        "id": "pQ5-3T-oiPIJ"
      },
      "execution_count": null,
      "outputs": []
    },
    {
      "cell_type": "code",
      "source": [
        "y_pred=np.round(loaded_model.predict(Xtest)).ravel()\n",
        "print(\"\\nCR by library method=\\n\",\n",
        "          classification_report(Ytest, y_pred))"
      ],
      "metadata": {
        "colab": {
          "base_uri": "https://localhost:8080/"
        },
        "id": "iwuF26V4R5A6",
        "outputId": "b805708c-c51f-4e74-afd2-ee3a8af6ab76"
      },
      "execution_count": null,
      "outputs": [
        {
          "output_type": "stream",
          "name": "stdout",
          "text": [
            "\n",
            "CR by library method=\n",
            "               precision    recall  f1-score   support\n",
            "\n",
            "           0       0.99      0.99      0.99       113\n",
            "           1       0.97      0.97      0.97        38\n",
            "\n",
            "    accuracy                           0.99       151\n",
            "   macro avg       0.98      0.98      0.98       151\n",
            "weighted avg       0.99      0.99      0.99       151\n",
            "\n"
          ]
        }
      ]
    },
    {
      "cell_type": "code",
      "source": [
        "MLP_Multivariate_imputed_PCA_Non_Cross_accuracy=float(classification_report(Ytest, y_pred).split()[15])\n",
        "MLP_Multivariate_imputed_PCA_Non_Cross_accuracy"
      ],
      "metadata": {
        "colab": {
          "base_uri": "https://localhost:8080/"
        },
        "id": "NouUnw_Yiio0",
        "outputId": "5d85a487-0ac9-49de-9664-423b080d0dfb"
      },
      "execution_count": null,
      "outputs": [
        {
          "output_type": "execute_result",
          "data": {
            "text/plain": [
              "0.99"
            ]
          },
          "metadata": {},
          "execution_count": 175
        }
      ]
    },
    {
      "cell_type": "code",
      "source": [
        "# model=xgb.XGBClassifier(learning_rate =0.1,\n",
        "#  n_estimators=1000,\n",
        "#  max_depth=5,\n",
        "#  min_child_weight=1,\n",
        "#  gamma=0,\n",
        "#  subsample=0.8,\n",
        "#  colsample_bytree=0.8,\n",
        "#  objective= 'binary:logistic',\n",
        "#  nthread=4,\n",
        "#  scale_pos_weight=1,\n",
        "#  seed=27)\n"
      ],
      "metadata": {
        "id": "zutipWKvTUnc"
      },
      "execution_count": null,
      "outputs": []
    },
    {
      "cell_type": "code",
      "source": [
        "# model.fit(Xtrain, Ytrain)"
      ],
      "metadata": {
        "id": "X9fe-CeLTX8j"
      },
      "execution_count": null,
      "outputs": []
    },
    {
      "cell_type": "code",
      "source": [
        "# y_pred=model.predict(Xtest)\n",
        "# print(\"The accuracy is %.2f\"%(accuracy_score(y_pred,Ytest)*100),\"%\")"
      ],
      "metadata": {
        "id": "2X9YszyHTasV"
      },
      "execution_count": null,
      "outputs": []
    },
    {
      "cell_type": "code",
      "source": [
        "from sklearn.metrics import confusion_matrix\n",
        "confusion_matrix(Ytest, y_pred, labels=[0,1])"
      ],
      "metadata": {
        "colab": {
          "base_uri": "https://localhost:8080/"
        },
        "id": "Ff979DZYkb2t",
        "outputId": "c5882245-138e-41df-ab0f-2f992fa379e7"
      },
      "execution_count": null,
      "outputs": [
        {
          "output_type": "execute_result",
          "data": {
            "text/plain": [
              "array([[112,   1],\n",
              "       [  1,  37]])"
            ]
          },
          "metadata": {},
          "execution_count": 179
        }
      ]
    },
    {
      "cell_type": "code",
      "source": [
        "# filename = '/content/drive/My Drive/Colab Notebooks/Explainable-AI/Paper-2/models/1-exp/Multivariate/XGB/PCA_Without_Cross_Validation/XGB_PCA_Without_Cross_Validation.sav'\n",
        "# pickle.dump(model, open(filename, 'wb')) "
      ],
      "metadata": {
        "id": "zTh2OAJskdu1"
      },
      "execution_count": null,
      "outputs": []
    },
    {
      "cell_type": "code",
      "source": [
        "loaded_model = pickle.load(open('/content/drive/My Drive/Colab Notebooks/Explainable-AI/Paper-2/models/1-exp/Multivariate/XGB/PCA_Without_Cross_Validation/XGB_PCA_Without_Cross_Validation.sav', 'rb'))\n",
        "y_pred = loaded_model.predict(Xtest)\n",
        "fpr_xgb, tpr_xgb, _ = metrics.roc_curve(Ytest, y_pred)\n",
        "auc_xgb = round(metrics.roc_auc_score(Ytest, y_pred), 4)\n"
      ],
      "metadata": {
        "id": "JrLBkq-oklaq"
      },
      "execution_count": null,
      "outputs": []
    },
    {
      "cell_type": "code",
      "source": [
        "y_pred=np.round(loaded_model.predict(Xtest)).ravel()\n",
        "print(\"\\nCR by library method=\\n\",\n",
        "          classification_report(Ytest, y_pred))"
      ],
      "metadata": {
        "colab": {
          "base_uri": "https://localhost:8080/"
        },
        "id": "mMPBmGQQR8ah",
        "outputId": "b2719a75-b5fc-4ceb-a0f2-137a791d0aff"
      },
      "execution_count": null,
      "outputs": [
        {
          "output_type": "stream",
          "name": "stdout",
          "text": [
            "\n",
            "CR by library method=\n",
            "               precision    recall  f1-score   support\n",
            "\n",
            "           0       0.97      0.99      0.98       113\n",
            "           1       0.97      0.92      0.95        38\n",
            "\n",
            "    accuracy                           0.97       151\n",
            "   macro avg       0.97      0.96      0.96       151\n",
            "weighted avg       0.97      0.97      0.97       151\n",
            "\n"
          ]
        }
      ]
    },
    {
      "cell_type": "code",
      "source": [
        "XGBoost_Multivariate_imputed_PCA_accuracy=float(classification_report(Ytest, y_pred).split()[15])\n",
        "XGBoost_Multivariate_imputed_PCA_accuracy"
      ],
      "metadata": {
        "colab": {
          "base_uri": "https://localhost:8080/"
        },
        "id": "eAle249qk0fw",
        "outputId": "231a36c8-cc0f-4576-e6de-8ea784183d8b"
      },
      "execution_count": null,
      "outputs": [
        {
          "output_type": "execute_result",
          "data": {
            "text/plain": [
              "0.97"
            ]
          },
          "metadata": {},
          "execution_count": 183
        }
      ]
    },
    {
      "cell_type": "code",
      "source": [
        "# clf=SVC()\n",
        "# clf.fit(Xtrain,Ytrain)\n",
        "# y_pred=clf.predict(Xtest)\n",
        "# print(\"The accuracy is %.2f\"%(accuracy_score(y_pred,Ytest)*100),\"%\")"
      ],
      "metadata": {
        "id": "4w5WJzlhTd1m"
      },
      "execution_count": null,
      "outputs": []
    },
    {
      "cell_type": "code",
      "source": [
        "# filename = '/content/drive/My Drive/Colab Notebooks/Explainable-AI/Paper-2/models/1-exp/Multivariate/SVM/PCA_Without_Cross_Validation/SVM_PCA_Without_Cross_Validation.sav'\n",
        "# pickle.dump(clf, open(filename, 'wb')) \n"
      ],
      "metadata": {
        "id": "HeiKdDFzlaNv"
      },
      "execution_count": null,
      "outputs": []
    },
    {
      "cell_type": "code",
      "source": [
        "loaded_model = pickle.load(open('/content/drive/My Drive/Colab Notebooks/Explainable-AI/Paper-2/models/1-exp/Multivariate/SVM/PCA_Without_Cross_Validation/SVM_PCA_Without_Cross_Validation.sav', 'rb'))\n",
        "y_pred = loaded_model.predict(Xtest)\n",
        "fpr_svc, tpr_svc, _ = metrics.roc_curve(Ytest, y_pred)\n",
        "auc_svc = round(metrics.roc_auc_score(Ytest, y_pred), 4)\n"
      ],
      "metadata": {
        "id": "KSZiJwzjlaaL"
      },
      "execution_count": null,
      "outputs": []
    },
    {
      "cell_type": "code",
      "source": [
        "y_pred=np.round(loaded_model.predict(Xtest)).ravel()\n",
        "print(\"\\nCR by library method=\\n\",\n",
        "          classification_report(Ytest, y_pred))"
      ],
      "metadata": {
        "colab": {
          "base_uri": "https://localhost:8080/"
        },
        "id": "elgtTr86R-pr",
        "outputId": "84afecc3-8066-417f-deda-fb6ebde7d675"
      },
      "execution_count": null,
      "outputs": [
        {
          "output_type": "stream",
          "name": "stdout",
          "text": [
            "\n",
            "CR by library method=\n",
            "               precision    recall  f1-score   support\n",
            "\n",
            "           0       0.95      1.00      0.97       113\n",
            "           1       1.00      0.84      0.91        38\n",
            "\n",
            "    accuracy                           0.96       151\n",
            "   macro avg       0.97      0.92      0.94       151\n",
            "weighted avg       0.96      0.96      0.96       151\n",
            "\n"
          ]
        }
      ]
    },
    {
      "cell_type": "code",
      "source": [
        "SVC_Multivariate_imputed_PCA_accuracy=float(classification_report(Ytest, y_pred).split()[15])\n",
        "SVC_Multivariate_imputed_PCA_accuracy"
      ],
      "metadata": {
        "colab": {
          "base_uri": "https://localhost:8080/"
        },
        "id": "dEyFpDEzlimw",
        "outputId": "69cd1293-ce5d-4b96-fbab-d2cb4be656c9"
      },
      "execution_count": null,
      "outputs": [
        {
          "output_type": "execute_result",
          "data": {
            "text/plain": [
              "0.96"
            ]
          },
          "metadata": {},
          "execution_count": 188
        }
      ]
    },
    {
      "cell_type": "code",
      "source": [
        "plt.gcf().set_size_inches(16.5, 13.5)\n",
        "plt.subplot(211)\n",
        "plt.plot(fpr_mlp,tpr_mlp,marker='.',label=\"MLP_PCA_Non-CV, AUC=\"+str(auc_mlp))\n",
        "plt.subplot(211)\n",
        "plt.plot(fpr_xgb,tpr_xgb,linestyle='--',label=\"XGBoost_PCA_Non-CV, AUC=\"+str(auc_xgb))\n",
        "plt.subplot(211)\n",
        "plt.plot(fpr_svc,tpr_svc,linestyle='--',label=\"SVC_PCA_Non-CV, AUC=\"+str(auc_svc))\n",
        "plt.xlabel('False Positive Rate')\n",
        "plt.ylabel('True Positive Rate')\n",
        "plt.title(\"ROC Curve Plot of PCA without Cross Validation\")\n",
        "plt.legend()"
      ],
      "metadata": {
        "colab": {
          "base_uri": "https://localhost:8080/",
          "height": 494
        },
        "id": "ncvz-JgCmMC0",
        "outputId": "0483e57a-a964-48f6-e875-bf96f83982d1"
      },
      "execution_count": null,
      "outputs": [
        {
          "output_type": "stream",
          "name": "stderr",
          "text": [
            "/usr/local/lib/python3.7/dist-packages/ipykernel_launcher.py:4: MatplotlibDeprecationWarning: Adding an axes using the same arguments as a previous axes currently reuses the earlier instance.  In a future version, a new instance will always be created and returned.  Meanwhile, this warning can be suppressed, and the future behavior ensured, by passing a unique label to each axes instance.\n",
            "  after removing the cwd from sys.path.\n",
            "/usr/local/lib/python3.7/dist-packages/ipykernel_launcher.py:6: MatplotlibDeprecationWarning: Adding an axes using the same arguments as a previous axes currently reuses the earlier instance.  In a future version, a new instance will always be created and returned.  Meanwhile, this warning can be suppressed, and the future behavior ensured, by passing a unique label to each axes instance.\n",
            "  \n"
          ]
        },
        {
          "output_type": "execute_result",
          "data": {
            "text/plain": [
              "<matplotlib.legend.Legend at 0x7f55c2320f50>"
            ]
          },
          "metadata": {},
          "execution_count": 189
        },
        {
          "output_type": "display_data",
          "data": {
            "text/plain": [
              "<Figure size 1188x972 with 1 Axes>"
            ],
            "image/png": "[encoded data removed]"
          },
          "metadata": {
            "needs_background": "light"
          }
        }
      ]
    },
    {
      "cell_type": "markdown",
      "source": [
        "## Training Models with PCA X Imputed by Multivariate Model and with Cross Validation"
      ],
      "metadata": {
        "id": "_4qZsDKJTf9G"
      }
    },
    {
      "cell_type": "code",
      "source": [
        "\n",
        "# K-fold Cross Validation model evaluation\n",
        "acc_per_fold=[]\n",
        "loss_per_fold=[]\n",
        "inputs =np.array(X_reduced)\n",
        "targets = np.array(y)\n",
        "kfold = KFold(n_splits=3, shuffle=True)\n",
        "fold_no = 1\n",
        "for train, test in kfold.split(inputs, targets):\n",
        "\n",
        "  # Define the model architecture\n",
        "  model = Sequential()\n",
        "  model.add(Dense(33, activation='relu', input_dim=(31)))\n",
        "  model.add(Dense(35, activation='relu'))\n",
        "  model.add(Dense(num_classes, activation='sigmoid'))\n",
        "\n",
        "  # Compile the model\n",
        "  model.compile(loss='binary_crossentropy',\n",
        "              optimizer='RMSprop',\n",
        "              metrics=['accuracy'])\n",
        "\n",
        "\n",
        "  # Generate a print\n",
        "  print('------------------------------------------------------------------------')\n",
        "  print(f'Training for fold {fold_no} ...')\n",
        "\n",
        "  # Fit data to model\n",
        "  history = model.fit(inputs[train], targets[train],\n",
        "              batch_size=batch_size,\n",
        "              epochs=epochs,\n",
        "              verbose=0)\n",
        "  # Generate generalization metrics\n",
        "  scores = model.evaluate(inputs[test], targets[test], verbose=0)\n",
        "  print(f'Score for fold {fold_no}: {model.metrics_names[0]} of {scores[0]}; {model.metrics_names[1]} of {scores[1]*100}%')\n",
        "  acc_per_fold.append(scores[1] * 100)\n",
        "  loss_per_fold.append(scores[0])\n",
        "\n",
        "  # Increase fold number\n",
        "  fold_no = fold_no + 1\n",
        "y_pred=np.round(model.predict(inputs[test])).ravel()\n",
        "print(\"\\nCR by library method=\\n\",\n",
        "          classification_report(targets[test], y_pred))"
      ],
      "metadata": {
        "colab": {
          "base_uri": "https://localhost:8080/"
        },
        "id": "V3Ivp6HH2Pdb",
        "outputId": "1d12fca2-c0ec-4a51-b568-35ac5352845e"
      },
      "execution_count": null,
      "outputs": [
        {
          "output_type": "stream",
          "name": "stdout",
          "text": [
            "------------------------------------------------------------------------\n",
            "Training for fold 1 ...\n",
            "Score for fold 1: loss of 0.08253136277198792; accuracy of 97.0149278640747%\n",
            "------------------------------------------------------------------------\n",
            "Training for fold 2 ...\n",
            "Score for fold 2: loss of 0.17285673320293427; accuracy of 98.00000190734863%\n",
            "------------------------------------------------------------------------\n",
            "Training for fold 3 ...\n",
            "Score for fold 3: loss of 0.21451009809970856; accuracy of 96.49999737739563%\n",
            "\n",
            "CR by library method=\n",
            "               precision    recall  f1-score   support\n",
            "\n",
            "           0       0.96      0.99      0.98       146\n",
            "           1       0.98      0.89      0.93        54\n",
            "\n",
            "    accuracy                           0.96       200\n",
            "   macro avg       0.97      0.94      0.95       200\n",
            "weighted avg       0.97      0.96      0.96       200\n",
            "\n"
          ]
        }
      ]
    },
    {
      "cell_type": "code",
      "source": [
        "# filename = '/content/drive/My Drive/Colab Notebooks/Explainable-AI/Paper-2/models/1-exp/Multivariate/MLP/PCA_Cross_Validation/MLP_PCA_Cross_Validation.sav'\n",
        "# pickle.dump(model, open(filename, 'wb')) \n"
      ],
      "metadata": {
        "id": "hnWJgQ1VmgkB"
      },
      "execution_count": null,
      "outputs": []
    },
    {
      "cell_type": "code",
      "source": [
        "loaded_model = pickle.load(open('/content/drive/My Drive/Colab Notebooks/Explainable-AI/Paper-2/models/1-exp/Multivariate/MLP/PCA_Cross_Validation/MLP_PCA_Cross_Validation.sav', 'rb'))\n",
        "y_pred = loaded_model.predict(Xtest)\n",
        "fpr_mlp, tpr_mlp, _ = metrics.roc_curve(Ytest, y_pred)\n",
        "auc_mlp = round(metrics.roc_auc_score(Ytest, y_pred), 4)"
      ],
      "metadata": {
        "id": "HAJGD4XsmiEr"
      },
      "execution_count": null,
      "outputs": []
    },
    {
      "cell_type": "code",
      "source": [
        "y_pred=np.round(loaded_model.predict(inputs[test])).ravel()\n",
        "print(\"\\nCR by library method=\\n\",\n",
        "          classification_report(targets[test], y_pred))"
      ],
      "metadata": {
        "colab": {
          "base_uri": "https://localhost:8080/"
        },
        "id": "cTE9PFJemmhA",
        "outputId": "78de13f0-6d51-458b-9da8-e5e4c4806c76"
      },
      "execution_count": null,
      "outputs": [
        {
          "output_type": "stream",
          "name": "stdout",
          "text": [
            "\n",
            "CR by library method=\n",
            "               precision    recall  f1-score   support\n",
            "\n",
            "           0       0.99      1.00      0.99       146\n",
            "           1       1.00      0.96      0.98        54\n",
            "\n",
            "    accuracy                           0.99       200\n",
            "   macro avg       0.99      0.98      0.99       200\n",
            "weighted avg       0.99      0.99      0.99       200\n",
            "\n"
          ]
        }
      ]
    },
    {
      "cell_type": "code",
      "source": [
        "MLP_Multivariate_imputed_PCA_Cross_Validation_accuracy=float((classification_report(targets[test], y_pred)).split()[15])\n",
        "MLP_Multivariate_imputed_PCA_Cross_Validation_accuracy"
      ],
      "metadata": {
        "colab": {
          "base_uri": "https://localhost:8080/"
        },
        "id": "W-jGYTVemojj",
        "outputId": "46d367da-a51e-4439-d195-0b8ec94247ac"
      },
      "execution_count": null,
      "outputs": [
        {
          "output_type": "execute_result",
          "data": {
            "text/plain": [
              "0.99"
            ]
          },
          "metadata": {},
          "execution_count": 194
        }
      ]
    },
    {
      "cell_type": "code",
      "source": [
        "# cv = KFold(n_splits=3)\n",
        "# PARAMETERS = {\"subsample\":[0.5, 0.75, 1],\n",
        "#               \"colsample_bytree\":[0.5, 0.75, 1],\n",
        "#               \"max_depth\":[2,5, 6, 12],\n",
        "#               \"min_child_weight\":[1,5,15],\n",
        "#               \"learning_rate\":[0.3, 0.1, 0.03],\n",
        "#               \"n_estimators\":[100,500,1000]}\n",
        "# full = xgb.XGBClassifier(n_estimators=100, n_jobs=-1)\n",
        "# model_gs = GridSearchCV(full,param_grid=PARAMETERS,cv=cv,scoring=\"accuracy\")\n",
        "# model_gs.fit(Xtrain,Ytrain, eval_metric=\"error\",verbose=0)\n",
        "# y_pred=model_gs.predict(Xtest)\n",
        "# print(\"The accuracy is %.2f\"%(accuracy_score(y_pred,Ytest)*100),\"%\")"
      ],
      "metadata": {
        "id": "hLIETuLeTjag"
      },
      "execution_count": null,
      "outputs": []
    },
    {
      "cell_type": "code",
      "source": [
        "# filename = '/content/drive/My Drive/Colab Notebooks/Explainable-AI/Paper-2/models/1-exp/Multivariate/XGB/PCA_Cross_Validation/XGB_PCA_Cross_Validation.sav'\n",
        "# pickle.dump(model_gs, open(filename, 'wb')) \n"
      ],
      "metadata": {
        "id": "602E1xT3nyrh"
      },
      "execution_count": null,
      "outputs": []
    },
    {
      "cell_type": "code",
      "source": [
        "loaded_model = pickle.load(open('/content/drive/My Drive/Colab Notebooks/Explainable-AI/Paper-2/models/1-exp/Multivariate/XGB/PCA_Cross_Validation/XGB_PCA_Cross_Validation.sav', 'rb'))\n",
        "y_pred = loaded_model.predict(Xtest)\n",
        "fpr_xgb, tpr_xgb, _ = metrics.roc_curve(Ytest, y_pred)\n",
        "auc_xgb= round(metrics.roc_auc_score(Ytest, y_pred), 4)\n"
      ],
      "metadata": {
        "id": "EM1iW4aln0r5"
      },
      "execution_count": null,
      "outputs": []
    },
    {
      "cell_type": "code",
      "source": [
        "y_pred=np.round(loaded_model.predict(Xtest)).ravel()\n",
        "print(\"\\nCR by library method=\\n\",\n",
        "          classification_report(Ytest, y_pred))"
      ],
      "metadata": {
        "colab": {
          "base_uri": "https://localhost:8080/"
        },
        "id": "ZTNWdFOxSBZe",
        "outputId": "f40ce2bc-c962-444d-c9ec-6a41dcb14afe"
      },
      "execution_count": null,
      "outputs": [
        {
          "output_type": "stream",
          "name": "stdout",
          "text": [
            "\n",
            "CR by library method=\n",
            "               precision    recall  f1-score   support\n",
            "\n",
            "           0       0.96      1.00      0.98       113\n",
            "           1       1.00      0.87      0.93        38\n",
            "\n",
            "    accuracy                           0.97       151\n",
            "   macro avg       0.98      0.93      0.95       151\n",
            "weighted avg       0.97      0.97      0.97       151\n",
            "\n"
          ]
        }
      ]
    },
    {
      "cell_type": "code",
      "source": [
        "XGBoost_Multivariate_imputed_PCA_Cross_Validation_accuracy=float(classification_report(Ytest, y_pred).split()[15])\n",
        "XGBoost_Multivariate_imputed_PCA_Cross_Validation_accuracy"
      ],
      "metadata": {
        "id": "5gIWCzgSn4qU",
        "colab": {
          "base_uri": "https://localhost:8080/"
        },
        "outputId": "dff2f884-0e62-44ad-a122-899af603065a"
      },
      "execution_count": null,
      "outputs": [
        {
          "output_type": "execute_result",
          "data": {
            "text/plain": [
              "0.97"
            ]
          },
          "metadata": {},
          "execution_count": 199
        }
      ]
    },
    {
      "cell_type": "code",
      "source": [
        "# tuned_parameters =  [{'kernel': ['rbf'], 'gamma': [1e-2, 1e-3, 1e-4, 1e-5],\n",
        "#                      'C': [0.001, 0.10, 0.1, 10, 25, 50, 100, 1000]},\n",
        "#                     {'kernel': ['sigmoid'], 'gamma': [1e-2, 1e-3, 1e-4, 1e-5],\n",
        "#                      'C': [0.001, 0.10, 0.1, 10, 25, 50, 100, 1000] },{'kernel': ['linear'], 'C': [0.001, 0.10, 0.1, 10, 25, 50, 100, 1000]}] \n",
        "# clf = GridSearchCV(SVC(), tuned_parameters, cv=cv,\n",
        "#                        scoring='accuracy')\n",
        "# clf.fit(Xtrain,Ytrain)\n",
        "# y_pred=clf.predict(Xtest)\n",
        "# print(\"The accuracy is %.2f\"%(accuracy_score(y_pred,Ytest)*100),\"%\")"
      ],
      "metadata": {
        "id": "wPuvlcn1TsP8"
      },
      "execution_count": null,
      "outputs": []
    },
    {
      "cell_type": "code",
      "source": [
        "# filename = '/content/drive/My Drive/Colab Notebooks/Explainable-AI/Paper-2/models/1-exp/Multivariate/SVM/PCA_Cross_Validation/SVM_PCA_Cross_Validation.sav'\n",
        "# pickle.dump(clf, open(filename, 'wb')) "
      ],
      "metadata": {
        "id": "UUzZYzpSpAEW"
      },
      "execution_count": null,
      "outputs": []
    },
    {
      "cell_type": "code",
      "source": [
        "loaded_model = pickle.load(open('/content/drive/My Drive/Colab Notebooks/Explainable-AI/Paper-2/models/1-exp/Multivariate/SVM/PCA_Cross_Validation/SVM_PCA_Cross_Validation.sav', 'rb'))\n",
        "y_pred = loaded_model.predict(Xtest)\n",
        "fpr_svc, tpr_svc, _ = metrics.roc_curve(Ytest, y_pred)\n",
        "auc_svc = round(metrics.roc_auc_score(Ytest, y_pred), 4)"
      ],
      "metadata": {
        "id": "B77irgGopFQh"
      },
      "execution_count": null,
      "outputs": []
    },
    {
      "cell_type": "code",
      "source": [
        "y_pred=np.round(loaded_model.predict(Xtest)).ravel()\n",
        "print(\"\\nCR by library method=\\n\",\n",
        "          classification_report(Ytest, y_pred))"
      ],
      "metadata": {
        "colab": {
          "base_uri": "https://localhost:8080/"
        },
        "id": "YnsLiShqSDEj",
        "outputId": "8ff26e36-47d7-4d1d-b896-61af8ed89a9f"
      },
      "execution_count": null,
      "outputs": [
        {
          "output_type": "stream",
          "name": "stdout",
          "text": [
            "\n",
            "CR by library method=\n",
            "               precision    recall  f1-score   support\n",
            "\n",
            "           0       1.00      1.00      1.00       113\n",
            "           1       1.00      1.00      1.00        38\n",
            "\n",
            "    accuracy                           1.00       151\n",
            "   macro avg       1.00      1.00      1.00       151\n",
            "weighted avg       1.00      1.00      1.00       151\n",
            "\n"
          ]
        }
      ]
    },
    {
      "cell_type": "code",
      "source": [
        "SVC_Multivariate_imputed_PCA_Cross_Validation_accuracy=float(classification_report(Ytest, y_pred).split()[15])\n",
        "SVC_Multivariate_imputed_PCA_Cross_Validation_accuracy"
      ],
      "metadata": {
        "id": "IqkvEVEipWh0",
        "colab": {
          "base_uri": "https://localhost:8080/"
        },
        "outputId": "8620a30a-6a28-4a62-ea16-6eac4d8aee48"
      },
      "execution_count": null,
      "outputs": [
        {
          "output_type": "execute_result",
          "data": {
            "text/plain": [
              "1.0"
            ]
          },
          "metadata": {},
          "execution_count": 204
        }
      ]
    },
    {
      "cell_type": "code",
      "source": [
        "plt.gcf().set_size_inches(16.5, 13.5)\n",
        "plt.subplot(211)\n",
        "plt.plot(fpr_mlp,tpr_mlp,linestyle='--',label=\"MLP_PCA_CV, AUC=\"+str(auc_mlp))\n",
        "plt.subplot(211)\n",
        "plt.plot(fpr_xgb,tpr_xgb,linestyle='--',label=\"XGBoost_PCA_CV, AUC=\"+str(auc_xgb))\n",
        "plt.subplot(211)\n",
        "plt.plot(fpr_svc,tpr_svc,linestyle='--',label=\"SVC_PCA_CV, AUC=\"+str(auc_svc))\n",
        "plt.xlabel('False Positive Rate')\n",
        "plt.ylabel('True Positive Rate')\n",
        "plt.title(\"ROC Curve Plot of PCA with Cross Validation\")\n",
        "plt.legend()"
      ],
      "metadata": {
        "colab": {
          "base_uri": "https://localhost:8080/",
          "height": 494
        },
        "id": "x51qx3C7qN2l",
        "outputId": "5e9b235d-abc1-4ef6-dce6-cd080367168d"
      },
      "execution_count": null,
      "outputs": [
        {
          "output_type": "stream",
          "name": "stderr",
          "text": [
            "/usr/local/lib/python3.7/dist-packages/ipykernel_launcher.py:4: MatplotlibDeprecationWarning: Adding an axes using the same arguments as a previous axes currently reuses the earlier instance.  In a future version, a new instance will always be created and returned.  Meanwhile, this warning can be suppressed, and the future behavior ensured, by passing a unique label to each axes instance.\n",
            "  after removing the cwd from sys.path.\n",
            "/usr/local/lib/python3.7/dist-packages/ipykernel_launcher.py:6: MatplotlibDeprecationWarning: Adding an axes using the same arguments as a previous axes currently reuses the earlier instance.  In a future version, a new instance will always be created and returned.  Meanwhile, this warning can be suppressed, and the future behavior ensured, by passing a unique label to each axes instance.\n",
            "  \n"
          ]
        },
        {
          "output_type": "execute_result",
          "data": {
            "text/plain": [
              "<matplotlib.legend.Legend at 0x7f55b35e5c50>"
            ]
          },
          "metadata": {},
          "execution_count": 205
        },
        {
          "output_type": "display_data",
          "data": {
            "text/plain": [
              "<Figure size 1188x972 with 1 Axes>"
            ],
            "image/png": "[encoded data removed]"
          },
          "metadata": {
            "needs_background": "light"
          }
        }
      ]
    },
    {
      "cell_type": "markdown",
      "source": [
        "## Training Models with Non-PCA X Imputed by Multivariate Model and without Cross Validation"
      ],
      "metadata": {
        "id": "D7avBFaBTubF"
      }
    },
    {
      "cell_type": "code",
      "source": [
        "Xtrain,Xtest,Ytrain,Ytest=train_test_split(X,y,random_state=42,stratify=y)"
      ],
      "metadata": {
        "id": "COU6aM9STySt"
      },
      "execution_count": null,
      "outputs": []
    },
    {
      "cell_type": "code",
      "source": [
        "# m = Sequential()\n",
        "# m.add(Dense(44, activation='relu', input_dim=(43)))\n",
        "# m.add(Dense(46, activation='relu'))\n",
        "# # m.add(Dense(128, activation='relu'))\n",
        "# # m.add(Dense(64, activation='relu'))\n",
        "# m.add(Dense(num_classes, activation='sigmoid'))"
      ],
      "metadata": {
        "id": "pGXDgSh1T8i9"
      },
      "execution_count": null,
      "outputs": []
    },
    {
      "cell_type": "code",
      "source": [
        "# m.compile(loss='binary_crossentropy',\n",
        "#               optimizer='RMSprop',\n",
        "#               metrics=['accuracy'])\n",
        "# history = m.fit(Xtrain, Ytrain,batch_size=batch_size,epochs=epochs,verbose=0,\n",
        "#                     validation_data=(Xtest, Ytest))"
      ],
      "metadata": {
        "id": "yBR32AYAT-oW"
      },
      "execution_count": null,
      "outputs": []
    },
    {
      "cell_type": "code",
      "source": [
        "# loss,accuracy=m.evaluate(Xtest,Ytest)\n",
        "# print(\"Accuracy: %.2f\"%(accuracy*100),\"%\")"
      ],
      "metadata": {
        "id": "TgiyuGTsUA1f"
      },
      "execution_count": null,
      "outputs": []
    },
    {
      "cell_type": "code",
      "source": [
        "# filename = '/content/drive/My Drive/Colab Notebooks/Explainable-AI/Paper-2/models/1-exp/Multivariate/MLP/Non_PCA_Without_Cross_Validation/MLP_Non_PCA_Without_Cross_Validation.sav'\n",
        "# pickle.dump(m, open(filename, 'wb')) "
      ],
      "metadata": {
        "id": "WXZM6MC-q5BS"
      },
      "execution_count": null,
      "outputs": []
    },
    {
      "cell_type": "code",
      "source": [
        "loaded_model = pickle.load(open('/content/drive/My Drive/Colab Notebooks/Explainable-AI/Paper-2/models/1-exp/Multivariate/MLP/Non_PCA_Without_Cross_Validation/MLP_Non_PCA_Without_Cross_Validation.sav', 'rb'))\n",
        "y_pred = loaded_model.predict(Xtest)\n",
        "fpr_mlp, tpr_mlp, _ = metrics.roc_curve(Ytest, y_pred)\n",
        "auc_mlp = round(metrics.roc_auc_score(Ytest, y_pred), 4)"
      ],
      "metadata": {
        "id": "CEKrPZIustVT"
      },
      "execution_count": null,
      "outputs": []
    },
    {
      "cell_type": "code",
      "source": [
        "y_pred=np.round(loaded_model.predict(Xtest)).ravel()\n",
        "print(\"\\nCR by library method=\\n\",\n",
        "          classification_report(Ytest, y_pred))"
      ],
      "metadata": {
        "colab": {
          "base_uri": "https://localhost:8080/"
        },
        "id": "5miq0Os9SFvD",
        "outputId": "f10124a3-dabd-43fb-8696-92c57b36da95"
      },
      "execution_count": null,
      "outputs": [
        {
          "output_type": "stream",
          "name": "stdout",
          "text": [
            "\n",
            "CR by library method=\n",
            "               precision    recall  f1-score   support\n",
            "\n",
            "           0       0.99      1.00      1.00       113\n",
            "           1       1.00      0.97      0.99        38\n",
            "\n",
            "    accuracy                           0.99       151\n",
            "   macro avg       1.00      0.99      0.99       151\n",
            "weighted avg       0.99      0.99      0.99       151\n",
            "\n"
          ]
        }
      ]
    },
    {
      "cell_type": "code",
      "source": [
        "MLP_Multivariate_imputed_Non_PCA_Non_Cross_accuracy=float(classification_report(Ytest, y_pred).split()[15])\n",
        "MLP_Multivariate_imputed_Non_PCA_Non_Cross_accuracy"
      ],
      "metadata": {
        "id": "M5N5TSx3rFD0",
        "colab": {
          "base_uri": "https://localhost:8080/"
        },
        "outputId": "404d8280-57db-42d1-bd23-2297df16cca6"
      },
      "execution_count": null,
      "outputs": [
        {
          "output_type": "execute_result",
          "data": {
            "text/plain": [
              "0.99"
            ]
          },
          "metadata": {},
          "execution_count": 213
        }
      ]
    },
    {
      "cell_type": "code",
      "source": [
        "# full_boost=xgb.XGBClassifier(learning_rate =0.1,\n",
        "#  n_estimators=1000,\n",
        "#  max_depth=5,\n",
        "#  min_child_weight=1,\n",
        "#  gamma=0,\n",
        "#  subsample=0.8,\n",
        "#  colsample_bytree=0.8,\n",
        "#  objective= 'binary:logistic',\n",
        "#  nthread=4,\n",
        "#  scale_pos_weight=1,\n",
        "#  seed=27)\n",
        "# full_boost.fit(Xtrain, Ytrain)\n",
        "# y_pred=full_boost.predict(Xtest)\n",
        "# print(\"The accuracy is %.2f\"%(accuracy_score(y_pred,Ytest)*100),\"%\")"
      ],
      "metadata": {
        "id": "06PJqGGbUFnC"
      },
      "execution_count": null,
      "outputs": []
    },
    {
      "cell_type": "code",
      "source": [
        "# filename = '/content/drive/My Drive/Colab Notebooks/Explainable-AI/Paper-2/models/1-exp/Multivariate/XGB/Non_PCA_Without_Cross_Validation/XGB_Non_PCA_Without_Cross_Validation.sav' \n",
        "# pickle.dump(full_boost, open(filename, 'wb')) \n"
      ],
      "metadata": {
        "id": "hVB0s9xNtOSX"
      },
      "execution_count": null,
      "outputs": []
    },
    {
      "cell_type": "code",
      "source": [
        "loadedmodel = pickle.load(open('/content/drive/My Drive/Colab Notebooks/Explainable-AI/Paper-2/models/1-exp/Multivariate/XGB/Non_PCA_Without_Cross_Validation/XGB_Non_PCA_Without_Cross_Validation.sav', 'rb'))\n",
        "y_pred = loadedmodel.predict(Xtest)\n",
        "fpr_xgb, tpr_xgb, _ = metrics.roc_curve(Ytest, y_pred)\n",
        "auc_xgb = round(metrics.roc_auc_score(Ytest, y_pred), 4)\n"
      ],
      "metadata": {
        "id": "zox8mU0utRbr"
      },
      "execution_count": null,
      "outputs": []
    },
    {
      "cell_type": "code",
      "source": [
        "y_pred=np.round(loadedmodel.predict(Xtest)).ravel()\n",
        "print(\"\\nCR by library method=\\n\",\n",
        "          classification_report(Ytest, y_pred))"
      ],
      "metadata": {
        "colab": {
          "base_uri": "https://localhost:8080/"
        },
        "id": "wKUpv2TXSIwq",
        "outputId": "d3dccf70-4550-4551-ffe5-91b432177196"
      },
      "execution_count": null,
      "outputs": [
        {
          "output_type": "stream",
          "name": "stdout",
          "text": [
            "\n",
            "CR by library method=\n",
            "               precision    recall  f1-score   support\n",
            "\n",
            "           0       1.00      1.00      1.00       113\n",
            "           1       1.00      1.00      1.00        38\n",
            "\n",
            "    accuracy                           1.00       151\n",
            "   macro avg       1.00      1.00      1.00       151\n",
            "weighted avg       1.00      1.00      1.00       151\n",
            "\n"
          ]
        }
      ]
    },
    {
      "cell_type": "code",
      "source": [
        "XGBoost_Multivariate_imputed_Non_PCA_Non_Cross_accuracy=float(classification_report(Ytest, y_pred).split()[15])\n",
        "XGBoost_Multivariate_imputed_Non_PCA_Non_Cross_accuracy"
      ],
      "metadata": {
        "colab": {
          "base_uri": "https://localhost:8080/"
        },
        "id": "gyWtF1pvtWFl",
        "outputId": "38a0e499-e9ad-4f64-a32c-777e9f6f9736"
      },
      "execution_count": null,
      "outputs": [
        {
          "output_type": "execute_result",
          "data": {
            "text/plain": [
              "1.0"
            ]
          },
          "metadata": {},
          "execution_count": 218
        }
      ]
    },
    {
      "cell_type": "code",
      "source": [
        "# clf=SVC()\n",
        "# clf.fit(Xtrain,Ytrain)\n",
        "# y_pred=clf.predict(Xtest)\n",
        "# print(\"The accuracy is %.2f\"%(accuracy_score(y_pred,Ytest)*100),\"%\")"
      ],
      "metadata": {
        "id": "GpgtouRvUIAK"
      },
      "execution_count": null,
      "outputs": []
    },
    {
      "cell_type": "code",
      "source": [
        "# filename = '/content/drive/My Drive/Colab Notebooks/Explainable-AI/Paper-2/models/1-exp/Multivariate/SVM/Non_PCA_Without_Cross_Validation/SVM_Non_PCA_Without_Cross_Validation.sav'\n",
        "# pickle.dump(clf, open(filename, 'wb')) \n"
      ],
      "metadata": {
        "id": "wIxvgEJTt79U"
      },
      "execution_count": null,
      "outputs": []
    },
    {
      "cell_type": "code",
      "source": [
        "loaded_model = pickle.load(open('/content/drive/My Drive/Colab Notebooks/Explainable-AI/Paper-2/models/1-exp/Multivariate/SVM/Non_PCA_Without_Cross_Validation/SVM_Non_PCA_Without_Cross_Validation.sav', 'rb'))\n",
        "y_pred = loaded_model.predict(Xtest)\n",
        "fpr_svc, tpr_svc, _ = metrics.roc_curve(Ytest, y_pred)\n",
        "auc_svc = round(metrics.roc_auc_score(Ytest, y_pred), 4)"
      ],
      "metadata": {
        "id": "dmQ0wjDPuAmo"
      },
      "execution_count": null,
      "outputs": []
    },
    {
      "cell_type": "code",
      "source": [
        "y_pred=np.round(loaded_model.predict(Xtest)).ravel()\n",
        "print(\"\\nCR by library method=\\n\",\n",
        "          classification_report(Ytest, y_pred))"
      ],
      "metadata": {
        "colab": {
          "base_uri": "https://localhost:8080/"
        },
        "id": "DxHBnF98SMdt",
        "outputId": "baceadd2-a847-4f11-b30c-4c42a53a559e"
      },
      "execution_count": null,
      "outputs": [
        {
          "output_type": "stream",
          "name": "stdout",
          "text": [
            "\n",
            "CR by library method=\n",
            "               precision    recall  f1-score   support\n",
            "\n",
            "           0       0.96      1.00      0.98       113\n",
            "           1       1.00      0.87      0.93        38\n",
            "\n",
            "    accuracy                           0.97       151\n",
            "   macro avg       0.98      0.93      0.95       151\n",
            "weighted avg       0.97      0.97      0.97       151\n",
            "\n"
          ]
        }
      ]
    },
    {
      "cell_type": "code",
      "source": [
        "SVC_Multivariate_imputed_Non_PCA_Non_Cross_accuracy=float(classification_report(Ytest, y_pred).split()[15])\n",
        "SVC_Multivariate_imputed_Non_PCA_Non_Cross_accuracy"
      ],
      "metadata": {
        "id": "pIBGbG52uEPX",
        "colab": {
          "base_uri": "https://localhost:8080/"
        },
        "outputId": "6c92a1d1-29cb-4b19-982f-dc3bb031ddcf"
      },
      "execution_count": null,
      "outputs": [
        {
          "output_type": "execute_result",
          "data": {
            "text/plain": [
              "0.97"
            ]
          },
          "metadata": {},
          "execution_count": 223
        }
      ]
    },
    {
      "cell_type": "code",
      "source": [
        "plt.gcf().set_size_inches(16.5, 13.5)\n",
        "plt.subplot(211)\n",
        "plt.plot(fpr_mlp,tpr_mlp, linestyle='--',label=\"MLP_Non-PCA_Non-CV, AUC=\"+str(auc_mlp))\n",
        "plt.subplot(211)\n",
        "plt.plot(fpr_xgb,tpr_xgb, linestyle='--',label=\"XGBoost_Non-PCA_Non-CV, AUC=\"+str(auc_xgb))\n",
        "plt.subplot(211)\n",
        "plt.plot(fpr_svc,tpr_svc, linestyle='--',label=\"SVC_Non-PCA_Non-CV, AUC=\"+str(auc_svc))\n",
        "plt.xlabel('False Positive Rate')\n",
        "plt.ylabel('True Positive Rate')\n",
        "plt.title(\"ROC Curve Plot of Non-PCA without Cross Validation\")\n",
        "plt.legend()"
      ],
      "metadata": {
        "colab": {
          "base_uri": "https://localhost:8080/",
          "height": 494
        },
        "id": "cl-5JXz8u2Wd",
        "outputId": "b7504595-f147-4172-f20b-41858d70570c"
      },
      "execution_count": null,
      "outputs": [
        {
          "output_type": "stream",
          "name": "stderr",
          "text": [
            "/usr/local/lib/python3.7/dist-packages/ipykernel_launcher.py:4: MatplotlibDeprecationWarning: Adding an axes using the same arguments as a previous axes currently reuses the earlier instance.  In a future version, a new instance will always be created and returned.  Meanwhile, this warning can be suppressed, and the future behavior ensured, by passing a unique label to each axes instance.\n",
            "  after removing the cwd from sys.path.\n",
            "/usr/local/lib/python3.7/dist-packages/ipykernel_launcher.py:6: MatplotlibDeprecationWarning: Adding an axes using the same arguments as a previous axes currently reuses the earlier instance.  In a future version, a new instance will always be created and returned.  Meanwhile, this warning can be suppressed, and the future behavior ensured, by passing a unique label to each axes instance.\n",
            "  \n"
          ]
        },
        {
          "output_type": "execute_result",
          "data": {
            "text/plain": [
              "<matplotlib.legend.Legend at 0x7f55b433a0d0>"
            ]
          },
          "metadata": {},
          "execution_count": 224
        },
        {
          "output_type": "display_data",
          "data": {
            "text/plain": [
              "<Figure size 1188x972 with 1 Axes>"
            ],
            "image/png": "[encoded data removed]"
          },
          "metadata": {
            "needs_background": "light"
          }
        }
      ]
    },
    {
      "cell_type": "markdown",
      "source": [
        "### Training Models with Non-PCA X Imputed by Multivariate Model and with Cross Validation"
      ],
      "metadata": {
        "id": "pHivuF8MUKc7"
      }
    },
    {
      "cell_type": "code",
      "source": [
        "\n",
        "# K-fold Cross Validation model evaluation\n",
        "acc_per_fold=[]\n",
        "loss_per_fold=[]\n",
        "inputs =np.array(X)\n",
        "targets = np.array(y)\n",
        "kfold = KFold(n_splits=3, shuffle=True)\n",
        "fold_no = 1\n",
        "for train, test in kfold.split(inputs, targets):\n",
        "\n",
        "  # Define the model architecture\n",
        "  model = Sequential()\n",
        "  model.add(Dense(33, activation='relu', input_dim=(43)))\n",
        "  model.add(Dense(35, activation='relu'))\n",
        "  model.add(Dense(num_classes, activation='sigmoid'))\n",
        "\n",
        "  # Compile the model\n",
        "  model.compile(loss='binary_crossentropy',\n",
        "              optimizer='RMSprop',\n",
        "              metrics=['accuracy'])\n",
        "\n",
        "\n",
        "  # Generate a print\n",
        "  print('------------------------------------------------------------------------')\n",
        "  print(f'Training for fold {fold_no} ...')\n",
        "\n",
        "  # Fit data to model\n",
        "  history = model.fit(inputs[train], targets[train],\n",
        "              batch_size=batch_size,\n",
        "              epochs=epochs,\n",
        "              verbose=0)\n",
        "  # Generate generalization metrics\n",
        "  scores = model.evaluate(inputs[test], targets[test], verbose=0)\n",
        "  print(f'Score for fold {fold_no}: {model.metrics_names[0]} of {scores[0]}; {model.metrics_names[1]} of {scores[1]*100}%')\n",
        "  acc_per_fold.append(scores[1] * 100)\n",
        "  loss_per_fold.append(scores[0])\n",
        "\n",
        "  # Increase fold number\n",
        "  fold_no = fold_no + 1\n",
        "y_pred=np.round(model.predict(inputs[test])).ravel()\n",
        "print(\"\\nCR by library method=\\n\",\n",
        "          classification_report(targets[test], y_pred))"
      ],
      "metadata": {
        "colab": {
          "base_uri": "https://localhost:8080/"
        },
        "id": "JWp10GrP2a4J",
        "outputId": "6e7370cf-3321-454f-9e83-f8481b8d8d67"
      },
      "execution_count": null,
      "outputs": [
        {
          "output_type": "stream",
          "name": "stdout",
          "text": [
            "------------------------------------------------------------------------\n",
            "Training for fold 1 ...\n",
            "Score for fold 1: loss of 0.17665238678455353; accuracy of 97.0149278640747%\n",
            "------------------------------------------------------------------------\n",
            "Training for fold 2 ...\n",
            "Score for fold 2: loss of 0.02998773381114006; accuracy of 99.00000095367432%\n",
            "------------------------------------------------------------------------\n",
            "Training for fold 3 ...\n",
            "Score for fold 3: loss of 0.07011710852384567; accuracy of 98.00000190734863%\n",
            "\n",
            "CR by library method=\n",
            "               precision    recall  f1-score   support\n",
            "\n",
            "           0       0.99      0.99      0.99       153\n",
            "           1       0.96      0.96      0.96        47\n",
            "\n",
            "    accuracy                           0.98       200\n",
            "   macro avg       0.97      0.97      0.97       200\n",
            "weighted avg       0.98      0.98      0.98       200\n",
            "\n"
          ]
        }
      ]
    },
    {
      "cell_type": "code",
      "source": [
        "# filename = '/content/drive/My Drive/Colab Notebooks/Explainable-AI/Paper-2/models/1-exp/Multivariate/MLP/Non_PCA_Cross_Validation/MLP_Non_PCA_Cross_Validation.sav'\n",
        "# pickle.dump(model, open(filename, 'wb')) "
      ],
      "metadata": {
        "id": "PNt9EZa9vOVP"
      },
      "execution_count": null,
      "outputs": []
    },
    {
      "cell_type": "code",
      "source": [
        "loaded_model = pickle.load(open('/content/drive/My Drive/Colab Notebooks/Explainable-AI/Paper-2/models/1-exp/Multivariate/MLP/Non_PCA_Cross_Validation/MLP_Non_PCA_Cross_Validation.sav', 'rb'))\n",
        "y_pred = loaded_model.predict(Xtest)\n",
        "fpr_mlp, tpr_mlp, _ = metrics.roc_curve(Ytest, y_pred)\n",
        "auc_mlp = round(metrics.roc_auc_score(Ytest, y_pred), 4)"
      ],
      "metadata": {
        "id": "-51rdaS1vPyO"
      },
      "execution_count": null,
      "outputs": []
    },
    {
      "cell_type": "code",
      "source": [
        "y_pred=np.round(loaded_model.predict(inputs[test])).ravel()\n",
        "print(\"\\nCR by library method=\\n\",\n",
        "          classification_report(targets[test], y_pred))"
      ],
      "metadata": {
        "colab": {
          "base_uri": "https://localhost:8080/"
        },
        "id": "OwDhdlt9vTty",
        "outputId": "21d20146-c26b-4979-941a-6f9f96bc0b45"
      },
      "execution_count": null,
      "outputs": [
        {
          "output_type": "stream",
          "name": "stdout",
          "text": [
            "\n",
            "CR by library method=\n",
            "               precision    recall  f1-score   support\n",
            "\n",
            "           0       1.00      1.00      1.00       153\n",
            "           1       1.00      1.00      1.00        47\n",
            "\n",
            "    accuracy                           1.00       200\n",
            "   macro avg       1.00      1.00      1.00       200\n",
            "weighted avg       1.00      1.00      1.00       200\n",
            "\n"
          ]
        }
      ]
    },
    {
      "cell_type": "code",
      "source": [
        "MLP_Multivariate_imputed_Non_PCA_Cross_Validation_accuracy=float((classification_report(targets[test], y_pred)).split()[15])\n",
        "MLP_Multivariate_imputed_Non_PCA_Cross_Validation_accuracy"
      ],
      "metadata": {
        "colab": {
          "base_uri": "https://localhost:8080/"
        },
        "id": "9U7j366mvVZV",
        "outputId": "284659ee-8272-40c9-fc79-48acff38eb38"
      },
      "execution_count": null,
      "outputs": [
        {
          "output_type": "execute_result",
          "data": {
            "text/plain": [
              "1.0"
            ]
          },
          "metadata": {},
          "execution_count": 229
        }
      ]
    },
    {
      "cell_type": "code",
      "source": [
        "# cv = KFold(n_splits=3)\n",
        "# PARAMETERS = {\"subsample\":[0.5, 0.75, 1],\n",
        "#               \"colsample_bytree\":[0.5, 0.75, 1],\n",
        "#               \"max_depth\":[2,5, 6, 12],\n",
        "#               \"min_child_weight\":[1,5,15],\n",
        "#               \"learning_rate\":[0.3, 0.1, 0.03],\n",
        "#               \"n_estimators\":[100,500,1000]}\n",
        "# full = xgb.XGBClassifier(n_estimators=100, n_jobs=-1)\n",
        "# model_gs = GridSearchCV(full,param_grid=PARAMETERS,cv=cv,scoring=\"accuracy\")\n",
        "# model_gs.fit(Xtrain,Ytrain, eval_metric=\"error\",verbose=0)\n",
        "# y_pred=model_gs.predict(Xtest)\n",
        "# print(\"The accuracy is %.2f\"%(accuracy_score(y_pred,Ytest)*100),\"%\")"
      ],
      "metadata": {
        "id": "6U3yN--MUObc"
      },
      "execution_count": null,
      "outputs": []
    },
    {
      "cell_type": "code",
      "source": [
        "# filename = '/content/drive/My Drive/Colab Notebooks/Explainable-AI/Paper-2/models/1-exp/Multivariate/XGB/Non_PCA_Cross_Validation/XGB_Non_PCA_Cross_Validation.sav'\n",
        "# pickle.dump(model_gs, open(filename, 'wb')) \n"
      ],
      "metadata": {
        "id": "vdUQSXlMwwVj"
      },
      "execution_count": null,
      "outputs": []
    },
    {
      "cell_type": "code",
      "source": [
        "loadedmodel = pickle.load(open('/content/drive/My Drive/Colab Notebooks/Explainable-AI/Paper-2/models/1-exp/Multivariate/XGB/Non_PCA_Cross_Validation/XGB_Non_PCA_Cross_Validation.sav', 'rb'))\n",
        "y_pred = loadedmodel.predict(Xtest)\n",
        "fpr_xgb, tpr_xgb, _ = metrics.roc_curve(Ytest, y_pred)\n",
        "auc_xgb = round(metrics.roc_auc_score(Ytest, y_pred), 4)\n"
      ],
      "metadata": {
        "id": "SPzSy6hZwxsQ"
      },
      "execution_count": null,
      "outputs": []
    },
    {
      "cell_type": "code",
      "source": [
        "y_pred=np.round(loadedmodel.predict(Xtest)).ravel()\n",
        "print(\"\\nCR by library method=\\n\",\n",
        "          classification_report(Ytest, y_pred))"
      ],
      "metadata": {
        "id": "sXSzqGZeSPeZ",
        "colab": {
          "base_uri": "https://localhost:8080/"
        },
        "outputId": "1ed44b42-97f7-4aeb-f787-94b3731bb9e1"
      },
      "execution_count": null,
      "outputs": [
        {
          "output_type": "stream",
          "name": "stdout",
          "text": [
            "\n",
            "CR by library method=\n",
            "               precision    recall  f1-score   support\n",
            "\n",
            "           0       1.00      1.00      1.00       113\n",
            "           1       1.00      1.00      1.00        38\n",
            "\n",
            "    accuracy                           1.00       151\n",
            "   macro avg       1.00      1.00      1.00       151\n",
            "weighted avg       1.00      1.00      1.00       151\n",
            "\n"
          ]
        }
      ]
    },
    {
      "cell_type": "code",
      "source": [
        "XGBoost_Multivariate_imputed_Non_PCA_Cross_Validation_accuracy=float(classification_report(Ytest, y_pred).split()[15])\n",
        "XGBoost_Multivariate_imputed_Non_PCA_Cross_Validation_accuracy"
      ],
      "metadata": {
        "id": "96iPXy3Kxm75",
        "colab": {
          "base_uri": "https://localhost:8080/"
        },
        "outputId": "b21018d0-9e9b-4669-df0a-be15df561abd"
      },
      "execution_count": null,
      "outputs": [
        {
          "output_type": "execute_result",
          "data": {
            "text/plain": [
              "1.0"
            ]
          },
          "metadata": {},
          "execution_count": 234
        }
      ]
    },
    {
      "cell_type": "code",
      "source": [
        "# tuned_parameters =  [{'kernel': ['rbf'], 'gamma': [1e-2, 1e-3, 1e-4, 1e-5],\n",
        "#                      'C': [0.001, 0.10, 0.1, 10, 25, 50, 100, 1000]},\n",
        "#                     {'kernel': ['sigmoid'], 'gamma': [1e-2, 1e-3, 1e-4, 1e-5],\n",
        "#                      'C': [0.001, 0.10, 0.1, 10, 25, 50, 100, 1000] },{'kernel': ['linear'], 'C': [0.001, 0.10, 0.1, 10, 25, 50, 100, 1000]}] \n",
        "# clf = GridSearchCV(SVC(), tuned_parameters, cv=cv,\n",
        "#                        scoring='accuracy')\n",
        "# clf.fit(Xtrain,Ytrain)\n",
        "# y_pred=clf.predict(Xtest)\n",
        "# print(\"The accuracy is %.2f\"%(accuracy_score(y_pred,Ytest)*100),\"%\")"
      ],
      "metadata": {
        "id": "0bEuo0PjUVwL"
      },
      "execution_count": null,
      "outputs": []
    },
    {
      "cell_type": "code",
      "source": [
        "# filename = '/content/drive/My Drive/Colab Notebooks/Explainable-AI/Paper-2/models/1-exp/Multivariate/SVM/Non_PCA_Cross_Validation/SVM_Non_PCA_Cross_Validation.sav'\n",
        "# pickle.dump(clf, open(filename, 'wb')) \n"
      ],
      "metadata": {
        "id": "sRBW92yFyAzF"
      },
      "execution_count": null,
      "outputs": []
    },
    {
      "cell_type": "code",
      "source": [
        "loaded_model = pickle.load(open('/content/drive/My Drive/Colab Notebooks/Explainable-AI/Paper-2/models/1-exp/Multivariate/SVM/Non_PCA_Cross_Validation/SVM_Non_PCA_Cross_Validation.sav', 'rb'))\n",
        "y_pred = loaded_model.predict(Xtest)\n",
        "fpr_svc, tpr_svc, _ = metrics.roc_curve(Ytest, y_pred)\n",
        "auc_svc = round(metrics.roc_auc_score(Ytest, y_pred), 4)"
      ],
      "metadata": {
        "id": "fCMieweEyD9o"
      },
      "execution_count": null,
      "outputs": []
    },
    {
      "cell_type": "code",
      "source": [
        "y_pred=np.round(loaded_model.predict(Xtest)).ravel()\n",
        "print(\"\\nCR by library method=\\n\",\n",
        "          classification_report(Ytest, y_pred))"
      ],
      "metadata": {
        "id": "u9pkw0YQSSZ3",
        "colab": {
          "base_uri": "https://localhost:8080/"
        },
        "outputId": "d4bf62c7-168b-412c-ca91-2991f624b2f3"
      },
      "execution_count": null,
      "outputs": [
        {
          "output_type": "stream",
          "name": "stdout",
          "text": [
            "\n",
            "CR by library method=\n",
            "               precision    recall  f1-score   support\n",
            "\n",
            "           0       1.00      1.00      1.00       113\n",
            "           1       1.00      1.00      1.00        38\n",
            "\n",
            "    accuracy                           1.00       151\n",
            "   macro avg       1.00      1.00      1.00       151\n",
            "weighted avg       1.00      1.00      1.00       151\n",
            "\n"
          ]
        }
      ]
    },
    {
      "cell_type": "code",
      "source": [
        "SVC_Multivariate_imputed_Non_PCA_Cross_Validation_accuracy=float(classification_report(Ytest, y_pred).split()[15])\n",
        "SVC_Multivariate_imputed_Non_PCA_Cross_Validation_accuracy"
      ],
      "metadata": {
        "id": "Ijm58jWYyJiE",
        "colab": {
          "base_uri": "https://localhost:8080/"
        },
        "outputId": "3aa09a96-9436-4655-b0b0-b22184f3baf5"
      },
      "execution_count": null,
      "outputs": [
        {
          "output_type": "execute_result",
          "data": {
            "text/plain": [
              "1.0"
            ]
          },
          "metadata": {},
          "execution_count": 239
        }
      ]
    },
    {
      "cell_type": "code",
      "source": [
        "plt.gcf().set_size_inches(16.5, 13.5)\n",
        "plt.subplot(211)\n",
        "plt.plot(fpr_mlp,tpr_mlp, linestyle='--',label=\"MLP_Non-PCA_CV, AUC=\"+str(auc_mlp))\n",
        "plt.subplot(211)\n",
        "plt.plot(fpr_xgb,tpr_xgb, linestyle='--',label=\"XGBoost_Non-PCA_CV, AUC=\"+str(auc_xgb))\n",
        "plt.subplot(211)\n",
        "plt.plot(fpr_svc,tpr_svc, linestyle='--',label=\"SVC_Non-PCA_CV, AUC=\"+str(auc_svc))\n",
        "plt.xlabel('False Positive Rate')\n",
        "plt.ylabel('True Positive Rate')\n",
        "plt.title(\"ROC Curve Plot of Non-PCA with Cross Validation\")\n",
        "plt.legend()"
      ],
      "metadata": {
        "colab": {
          "base_uri": "https://localhost:8080/",
          "height": 494
        },
        "id": "8WiHeFJjzhCX",
        "outputId": "ba4897f3-2644-4f4d-f0d5-8b799bc56323"
      },
      "execution_count": null,
      "outputs": [
        {
          "output_type": "stream",
          "name": "stderr",
          "text": [
            "/usr/local/lib/python3.7/dist-packages/ipykernel_launcher.py:4: MatplotlibDeprecationWarning: Adding an axes using the same arguments as a previous axes currently reuses the earlier instance.  In a future version, a new instance will always be created and returned.  Meanwhile, this warning can be suppressed, and the future behavior ensured, by passing a unique label to each axes instance.\n",
            "  after removing the cwd from sys.path.\n",
            "/usr/local/lib/python3.7/dist-packages/ipykernel_launcher.py:6: MatplotlibDeprecationWarning: Adding an axes using the same arguments as a previous axes currently reuses the earlier instance.  In a future version, a new instance will always be created and returned.  Meanwhile, this warning can be suppressed, and the future behavior ensured, by passing a unique label to each axes instance.\n",
            "  \n"
          ]
        },
        {
          "output_type": "execute_result",
          "data": {
            "text/plain": [
              "<matplotlib.legend.Legend at 0x7f55b3f85910>"
            ]
          },
          "metadata": {},
          "execution_count": 240
        },
        {
          "output_type": "display_data",
          "data": {
            "text/plain": [
              "<Figure size 1188x972 with 1 Axes>"
            ],
            "image/png": "[encoded data removed]"
          },
          "metadata": {
            "needs_background": "light"
          }
        }
      ]
    },
    {
      "cell_type": "markdown",
      "source": [
        "# Joining and Scaling Data Imputed by the Univariate Imputation method"
      ],
      "metadata": {
        "id": "BtrPwpWnUlPV"
      }
    },
    {
      "cell_type": "code",
      "source": [
        "univariate_scaled=StandardScaler().fit_transform(simple_imputed_df)\n",
        "univariate_imputed_df=pd.DataFrame(univariate_scaled, columns=numeric_data.columns)"
      ],
      "metadata": {
        "id": "ITeWLejgUpUo"
      },
      "execution_count": null,
      "outputs": []
    },
    {
      "cell_type": "code",
      "source": [
        "data=pd.concat([univariate_imputed_df,objects], axis=1)\n",
        "y=data['Degree_Severe']\n",
        "X=data.iloc[:,:-1]"
      ],
      "metadata": {
        "id": "WrLKtjLhVAw7"
      },
      "execution_count": null,
      "outputs": []
    },
    {
      "cell_type": "code",
      "source": [
        "pca = PCA()\n",
        "pca.fit(X)\n",
        "cumsum = np.cumsum(pca.explained_variance_ratio_)\n",
        "d = np.argmax(cumsum >= 0.95) + 1\n",
        "pca = PCA(n_components=0.95)\n",
        "X_reduced = pca.fit_transform(X)"
      ],
      "metadata": {
        "id": "M0kOSRgYVUwr"
      },
      "execution_count": null,
      "outputs": []
    },
    {
      "cell_type": "code",
      "source": [
        "# number of components\n",
        "n_pcs= pca.components_.shape[0]\n",
        "\n",
        "# get the index of the most important feature on EACH component\n",
        "# LIST COMPREHENSION HERE\n",
        "most_important = [np.abs(pca.components_[i]).argmax() for i in range(n_pcs)]\n",
        "\n",
        "initial_feature_names = X.columns\n",
        "# get the names\n",
        "most_important_names = [initial_feature_names[most_important[i]] for i in range(n_pcs)]\n",
        "\n",
        "# LIST COMPREHENSION HERE AGAIN\n",
        "dic = {'PC{}'.format(i): most_important_names[i] for i in range(n_pcs)}\n",
        "\n",
        "# build the dataframe\n",
        "df = pd.DataFrame(dic.items())"
      ],
      "metadata": {
        "id": "igB4vtqiVXvs"
      },
      "execution_count": null,
      "outputs": []
    },
    {
      "cell_type": "code",
      "source": [
        "Xtrain,Xtest,Ytrain,Ytest=train_test_split(X_reduced,y,random_state=42,stratify=y)"
      ],
      "metadata": {
        "id": "WALhpV6WVaZr"
      },
      "execution_count": null,
      "outputs": []
    },
    {
      "cell_type": "code",
      "source": [
        "X_reduced.shape"
      ],
      "metadata": {
        "id": "uKa1cLcoVgAF",
        "colab": {
          "base_uri": "https://localhost:8080/"
        },
        "outputId": "e93e9eb8-7305-44bc-fe0f-6458375ae1ef"
      },
      "execution_count": null,
      "outputs": [
        {
          "output_type": "execute_result",
          "data": {
            "text/plain": [
              "(601, 32)"
            ]
          },
          "metadata": {},
          "execution_count": 246
        }
      ]
    },
    {
      "cell_type": "markdown",
      "source": [
        "### Training Models with PCA X Imputed by Univariate Model and without Cross Validation\n",
        "\n"
      ],
      "metadata": {
        "id": "fgk6x4QNVpwx"
      }
    },
    {
      "cell_type": "code",
      "source": [
        "model = Sequential()\n",
        "model.add(Dense(33, activation='relu', input_dim=(32)))\n",
        "model.add(Dense(35, activation='relu'))\n",
        "# model.add(Dense(128, activation='relu'))\n",
        "# model.add(Dense(64, activation='relu'))\n",
        "model.add(Dense(num_classes, activation='sigmoid'))"
      ],
      "metadata": {
        "id": "2nitxaHJVrOb"
      },
      "execution_count": null,
      "outputs": []
    },
    {
      "cell_type": "code",
      "source": [
        "model.compile(loss='binary_crossentropy',\n",
        "              optimizer='RMSprop',\n",
        "              metrics=['accuracy'])\n",
        "history = model.fit(Xtrain, Ytrain,batch_size=batch_size,epochs=epochs,verbose=0,\n",
        "                    validation_data=(Xtest, Ytest))"
      ],
      "metadata": {
        "id": "kbFU2wDHVzXP"
      },
      "execution_count": null,
      "outputs": []
    },
    {
      "cell_type": "code",
      "source": [
        "loss,accuracy=model.evaluate(Xtest,Ytest)\n",
        "print(\"Accuracy: %.2f\"%(accuracy*100),\"%\")"
      ],
      "metadata": {
        "id": "lQVrNag2V4_Q",
        "colab": {
          "base_uri": "https://localhost:8080/"
        },
        "outputId": "8da79e22-a632-43ae-a14e-f1a922c773f2"
      },
      "execution_count": null,
      "outputs": [
        {
          "output_type": "stream",
          "name": "stdout",
          "text": [
            "5/5 [==============================] - 0s 3ms/step - loss: 0.0612 - accuracy: 0.9868\n",
            "Accuracy: 98.68 %\n"
          ]
        }
      ]
    },
    {
      "cell_type": "code",
      "source": [
        "filename = '/content/drive/My Drive/Colab Notebooks/Explainable-AI/Paper-2/models/1-exp/Univariate/MLP/PCA_Without_Cross_Validation/MLP_PCA_Without_Cross_Validation.sav'\n",
        "pickle.dump(model, open(filename, 'wb')) \n"
      ],
      "metadata": {
        "colab": {
          "base_uri": "https://localhost:8080/"
        },
        "id": "IQ-x7UzDDv5w",
        "outputId": "90004dd5-327b-417d-cb59-421628d64caa"
      },
      "execution_count": null,
      "outputs": [
        {
          "output_type": "stream",
          "name": "stdout",
          "text": [
            "INFO:tensorflow:Assets written to: ram://811972a6-13d6-4911-b6ac-b60ae5102b32/assets\n"
          ]
        }
      ]
    },
    {
      "cell_type": "code",
      "source": [
        "loaded_model = pickle.load(open('/content/drive/My Drive/Colab Notebooks/Explainable-AI/Paper-2/models/1-exp/Univariate/MLP/PCA_Without_Cross_Validation/MLP_PCA_Without_Cross_Validation.sav', 'rb'))\n",
        "y_pred = loaded_model.predict(Xtest)\n",
        "fpr_mlp, tpr_mlp, _ = metrics.roc_curve(Ytest, y_pred)\n",
        "auc_mlp = round(metrics.roc_auc_score(Ytest, y_pred), 4)"
      ],
      "metadata": {
        "id": "_GV53M-gDwKG"
      },
      "execution_count": null,
      "outputs": []
    },
    {
      "cell_type": "code",
      "source": [
        "y_pred=np.round(loaded_model.predict(Xtest)).ravel()\n",
        "print(\"\\nCR by library method=\\n\",\n",
        "          classification_report(Ytest, y_pred))"
      ],
      "metadata": {
        "id": "gUbND4ZBSXUD",
        "colab": {
          "base_uri": "https://localhost:8080/"
        },
        "outputId": "d736f684-795b-4109-b630-e60aacc6a7b8"
      },
      "execution_count": null,
      "outputs": [
        {
          "output_type": "stream",
          "name": "stdout",
          "text": [
            "\n",
            "CR by library method=\n",
            "               precision    recall  f1-score   support\n",
            "\n",
            "           0       0.98      1.00      0.99       113\n",
            "           1       1.00      0.95      0.97        38\n",
            "\n",
            "    accuracy                           0.99       151\n",
            "   macro avg       0.99      0.97      0.98       151\n",
            "weighted avg       0.99      0.99      0.99       151\n",
            "\n"
          ]
        }
      ]
    },
    {
      "cell_type": "code",
      "source": [
        "MLP_Univariate_imputed_PCA_Non_Cross_accuracy=float(classification_report(Ytest, y_pred).split()[15])\n",
        "MLP_Univariate_imputed_PCA_Non_Cross_accuracy"
      ],
      "metadata": {
        "colab": {
          "base_uri": "https://localhost:8080/"
        },
        "id": "xD_Ry5XZD3ZI",
        "outputId": "c461c57a-02f4-4d13-be76-4bde184b03ef"
      },
      "execution_count": null,
      "outputs": [
        {
          "output_type": "execute_result",
          "data": {
            "text/plain": [
              "0.99"
            ]
          },
          "metadata": {},
          "execution_count": 253
        }
      ]
    },
    {
      "cell_type": "code",
      "source": [
        "model=xgb.XGBClassifier(learning_rate =0.1,\n",
        " n_estimators=1000,\n",
        " max_depth=5,\n",
        " min_child_weight=1,\n",
        " gamma=0,\n",
        " subsample=0.8,\n",
        " colsample_bytree=0.8,\n",
        " objective= 'binary:logistic',\n",
        " nthread=4,\n",
        " scale_pos_weight=1,\n",
        " seed=27)\n",
        "model.fit(Xtrain, Ytrain)\n",
        "y_pred=model.predict(Xtest)\n",
        "print(\"The accuracy is %.2f\"%(accuracy_score(y_pred,Ytest)*100),\"%\")"
      ],
      "metadata": {
        "id": "2OC1BAAcWAYi",
        "colab": {
          "base_uri": "https://localhost:8080/"
        },
        "outputId": "8b1a100f-c985-490a-9226-adc3ca27ecd7"
      },
      "execution_count": null,
      "outputs": [
        {
          "output_type": "stream",
          "name": "stdout",
          "text": [
            "The accuracy is 96.03 %\n"
          ]
        }
      ]
    },
    {
      "cell_type": "code",
      "source": [
        "filename = '/content/drive/My Drive/Colab Notebooks/Explainable-AI/Paper-2/models/1-exp/Univariate/XGB/PCA_Without_Cross_Validation/XGB_PCA_Without_Cross_Validation.sav'\n",
        "pickle.dump(model, open(filename, 'wb')) \n"
      ],
      "metadata": {
        "id": "W1gq7cC8Es8H"
      },
      "execution_count": null,
      "outputs": []
    },
    {
      "cell_type": "code",
      "source": [
        "loaded_model = pickle.load(open('/content/drive/My Drive/Colab Notebooks/Explainable-AI/Paper-2/models/1-exp/Univariate/XGB/PCA_Without_Cross_Validation/XGB_PCA_Without_Cross_Validation.sav', 'rb'))\n",
        "y_pred = loaded_model.predict(Xtest)\n",
        "fpr_xgb, tpr_xgb, _ = metrics.roc_curve(Ytest, y_pred)\n",
        "auc_xgb = round(metrics.roc_auc_score(Ytest, y_pred), 4)\n"
      ],
      "metadata": {
        "id": "-398DIFrEtGs"
      },
      "execution_count": null,
      "outputs": []
    },
    {
      "cell_type": "code",
      "source": [
        "y_pred=np.round(loaded_model.predict(Xtest)).ravel()\n",
        "print(\"\\nCR by library method=\\n\",\n",
        "          classification_report(Ytest, y_pred))"
      ],
      "metadata": {
        "colab": {
          "base_uri": "https://localhost:8080/"
        },
        "id": "ASfWVxKTSaDy",
        "outputId": "012cb617-5c99-481a-a6f5-e343fce1f45c"
      },
      "execution_count": null,
      "outputs": [
        {
          "output_type": "stream",
          "name": "stdout",
          "text": [
            "\n",
            "CR by library method=\n",
            "               precision    recall  f1-score   support\n",
            "\n",
            "           0       0.96      0.99      0.97       113\n",
            "           1       0.97      0.87      0.92        38\n",
            "\n",
            "    accuracy                           0.96       151\n",
            "   macro avg       0.96      0.93      0.95       151\n",
            "weighted avg       0.96      0.96      0.96       151\n",
            "\n"
          ]
        }
      ]
    },
    {
      "cell_type": "code",
      "source": [
        "XGBoost_Univariate_imputed_PCA_accuracy=float(classification_report(Ytest, y_pred).split()[15])\n",
        "XGBoost_Univariate_imputed_PCA_accuracy"
      ],
      "metadata": {
        "colab": {
          "base_uri": "https://localhost:8080/"
        },
        "id": "OR7Yw2QrE3GY",
        "outputId": "fb2ced63-d7f1-4635-e083-c54d0a8a8119"
      },
      "execution_count": null,
      "outputs": [
        {
          "output_type": "execute_result",
          "data": {
            "text/plain": [
              "0.96"
            ]
          },
          "metadata": {},
          "execution_count": 258
        }
      ]
    },
    {
      "cell_type": "code",
      "source": [
        "clf=SVC()\n",
        "clf.fit(Xtrain,Ytrain)\n",
        "y_pred=clf.predict(Xtest)\n",
        "print(\"The accuracy is %.2f\"%(accuracy_score(y_pred,Ytest)*100),\"%\")"
      ],
      "metadata": {
        "id": "dQtysrxWWIjK",
        "colab": {
          "base_uri": "https://localhost:8080/"
        },
        "outputId": "89e151d3-ec2c-4c44-aeec-34497b061aa0"
      },
      "execution_count": null,
      "outputs": [
        {
          "output_type": "stream",
          "name": "stdout",
          "text": [
            "The accuracy is 96.03 %\n"
          ]
        }
      ]
    },
    {
      "cell_type": "code",
      "source": [
        "filename = '/content/drive/My Drive/Colab Notebooks/Explainable-AI/Paper-2/models/1-exp/Univariate/SVM/PCA_Without_Cross_Validation/SVM_PCA_Without_Cross_Validation.sav'\n",
        "pickle.dump(clf, open(filename, 'wb')) \n"
      ],
      "metadata": {
        "id": "K8HxHOidFYqE"
      },
      "execution_count": null,
      "outputs": []
    },
    {
      "cell_type": "code",
      "source": [
        "loaded_model = pickle.load(open('/content/drive/My Drive/Colab Notebooks/Explainable-AI/Paper-2/models/1-exp/Univariate/SVM/PCA_Without_Cross_Validation/SVM_PCA_Without_Cross_Validation.sav', 'rb'))\n",
        "y_pred = loaded_model.predict(Xtest)\n",
        "fpr_svc, tpr_svc, _ = metrics.roc_curve(Ytest, y_pred)\n",
        "auc_svc = round(metrics.roc_auc_score(Ytest, y_pred), 4)\n"
      ],
      "metadata": {
        "id": "Nm28peJCFY73"
      },
      "execution_count": null,
      "outputs": []
    },
    {
      "cell_type": "code",
      "source": [
        "y_pred=np.round(loaded_model.predict(Xtest)).ravel()\n",
        "print(\"\\nCR by library method=\\n\",\n",
        "          classification_report(Ytest, y_pred))"
      ],
      "metadata": {
        "colab": {
          "base_uri": "https://localhost:8080/"
        },
        "id": "vOo1drrBSeDK",
        "outputId": "aef87935-9115-44a0-ab88-74ec2e715eaf"
      },
      "execution_count": null,
      "outputs": [
        {
          "output_type": "stream",
          "name": "stdout",
          "text": [
            "\n",
            "CR by library method=\n",
            "               precision    recall  f1-score   support\n",
            "\n",
            "           0       0.95      1.00      0.97       113\n",
            "           1       1.00      0.84      0.91        38\n",
            "\n",
            "    accuracy                           0.96       151\n",
            "   macro avg       0.97      0.92      0.94       151\n",
            "weighted avg       0.96      0.96      0.96       151\n",
            "\n"
          ]
        }
      ]
    },
    {
      "cell_type": "code",
      "source": [
        "SVC_Univariate_imputed_PCA_accuracy=float(classification_report(Ytest, y_pred).split()[15])\n",
        "SVC_Univariate_imputed_PCA_accuracy"
      ],
      "metadata": {
        "colab": {
          "base_uri": "https://localhost:8080/"
        },
        "id": "6gk9sdYWFgU5",
        "outputId": "c95d6677-ceeb-40e4-cd7b-2904c7d9be68"
      },
      "execution_count": null,
      "outputs": [
        {
          "output_type": "execute_result",
          "data": {
            "text/plain": [
              "0.96"
            ]
          },
          "metadata": {},
          "execution_count": 264
        }
      ]
    },
    {
      "cell_type": "code",
      "source": [
        "plt.gcf().set_size_inches(16.5, 13.5)\n",
        "plt.subplot(211)\n",
        "plt.plot(fpr_mlp,tpr_mlp,marker='.',label=\"MLP_PCA_Non-CV, AUC=\"+str(auc_mlp))\n",
        "plt.subplot(211)\n",
        "plt.plot(fpr_xgb,tpr_xgb,linestyle='--',label=\"XGBoost_PCA_Non-CV, AUC=\"+str(auc_xgb))\n",
        "plt.subplot(211)\n",
        "plt.plot(fpr_svc,tpr_svc,linestyle='--',label=\"SVC_PCA_Non-CV, AUC=\"+str(auc_svc))\n",
        "plt.xlabel('False Positive Rate')\n",
        "plt.ylabel('True Positive Rate')\n",
        "plt.title(\"ROC Curve Plot of PCA without Cross Validation\")\n",
        "plt.legend()"
      ],
      "metadata": {
        "colab": {
          "base_uri": "https://localhost:8080/",
          "height": 494
        },
        "id": "qaeZ9kPGGJIX",
        "outputId": "6aa55504-0250-4a6a-cb51-e8382803b23d"
      },
      "execution_count": null,
      "outputs": [
        {
          "output_type": "stream",
          "name": "stderr",
          "text": [
            "/usr/local/lib/python3.7/dist-packages/ipykernel_launcher.py:4: MatplotlibDeprecationWarning: Adding an axes using the same arguments as a previous axes currently reuses the earlier instance.  In a future version, a new instance will always be created and returned.  Meanwhile, this warning can be suppressed, and the future behavior ensured, by passing a unique label to each axes instance.\n",
            "  after removing the cwd from sys.path.\n",
            "/usr/local/lib/python3.7/dist-packages/ipykernel_launcher.py:6: MatplotlibDeprecationWarning: Adding an axes using the same arguments as a previous axes currently reuses the earlier instance.  In a future version, a new instance will always be created and returned.  Meanwhile, this warning can be suppressed, and the future behavior ensured, by passing a unique label to each axes instance.\n",
            "  \n"
          ]
        },
        {
          "output_type": "execute_result",
          "data": {
            "text/plain": [
              "<matplotlib.legend.Legend at 0x7f55b3125c10>"
            ]
          },
          "metadata": {},
          "execution_count": 265
        },
        {
          "output_type": "display_data",
          "data": {
            "text/plain": [
              "<Figure size 1188x972 with 1 Axes>"
            ],
            "image/png": "[encoded data removed]"
          },
          "metadata": {
            "needs_background": "light"
          }
        }
      ]
    },
    {
      "cell_type": "markdown",
      "source": [
        "## Training Models with PCA X Imputed by Univariate Model and with Cross Validation"
      ],
      "metadata": {
        "id": "Tg2WFqByWLJP"
      }
    },
    {
      "cell_type": "code",
      "source": [
        "\n",
        "# K-fold Cross Validation model evaluation\n",
        "acc_per_fold=[]\n",
        "loss_per_fold=[]\n",
        "inputs =np.array(X_reduced)\n",
        "targets = np.array(y)\n",
        "kfold = KFold(n_splits=3, shuffle=True)\n",
        "fold_no = 1\n",
        "for train, test in kfold.split(inputs, targets):\n",
        "\n",
        "  # Define the model architecture\n",
        "  model = Sequential()\n",
        "  model.add(Dense(33, activation='relu', input_dim=(32)))\n",
        "  model.add(Dense(35, activation='relu'))\n",
        "  model.add(Dense(num_classes, activation='sigmoid'))\n",
        "\n",
        "  # Compile the model\n",
        "  model.compile(loss='binary_crossentropy',\n",
        "              optimizer='RMSprop',\n",
        "              metrics=['accuracy'])\n",
        "\n",
        "\n",
        "  # Generate a print\n",
        "  print('------------------------------------------------------------------------')\n",
        "  print(f'Training for fold {fold_no} ...')\n",
        "\n",
        "  # Fit data to model\n",
        "  history = model.fit(inputs[train], targets[train],\n",
        "              batch_size=batch_size,\n",
        "              epochs=epochs,\n",
        "              verbose=0)\n",
        "  # Generate generalization metrics\n",
        "  scores = model.evaluate(inputs[test], targets[test], verbose=0)\n",
        "  print(f'Score for fold {fold_no}: {model.metrics_names[0]} of {scores[0]}; {model.metrics_names[1]} of {scores[1]*100}%')\n",
        "  acc_per_fold.append(scores[1] * 100)\n",
        "  loss_per_fold.append(scores[0])\n",
        "\n",
        "  # Increase fold number\n",
        "  fold_no = fold_no + 1\n",
        "y_pred=np.round(model.predict(inputs[test])).ravel()\n",
        "print(\"\\nCR by library method=\\n\",\n",
        "          classification_report(targets[test], y_pred))"
      ],
      "metadata": {
        "colab": {
          "base_uri": "https://localhost:8080/"
        },
        "id": "0zzsXR9x-hT1",
        "outputId": "c1ecf0a2-7dbd-4fcb-d346-ed655dc08fc4"
      },
      "execution_count": null,
      "outputs": [
        {
          "output_type": "stream",
          "name": "stdout",
          "text": [
            "------------------------------------------------------------------------\n",
            "Training for fold 1 ...\n",
            "Score for fold 1: loss of 0.02602926827967167; accuracy of 99.00497794151306%\n",
            "------------------------------------------------------------------------\n",
            "Training for fold 2 ...\n",
            "Score for fold 2: loss of 0.32660937309265137; accuracy of 96.49999737739563%\n",
            "------------------------------------------------------------------------\n",
            "Training for fold 3 ...\n",
            "Score for fold 3: loss of 0.08011147379875183; accuracy of 97.00000286102295%\n",
            "\n",
            "CR by library method=\n",
            "               precision    recall  f1-score   support\n",
            "\n",
            "           0       0.97      0.99      0.98       154\n",
            "           1       0.98      0.89      0.93        46\n",
            "\n",
            "    accuracy                           0.97       200\n",
            "   macro avg       0.97      0.94      0.96       200\n",
            "weighted avg       0.97      0.97      0.97       200\n",
            "\n"
          ]
        }
      ]
    },
    {
      "cell_type": "code",
      "source": [
        "filename = '/content/drive/My Drive/Colab Notebooks/Explainable-AI/Paper-2/models/1-exp/Univariate/MLP/PCA_Cross_Validation/MLP_PCA_Cross_Validation.sav'\n",
        "pickle.dump(model, open(filename, 'wb')) \n"
      ],
      "metadata": {
        "colab": {
          "base_uri": "https://localhost:8080/"
        },
        "id": "DdIE7d8dGF52",
        "outputId": "4e57e073-4d38-4663-f3c4-15bb9ebb662e"
      },
      "execution_count": null,
      "outputs": [
        {
          "output_type": "stream",
          "name": "stdout",
          "text": [
            "INFO:tensorflow:Assets written to: ram://095b4f1b-1674-4b63-b3f2-e0aecb37eb11/assets\n"
          ]
        }
      ]
    },
    {
      "cell_type": "code",
      "source": [
        "loaded_model = pickle.load(open('/content/drive/My Drive/Colab Notebooks/Explainable-AI/Paper-2/models/1-exp/Univariate/MLP/PCA_Cross_Validation/MLP_PCA_Cross_Validation.sav', 'rb'))\n",
        "y_pred = loaded_model.predict(Xtest)\n",
        "fpr_mlp, tpr_mlp, _ = metrics.roc_curve(Ytest, y_pred)\n",
        "auc_mlp = round(metrics.roc_auc_score(Ytest, y_pred), 4)"
      ],
      "metadata": {
        "id": "KFayJiLjGGKY"
      },
      "execution_count": null,
      "outputs": []
    },
    {
      "cell_type": "code",
      "source": [
        "y_pred=np.round(loaded_model.predict(inputs[test])).ravel()\n",
        "print(\"\\nCR by library method=\\n\",\n",
        "          classification_report(targets[test], y_pred))"
      ],
      "metadata": {
        "colab": {
          "base_uri": "https://localhost:8080/"
        },
        "id": "3qCKz8AoGdHP",
        "outputId": "9c56e15b-3ace-4ae3-92d5-aca54a4e8573"
      },
      "execution_count": null,
      "outputs": [
        {
          "output_type": "stream",
          "name": "stdout",
          "text": [
            "\n",
            "CR by library method=\n",
            "               precision    recall  f1-score   support\n",
            "\n",
            "           0       0.97      0.99      0.98       154\n",
            "           1       0.98      0.89      0.93        46\n",
            "\n",
            "    accuracy                           0.97       200\n",
            "   macro avg       0.97      0.94      0.96       200\n",
            "weighted avg       0.97      0.97      0.97       200\n",
            "\n"
          ]
        }
      ]
    },
    {
      "cell_type": "code",
      "source": [
        "MLP_Univariate_imputed_PCA_Cross_Validation_accuracy=float((classification_report(targets[test], y_pred)).split()[15])\n",
        "MLP_Univariate_imputed_PCA_Cross_Validation_accuracy"
      ],
      "metadata": {
        "colab": {
          "base_uri": "https://localhost:8080/"
        },
        "id": "0mZh-3D_GhPV",
        "outputId": "3a274d32-27a7-444b-9a27-8e7469e9eddc"
      },
      "execution_count": null,
      "outputs": [
        {
          "output_type": "execute_result",
          "data": {
            "text/plain": [
              "0.97"
            ]
          },
          "metadata": {},
          "execution_count": 271
        }
      ]
    },
    {
      "cell_type": "code",
      "source": [
        "cv = KFold(n_splits=3)\n",
        "PARAMETERS = {\"subsample\":[0.5, 0.75, 1],\n",
        "              \"colsample_bytree\":[0.5, 0.75, 1],\n",
        "              \"max_depth\":[2,5, 6, 12],\n",
        "              \"min_child_weight\":[1,5,15],\n",
        "              \"learning_rate\":[0.3, 0.1, 0.03],\n",
        "              \"n_estimators\":[100,500,1000]}\n",
        "full = xgb.XGBClassifier(n_estimators=100, n_jobs=-1)\n",
        "model_gs = GridSearchCV(full,param_grid=PARAMETERS,cv=cv,scoring=\"accuracy\")\n",
        "model_gs.fit(Xtrain,Ytrain, eval_metric=\"error\",verbose=0)\n",
        "y_pred=model_gs.predict(Xtest)\n",
        "print(\"The accuracy is %.2f\"%(accuracy_score(y_pred,Ytest)*100),\"%\")"
      ],
      "metadata": {
        "id": "5secaBT1WP_G",
        "colab": {
          "base_uri": "https://localhost:8080/"
        },
        "outputId": "7233bd6d-008d-44de-88d9-1ffedea1e989"
      },
      "execution_count": null,
      "outputs": [
        {
          "output_type": "stream",
          "name": "stdout",
          "text": [
            "The accuracy is 94.04 %\n"
          ]
        }
      ]
    },
    {
      "cell_type": "code",
      "source": [
        "filename = '/content/drive/My Drive/Colab Notebooks/Explainable-AI/Paper-2/models/1-exp/Univariate/XGB/PCA_Cross_Validation/XGB_PCA_Cross_Validation.sav'\n",
        "pickle.dump(model_gs, open(filename, 'wb')) \n"
      ],
      "metadata": {
        "id": "pdZPK9lwHR51"
      },
      "execution_count": null,
      "outputs": []
    },
    {
      "cell_type": "code",
      "source": [
        "loaded_model = pickle.load(open('/content/drive/My Drive/Colab Notebooks/Explainable-AI/Paper-2/models/1-exp/Univariate/XGB/PCA_Cross_Validation/XGB_PCA_Cross_Validation.sav', 'rb'))\n",
        "y_pred = loaded_model.predict(Xtest)\n",
        "fpr_xgb, tpr_xgb, _ = metrics.roc_curve(Ytest, y_pred)\n",
        "auc_xgb= round(metrics.roc_auc_score(Ytest, y_pred), 4)\n"
      ],
      "metadata": {
        "id": "iT_2wPfvHSKc"
      },
      "execution_count": null,
      "outputs": []
    },
    {
      "cell_type": "code",
      "source": [
        "y_pred=np.round(loaded_model.predict(Xtest)).ravel()\n",
        "print(\"\\nCR by library method=\\n\",\n",
        "          classification_report(Ytest, y_pred))"
      ],
      "metadata": {
        "colab": {
          "base_uri": "https://localhost:8080/"
        },
        "id": "JMbvlARXSgrY",
        "outputId": "db6b6048-84c8-4dac-b4db-16ad645c79f4"
      },
      "execution_count": null,
      "outputs": [
        {
          "output_type": "stream",
          "name": "stdout",
          "text": [
            "\n",
            "CR by library method=\n",
            "               precision    recall  f1-score   support\n",
            "\n",
            "           0       0.94      0.98      0.96       113\n",
            "           1       0.94      0.82      0.87        38\n",
            "\n",
            "    accuracy                           0.94       151\n",
            "   macro avg       0.94      0.90      0.92       151\n",
            "weighted avg       0.94      0.94      0.94       151\n",
            "\n"
          ]
        }
      ]
    },
    {
      "cell_type": "code",
      "source": [
        "XGBoost_Univariate_imputed_PCA_Cross_Validation_accuracy=float(classification_report(Ytest, y_pred).split()[15])\n",
        "XGBoost_Univariate_imputed_PCA_Cross_Validation_accuracy"
      ],
      "metadata": {
        "colab": {
          "base_uri": "https://localhost:8080/"
        },
        "id": "V-zQ7RLkHYO3",
        "outputId": "eb97f8a7-05a6-49d0-a95f-29d8888d3012"
      },
      "execution_count": null,
      "outputs": [
        {
          "output_type": "execute_result",
          "data": {
            "text/plain": [
              "0.94"
            ]
          },
          "metadata": {},
          "execution_count": 276
        }
      ]
    },
    {
      "cell_type": "code",
      "source": [
        "tuned_parameters =  [{'kernel': ['rbf'], 'gamma': [1e-2, 1e-3, 1e-4, 1e-5],\n",
        "                     'C': [0.001, 0.10, 0.1, 10, 25, 50, 100, 1000]},\n",
        "                    {'kernel': ['sigmoid'], 'gamma': [1e-2, 1e-3, 1e-4, 1e-5],\n",
        "                     'C': [0.001, 0.10, 0.1, 10, 25, 50, 100, 1000] },{'kernel': ['linear'], 'C': [0.001, 0.10, 0.1, 10, 25, 50, 100, 1000]}] \n",
        "clf = GridSearchCV(SVC(), tuned_parameters, cv=cv,\n",
        "                       scoring='accuracy')\n",
        "clf.fit(Xtrain,Ytrain)\n",
        "y_pred=clf.predict(Xtest)\n",
        "print(\"The accuracy is %.2f\"%(accuracy_score(y_pred,Ytest)*100),\"%\")"
      ],
      "metadata": {
        "id": "NsDj3nZkWTr7",
        "colab": {
          "base_uri": "https://localhost:8080/"
        },
        "outputId": "7235312d-019a-4473-bfd4-68465c08b9ce"
      },
      "execution_count": null,
      "outputs": [
        {
          "output_type": "stream",
          "name": "stdout",
          "text": [
            "The accuracy is 100.00 %\n"
          ]
        }
      ]
    },
    {
      "cell_type": "code",
      "source": [
        "filename = '/content/drive/My Drive/Colab Notebooks/Explainable-AI/Paper-2/models/1-exp/Univariate/SVM/PCA_Cross_Validation/SVM_PCA_Cross_Validation.sav'\n",
        "pickle.dump(clf, open(filename, 'wb')) \n"
      ],
      "metadata": {
        "id": "m7OEmAU_IkZN"
      },
      "execution_count": null,
      "outputs": []
    },
    {
      "cell_type": "code",
      "source": [
        "loaded_model = pickle.load(open('/content/drive/My Drive/Colab Notebooks/Explainable-AI/Paper-2/models/1-exp/Univariate/SVM/PCA_Cross_Validation/SVM_PCA_Cross_Validation.sav', 'rb'))\n",
        "y_pred = loaded_model.predict(Xtest)\n",
        "fpr_svc, tpr_svc, _ = metrics.roc_curve(Ytest, y_pred)\n",
        "auc_svc = round(metrics.roc_auc_score(Ytest, y_pred), 4)"
      ],
      "metadata": {
        "id": "63Yi1zDvIkqJ"
      },
      "execution_count": null,
      "outputs": []
    },
    {
      "cell_type": "code",
      "source": [
        "y_pred=np.round(loaded_model.predict(Xtest)).ravel()\n",
        "print(\"\\nCR by library method=\\n\",\n",
        "          classification_report(Ytest, y_pred))"
      ],
      "metadata": {
        "colab": {
          "base_uri": "https://localhost:8080/"
        },
        "id": "O1zv2dQBSipT",
        "outputId": "07b7a0da-72bc-419e-e18d-190abe0c10dd"
      },
      "execution_count": null,
      "outputs": [
        {
          "output_type": "stream",
          "name": "stdout",
          "text": [
            "\n",
            "CR by library method=\n",
            "               precision    recall  f1-score   support\n",
            "\n",
            "           0       1.00      1.00      1.00       113\n",
            "           1       1.00      1.00      1.00        38\n",
            "\n",
            "    accuracy                           1.00       151\n",
            "   macro avg       1.00      1.00      1.00       151\n",
            "weighted avg       1.00      1.00      1.00       151\n",
            "\n"
          ]
        }
      ]
    },
    {
      "cell_type": "code",
      "source": [
        "SVC_Univariate_imputed_PCA_Cross_Validation_accuracy=float(classification_report(Ytest, y_pred).split()[15])\n",
        "SVC_Univariate_imputed_PCA_Cross_Validation_accuracy"
      ],
      "metadata": {
        "colab": {
          "base_uri": "https://localhost:8080/"
        },
        "id": "hYW90AZWItIw",
        "outputId": "b70dcec6-e8fa-45c9-f439-740f7d80f8b5"
      },
      "execution_count": null,
      "outputs": [
        {
          "output_type": "execute_result",
          "data": {
            "text/plain": [
              "1.0"
            ]
          },
          "metadata": {},
          "execution_count": 281
        }
      ]
    },
    {
      "cell_type": "code",
      "source": [
        "plt.gcf().set_size_inches(16.5, 13.5)\n",
        "plt.subplot(211)\n",
        "plt.plot(fpr_mlp,tpr_mlp,linestyle='--',label=\"MLP_PCA_CV, AUC=\"+str(auc_mlp))\n",
        "plt.subplot(211)\n",
        "plt.plot(fpr_xgb,tpr_xgb,linestyle='--',label=\"XGBoost_PCA_CV, AUC=\"+str(auc_xgb))\n",
        "plt.subplot(211)\n",
        "plt.plot(fpr_svc,tpr_svc,linestyle='--',label=\"SVC_PCA_CV, AUC=\"+str(auc_svc))\n",
        "plt.xlabel('False Positive Rate')\n",
        "plt.ylabel('True Positive Rate')\n",
        "plt.title(\"ROC Curve Plot of PCA with Cross Validation\")\n",
        "plt.legend()"
      ],
      "metadata": {
        "colab": {
          "base_uri": "https://localhost:8080/",
          "height": 494
        },
        "id": "P5GNlqaeJPpA",
        "outputId": "cec12a49-0f7c-482a-fa73-a6cdc8116c15"
      },
      "execution_count": null,
      "outputs": [
        {
          "output_type": "stream",
          "name": "stderr",
          "text": [
            "/usr/local/lib/python3.7/dist-packages/ipykernel_launcher.py:4: MatplotlibDeprecationWarning: Adding an axes using the same arguments as a previous axes currently reuses the earlier instance.  In a future version, a new instance will always be created and returned.  Meanwhile, this warning can be suppressed, and the future behavior ensured, by passing a unique label to each axes instance.\n",
            "  after removing the cwd from sys.path.\n",
            "/usr/local/lib/python3.7/dist-packages/ipykernel_launcher.py:6: MatplotlibDeprecationWarning: Adding an axes using the same arguments as a previous axes currently reuses the earlier instance.  In a future version, a new instance will always be created and returned.  Meanwhile, this warning can be suppressed, and the future behavior ensured, by passing a unique label to each axes instance.\n",
            "  \n"
          ]
        },
        {
          "output_type": "execute_result",
          "data": {
            "text/plain": [
              "<matplotlib.legend.Legend at 0x7f55b412abd0>"
            ]
          },
          "metadata": {},
          "execution_count": 282
        },
        {
          "output_type": "display_data",
          "data": {
            "text/plain": [
              "<Figure size 1188x972 with 1 Axes>"
            ],
            "image/png": "[encoded data removed]"
          },
          "metadata": {
            "needs_background": "light"
          }
        }
      ]
    },
    {
      "cell_type": "markdown",
      "source": [
        "# Training Models with Non-PCA X Imputed by Univariate Model and without Cross Validation"
      ],
      "metadata": {
        "id": "ibMLsJnZWXbq"
      }
    },
    {
      "cell_type": "code",
      "source": [
        "Xtrain,Xtest,Ytrain,Ytest=train_test_split(X,y,random_state=42,stratify=y)"
      ],
      "metadata": {
        "id": "owKijn39Wexx"
      },
      "execution_count": null,
      "outputs": []
    },
    {
      "cell_type": "code",
      "source": [
        "m = Sequential()\n",
        "m.add(Dense(1024, activation='relu', input_dim=(43)))\n",
        "m.add(Dense(256, activation='relu'))\n",
        "m.add(Dense(128, activation='relu'))\n",
        "m.add(Dense(64, activation='relu'))\n",
        "m.add(Dense(num_classes, activation='sigmoid'))"
      ],
      "metadata": {
        "id": "Dv11AYV4WhqD"
      },
      "execution_count": null,
      "outputs": []
    },
    {
      "cell_type": "code",
      "source": [
        "m.compile(loss='binary_crossentropy',\n",
        "              optimizer='RMSprop',\n",
        "              metrics=['accuracy'])\n",
        "history = m.fit(Xtrain, Ytrain,batch_size=batch_size,epochs=epochs,verbose=0,\n",
        "                    validation_data=(Xtest, Ytest))"
      ],
      "metadata": {
        "id": "AMFAkJ6JWkO7"
      },
      "execution_count": null,
      "outputs": []
    },
    {
      "cell_type": "code",
      "source": [
        "loss,accuracy=m.evaluate(Xtest,Ytest)\n",
        "print(\"Accuracy: %.2f\"%(accuracy*100),\"%\")"
      ],
      "metadata": {
        "id": "dVeE4ajkWmqM",
        "colab": {
          "base_uri": "https://localhost:8080/"
        },
        "outputId": "c24035cc-e0ed-4580-d803-9b41423bdcf5"
      },
      "execution_count": null,
      "outputs": [
        {
          "output_type": "stream",
          "name": "stdout",
          "text": [
            "5/5 [==============================] - 0s 4ms/step - loss: 0.0605 - accuracy: 0.9868\n",
            "Accuracy: 98.68 %\n"
          ]
        }
      ]
    },
    {
      "cell_type": "code",
      "source": [
        "filename = '/content/drive/My Drive/Colab Notebooks/Explainable-AI/Paper-2/models/1-exp/Univariate/MLP/Non_PCA_Without_Cross_Validation/MLP_Non_PCA_Without_Cross_Validation.sav'\n",
        "pickle.dump(m, open(filename, 'wb')) \n"
      ],
      "metadata": {
        "colab": {
          "base_uri": "https://localhost:8080/"
        },
        "id": "d5OrJTXyJX33",
        "outputId": "5390c69f-ace5-45ab-9301-a7da614d7abc"
      },
      "execution_count": null,
      "outputs": [
        {
          "output_type": "stream",
          "name": "stdout",
          "text": [
            "INFO:tensorflow:Assets written to: ram://defe6be7-897e-4a59-87f6-22a7dabc6aa8/assets\n"
          ]
        }
      ]
    },
    {
      "cell_type": "code",
      "source": [
        "loaded_model = pickle.load(open('/content/drive/My Drive/Colab Notebooks/Explainable-AI/Paper-2/models/1-exp/Univariate/MLP/Non_PCA_Without_Cross_Validation/MLP_Non_PCA_Without_Cross_Validation.sav', 'rb'))\n",
        "y_pred = loaded_model.predict(Xtest)\n",
        "fpr_mlp, tpr_mlp, _ = metrics.roc_curve(Ytest, y_pred)\n",
        "auc_mlp = round(metrics.roc_auc_score(Ytest, y_pred), 4)"
      ],
      "metadata": {
        "id": "GAE1Vi_1JYCc"
      },
      "execution_count": null,
      "outputs": []
    },
    {
      "cell_type": "code",
      "source": [
        "y_pred=np.round(loaded_model.predict(Xtest)).ravel()\n",
        "print(\"\\nCR by library method=\\n\",\n",
        "          classification_report(Ytest, y_pred))"
      ],
      "metadata": {
        "colab": {
          "base_uri": "https://localhost:8080/"
        },
        "id": "BbuSMYvESoGi",
        "outputId": "ae2185a7-2181-491e-cd4f-e15e33e9a962"
      },
      "execution_count": null,
      "outputs": [
        {
          "output_type": "stream",
          "name": "stdout",
          "text": [
            "\n",
            "CR by library method=\n",
            "               precision    recall  f1-score   support\n",
            "\n",
            "           0       0.98      1.00      0.99       113\n",
            "           1       1.00      0.95      0.97        38\n",
            "\n",
            "    accuracy                           0.99       151\n",
            "   macro avg       0.99      0.97      0.98       151\n",
            "weighted avg       0.99      0.99      0.99       151\n",
            "\n"
          ]
        }
      ]
    },
    {
      "cell_type": "code",
      "source": [
        "MLP_Univariate_imputed_Non_PCA_Non_Cross_accuracy=float(classification_report(Ytest, y_pred).split()[15])\n",
        "MLP_Univariate_imputed_Non_PCA_Non_Cross_accuracy"
      ],
      "metadata": {
        "colab": {
          "base_uri": "https://localhost:8080/"
        },
        "id": "Wu9Yztq7JgVO",
        "outputId": "ea10f88b-9027-4c83-9f4e-21e2120c6676"
      },
      "execution_count": null,
      "outputs": [
        {
          "output_type": "execute_result",
          "data": {
            "text/plain": [
              "0.99"
            ]
          },
          "metadata": {},
          "execution_count": 290
        }
      ]
    },
    {
      "cell_type": "code",
      "source": [
        "full_boost=xgb.XGBClassifier(learning_rate =0.1,\n",
        " n_estimators=1000,\n",
        " max_depth=5,\n",
        " min_child_weight=1,\n",
        " gamma=0,\n",
        " subsample=0.8,\n",
        " colsample_bytree=0.8,\n",
        " objective= 'binary:logistic',\n",
        " nthread=4,\n",
        " scale_pos_weight=1,\n",
        " seed=27)\n",
        "full_boost.fit(Xtrain, Ytrain)\n",
        "y_pred=full_boost.predict(Xtest)\n",
        "print(\"The accuracy is %.2f\"%(accuracy_score(y_pred,Ytest)*100),\"%\")"
      ],
      "metadata": {
        "id": "tbd-dRlyWoww",
        "colab": {
          "base_uri": "https://localhost:8080/"
        },
        "outputId": "2339abad-792e-4b57-c170-663236d7334c"
      },
      "execution_count": null,
      "outputs": [
        {
          "output_type": "stream",
          "name": "stdout",
          "text": [
            "The accuracy is 100.00 %\n"
          ]
        }
      ]
    },
    {
      "cell_type": "code",
      "source": [
        "filename = '/content/drive/My Drive/Colab Notebooks/Explainable-AI/Paper-2/models/1-exp/Univariate/XGB/Non_PCA_Without_Cross_Validation/XGB_Non_PCA_Without_Cross_Validation.sav' \n",
        "pickle.dump(full_boost, open(filename, 'wb')) \n"
      ],
      "metadata": {
        "id": "qoYVc7aqKJai"
      },
      "execution_count": null,
      "outputs": []
    },
    {
      "cell_type": "code",
      "source": [
        "loadedmodel = pickle.load(open('/content/drive/My Drive/Colab Notebooks/Explainable-AI/Paper-2/models/1-exp/Univariate/XGB/Non_PCA_Without_Cross_Validation/XGB_Non_PCA_Without_Cross_Validation.sav', 'rb'))\n",
        "y_pred = loadedmodel.predict(Xtest)\n",
        "fpr_xgb, tpr_xgb, _ = metrics.roc_curve(Ytest, y_pred)\n",
        "auc_xgb = round(metrics.roc_auc_score(Ytest, y_pred), 4)\n"
      ],
      "metadata": {
        "id": "d33yxQVGKJn8"
      },
      "execution_count": null,
      "outputs": []
    },
    {
      "cell_type": "code",
      "source": [
        "y_pred=np.round(loadedmodel.predict(Xtest)).ravel()\n",
        "print(\"\\nCR by library method=\\n\",\n",
        "          classification_report(Ytest, y_pred))"
      ],
      "metadata": {
        "colab": {
          "base_uri": "https://localhost:8080/"
        },
        "id": "iLXUN1sRSr9g",
        "outputId": "1ccdc2bb-0601-48b6-c533-4ebf6dee70ee"
      },
      "execution_count": null,
      "outputs": [
        {
          "output_type": "stream",
          "name": "stdout",
          "text": [
            "\n",
            "CR by library method=\n",
            "               precision    recall  f1-score   support\n",
            "\n",
            "           0       1.00      1.00      1.00       113\n",
            "           1       1.00      1.00      1.00        38\n",
            "\n",
            "    accuracy                           1.00       151\n",
            "   macro avg       1.00      1.00      1.00       151\n",
            "weighted avg       1.00      1.00      1.00       151\n",
            "\n"
          ]
        }
      ]
    },
    {
      "cell_type": "code",
      "source": [
        "XGBoost_Univariate_imputed_Non_PCA_Non_Cross_accuracy=float(classification_report(Ytest, y_pred).split()[15])\n",
        "XGBoost_Univariate_imputed_Non_PCA_Non_Cross_accuracy"
      ],
      "metadata": {
        "colab": {
          "base_uri": "https://localhost:8080/"
        },
        "id": "E_lULS7hKQNu",
        "outputId": "d8944901-c22a-4e65-ad82-95f5a9779186"
      },
      "execution_count": null,
      "outputs": [
        {
          "output_type": "execute_result",
          "data": {
            "text/plain": [
              "1.0"
            ]
          },
          "metadata": {},
          "execution_count": 295
        }
      ]
    },
    {
      "cell_type": "code",
      "source": [
        "clf=SVC()\n",
        "clf.fit(Xtrain,Ytrain)\n",
        "y_pred=clf.predict(Xtest)\n",
        "print(\"The accuracy is %.2f\"%(accuracy_score(y_pred,Ytest)*100),\"%\")"
      ],
      "metadata": {
        "id": "uWIc51ZtWwnP",
        "colab": {
          "base_uri": "https://localhost:8080/"
        },
        "outputId": "c7fe89fd-58ae-4dda-9fdf-902d9bfecbb5"
      },
      "execution_count": null,
      "outputs": [
        {
          "output_type": "stream",
          "name": "stdout",
          "text": [
            "The accuracy is 96.69 %\n"
          ]
        }
      ]
    },
    {
      "cell_type": "code",
      "source": [
        "filename = '/content/drive/My Drive/Colab Notebooks/Explainable-AI/Paper-2/models/1-exp/Univariate/SVM/Non_PCA_Without_Cross_Validation/SVM_Non_PCA_Without_Cross_Validation.sav'\n",
        "pickle.dump(clf, open(filename, 'wb')) \n"
      ],
      "metadata": {
        "id": "h5R_U_RdK1oI"
      },
      "execution_count": null,
      "outputs": []
    },
    {
      "cell_type": "code",
      "source": [
        "loaded_model = pickle.load(open('/content/drive/My Drive/Colab Notebooks/Explainable-AI/Paper-2/models/1-exp/Univariate/SVM/Non_PCA_Without_Cross_Validation/SVM_Non_PCA_Without_Cross_Validation.sav', 'rb'))\n",
        "y_pred = loaded_model.predict(Xtest)\n",
        "fpr_svc, tpr_svc, _ = metrics.roc_curve(Ytest, y_pred)\n",
        "auc_svc = round(metrics.roc_auc_score(Ytest, y_pred), 4)"
      ],
      "metadata": {
        "id": "gcVkP5QpK19T"
      },
      "execution_count": null,
      "outputs": []
    },
    {
      "cell_type": "code",
      "source": [
        "y_pred=np.round(loaded_model.predict(Xtest)).ravel()\n",
        "print(\"\\nCR by library method=\\n\",\n",
        "          classification_report(Ytest, y_pred))"
      ],
      "metadata": {
        "colab": {
          "base_uri": "https://localhost:8080/"
        },
        "id": "b_SGkB-VSvcw",
        "outputId": "fb145a78-56fe-4105-d4ae-b43cd0cee2c0"
      },
      "execution_count": null,
      "outputs": [
        {
          "output_type": "stream",
          "name": "stdout",
          "text": [
            "\n",
            "CR by library method=\n",
            "               precision    recall  f1-score   support\n",
            "\n",
            "           0       0.96      1.00      0.98       113\n",
            "           1       1.00      0.87      0.93        38\n",
            "\n",
            "    accuracy                           0.97       151\n",
            "   macro avg       0.98      0.93      0.95       151\n",
            "weighted avg       0.97      0.97      0.97       151\n",
            "\n"
          ]
        }
      ]
    },
    {
      "cell_type": "code",
      "source": [
        "SVC_Univariate_imputed_Non_PCA_Non_Cross_accuracy=float(classification_report(Ytest, y_pred).split()[15])\n",
        "SVC_Univariate_imputed_Non_PCA_Non_Cross_accuracy"
      ],
      "metadata": {
        "colab": {
          "base_uri": "https://localhost:8080/"
        },
        "id": "9F8GDHApK-fo",
        "outputId": "c7d45fd6-ac24-41ae-c805-29a8b6300544"
      },
      "execution_count": null,
      "outputs": [
        {
          "output_type": "execute_result",
          "data": {
            "text/plain": [
              "0.97"
            ]
          },
          "metadata": {},
          "execution_count": 300
        }
      ]
    },
    {
      "cell_type": "code",
      "source": [
        "plt.gcf().set_size_inches(16.5, 13.5)\n",
        "plt.subplot(211)\n",
        "plt.plot(fpr_mlp,tpr_mlp, linestyle='--',label=\"MLP_Non-PCA_Non-CV, AUC=\"+str(auc_mlp))\n",
        "plt.subplot(211)\n",
        "plt.plot(fpr_xgb,tpr_xgb, linestyle='--',label=\"XGBoost_Non-PCA_Non-CV, AUC=\"+str(auc_xgb))\n",
        "plt.subplot(211)\n",
        "plt.plot(fpr_svc,tpr_svc, linestyle='--',label=\"SVC_Non-PCA_Non-CV, AUC=\"+str(auc_svc))\n",
        "plt.xlabel('False Positive Rate')\n",
        "plt.ylabel('True Positive Rate')\n",
        "plt.title(\"ROC Curve Plot of Non-PCA without Cross Validation\")\n",
        "plt.legend()"
      ],
      "metadata": {
        "colab": {
          "base_uri": "https://localhost:8080/",
          "height": 494
        },
        "id": "tvvZSp7CLp1X",
        "outputId": "aaf31bd2-9ce9-4640-a81c-8893ebd5486f"
      },
      "execution_count": null,
      "outputs": [
        {
          "output_type": "stream",
          "name": "stderr",
          "text": [
            "/usr/local/lib/python3.7/dist-packages/ipykernel_launcher.py:4: MatplotlibDeprecationWarning: Adding an axes using the same arguments as a previous axes currently reuses the earlier instance.  In a future version, a new instance will always be created and returned.  Meanwhile, this warning can be suppressed, and the future behavior ensured, by passing a unique label to each axes instance.\n",
            "  after removing the cwd from sys.path.\n",
            "/usr/local/lib/python3.7/dist-packages/ipykernel_launcher.py:6: MatplotlibDeprecationWarning: Adding an axes using the same arguments as a previous axes currently reuses the earlier instance.  In a future version, a new instance will always be created and returned.  Meanwhile, this warning can be suppressed, and the future behavior ensured, by passing a unique label to each axes instance.\n",
            "  \n"
          ]
        },
        {
          "output_type": "execute_result",
          "data": {
            "text/plain": [
              "<matplotlib.legend.Legend at 0x7f55b40c5d90>"
            ]
          },
          "metadata": {},
          "execution_count": 301
        },
        {
          "output_type": "display_data",
          "data": {
            "text/plain": [
              "<Figure size 1188x972 with 1 Axes>"
            ],
            "image/png": "[encoded data removed]"
          },
          "metadata": {
            "needs_background": "light"
          }
        }
      ]
    },
    {
      "cell_type": "markdown",
      "source": [
        "# Training Models with Non-PCA X Imputed by Univariate Model and with Cross Validation"
      ],
      "metadata": {
        "id": "yIUMh1YWW0CJ"
      }
    },
    {
      "cell_type": "code",
      "source": [
        "\n",
        "# K-fold Cross Validation model evaluation\n",
        "acc_per_fold=[]\n",
        "loss_per_fold=[]\n",
        "inputs =np.array(X)\n",
        "targets = np.array(y)\n",
        "kfold = KFold(n_splits=3, shuffle=True)\n",
        "fold_no = 1\n",
        "for train, test in kfold.split(inputs, targets):\n",
        "\n",
        "  # Define the model architecture\n",
        "  model = Sequential()\n",
        "  model.add(Dense(33, activation='relu', input_dim=(43)))\n",
        "  model.add(Dense(35, activation='relu'))\n",
        "  model.add(Dense(num_classes, activation='sigmoid'))\n",
        "\n",
        "  # Compile the model\n",
        "  model.compile(loss='binary_crossentropy',\n",
        "              optimizer='RMSprop',\n",
        "              metrics=['accuracy'])\n",
        "\n",
        "\n",
        "  # Generate a print\n",
        "  print('------------------------------------------------------------------------')\n",
        "  print(f'Training for fold {fold_no} ...')\n",
        "\n",
        "  # Fit data to model\n",
        "  history = model.fit(inputs[train], targets[train],\n",
        "              batch_size=batch_size,\n",
        "              epochs=epochs,\n",
        "              verbose=0)\n",
        "  # Generate generalization metrics\n",
        "  scores = model.evaluate(inputs[test], targets[test], verbose=0)\n",
        "  print(f'Score for fold {fold_no}: {model.metrics_names[0]} of {scores[0]}; {model.metrics_names[1]} of {scores[1]*100}%')\n",
        "  acc_per_fold.append(scores[1] * 100)\n",
        "  loss_per_fold.append(scores[0])\n",
        "\n",
        "  # Increase fold number\n",
        "  fold_no = fold_no + 1\n",
        "y_pred=np.round(model.predict(inputs[test])).ravel()\n",
        "print(\"\\nCR by library method=\\n\",\n",
        "          classification_report(targets[test], y_pred))"
      ],
      "metadata": {
        "colab": {
          "base_uri": "https://localhost:8080/"
        },
        "id": "cFHpT4eo-8eb",
        "outputId": "d42dca2f-837a-44d2-8700-51057b73b5a5"
      },
      "execution_count": null,
      "outputs": [
        {
          "output_type": "stream",
          "name": "stdout",
          "text": [
            "------------------------------------------------------------------------\n",
            "Training for fold 1 ...\n",
            "Score for fold 1: loss of 0.01723809540271759; accuracy of 99.50248599052429%\n",
            "------------------------------------------------------------------------\n",
            "Training for fold 2 ...\n",
            "Score for fold 2: loss of 0.18235859274864197; accuracy of 96.49999737739563%\n",
            "------------------------------------------------------------------------\n",
            "Training for fold 3 ...\n",
            "Score for fold 3: loss of 0.17146769165992737; accuracy of 95.99999785423279%\n",
            "\n",
            "CR by library method=\n",
            "               precision    recall  f1-score   support\n",
            "\n",
            "           0       0.99      0.95      0.97       147\n",
            "           1       0.88      0.98      0.93        53\n",
            "\n",
            "    accuracy                           0.96       200\n",
            "   macro avg       0.94      0.97      0.95       200\n",
            "weighted avg       0.96      0.96      0.96       200\n",
            "\n"
          ]
        }
      ]
    },
    {
      "cell_type": "code",
      "source": [
        "filename = '/content/drive/My Drive/Colab Notebooks/Explainable-AI/Paper-2/models/1-exp/Univariate/MLP/Non_PCA_Cross_Validation/MLP_Non_PCA_Cross_Validation.sav'\n",
        "pickle.dump(model, open(filename, 'wb')) \n"
      ],
      "metadata": {
        "colab": {
          "base_uri": "https://localhost:8080/"
        },
        "id": "-3BGGAyaNj3E",
        "outputId": "2486c729-fae5-4d8b-fdad-1caefb5f6302"
      },
      "execution_count": null,
      "outputs": [
        {
          "output_type": "stream",
          "name": "stdout",
          "text": [
            "INFO:tensorflow:Assets written to: ram://d122a56a-bffe-46cb-9782-690e5e48be44/assets\n"
          ]
        }
      ]
    },
    {
      "cell_type": "code",
      "source": [
        "loaded_model = pickle.load(open('/content/drive/My Drive/Colab Notebooks/Explainable-AI/Paper-2/models/1-exp/Univariate/MLP/Non_PCA_Cross_Validation/MLP_Non_PCA_Cross_Validation.sav', 'rb'))\n",
        "y_pred = loaded_model.predict(Xtest)\n",
        "fpr_mlp, tpr_mlp, _ = metrics.roc_curve(Ytest, y_pred)\n",
        "auc_mlp = round(metrics.roc_auc_score(Ytest, y_pred), 4)"
      ],
      "metadata": {
        "id": "ehxofPEzNkep"
      },
      "execution_count": null,
      "outputs": []
    },
    {
      "cell_type": "code",
      "source": [
        "y_pred=np.round(loaded_model.predict(inputs[test])).ravel()\n",
        "print(\"\\nCR by library method=\\n\",\n",
        "          classification_report(targets[test], y_pred))"
      ],
      "metadata": {
        "colab": {
          "base_uri": "https://localhost:8080/"
        },
        "id": "m9bqVrTLNpom",
        "outputId": "c44cb8c5-7625-4371-d3be-63ae78a87508"
      },
      "execution_count": null,
      "outputs": [
        {
          "output_type": "stream",
          "name": "stdout",
          "text": [
            "\n",
            "CR by library method=\n",
            "               precision    recall  f1-score   support\n",
            "\n",
            "           0       0.99      0.95      0.97       147\n",
            "           1       0.88      0.98      0.93        53\n",
            "\n",
            "    accuracy                           0.96       200\n",
            "   macro avg       0.94      0.97      0.95       200\n",
            "weighted avg       0.96      0.96      0.96       200\n",
            "\n"
          ]
        }
      ]
    },
    {
      "cell_type": "code",
      "source": [
        "MLP_Univariate_imputed_Non_PCA_Cross_Validation_accuracy=float((classification_report(targets[test], y_pred)).split()[15])\n",
        "MLP_Univariate_imputed_Non_PCA_Cross_Validation_accuracy"
      ],
      "metadata": {
        "colab": {
          "base_uri": "https://localhost:8080/"
        },
        "id": "Thq_FSkYNokc",
        "outputId": "f050d82e-6a01-4382-c13b-e5b405a67cdd"
      },
      "execution_count": null,
      "outputs": [
        {
          "output_type": "execute_result",
          "data": {
            "text/plain": [
              "0.96"
            ]
          },
          "metadata": {},
          "execution_count": 306
        }
      ]
    },
    {
      "cell_type": "code",
      "source": [
        "cv = KFold(n_splits=3)\n",
        "PARAMETERS = {\"subsample\":[0.5, 0.75, 1],\n",
        "              \"colsample_bytree\":[0.5, 0.75, 1],\n",
        "              \"max_depth\":[2,5, 6, 12],\n",
        "              \"min_child_weight\":[1,5,15],\n",
        "              \"learning_rate\":[0.3, 0.1, 0.03],\n",
        "              \"n_estimators\":[100,500,1000]}\n",
        "full = xgb.XGBClassifier(n_estimators=100, n_jobs=-1)\n",
        "model_gs = GridSearchCV(full,param_grid=PARAMETERS,cv=cv,scoring=\"accuracy\")\n",
        "model_gs.fit(Xtrain,Ytrain, eval_metric=\"error\",verbose=0)\n",
        "y_pred=model_gs.predict(Xtest)\n",
        "print(\"The accuracy is %.2f\"%(accuracy_score(y_pred,Ytest)*100),\"%\")"
      ],
      "metadata": {
        "id": "n7Yz9S8gW6Q_",
        "colab": {
          "base_uri": "https://localhost:8080/"
        },
        "outputId": "93204f6b-0b73-426e-84a0-12dbcbc12538"
      },
      "execution_count": null,
      "outputs": [
        {
          "output_type": "stream",
          "name": "stdout",
          "text": [
            "The accuracy is 100.00 %\n"
          ]
        }
      ]
    },
    {
      "cell_type": "code",
      "source": [
        "filename = '/content/drive/My Drive/Colab Notebooks/Explainable-AI/Paper-2/models/1-exp/Univariate/XGB/Non_PCA_Cross_Validation/XGB_Non_PCA_Cross_Validation.sav'\n",
        "pickle.dump(model_gs, open(filename, 'wb')) \n"
      ],
      "metadata": {
        "id": "ROMhzmmBOWnK"
      },
      "execution_count": null,
      "outputs": []
    },
    {
      "cell_type": "code",
      "source": [
        "loadedmodel = pickle.load(open('/content/drive/My Drive/Colab Notebooks/Explainable-AI/Paper-2/models/1-exp/Univariate/XGB/Non_PCA_Cross_Validation/XGB_Non_PCA_Cross_Validation.sav', 'rb'))\n",
        "y_pred = loadedmodel.predict(Xtest)\n",
        "fpr_xgb, tpr_xgb, _ = metrics.roc_curve(Ytest, y_pred)\n",
        "auc_xgb = round(metrics.roc_auc_score(Ytest, y_pred), 4)\n"
      ],
      "metadata": {
        "id": "GeLuL84oOW_l"
      },
      "execution_count": null,
      "outputs": []
    },
    {
      "cell_type": "code",
      "source": [
        "y_pred=np.round(loadedmodel.predict(Xtest)).ravel()\n",
        "print(\"\\nCR by library method=\\n\",\n",
        "          classification_report(Ytest, y_pred))"
      ],
      "metadata": {
        "colab": {
          "base_uri": "https://localhost:8080/"
        },
        "id": "-TzggY3_Sx2R",
        "outputId": "d92120c4-76b3-403c-bc4f-f17ba0f5056f"
      },
      "execution_count": null,
      "outputs": [
        {
          "output_type": "stream",
          "name": "stdout",
          "text": [
            "\n",
            "CR by library method=\n",
            "               precision    recall  f1-score   support\n",
            "\n",
            "           0       1.00      1.00      1.00       113\n",
            "           1       1.00      1.00      1.00        38\n",
            "\n",
            "    accuracy                           1.00       151\n",
            "   macro avg       1.00      1.00      1.00       151\n",
            "weighted avg       1.00      1.00      1.00       151\n",
            "\n"
          ]
        }
      ]
    },
    {
      "cell_type": "code",
      "source": [
        "XGBoost_Univariate_imputed_Non_PCA_Cross_Validation_accuracy=float(classification_report(Ytest, y_pred).split()[15])\n",
        "XGBoost_Univariate_imputed_Non_PCA_Cross_Validation_accuracy"
      ],
      "metadata": {
        "colab": {
          "base_uri": "https://localhost:8080/"
        },
        "id": "xQJ-EI1MOfTA",
        "outputId": "feeafe91-1478-41f8-a7cb-94394c30d441"
      },
      "execution_count": null,
      "outputs": [
        {
          "output_type": "execute_result",
          "data": {
            "text/plain": [
              "1.0"
            ]
          },
          "metadata": {},
          "execution_count": 311
        }
      ]
    },
    {
      "cell_type": "code",
      "source": [
        "tuned_parameters =  [{'kernel': ['rbf'], 'gamma': [1e-2, 1e-3, 1e-4, 1e-5],\n",
        "                     'C': [0.001, 0.10, 0.1, 10, 25, 50, 100, 1000]},\n",
        "                    {'kernel': ['sigmoid'], 'gamma': [1e-2, 1e-3, 1e-4, 1e-5],\n",
        "                     'C': [0.001, 0.10, 0.1, 10, 25, 50, 100, 1000] },{'kernel': ['linear'], 'C': [0.001, 0.10, 0.1, 10, 25, 50, 100, 1000]}] \n",
        "clf = GridSearchCV(SVC(), tuned_parameters, cv=cv,\n",
        "                       scoring='accuracy')\n",
        "clf.fit(Xtrain,Ytrain)\n",
        "y_pred=clf.predict(Xtest)\n",
        "print(\"The accuracy is %.2f\"%(accuracy_score(y_pred,Ytest)*100),\"%\")"
      ],
      "metadata": {
        "id": "RzZn8xgiW-QY",
        "colab": {
          "base_uri": "https://localhost:8080/"
        },
        "outputId": "2a7550a1-0f91-4414-db8a-25312fb64890"
      },
      "execution_count": null,
      "outputs": [
        {
          "output_type": "stream",
          "name": "stdout",
          "text": [
            "The accuracy is 100.00 %\n"
          ]
        }
      ]
    },
    {
      "cell_type": "code",
      "source": [
        "filename = '/content/drive/My Drive/Colab Notebooks/Explainable-AI/Paper-2/models/1-exp/Univariate/SVM/Non_PCA_Cross_Validation/SVM_Non_PCA_Cross_Validation.sav'\n",
        "pickle.dump(clf, open(filename, 'wb')) \n"
      ],
      "metadata": {
        "id": "Otw3yvPpPGqo"
      },
      "execution_count": null,
      "outputs": []
    },
    {
      "cell_type": "code",
      "source": [
        "loaded_model = pickle.load(open('/content/drive/My Drive/Colab Notebooks/Explainable-AI/Paper-2/models/1-exp/Univariate/SVM/Non_PCA_Cross_Validation/SVM_Non_PCA_Cross_Validation.sav', 'rb'))\n",
        "y_pred = loaded_model.predict(Xtest)\n",
        "fpr_svc, tpr_svc, _ = metrics.roc_curve(Ytest, y_pred)\n",
        "auc_svc = round(metrics.roc_auc_score(Ytest, y_pred), 4)"
      ],
      "metadata": {
        "id": "yfzYrsSyPG57"
      },
      "execution_count": null,
      "outputs": []
    },
    {
      "cell_type": "code",
      "source": [
        "y_pred=np.round(loaded_model.predict(Xtest)).ravel()\n",
        "print(\"\\nCR by library method=\\n\",\n",
        "          classification_report(Ytest, y_pred))"
      ],
      "metadata": {
        "colab": {
          "base_uri": "https://localhost:8080/"
        },
        "id": "cpZE5UCFSzhW",
        "outputId": "52cc0f70-d0eb-4bdc-b801-4d04fe71ed98"
      },
      "execution_count": null,
      "outputs": [
        {
          "output_type": "stream",
          "name": "stdout",
          "text": [
            "\n",
            "CR by library method=\n",
            "               precision    recall  f1-score   support\n",
            "\n",
            "           0       1.00      1.00      1.00       113\n",
            "           1       1.00      1.00      1.00        38\n",
            "\n",
            "    accuracy                           1.00       151\n",
            "   macro avg       1.00      1.00      1.00       151\n",
            "weighted avg       1.00      1.00      1.00       151\n",
            "\n"
          ]
        }
      ]
    },
    {
      "cell_type": "code",
      "source": [
        "SVC_Univariate_imputed_Non_PCA_Cross_Validation_accuracy=float(classification_report(Ytest, y_pred).split()[15])\n",
        "SVC_Univariate_imputed_Non_PCA_Cross_Validation_accuracy"
      ],
      "metadata": {
        "colab": {
          "base_uri": "https://localhost:8080/"
        },
        "id": "s8ar4BgIPOQR",
        "outputId": "7a5b6644-531b-4d1b-8298-c683ac82b0b5"
      },
      "execution_count": null,
      "outputs": [
        {
          "output_type": "execute_result",
          "data": {
            "text/plain": [
              "1.0"
            ]
          },
          "metadata": {},
          "execution_count": 316
        }
      ]
    },
    {
      "cell_type": "code",
      "source": [
        "plt.gcf().set_size_inches(16.5, 13.5)\n",
        "plt.subplot(211)\n",
        "plt.plot(fpr_mlp,tpr_mlp, linestyle='--',label=\"MLP_Non-PCA_CV, AUC=\"+str(auc_mlp))\n",
        "plt.subplot(211)\n",
        "plt.plot(fpr_xgb,tpr_xgb, linestyle='--',label=\"XGBoost_Non-PCA_CV, AUC=\"+str(auc_xgb))\n",
        "plt.subplot(211)\n",
        "plt.plot(fpr_svc,tpr_svc, linestyle='--',label=\"SVC_Non-PCA_CV, AUC=\"+str(auc_svc))\n",
        "plt.xlabel('False Positive Rate')\n",
        "plt.ylabel('True Positive Rate')\n",
        "plt.title(\"ROC Curve Plot of Non-PCA with Cross Validation\")\n",
        "plt.legend()"
      ],
      "metadata": {
        "id": "p60lSlT0VWyx",
        "colab": {
          "base_uri": "https://localhost:8080/"
        },
        "outputId": "ed2ac446-d247-4d88-a545-6d57a3a1dabc"
      },
      "execution_count": null,
      "outputs": [
        {
          "output_type": "stream",
          "name": "stderr",
          "text": [
            "/usr/local/lib/python3.7/dist-packages/ipykernel_launcher.py:4: MatplotlibDeprecationWarning: Adding an axes using the same arguments as a previous axes currently reuses the earlier instance.  In a future version, a new instance will always be created and returned.  Meanwhile, this warning can be suppressed, and the future behavior ensured, by passing a unique label to each axes instance.\n",
            "  after removing the cwd from sys.path.\n",
            "/usr/local/lib/python3.7/dist-packages/ipykernel_launcher.py:6: MatplotlibDeprecationWarning: Adding an axes using the same arguments as a previous axes currently reuses the earlier instance.  In a future version, a new instance will always be created and returned.  Meanwhile, this warning can be suppressed, and the future behavior ensured, by passing a unique label to each axes instance.\n",
            "  \n"
          ]
        },
        {
          "output_type": "execute_result",
          "data": {
            "text/plain": [
              "<matplotlib.legend.Legend at 0x7f55a1564bd0>"
            ]
          },
          "metadata": {},
          "execution_count": 317
        },
        {
          "output_type": "display_data",
          "data": {
            "text/plain": [
              "<Figure size 1188x972 with 1 Axes>"
            ],
            "image/png": "[encoded data removed]"
          },
          "metadata": {
            "needs_background": "light"
          }
        }
      ]
    },
    {
      "cell_type": "code",
      "source": [],
      "metadata": {
        "id": "0oGjqqdlP6IP"
      },
      "execution_count": null,
      "outputs": []
    }
  ]
}