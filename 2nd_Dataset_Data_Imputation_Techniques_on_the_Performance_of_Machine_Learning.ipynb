{
  "cells": [
    {
      "cell_type": "code",
      "execution_count": null,
      "metadata": {
        "colab": {
          "base_uri": "https://localhost:8080/"
        },
        "id": "LnbXbLhaHMGc",
        "outputId": "2c9db6d0-9a1d-4ecc-f625-c3eb290894d8"
      },
      "outputs": [
        {
          "output_type": "stream",
          "name": "stdout",
          "text": [
            "Mounted at /content/drive\n"
          ]
        }
      ],
      "source": [
        "from google.colab import drive\n",
        "drive.mount('/content/drive')"
      ]
    },
    {
      "cell_type": "code",
      "execution_count": null,
      "metadata": {
        "id": "qwRCzHQTH6Qb"
      },
      "outputs": [],
      "source": [
        "import pandas as pd\n"
      ]
    },
    {
      "cell_type": "code",
      "execution_count": null,
      "metadata": {
        "colab": {
          "base_uri": "https://localhost:8080/"
        },
        "id": "g0xUGhm9J59w",
        "outputId": "3d1ad615-cc1a-428e-9749-7584808aa679"
      },
      "outputs": [
        {
          "output_type": "stream",
          "name": "stdout",
          "text": [
            "Looking in indexes: https://pypi.org/simple, https://us-python.pkg.dev/colab-wheels/public/simple/\n",
            "Requirement already satisfied: xlrd in /usr/local/lib/python3.7/dist-packages (1.1.0)\n"
          ]
        }
      ],
      "source": [
        "!pip install xlrd\n"
      ]
    },
    {
      "cell_type": "code",
      "execution_count": null,
      "metadata": {
        "colab": {
          "base_uri": "https://localhost:8080/"
        },
        "id": "qa1h-lnYJ5_v",
        "outputId": "3a7b71d2-4c7a-4d16-847c-85776f428aa0"
      },
      "outputs": [
        {
          "output_type": "stream",
          "name": "stdout",
          "text": [
            "Looking in indexes: https://pypi.org/simple, https://us-python.pkg.dev/colab-wheels/public/simple/\n",
            "Requirement already satisfied: openpyxl in /usr/local/lib/python3.7/dist-packages (3.0.10)\n",
            "Requirement already satisfied: et-xmlfile in /usr/local/lib/python3.7/dist-packages (from openpyxl) (1.1.0)\n"
          ]
        }
      ],
      "source": [
        "!pip install openpyxl --upgrade\n"
      ]
    },
    {
      "cell_type": "code",
      "execution_count": null,
      "metadata": {
        "id": "U9nPihsCKizx"
      },
      "outputs": [],
      "source": [
        "import xlrd"
      ]
    },
    {
      "cell_type": "code",
      "execution_count": null,
      "metadata": {
        "id": "PPKYud_dS4ff"
      },
      "outputs": [],
      "source": [
        "missing_values = [\"n/a\", \"na\", \"--\"]"
      ]
    },
    {
      "cell_type": "code",
      "execution_count": null,
      "metadata": {
        "id": "VV8gWDoLJQ_d"
      },
      "outputs": [],
      "source": [
        "df1 = pd.read_csv('/content/drive/My Drive/Colab Notebooks/Explainable-AI/Paper-2/Raw_data-sixth-dataset/CLIN_LAB_DATA_RAD-Covid.xlsx - Sheet1.csv', na_values = missing_values)\n"
      ]
    },
    {
      "cell_type": "code",
      "execution_count": null,
      "metadata": {
        "colab": {
          "base_uri": "https://localhost:8080/"
        },
        "id": "czS4UU4SNS5F",
        "outputId": "78d282c8-84b4-47a2-c60f-fe89fdd2280c"
      },
      "outputs": [
        {
          "output_type": "execute_result",
          "data": {
            "text/plain": [
              "(658, 37)"
            ]
          },
          "metadata": {},
          "execution_count": 8
        }
      ],
      "source": [
        "df1.shape"
      ]
    },
    {
      "cell_type": "code",
      "execution_count": null,
      "metadata": {
        "colab": {
          "base_uri": "https://localhost:8080/",
          "height": 310
        },
        "id": "00vCjBpZ3s3m",
        "outputId": "90993788-c3b0-4221-97a2-167162343957"
      },
      "outputs": [
        {
          "output_type": "execute_result",
          "data": {
            "text/plain": [
              "   PATIENT AGE RANGE  Clinical Severity Score  SYMPTOM ONSET  \\\n",
              "0        1     51-60                        1          43898   \n",
              "1        2     61-70                        2          43912   \n",
              "\n",
              "               RESULT DEATH? DYSPNOEA? FEVER? COUGH? ABDOMINAL SYMPTOMS?  ...  \\\n",
              "0  POSITIVE FOR COVID    YES       YES    YES     NO                  NO  ...   \n",
              "1  POSITIVE FOR COVID     NO        NO    YES    YES                 YES  ...   \n",
              "\n",
              "   DM? Asthma?  COPD?  CURRENT SMOKER? ex-SMOKER?  CURRENT neoplasia?  \\\n",
              "0   NO     YES     NO               NO        YES                  NO   \n",
              "1   NO      NO     NO               NO         NO                  NO   \n",
              "\n",
              "  TREATED NEOPLASIA? CVD?  cerebrovascular disease? CKD?  \n",
              "0                 NO   NO                        NO   NO  \n",
              "1                 NO   NO                        NO   NO  \n",
              "\n",
              "[2 rows x 37 columns]"
            ],
            "text/html": [
              "\n",
              "  <div id=\"df-e3f810ea-e1e9-4185-95ce-fa782d84f441\">\n",
              "    <div class=\"colab-df-container\">\n",
              "      <div>\n",
              "<style scoped>\n",
              "    .dataframe tbody tr th:only-of-type {\n",
              "        vertical-align: middle;\n",
              "    }\n",
              "\n",
              "    .dataframe tbody tr th {\n",
              "        vertical-align: top;\n",
              "    }\n",
              "\n",
              "    .dataframe thead th {\n",
              "        text-align: right;\n",
              "    }\n",
              "</style>\n",
              "<table border=\"1\" class=\"dataframe\">\n",
              "  <thead>\n",
              "    <tr style=\"text-align: right;\">\n",
              "      <th></th>\n",
              "      <th>PATIENT</th>\n",
              "      <th>AGE RANGE</th>\n",
              "      <th>Clinical Severity Score</th>\n",
              "      <th>SYMPTOM ONSET</th>\n",
              "      <th>RESULT</th>\n",
              "      <th>DEATH?</th>\n",
              "      <th>DYSPNOEA?</th>\n",
              "      <th>FEVER?</th>\n",
              "      <th>COUGH?</th>\n",
              "      <th>ABDOMINAL SYMPTOMS?</th>\n",
              "      <th>...</th>\n",
              "      <th>DM?</th>\n",
              "      <th>Asthma?</th>\n",
              "      <th>COPD?</th>\n",
              "      <th>CURRENT SMOKER?</th>\n",
              "      <th>ex-SMOKER?</th>\n",
              "      <th>CURRENT neoplasia?</th>\n",
              "      <th>TREATED NEOPLASIA?</th>\n",
              "      <th>CVD?</th>\n",
              "      <th>cerebrovascular disease?</th>\n",
              "      <th>CKD?</th>\n",
              "    </tr>\n",
              "  </thead>\n",
              "  <tbody>\n",
              "    <tr>\n",
              "      <th>0</th>\n",
              "      <td>1</td>\n",
              "      <td>51-60</td>\n",
              "      <td>1</td>\n",
              "      <td>43898</td>\n",
              "      <td>POSITIVE FOR COVID</td>\n",
              "      <td>YES</td>\n",
              "      <td>YES</td>\n",
              "      <td>YES</td>\n",
              "      <td>NO</td>\n",
              "      <td>NO</td>\n",
              "      <td>...</td>\n",
              "      <td>NO</td>\n",
              "      <td>YES</td>\n",
              "      <td>NO</td>\n",
              "      <td>NO</td>\n",
              "      <td>YES</td>\n",
              "      <td>NO</td>\n",
              "      <td>NO</td>\n",
              "      <td>NO</td>\n",
              "      <td>NO</td>\n",
              "      <td>NO</td>\n",
              "    </tr>\n",
              "    <tr>\n",
              "      <th>1</th>\n",
              "      <td>2</td>\n",
              "      <td>61-70</td>\n",
              "      <td>2</td>\n",
              "      <td>43912</td>\n",
              "      <td>POSITIVE FOR COVID</td>\n",
              "      <td>NO</td>\n",
              "      <td>NO</td>\n",
              "      <td>YES</td>\n",
              "      <td>YES</td>\n",
              "      <td>YES</td>\n",
              "      <td>...</td>\n",
              "      <td>NO</td>\n",
              "      <td>NO</td>\n",
              "      <td>NO</td>\n",
              "      <td>NO</td>\n",
              "      <td>NO</td>\n",
              "      <td>NO</td>\n",
              "      <td>NO</td>\n",
              "      <td>NO</td>\n",
              "      <td>NO</td>\n",
              "      <td>NO</td>\n",
              "    </tr>\n",
              "  </tbody>\n",
              "</table>\n",
              "<p>2 rows × 37 columns</p>\n",
              "</div>\n",
              "      <button class=\"colab-df-convert\" onclick=\"convertToInteractive('df-e3f810ea-e1e9-4185-95ce-fa782d84f441')\"\n",
              "              title=\"Convert this dataframe to an interactive table.\"\n",
              "              style=\"display:none;\">\n",
              "        \n",
              "  <svg xmlns=\"http://www.w3.org/2000/svg\" height=\"24px\"viewBox=\"0 0 24 24\"\n",
              "       width=\"24px\">\n",
              "    <path d=\"M0 0h24v24H0V0z\" fill=\"none\"/>\n",
              "    <path d=\"M18.56 5.44l.94 2.06.94-2.06 2.06-.94-2.06-.94-.94-2.06-.94 2.06-2.06.94zm-11 1L8.5 8.5l.94-2.06 2.06-.94-2.06-.94L8.5 2.5l-.94 2.06-2.06.94zm10 10l.94 2.06.94-2.06 2.06-.94-2.06-.94-.94-2.06-.94 2.06-2.06.94z\"/><path d=\"M17.41 7.96l-1.37-1.37c-.4-.4-.92-.59-1.43-.59-.52 0-1.04.2-1.43.59L10.3 9.45l-7.72 7.72c-.78.78-.78 2.05 0 2.83L4 21.41c.39.39.9.59 1.41.59.51 0 1.02-.2 1.41-.59l7.78-7.78 2.81-2.81c.8-.78.8-2.07 0-2.86zM5.41 20L4 18.59l7.72-7.72 1.47 1.35L5.41 20z\"/>\n",
              "  </svg>\n",
              "      </button>\n",
              "      \n",
              "  <style>\n",
              "    .colab-df-container {\n",
              "      display:flex;\n",
              "      flex-wrap:wrap;\n",
              "      gap: 12px;\n",
              "    }\n",
              "\n",
              "    .colab-df-convert {\n",
              "      background-color: #E8F0FE;\n",
              "      border: none;\n",
              "      border-radius: 50%;\n",
              "      cursor: pointer;\n",
              "      display: none;\n",
              "      fill: #1967D2;\n",
              "      height: 32px;\n",
              "      padding: 0 0 0 0;\n",
              "      width: 32px;\n",
              "    }\n",
              "\n",
              "    .colab-df-convert:hover {\n",
              "      background-color: #E2EBFA;\n",
              "      box-shadow: 0px 1px 2px rgba(60, 64, 67, 0.3), 0px 1px 3px 1px rgba(60, 64, 67, 0.15);\n",
              "      fill: #174EA6;\n",
              "    }\n",
              "\n",
              "    [theme=dark] .colab-df-convert {\n",
              "      background-color: #3B4455;\n",
              "      fill: #D2E3FC;\n",
              "    }\n",
              "\n",
              "    [theme=dark] .colab-df-convert:hover {\n",
              "      background-color: #434B5C;\n",
              "      box-shadow: 0px 1px 3px 1px rgba(0, 0, 0, 0.15);\n",
              "      filter: drop-shadow(0px 1px 2px rgba(0, 0, 0, 0.3));\n",
              "      fill: #FFFFFF;\n",
              "    }\n",
              "  </style>\n",
              "\n",
              "      <script>\n",
              "        const buttonEl =\n",
              "          document.querySelector('#df-e3f810ea-e1e9-4185-95ce-fa782d84f441 button.colab-df-convert');\n",
              "        buttonEl.style.display =\n",
              "          google.colab.kernel.accessAllowed ? 'block' : 'none';\n",
              "\n",
              "        async function convertToInteractive(key) {\n",
              "          const element = document.querySelector('#df-e3f810ea-e1e9-4185-95ce-fa782d84f441');\n",
              "          const dataTable =\n",
              "            await google.colab.kernel.invokeFunction('convertToInteractive',\n",
              "                                                     [key], {});\n",
              "          if (!dataTable) return;\n",
              "\n",
              "          const docLinkHtml = 'Like what you see? Visit the ' +\n",
              "            '<a target=\"_blank\" href=https://colab.research.google.com/notebooks/data_table.ipynb>data table notebook</a>'\n",
              "            + ' to learn more about interactive tables.';\n",
              "          element.innerHTML = '';\n",
              "          dataTable['output_type'] = 'display_data';\n",
              "          await google.colab.output.renderOutput(dataTable, element);\n",
              "          const docLink = document.createElement('div');\n",
              "          docLink.innerHTML = docLinkHtml;\n",
              "          element.appendChild(docLink);\n",
              "        }\n",
              "      </script>\n",
              "    </div>\n",
              "  </div>\n",
              "  "
            ]
          },
          "metadata": {},
          "execution_count": 9
        }
      ],
      "source": [
        "df1.head(2)"
      ]
    },
    {
      "cell_type": "code",
      "execution_count": null,
      "metadata": {
        "id": "RK2vBEInLZPo"
      },
      "outputs": [],
      "source": [
        "df2 = pd.read_csv('/content/drive/My Drive/Colab Notebooks/Explainable-AI/Paper-2/Raw_data-sixth-dataset/RADIOLOGISTS_DATA.xlsx - Sheet1.csv', na_values = missing_values)\n"
      ]
    },
    {
      "cell_type": "code",
      "execution_count": null,
      "metadata": {
        "colab": {
          "base_uri": "https://localhost:8080/"
        },
        "id": "3CagEvJSLXvX",
        "outputId": "e30fda81-e3d1-45f5-e20b-ccec58404fc7"
      },
      "outputs": [
        {
          "output_type": "execute_result",
          "data": {
            "text/plain": [
              "(658, 16)"
            ]
          },
          "metadata": {},
          "execution_count": 11
        }
      ],
      "source": [
        "df2.shape"
      ]
    },
    {
      "cell_type": "code",
      "execution_count": null,
      "metadata": {
        "colab": {
          "base_uri": "https://localhost:8080/",
          "height": 340
        },
        "id": "4kVIfNjK7rqT",
        "outputId": "12f761d2-792d-4b10-bb15-7cade021ecaf"
      },
      "outputs": [
        {
          "output_type": "execute_result",
          "data": {
            "text/plain": [
              "   PATIENT CT Suggestive of COVID? Rounded morphology? Crazy Paving?  \\\n",
              "0        1                     YES                 YES           YES   \n",
              "1        2                     YES                 YES           YES   \n",
              "2        3                     YES                 YES           YES   \n",
              "3        4                     YES                 YES           YES   \n",
              "4        5               EQUIVOCAL                 NO            YES   \n",
              "\n",
              "  Reverse Halo Sign? Bronchial thickening? Pleural Effusion Lymphdenomegalia  \\\n",
              "0                NO                     NO               NO               NO   \n",
              "1                YES                   YES               NO               NO   \n",
              "2                 NO                    NO               NO               NO   \n",
              "3                 NO                    NO               NO               NO   \n",
              "4                 NO                   YES              YES              YES   \n",
              "\n",
              "  Distribution of lesions 2+ Lung Lobes Involvement? Bilaterality  \\\n",
              "0  Central and Peripheric                         2+    Bilateral   \n",
              "1              Peripheric                         2+    Bilateral   \n",
              "2              Peripheric                         2+    Bilateral   \n",
              "3  Central and Peripheric                         2+    Bilateral   \n",
              "4              Peripheric                   One lobe   Unilateral   \n",
              "\n",
              "  Right Upper Lobe? Right Medium Lobe? Right Lower Lobe? Left Upper Lobe?  \\\n",
              "0               YES                YES               YES              YES   \n",
              "1               YES                 NO               YES              YES   \n",
              "2                NO                YES               YES              YES   \n",
              "3               YES                YES               YES              YES   \n",
              "4               YES                 NO                NO               NO   \n",
              "\n",
              "  Left Lower Lobe?  \n",
              "0              YES  \n",
              "1              YES  \n",
              "2              YES  \n",
              "3              YES  \n",
              "4               NO  "
            ],
            "text/html": [
              "\n",
              "  <div id=\"df-5bbafded-e2a5-4330-99df-6ade77d345ff\">\n",
              "    <div class=\"colab-df-container\">\n",
              "      <div>\n",
              "<style scoped>\n",
              "    .dataframe tbody tr th:only-of-type {\n",
              "        vertical-align: middle;\n",
              "    }\n",
              "\n",
              "    .dataframe tbody tr th {\n",
              "        vertical-align: top;\n",
              "    }\n",
              "\n",
              "    .dataframe thead th {\n",
              "        text-align: right;\n",
              "    }\n",
              "</style>\n",
              "<table border=\"1\" class=\"dataframe\">\n",
              "  <thead>\n",
              "    <tr style=\"text-align: right;\">\n",
              "      <th></th>\n",
              "      <th>PATIENT</th>\n",
              "      <th>CT Suggestive of COVID?</th>\n",
              "      <th>Rounded morphology?</th>\n",
              "      <th>Crazy Paving?</th>\n",
              "      <th>Reverse Halo Sign?</th>\n",
              "      <th>Bronchial thickening?</th>\n",
              "      <th>Pleural Effusion</th>\n",
              "      <th>Lymphdenomegalia</th>\n",
              "      <th>Distribution of lesions</th>\n",
              "      <th>2+ Lung Lobes Involvement?</th>\n",
              "      <th>Bilaterality</th>\n",
              "      <th>Right Upper Lobe?</th>\n",
              "      <th>Right Medium Lobe?</th>\n",
              "      <th>Right Lower Lobe?</th>\n",
              "      <th>Left Upper Lobe?</th>\n",
              "      <th>Left Lower Lobe?</th>\n",
              "    </tr>\n",
              "  </thead>\n",
              "  <tbody>\n",
              "    <tr>\n",
              "      <th>0</th>\n",
              "      <td>1</td>\n",
              "      <td>YES</td>\n",
              "      <td>YES</td>\n",
              "      <td>YES</td>\n",
              "      <td>NO</td>\n",
              "      <td>NO</td>\n",
              "      <td>NO</td>\n",
              "      <td>NO</td>\n",
              "      <td>Central and Peripheric</td>\n",
              "      <td>2+</td>\n",
              "      <td>Bilateral</td>\n",
              "      <td>YES</td>\n",
              "      <td>YES</td>\n",
              "      <td>YES</td>\n",
              "      <td>YES</td>\n",
              "      <td>YES</td>\n",
              "    </tr>\n",
              "    <tr>\n",
              "      <th>1</th>\n",
              "      <td>2</td>\n",
              "      <td>YES</td>\n",
              "      <td>YES</td>\n",
              "      <td>YES</td>\n",
              "      <td>YES</td>\n",
              "      <td>YES</td>\n",
              "      <td>NO</td>\n",
              "      <td>NO</td>\n",
              "      <td>Peripheric</td>\n",
              "      <td>2+</td>\n",
              "      <td>Bilateral</td>\n",
              "      <td>YES</td>\n",
              "      <td>NO</td>\n",
              "      <td>YES</td>\n",
              "      <td>YES</td>\n",
              "      <td>YES</td>\n",
              "    </tr>\n",
              "    <tr>\n",
              "      <th>2</th>\n",
              "      <td>3</td>\n",
              "      <td>YES</td>\n",
              "      <td>YES</td>\n",
              "      <td>YES</td>\n",
              "      <td>NO</td>\n",
              "      <td>NO</td>\n",
              "      <td>NO</td>\n",
              "      <td>NO</td>\n",
              "      <td>Peripheric</td>\n",
              "      <td>2+</td>\n",
              "      <td>Bilateral</td>\n",
              "      <td>NO</td>\n",
              "      <td>YES</td>\n",
              "      <td>YES</td>\n",
              "      <td>YES</td>\n",
              "      <td>YES</td>\n",
              "    </tr>\n",
              "    <tr>\n",
              "      <th>3</th>\n",
              "      <td>4</td>\n",
              "      <td>YES</td>\n",
              "      <td>YES</td>\n",
              "      <td>YES</td>\n",
              "      <td>NO</td>\n",
              "      <td>NO</td>\n",
              "      <td>NO</td>\n",
              "      <td>NO</td>\n",
              "      <td>Central and Peripheric</td>\n",
              "      <td>2+</td>\n",
              "      <td>Bilateral</td>\n",
              "      <td>YES</td>\n",
              "      <td>YES</td>\n",
              "      <td>YES</td>\n",
              "      <td>YES</td>\n",
              "      <td>YES</td>\n",
              "    </tr>\n",
              "    <tr>\n",
              "      <th>4</th>\n",
              "      <td>5</td>\n",
              "      <td>EQUIVOCAL</td>\n",
              "      <td>NO</td>\n",
              "      <td>YES</td>\n",
              "      <td>NO</td>\n",
              "      <td>YES</td>\n",
              "      <td>YES</td>\n",
              "      <td>YES</td>\n",
              "      <td>Peripheric</td>\n",
              "      <td>One lobe</td>\n",
              "      <td>Unilateral</td>\n",
              "      <td>YES</td>\n",
              "      <td>NO</td>\n",
              "      <td>NO</td>\n",
              "      <td>NO</td>\n",
              "      <td>NO</td>\n",
              "    </tr>\n",
              "  </tbody>\n",
              "</table>\n",
              "</div>\n",
              "      <button class=\"colab-df-convert\" onclick=\"convertToInteractive('df-5bbafded-e2a5-4330-99df-6ade77d345ff')\"\n",
              "              title=\"Convert this dataframe to an interactive table.\"\n",
              "              style=\"display:none;\">\n",
              "        \n",
              "  <svg xmlns=\"http://www.w3.org/2000/svg\" height=\"24px\"viewBox=\"0 0 24 24\"\n",
              "       width=\"24px\">\n",
              "    <path d=\"M0 0h24v24H0V0z\" fill=\"none\"/>\n",
              "    <path d=\"M18.56 5.44l.94 2.06.94-2.06 2.06-.94-2.06-.94-.94-2.06-.94 2.06-2.06.94zm-11 1L8.5 8.5l.94-2.06 2.06-.94-2.06-.94L8.5 2.5l-.94 2.06-2.06.94zm10 10l.94 2.06.94-2.06 2.06-.94-2.06-.94-.94-2.06-.94 2.06-2.06.94z\"/><path d=\"M17.41 7.96l-1.37-1.37c-.4-.4-.92-.59-1.43-.59-.52 0-1.04.2-1.43.59L10.3 9.45l-7.72 7.72c-.78.78-.78 2.05 0 2.83L4 21.41c.39.39.9.59 1.41.59.51 0 1.02-.2 1.41-.59l7.78-7.78 2.81-2.81c.8-.78.8-2.07 0-2.86zM5.41 20L4 18.59l7.72-7.72 1.47 1.35L5.41 20z\"/>\n",
              "  </svg>\n",
              "      </button>\n",
              "      \n",
              "  <style>\n",
              "    .colab-df-container {\n",
              "      display:flex;\n",
              "      flex-wrap:wrap;\n",
              "      gap: 12px;\n",
              "    }\n",
              "\n",
              "    .colab-df-convert {\n",
              "      background-color: #E8F0FE;\n",
              "      border: none;\n",
              "      border-radius: 50%;\n",
              "      cursor: pointer;\n",
              "      display: none;\n",
              "      fill: #1967D2;\n",
              "      height: 32px;\n",
              "      padding: 0 0 0 0;\n",
              "      width: 32px;\n",
              "    }\n",
              "\n",
              "    .colab-df-convert:hover {\n",
              "      background-color: #E2EBFA;\n",
              "      box-shadow: 0px 1px 2px rgba(60, 64, 67, 0.3), 0px 1px 3px 1px rgba(60, 64, 67, 0.15);\n",
              "      fill: #174EA6;\n",
              "    }\n",
              "\n",
              "    [theme=dark] .colab-df-convert {\n",
              "      background-color: #3B4455;\n",
              "      fill: #D2E3FC;\n",
              "    }\n",
              "\n",
              "    [theme=dark] .colab-df-convert:hover {\n",
              "      background-color: #434B5C;\n",
              "      box-shadow: 0px 1px 3px 1px rgba(0, 0, 0, 0.15);\n",
              "      filter: drop-shadow(0px 1px 2px rgba(0, 0, 0, 0.3));\n",
              "      fill: #FFFFFF;\n",
              "    }\n",
              "  </style>\n",
              "\n",
              "      <script>\n",
              "        const buttonEl =\n",
              "          document.querySelector('#df-5bbafded-e2a5-4330-99df-6ade77d345ff button.colab-df-convert');\n",
              "        buttonEl.style.display =\n",
              "          google.colab.kernel.accessAllowed ? 'block' : 'none';\n",
              "\n",
              "        async function convertToInteractive(key) {\n",
              "          const element = document.querySelector('#df-5bbafded-e2a5-4330-99df-6ade77d345ff');\n",
              "          const dataTable =\n",
              "            await google.colab.kernel.invokeFunction('convertToInteractive',\n",
              "                                                     [key], {});\n",
              "          if (!dataTable) return;\n",
              "\n",
              "          const docLinkHtml = 'Like what you see? Visit the ' +\n",
              "            '<a target=\"_blank\" href=https://colab.research.google.com/notebooks/data_table.ipynb>data table notebook</a>'\n",
              "            + ' to learn more about interactive tables.';\n",
              "          element.innerHTML = '';\n",
              "          dataTable['output_type'] = 'display_data';\n",
              "          await google.colab.output.renderOutput(dataTable, element);\n",
              "          const docLink = document.createElement('div');\n",
              "          docLink.innerHTML = docLinkHtml;\n",
              "          element.appendChild(docLink);\n",
              "        }\n",
              "      </script>\n",
              "    </div>\n",
              "  </div>\n",
              "  "
            ]
          },
          "metadata": {},
          "execution_count": 12
        }
      ],
      "source": [
        "df2.head()"
      ]
    },
    {
      "cell_type": "code",
      "execution_count": null,
      "metadata": {
        "id": "93MMWx0V8Mrl"
      },
      "outputs": [],
      "source": [
        "df3 = pd.read_csv('/content/drive/My Drive/Colab Notebooks/Explainable-AI/Paper-2/Raw_data-sixth-dataset/RAD-COVID_SCORE.xlsx - Radiologist 1.csv', na_values = missing_values)\n"
      ]
    },
    {
      "cell_type": "code",
      "execution_count": null,
      "metadata": {
        "colab": {
          "base_uri": "https://localhost:8080/"
        },
        "id": "1I9NxUw08Vw9",
        "outputId": "b2ec32b5-cf0c-41ca-a38c-f74fac45c0f1"
      },
      "outputs": [
        {
          "output_type": "execute_result",
          "data": {
            "text/plain": [
              "(658, 2)"
            ]
          },
          "metadata": {},
          "execution_count": 14
        }
      ],
      "source": [
        "df3.shape"
      ]
    },
    {
      "cell_type": "code",
      "execution_count": null,
      "metadata": {
        "colab": {
          "base_uri": "https://localhost:8080/",
          "height": 206
        },
        "id": "g8TkZuH6HdnW",
        "outputId": "25a4db7e-f6d0-4c4c-9a2d-8973d88a1fb8"
      },
      "outputs": [
        {
          "output_type": "execute_result",
          "data": {
            "text/plain": [
              "   PATIENT        RAD-COVID SCORE\n",
              "0        1        1 - Mild (<25%)\n",
              "1        2        1 - Mild (<25%)\n",
              "2        3        1 - Mild (<25%)\n",
              "3        4  2 - Moderate (25-50%)\n",
              "4        5        1 - Mild (<25%)"
            ],
            "text/html": [
              "\n",
              "  <div id=\"df-92661a59-5b2d-479b-b58a-8e8df61c5722\">\n",
              "    <div class=\"colab-df-container\">\n",
              "      <div>\n",
              "<style scoped>\n",
              "    .dataframe tbody tr th:only-of-type {\n",
              "        vertical-align: middle;\n",
              "    }\n",
              "\n",
              "    .dataframe tbody tr th {\n",
              "        vertical-align: top;\n",
              "    }\n",
              "\n",
              "    .dataframe thead th {\n",
              "        text-align: right;\n",
              "    }\n",
              "</style>\n",
              "<table border=\"1\" class=\"dataframe\">\n",
              "  <thead>\n",
              "    <tr style=\"text-align: right;\">\n",
              "      <th></th>\n",
              "      <th>PATIENT</th>\n",
              "      <th>RAD-COVID SCORE</th>\n",
              "    </tr>\n",
              "  </thead>\n",
              "  <tbody>\n",
              "    <tr>\n",
              "      <th>0</th>\n",
              "      <td>1</td>\n",
              "      <td>1 - Mild (&lt;25%)</td>\n",
              "    </tr>\n",
              "    <tr>\n",
              "      <th>1</th>\n",
              "      <td>2</td>\n",
              "      <td>1 - Mild (&lt;25%)</td>\n",
              "    </tr>\n",
              "    <tr>\n",
              "      <th>2</th>\n",
              "      <td>3</td>\n",
              "      <td>1 - Mild (&lt;25%)</td>\n",
              "    </tr>\n",
              "    <tr>\n",
              "      <th>3</th>\n",
              "      <td>4</td>\n",
              "      <td>2 - Moderate (25-50%)</td>\n",
              "    </tr>\n",
              "    <tr>\n",
              "      <th>4</th>\n",
              "      <td>5</td>\n",
              "      <td>1 - Mild (&lt;25%)</td>\n",
              "    </tr>\n",
              "  </tbody>\n",
              "</table>\n",
              "</div>\n",
              "      <button class=\"colab-df-convert\" onclick=\"convertToInteractive('df-92661a59-5b2d-479b-b58a-8e8df61c5722')\"\n",
              "              title=\"Convert this dataframe to an interactive table.\"\n",
              "              style=\"display:none;\">\n",
              "        \n",
              "  <svg xmlns=\"http://www.w3.org/2000/svg\" height=\"24px\"viewBox=\"0 0 24 24\"\n",
              "       width=\"24px\">\n",
              "    <path d=\"M0 0h24v24H0V0z\" fill=\"none\"/>\n",
              "    <path d=\"M18.56 5.44l.94 2.06.94-2.06 2.06-.94-2.06-.94-.94-2.06-.94 2.06-2.06.94zm-11 1L8.5 8.5l.94-2.06 2.06-.94-2.06-.94L8.5 2.5l-.94 2.06-2.06.94zm10 10l.94 2.06.94-2.06 2.06-.94-2.06-.94-.94-2.06-.94 2.06-2.06.94z\"/><path d=\"M17.41 7.96l-1.37-1.37c-.4-.4-.92-.59-1.43-.59-.52 0-1.04.2-1.43.59L10.3 9.45l-7.72 7.72c-.78.78-.78 2.05 0 2.83L4 21.41c.39.39.9.59 1.41.59.51 0 1.02-.2 1.41-.59l7.78-7.78 2.81-2.81c.8-.78.8-2.07 0-2.86zM5.41 20L4 18.59l7.72-7.72 1.47 1.35L5.41 20z\"/>\n",
              "  </svg>\n",
              "      </button>\n",
              "      \n",
              "  <style>\n",
              "    .colab-df-container {\n",
              "      display:flex;\n",
              "      flex-wrap:wrap;\n",
              "      gap: 12px;\n",
              "    }\n",
              "\n",
              "    .colab-df-convert {\n",
              "      background-color: #E8F0FE;\n",
              "      border: none;\n",
              "      border-radius: 50%;\n",
              "      cursor: pointer;\n",
              "      display: none;\n",
              "      fill: #1967D2;\n",
              "      height: 32px;\n",
              "      padding: 0 0 0 0;\n",
              "      width: 32px;\n",
              "    }\n",
              "\n",
              "    .colab-df-convert:hover {\n",
              "      background-color: #E2EBFA;\n",
              "      box-shadow: 0px 1px 2px rgba(60, 64, 67, 0.3), 0px 1px 3px 1px rgba(60, 64, 67, 0.15);\n",
              "      fill: #174EA6;\n",
              "    }\n",
              "\n",
              "    [theme=dark] .colab-df-convert {\n",
              "      background-color: #3B4455;\n",
              "      fill: #D2E3FC;\n",
              "    }\n",
              "\n",
              "    [theme=dark] .colab-df-convert:hover {\n",
              "      background-color: #434B5C;\n",
              "      box-shadow: 0px 1px 3px 1px rgba(0, 0, 0, 0.15);\n",
              "      filter: drop-shadow(0px 1px 2px rgba(0, 0, 0, 0.3));\n",
              "      fill: #FFFFFF;\n",
              "    }\n",
              "  </style>\n",
              "\n",
              "      <script>\n",
              "        const buttonEl =\n",
              "          document.querySelector('#df-92661a59-5b2d-479b-b58a-8e8df61c5722 button.colab-df-convert');\n",
              "        buttonEl.style.display =\n",
              "          google.colab.kernel.accessAllowed ? 'block' : 'none';\n",
              "\n",
              "        async function convertToInteractive(key) {\n",
              "          const element = document.querySelector('#df-92661a59-5b2d-479b-b58a-8e8df61c5722');\n",
              "          const dataTable =\n",
              "            await google.colab.kernel.invokeFunction('convertToInteractive',\n",
              "                                                     [key], {});\n",
              "          if (!dataTable) return;\n",
              "\n",
              "          const docLinkHtml = 'Like what you see? Visit the ' +\n",
              "            '<a target=\"_blank\" href=https://colab.research.google.com/notebooks/data_table.ipynb>data table notebook</a>'\n",
              "            + ' to learn more about interactive tables.';\n",
              "          element.innerHTML = '';\n",
              "          dataTable['output_type'] = 'display_data';\n",
              "          await google.colab.output.renderOutput(dataTable, element);\n",
              "          const docLink = document.createElement('div');\n",
              "          docLink.innerHTML = docLinkHtml;\n",
              "          element.appendChild(docLink);\n",
              "        }\n",
              "      </script>\n",
              "    </div>\n",
              "  </div>\n",
              "  "
            ]
          },
          "metadata": {},
          "execution_count": 15
        }
      ],
      "source": [
        "df3.head()"
      ]
    },
    {
      "cell_type": "code",
      "execution_count": null,
      "metadata": {
        "id": "cujaNruDQ6bk"
      },
      "outputs": [],
      "source": [
        "df=pd.merge(df1,df2,how='inner', on='PATIENT')"
      ]
    },
    {
      "cell_type": "code",
      "execution_count": null,
      "metadata": {
        "id": "2I9Nr8nUQ8sE"
      },
      "outputs": [],
      "source": [
        "df=pd.merge(df,df3,how='inner', on='PATIENT')"
      ]
    },
    {
      "cell_type": "code",
      "execution_count": null,
      "metadata": {
        "colab": {
          "base_uri": "https://localhost:8080/"
        },
        "id": "u_BWhLZNSIU5",
        "outputId": "c941db57-8deb-4a2c-c3a6-d71104a875a4"
      },
      "outputs": [
        {
          "output_type": "execute_result",
          "data": {
            "text/plain": [
              "(658, 53)"
            ]
          },
          "metadata": {},
          "execution_count": 18
        }
      ],
      "source": [
        "df.shape"
      ]
    },
    {
      "cell_type": "code",
      "execution_count": null,
      "metadata": {
        "colab": {
          "base_uri": "https://localhost:8080/",
          "height": 508
        },
        "id": "UbR5f2E4SL71",
        "outputId": "1addbae5-cdc9-415a-daa8-73625a1f06ed"
      },
      "outputs": [
        {
          "output_type": "execute_result",
          "data": {
            "text/plain": [
              "   PATIENT AGE RANGE  Clinical Severity Score  SYMPTOM ONSET  \\\n",
              "0        1     51-60                        1          43898   \n",
              "1        2     61-70                        2          43912   \n",
              "2        3       >80                        1          43908   \n",
              "3        4       >80                        2          43892   \n",
              "4        5       >80                        2          43924   \n",
              "\n",
              "               RESULT DEATH? DYSPNOEA? FEVER? COUGH? ABDOMINAL SYMPTOMS?  ...  \\\n",
              "0  POSITIVE FOR COVID    YES       YES    YES     NO                  NO  ...   \n",
              "1  POSITIVE FOR COVID     NO        NO    YES    YES                 YES  ...   \n",
              "2  POSITIVE FOR COVID     NO        NO    YES    YES                  NO  ...   \n",
              "3  POSITIVE FOR COVID    YES        NO     NO     NO                  NO  ...   \n",
              "4  POSITIVE FOR COVID     NO       YES    YES     NO                  NO  ...   \n",
              "\n",
              "  Lymphdenomegalia Distribution of lesions 2+ Lung Lobes Involvement?  \\\n",
              "0               NO  Central and Peripheric                         2+   \n",
              "1               NO              Peripheric                         2+   \n",
              "2               NO              Peripheric                         2+   \n",
              "3               NO  Central and Peripheric                         2+   \n",
              "4              YES              Peripheric                   One lobe   \n",
              "\n",
              "  Bilaterality Right Upper Lobe? Right Medium Lobe? Right Lower Lobe?  \\\n",
              "0    Bilateral               YES                YES               YES   \n",
              "1    Bilateral               YES                 NO               YES   \n",
              "2    Bilateral                NO                YES               YES   \n",
              "3    Bilateral               YES                YES               YES   \n",
              "4   Unilateral               YES                 NO                NO   \n",
              "\n",
              "  Left Upper Lobe? Left Lower Lobe?        RAD-COVID SCORE  \n",
              "0              YES              YES        1 - Mild (<25%)  \n",
              "1              YES              YES        1 - Mild (<25%)  \n",
              "2              YES              YES        1 - Mild (<25%)  \n",
              "3              YES              YES  2 - Moderate (25-50%)  \n",
              "4               NO               NO        1 - Mild (<25%)  \n",
              "\n",
              "[5 rows x 53 columns]"
            ],
            "text/html": [
              "\n",
              "  <div id=\"df-41d0e45f-ae12-4236-8901-81d31a667448\">\n",
              "    <div class=\"colab-df-container\">\n",
              "      <div>\n",
              "<style scoped>\n",
              "    .dataframe tbody tr th:only-of-type {\n",
              "        vertical-align: middle;\n",
              "    }\n",
              "\n",
              "    .dataframe tbody tr th {\n",
              "        vertical-align: top;\n",
              "    }\n",
              "\n",
              "    .dataframe thead th {\n",
              "        text-align: right;\n",
              "    }\n",
              "</style>\n",
              "<table border=\"1\" class=\"dataframe\">\n",
              "  <thead>\n",
              "    <tr style=\"text-align: right;\">\n",
              "      <th></th>\n",
              "      <th>PATIENT</th>\n",
              "      <th>AGE RANGE</th>\n",
              "      <th>Clinical Severity Score</th>\n",
              "      <th>SYMPTOM ONSET</th>\n",
              "      <th>RESULT</th>\n",
              "      <th>DEATH?</th>\n",
              "      <th>DYSPNOEA?</th>\n",
              "      <th>FEVER?</th>\n",
              "      <th>COUGH?</th>\n",
              "      <th>ABDOMINAL SYMPTOMS?</th>\n",
              "      <th>...</th>\n",
              "      <th>Lymphdenomegalia</th>\n",
              "      <th>Distribution of lesions</th>\n",
              "      <th>2+ Lung Lobes Involvement?</th>\n",
              "      <th>Bilaterality</th>\n",
              "      <th>Right Upper Lobe?</th>\n",
              "      <th>Right Medium Lobe?</th>\n",
              "      <th>Right Lower Lobe?</th>\n",
              "      <th>Left Upper Lobe?</th>\n",
              "      <th>Left Lower Lobe?</th>\n",
              "      <th>RAD-COVID SCORE</th>\n",
              "    </tr>\n",
              "  </thead>\n",
              "  <tbody>\n",
              "    <tr>\n",
              "      <th>0</th>\n",
              "      <td>1</td>\n",
              "      <td>51-60</td>\n",
              "      <td>1</td>\n",
              "      <td>43898</td>\n",
              "      <td>POSITIVE FOR COVID</td>\n",
              "      <td>YES</td>\n",
              "      <td>YES</td>\n",
              "      <td>YES</td>\n",
              "      <td>NO</td>\n",
              "      <td>NO</td>\n",
              "      <td>...</td>\n",
              "      <td>NO</td>\n",
              "      <td>Central and Peripheric</td>\n",
              "      <td>2+</td>\n",
              "      <td>Bilateral</td>\n",
              "      <td>YES</td>\n",
              "      <td>YES</td>\n",
              "      <td>YES</td>\n",
              "      <td>YES</td>\n",
              "      <td>YES</td>\n",
              "      <td>1 - Mild (&lt;25%)</td>\n",
              "    </tr>\n",
              "    <tr>\n",
              "      <th>1</th>\n",
              "      <td>2</td>\n",
              "      <td>61-70</td>\n",
              "      <td>2</td>\n",
              "      <td>43912</td>\n",
              "      <td>POSITIVE FOR COVID</td>\n",
              "      <td>NO</td>\n",
              "      <td>NO</td>\n",
              "      <td>YES</td>\n",
              "      <td>YES</td>\n",
              "      <td>YES</td>\n",
              "      <td>...</td>\n",
              "      <td>NO</td>\n",
              "      <td>Peripheric</td>\n",
              "      <td>2+</td>\n",
              "      <td>Bilateral</td>\n",
              "      <td>YES</td>\n",
              "      <td>NO</td>\n",
              "      <td>YES</td>\n",
              "      <td>YES</td>\n",
              "      <td>YES</td>\n",
              "      <td>1 - Mild (&lt;25%)</td>\n",
              "    </tr>\n",
              "    <tr>\n",
              "      <th>2</th>\n",
              "      <td>3</td>\n",
              "      <td>&gt;80</td>\n",
              "      <td>1</td>\n",
              "      <td>43908</td>\n",
              "      <td>POSITIVE FOR COVID</td>\n",
              "      <td>NO</td>\n",
              "      <td>NO</td>\n",
              "      <td>YES</td>\n",
              "      <td>YES</td>\n",
              "      <td>NO</td>\n",
              "      <td>...</td>\n",
              "      <td>NO</td>\n",
              "      <td>Peripheric</td>\n",
              "      <td>2+</td>\n",
              "      <td>Bilateral</td>\n",
              "      <td>NO</td>\n",
              "      <td>YES</td>\n",
              "      <td>YES</td>\n",
              "      <td>YES</td>\n",
              "      <td>YES</td>\n",
              "      <td>1 - Mild (&lt;25%)</td>\n",
              "    </tr>\n",
              "    <tr>\n",
              "      <th>3</th>\n",
              "      <td>4</td>\n",
              "      <td>&gt;80</td>\n",
              "      <td>2</td>\n",
              "      <td>43892</td>\n",
              "      <td>POSITIVE FOR COVID</td>\n",
              "      <td>YES</td>\n",
              "      <td>NO</td>\n",
              "      <td>NO</td>\n",
              "      <td>NO</td>\n",
              "      <td>NO</td>\n",
              "      <td>...</td>\n",
              "      <td>NO</td>\n",
              "      <td>Central and Peripheric</td>\n",
              "      <td>2+</td>\n",
              "      <td>Bilateral</td>\n",
              "      <td>YES</td>\n",
              "      <td>YES</td>\n",
              "      <td>YES</td>\n",
              "      <td>YES</td>\n",
              "      <td>YES</td>\n",
              "      <td>2 - Moderate (25-50%)</td>\n",
              "    </tr>\n",
              "    <tr>\n",
              "      <th>4</th>\n",
              "      <td>5</td>\n",
              "      <td>&gt;80</td>\n",
              "      <td>2</td>\n",
              "      <td>43924</td>\n",
              "      <td>POSITIVE FOR COVID</td>\n",
              "      <td>NO</td>\n",
              "      <td>YES</td>\n",
              "      <td>YES</td>\n",
              "      <td>NO</td>\n",
              "      <td>NO</td>\n",
              "      <td>...</td>\n",
              "      <td>YES</td>\n",
              "      <td>Peripheric</td>\n",
              "      <td>One lobe</td>\n",
              "      <td>Unilateral</td>\n",
              "      <td>YES</td>\n",
              "      <td>NO</td>\n",
              "      <td>NO</td>\n",
              "      <td>NO</td>\n",
              "      <td>NO</td>\n",
              "      <td>1 - Mild (&lt;25%)</td>\n",
              "    </tr>\n",
              "  </tbody>\n",
              "</table>\n",
              "<p>5 rows × 53 columns</p>\n",
              "</div>\n",
              "      <button class=\"colab-df-convert\" onclick=\"convertToInteractive('df-41d0e45f-ae12-4236-8901-81d31a667448')\"\n",
              "              title=\"Convert this dataframe to an interactive table.\"\n",
              "              style=\"display:none;\">\n",
              "        \n",
              "  <svg xmlns=\"http://www.w3.org/2000/svg\" height=\"24px\"viewBox=\"0 0 24 24\"\n",
              "       width=\"24px\">\n",
              "    <path d=\"M0 0h24v24H0V0z\" fill=\"none\"/>\n",
              "    <path d=\"M18.56 5.44l.94 2.06.94-2.06 2.06-.94-2.06-.94-.94-2.06-.94 2.06-2.06.94zm-11 1L8.5 8.5l.94-2.06 2.06-.94-2.06-.94L8.5 2.5l-.94 2.06-2.06.94zm10 10l.94 2.06.94-2.06 2.06-.94-2.06-.94-.94-2.06-.94 2.06-2.06.94z\"/><path d=\"M17.41 7.96l-1.37-1.37c-.4-.4-.92-.59-1.43-.59-.52 0-1.04.2-1.43.59L10.3 9.45l-7.72 7.72c-.78.78-.78 2.05 0 2.83L4 21.41c.39.39.9.59 1.41.59.51 0 1.02-.2 1.41-.59l7.78-7.78 2.81-2.81c.8-.78.8-2.07 0-2.86zM5.41 20L4 18.59l7.72-7.72 1.47 1.35L5.41 20z\"/>\n",
              "  </svg>\n",
              "      </button>\n",
              "      \n",
              "  <style>\n",
              "    .colab-df-container {\n",
              "      display:flex;\n",
              "      flex-wrap:wrap;\n",
              "      gap: 12px;\n",
              "    }\n",
              "\n",
              "    .colab-df-convert {\n",
              "      background-color: #E8F0FE;\n",
              "      border: none;\n",
              "      border-radius: 50%;\n",
              "      cursor: pointer;\n",
              "      display: none;\n",
              "      fill: #1967D2;\n",
              "      height: 32px;\n",
              "      padding: 0 0 0 0;\n",
              "      width: 32px;\n",
              "    }\n",
              "\n",
              "    .colab-df-convert:hover {\n",
              "      background-color: #E2EBFA;\n",
              "      box-shadow: 0px 1px 2px rgba(60, 64, 67, 0.3), 0px 1px 3px 1px rgba(60, 64, 67, 0.15);\n",
              "      fill: #174EA6;\n",
              "    }\n",
              "\n",
              "    [theme=dark] .colab-df-convert {\n",
              "      background-color: #3B4455;\n",
              "      fill: #D2E3FC;\n",
              "    }\n",
              "\n",
              "    [theme=dark] .colab-df-convert:hover {\n",
              "      background-color: #434B5C;\n",
              "      box-shadow: 0px 1px 3px 1px rgba(0, 0, 0, 0.15);\n",
              "      filter: drop-shadow(0px 1px 2px rgba(0, 0, 0, 0.3));\n",
              "      fill: #FFFFFF;\n",
              "    }\n",
              "  </style>\n",
              "\n",
              "      <script>\n",
              "        const buttonEl =\n",
              "          document.querySelector('#df-41d0e45f-ae12-4236-8901-81d31a667448 button.colab-df-convert');\n",
              "        buttonEl.style.display =\n",
              "          google.colab.kernel.accessAllowed ? 'block' : 'none';\n",
              "\n",
              "        async function convertToInteractive(key) {\n",
              "          const element = document.querySelector('#df-41d0e45f-ae12-4236-8901-81d31a667448');\n",
              "          const dataTable =\n",
              "            await google.colab.kernel.invokeFunction('convertToInteractive',\n",
              "                                                     [key], {});\n",
              "          if (!dataTable) return;\n",
              "\n",
              "          const docLinkHtml = 'Like what you see? Visit the ' +\n",
              "            '<a target=\"_blank\" href=https://colab.research.google.com/notebooks/data_table.ipynb>data table notebook</a>'\n",
              "            + ' to learn more about interactive tables.';\n",
              "          element.innerHTML = '';\n",
              "          dataTable['output_type'] = 'display_data';\n",
              "          await google.colab.output.renderOutput(dataTable, element);\n",
              "          const docLink = document.createElement('div');\n",
              "          docLink.innerHTML = docLinkHtml;\n",
              "          element.appendChild(docLink);\n",
              "        }\n",
              "      </script>\n",
              "    </div>\n",
              "  </div>\n",
              "  "
            ]
          },
          "metadata": {},
          "execution_count": 19
        }
      ],
      "source": [
        "df.head(5)"
      ]
    },
    {
      "cell_type": "markdown",
      "metadata": {
        "id": "dqpzeZ9nl8rp"
      },
      "source": [
        "|**Age_Range**|**Clinical_Severity_Score**|**Result**|**Death?**|**Fever**|**Cough**|**ABDOMINAL_SYMPTOMS?**|**Lymphdenomegalia**|**Bilaterality**|**Right_Upper_Lobe?**|**Right_Medium_Lobe?**|\t\n",
        "|-------|---------|---------|-------|--------|--------|----------|----------|----------|----------|----------|\n",
        "|51-60|1|Positive|Yes|YES|NO|NO|NO|Bilateral|YES|YES|\n",
        "|61-70|2|Positive|No|YES|YES|YES|NO|Bilateral|YES|NO|\n",
        "|>80|1|Positive|No|YES|NO|NO|NO|Bilateral|NO|YES|\n",
        "|>80|2|Positive|Yes|NO|NO|NO|NO|Bilateral|YES|YES|\n",
        "|>80|2|Positive|No|YES|NO|NO|YES|Unilateral|YES|NO|\n",
        "\n"
      ]
    },
    {
      "cell_type": "code",
      "execution_count": null,
      "metadata": {
        "id": "a4jG025MSNqz"
      },
      "outputs": [],
      "source": [
        "df=df.iloc[:,1:]"
      ]
    },
    {
      "cell_type": "code",
      "execution_count": null,
      "metadata": {
        "id": "BDgNxKQCBUeh"
      },
      "outputs": [],
      "source": [
        "df.drop('RESULT',axis=1,inplace=True)"
      ]
    },
    {
      "cell_type": "code",
      "execution_count": null,
      "metadata": {
        "id": "cNuIOAewSWri"
      },
      "outputs": [],
      "source": [
        "L=list(df.columns)"
      ]
    },
    {
      "cell_type": "code",
      "execution_count": null,
      "metadata": {
        "colab": {
          "base_uri": "https://localhost:8080/"
        },
        "id": "45L6qP2ZSpQU",
        "outputId": "3b5979dd-07ca-44af-c9a4-12af63a01015"
      },
      "outputs": [
        {
          "output_type": "execute_result",
          "data": {
            "text/plain": [
              "Index(['MENTAL CONFUSION?', 'RESP FREQUENCY', 'IMP_SAT_ART_INTER',\n",
              "       'ARTERIAL HYPOTENSION', 'ARTERIAL HYPERTESION?', 'OBESITY?',\n",
              "       ' CURRENT neoplasia?', 'TREATED NEOPLASIA?', 'RAD-COVID SCORE'],\n",
              "      dtype='object')"
            ]
          },
          "metadata": {},
          "execution_count": 23
        }
      ],
      "source": [
        "df.columns[df.isnull().any()]\n"
      ]
    },
    {
      "cell_type": "markdown",
      "metadata": {
        "id": "i7Hbu8HYJtoe"
      },
      "source": [
        "Remove all columns with 30% of missing data"
      ]
    },
    {
      "cell_type": "code",
      "execution_count": null,
      "metadata": {
        "id": "wujfFQ0eFsKZ"
      },
      "outputs": [],
      "source": [
        "L=[]\n",
        "L_less=[]\n",
        "for i in df.columns:\n",
        "  if((df[i].isnull().sum())<(0.3*(df.shape[0]))):\n",
        "    L.append(i)\n",
        "  else:\n",
        "    L_less.append(i)\n",
        "\n"
      ]
    },
    {
      "cell_type": "code",
      "execution_count": null,
      "metadata": {
        "colab": {
          "base_uri": "https://localhost:8080/"
        },
        "id": "0IcO8fvXJd1o",
        "outputId": "ca8d9322-ab2f-41c8-e9e5-501464d43704"
      },
      "outputs": [
        {
          "output_type": "execute_result",
          "data": {
            "text/plain": [
              "51"
            ]
          },
          "metadata": {},
          "execution_count": 25
        }
      ],
      "source": [
        "len(L)"
      ]
    },
    {
      "cell_type": "code",
      "execution_count": null,
      "metadata": {
        "colab": {
          "base_uri": "https://localhost:8080/"
        },
        "id": "0OGyWk1l_kdU",
        "outputId": "822baf97-ad20-4aac-8469-d44250786a97"
      },
      "outputs": [
        {
          "output_type": "execute_result",
          "data": {
            "text/plain": [
              "0"
            ]
          },
          "metadata": {},
          "execution_count": 26
        }
      ],
      "source": [
        "len(L_less)"
      ]
    },
    {
      "cell_type": "code",
      "execution_count": null,
      "metadata": {
        "id": "4iGJFXpmK8C0"
      },
      "outputs": [],
      "source": [
        "import numpy as np"
      ]
    },
    {
      "cell_type": "code",
      "execution_count": null,
      "metadata": {
        "id": "QBpiPSKbHWab"
      },
      "outputs": [],
      "source": [
        "numeric_data=df.select_dtypes(include=np.number)\n"
      ]
    },
    {
      "cell_type": "code",
      "execution_count": null,
      "metadata": {
        "id": "cwfT1CXgGTBw"
      },
      "outputs": [],
      "source": [
        "non_numeric=df.select_dtypes(include = ['object'])\n"
      ]
    },
    {
      "cell_type": "code",
      "execution_count": null,
      "metadata": {
        "colab": {
          "base_uri": "https://localhost:8080/"
        },
        "id": "pWOR0AMT9Yup",
        "outputId": "8739b286-eefe-4f9e-8d20-7f2b7e0941b2"
      },
      "outputs": [
        {
          "output_type": "execute_result",
          "data": {
            "text/plain": [
              "(658, 2)"
            ]
          },
          "metadata": {},
          "execution_count": 30
        }
      ],
      "source": [
        "numeric_data.shape"
      ]
    },
    {
      "cell_type": "code",
      "execution_count": null,
      "metadata": {
        "colab": {
          "base_uri": "https://localhost:8080/"
        },
        "id": "gR7GAHbe9c_b",
        "outputId": "41268590-634d-4444-9d96-3bc178d7ad74"
      },
      "outputs": [
        {
          "output_type": "execute_result",
          "data": {
            "text/plain": [
              "(658, 49)"
            ]
          },
          "metadata": {},
          "execution_count": 31
        }
      ],
      "source": [
        "non_numeric.shape"
      ]
    },
    {
      "cell_type": "markdown",
      "metadata": {
        "id": "6PxqbKYsLGa7"
      },
      "source": [
        "# Imputation Methods"
      ]
    },
    {
      "cell_type": "markdown",
      "metadata": {
        "id": "A9MpWSqHHW4O"
      },
      "source": [
        "Using a multivariate imputation method to deal with missing values"
      ]
    },
    {
      "cell_type": "code",
      "execution_count": null,
      "metadata": {
        "id": "TAUZZfo1GfuQ"
      },
      "outputs": [],
      "source": [
        "from sklearn.experimental import enable_iterative_imputer\n",
        "from sklearn.impute import IterativeImputer"
      ]
    },
    {
      "cell_type": "code",
      "execution_count": null,
      "metadata": {
        "id": "OfJh024uH6am"
      },
      "outputs": [],
      "source": [
        "imp = IterativeImputer(max_iter=10, random_state=0)"
      ]
    },
    {
      "cell_type": "code",
      "execution_count": null,
      "metadata": {
        "colab": {
          "base_uri": "https://localhost:8080/"
        },
        "id": "y3mb-YPZR6ud",
        "outputId": "5b683dee-86de-430a-b9cc-0a096310cda4"
      },
      "outputs": [
        {
          "output_type": "execute_result",
          "data": {
            "text/plain": [
              "IterativeImputer(random_state=0)"
            ]
          },
          "metadata": {},
          "execution_count": 34
        }
      ],
      "source": [
        "imp.fit(numeric_data)"
      ]
    },
    {
      "cell_type": "code",
      "execution_count": null,
      "metadata": {
        "id": "DnZuSGV8UMAO"
      },
      "outputs": [],
      "source": [
        "imputed_numeric=np.round(imp.transform(numeric_data))"
      ]
    },
    {
      "cell_type": "code",
      "execution_count": null,
      "metadata": {
        "colab": {
          "base_uri": "https://localhost:8080/"
        },
        "id": "YVmCN51WUVZo",
        "outputId": "13c470fb-24cb-4b01-e66f-24b247092227"
      },
      "outputs": [
        {
          "output_type": "execute_result",
          "data": {
            "text/plain": [
              "(658, 2)"
            ]
          },
          "metadata": {},
          "execution_count": 36
        }
      ],
      "source": [
        "imputed_numeric.shape"
      ]
    },
    {
      "cell_type": "code",
      "execution_count": null,
      "metadata": {
        "id": "0hklcJgLUiLY"
      },
      "outputs": [],
      "source": [
        "num_df=pd.DataFrame(imputed_numeric, columns=numeric_data.columns)"
      ]
    },
    {
      "cell_type": "markdown",
      "metadata": {
        "id": "ZGT_QMHvHl3y"
      },
      "source": [
        "Using a Univariate(Median) imputation method to deal with missing values"
      ]
    },
    {
      "cell_type": "code",
      "execution_count": null,
      "metadata": {
        "id": "tHMblnG_GVUZ"
      },
      "outputs": [],
      "source": [
        "from sklearn.impute import SimpleImputer\n",
        "i = SimpleImputer(missing_values=np.nan, strategy='median')"
      ]
    },
    {
      "cell_type": "code",
      "execution_count": null,
      "metadata": {
        "colab": {
          "base_uri": "https://localhost:8080/"
        },
        "id": "ezDr9bz1Gl6P",
        "outputId": "fca85805-dcd9-4d64-9750-d404fa9beca3"
      },
      "outputs": [
        {
          "output_type": "execute_result",
          "data": {
            "text/plain": [
              "SimpleImputer(strategy='median')"
            ]
          },
          "metadata": {},
          "execution_count": 39
        }
      ],
      "source": [
        "i.fit(numeric_data)"
      ]
    },
    {
      "cell_type": "code",
      "execution_count": null,
      "metadata": {
        "id": "spngFcUPGshW"
      },
      "outputs": [],
      "source": [
        "simple_imputed=np.round(i.transform(numeric_data))"
      ]
    },
    {
      "cell_type": "code",
      "execution_count": null,
      "metadata": {
        "id": "dNpr9K8aG2fM"
      },
      "outputs": [],
      "source": [
        "simple_imputed_df=pd.DataFrame(simple_imputed, columns=numeric_data.columns)"
      ]
    },
    {
      "cell_type": "markdown",
      "metadata": {
        "id": "hF55MFPwHq51"
      },
      "source": [
        "Using a Regression approach to predict missing values in numeric_data"
      ]
    },
    {
      "cell_type": "code",
      "execution_count": null,
      "metadata": {
        "id": "dWQkVtbEIYeg"
      },
      "outputs": [],
      "source": [
        "from sklearn.ensemble import RandomForestRegressor\n",
        "import xgboost as xgb\n",
        "from sklearn.experimental import enable_iterative_imputer\n",
        "from sklearn.impute import IterativeImputer\n"
      ]
    },
    {
      "cell_type": "code",
      "execution_count": null,
      "metadata": {
        "colab": {
          "base_uri": "https://localhost:8080/"
        },
        "id": "fQybU2B8IkGx",
        "outputId": "c75575de-ef52-4eb7-ad94-661549d6b04e"
      },
      "outputs": [
        {
          "output_type": "stream",
          "name": "stdout",
          "text": [
            "[06:41:17] WARNING: /workspace/src/objective/regression_obj.cu:152: reg:linear is now deprecated in favor of reg:squarederror.\n",
            "[06:41:18] WARNING: /workspace/src/objective/regression_obj.cu:152: reg:linear is now deprecated in favor of reg:squarederror.\n"
          ]
        }
      ],
      "source": [
        "imp_mean = IterativeImputer(estimator=xgb.XGBRegressor(), random_state=0)\n",
        "imp_mean.fit(numeric_data)\n",
        "regressor_imputed_df=pd.DataFrame(imp_mean.transform(numeric_data))"
      ]
    },
    {
      "cell_type": "code",
      "execution_count": null,
      "metadata": {
        "colab": {
          "base_uri": "https://localhost:8080/",
          "height": 206
        },
        "id": "tkyQM9OLUx-Y",
        "outputId": "8ac4767a-86c1-42dc-bb6d-c1e37ae03104"
      },
      "outputs": [
        {
          "output_type": "execute_result",
          "data": {
            "text/plain": [
              "   Clinical Severity Score  SYMPTOM ONSET\n",
              "0                      1.0        43898.0\n",
              "1                      2.0        43912.0\n",
              "2                      1.0        43908.0\n",
              "3                      2.0        43892.0\n",
              "4                      2.0        43924.0"
            ],
            "text/html": [
              "\n",
              "  <div id=\"df-694e8633-e56e-4a3c-9bb1-2256d32a616c\">\n",
              "    <div class=\"colab-df-container\">\n",
              "      <div>\n",
              "<style scoped>\n",
              "    .dataframe tbody tr th:only-of-type {\n",
              "        vertical-align: middle;\n",
              "    }\n",
              "\n",
              "    .dataframe tbody tr th {\n",
              "        vertical-align: top;\n",
              "    }\n",
              "\n",
              "    .dataframe thead th {\n",
              "        text-align: right;\n",
              "    }\n",
              "</style>\n",
              "<table border=\"1\" class=\"dataframe\">\n",
              "  <thead>\n",
              "    <tr style=\"text-align: right;\">\n",
              "      <th></th>\n",
              "      <th>Clinical Severity Score</th>\n",
              "      <th>SYMPTOM ONSET</th>\n",
              "    </tr>\n",
              "  </thead>\n",
              "  <tbody>\n",
              "    <tr>\n",
              "      <th>0</th>\n",
              "      <td>1.0</td>\n",
              "      <td>43898.0</td>\n",
              "    </tr>\n",
              "    <tr>\n",
              "      <th>1</th>\n",
              "      <td>2.0</td>\n",
              "      <td>43912.0</td>\n",
              "    </tr>\n",
              "    <tr>\n",
              "      <th>2</th>\n",
              "      <td>1.0</td>\n",
              "      <td>43908.0</td>\n",
              "    </tr>\n",
              "    <tr>\n",
              "      <th>3</th>\n",
              "      <td>2.0</td>\n",
              "      <td>43892.0</td>\n",
              "    </tr>\n",
              "    <tr>\n",
              "      <th>4</th>\n",
              "      <td>2.0</td>\n",
              "      <td>43924.0</td>\n",
              "    </tr>\n",
              "  </tbody>\n",
              "</table>\n",
              "</div>\n",
              "      <button class=\"colab-df-convert\" onclick=\"convertToInteractive('df-694e8633-e56e-4a3c-9bb1-2256d32a616c')\"\n",
              "              title=\"Convert this dataframe to an interactive table.\"\n",
              "              style=\"display:none;\">\n",
              "        \n",
              "  <svg xmlns=\"http://www.w3.org/2000/svg\" height=\"24px\"viewBox=\"0 0 24 24\"\n",
              "       width=\"24px\">\n",
              "    <path d=\"M0 0h24v24H0V0z\" fill=\"none\"/>\n",
              "    <path d=\"M18.56 5.44l.94 2.06.94-2.06 2.06-.94-2.06-.94-.94-2.06-.94 2.06-2.06.94zm-11 1L8.5 8.5l.94-2.06 2.06-.94-2.06-.94L8.5 2.5l-.94 2.06-2.06.94zm10 10l.94 2.06.94-2.06 2.06-.94-2.06-.94-.94-2.06-.94 2.06-2.06.94z\"/><path d=\"M17.41 7.96l-1.37-1.37c-.4-.4-.92-.59-1.43-.59-.52 0-1.04.2-1.43.59L10.3 9.45l-7.72 7.72c-.78.78-.78 2.05 0 2.83L4 21.41c.39.39.9.59 1.41.59.51 0 1.02-.2 1.41-.59l7.78-7.78 2.81-2.81c.8-.78.8-2.07 0-2.86zM5.41 20L4 18.59l7.72-7.72 1.47 1.35L5.41 20z\"/>\n",
              "  </svg>\n",
              "      </button>\n",
              "      \n",
              "  <style>\n",
              "    .colab-df-container {\n",
              "      display:flex;\n",
              "      flex-wrap:wrap;\n",
              "      gap: 12px;\n",
              "    }\n",
              "\n",
              "    .colab-df-convert {\n",
              "      background-color: #E8F0FE;\n",
              "      border: none;\n",
              "      border-radius: 50%;\n",
              "      cursor: pointer;\n",
              "      display: none;\n",
              "      fill: #1967D2;\n",
              "      height: 32px;\n",
              "      padding: 0 0 0 0;\n",
              "      width: 32px;\n",
              "    }\n",
              "\n",
              "    .colab-df-convert:hover {\n",
              "      background-color: #E2EBFA;\n",
              "      box-shadow: 0px 1px 2px rgba(60, 64, 67, 0.3), 0px 1px 3px 1px rgba(60, 64, 67, 0.15);\n",
              "      fill: #174EA6;\n",
              "    }\n",
              "\n",
              "    [theme=dark] .colab-df-convert {\n",
              "      background-color: #3B4455;\n",
              "      fill: #D2E3FC;\n",
              "    }\n",
              "\n",
              "    [theme=dark] .colab-df-convert:hover {\n",
              "      background-color: #434B5C;\n",
              "      box-shadow: 0px 1px 3px 1px rgba(0, 0, 0, 0.15);\n",
              "      filter: drop-shadow(0px 1px 2px rgba(0, 0, 0, 0.3));\n",
              "      fill: #FFFFFF;\n",
              "    }\n",
              "  </style>\n",
              "\n",
              "      <script>\n",
              "        const buttonEl =\n",
              "          document.querySelector('#df-694e8633-e56e-4a3c-9bb1-2256d32a616c button.colab-df-convert');\n",
              "        buttonEl.style.display =\n",
              "          google.colab.kernel.accessAllowed ? 'block' : 'none';\n",
              "\n",
              "        async function convertToInteractive(key) {\n",
              "          const element = document.querySelector('#df-694e8633-e56e-4a3c-9bb1-2256d32a616c');\n",
              "          const dataTable =\n",
              "            await google.colab.kernel.invokeFunction('convertToInteractive',\n",
              "                                                     [key], {});\n",
              "          if (!dataTable) return;\n",
              "\n",
              "          const docLinkHtml = 'Like what you see? Visit the ' +\n",
              "            '<a target=\"_blank\" href=https://colab.research.google.com/notebooks/data_table.ipynb>data table notebook</a>'\n",
              "            + ' to learn more about interactive tables.';\n",
              "          element.innerHTML = '';\n",
              "          dataTable['output_type'] = 'display_data';\n",
              "          await google.colab.output.renderOutput(dataTable, element);\n",
              "          const docLink = document.createElement('div');\n",
              "          docLink.innerHTML = docLinkHtml;\n",
              "          element.appendChild(docLink);\n",
              "        }\n",
              "      </script>\n",
              "    </div>\n",
              "  </div>\n",
              "  "
            ]
          },
          "metadata": {},
          "execution_count": 44
        }
      ],
      "source": [
        "num_df.head()"
      ]
    },
    {
      "cell_type": "code",
      "execution_count": null,
      "metadata": {
        "colab": {
          "base_uri": "https://localhost:8080/",
          "height": 206
        },
        "id": "U31qdFS8U3dc",
        "outputId": "70b8c97b-5f80-4523-eda6-75cc863f09eb"
      },
      "outputs": [
        {
          "output_type": "execute_result",
          "data": {
            "text/plain": [
              "   Clinical Severity Score  SYMPTOM ONSET\n",
              "0                        1          43898\n",
              "1                        2          43912\n",
              "2                        1          43908\n",
              "3                        2          43892\n",
              "4                        2          43924"
            ],
            "text/html": [
              "\n",
              "  <div id=\"df-f157e6c8-3703-486c-86f8-81cd19dc3bd6\">\n",
              "    <div class=\"colab-df-container\">\n",
              "      <div>\n",
              "<style scoped>\n",
              "    .dataframe tbody tr th:only-of-type {\n",
              "        vertical-align: middle;\n",
              "    }\n",
              "\n",
              "    .dataframe tbody tr th {\n",
              "        vertical-align: top;\n",
              "    }\n",
              "\n",
              "    .dataframe thead th {\n",
              "        text-align: right;\n",
              "    }\n",
              "</style>\n",
              "<table border=\"1\" class=\"dataframe\">\n",
              "  <thead>\n",
              "    <tr style=\"text-align: right;\">\n",
              "      <th></th>\n",
              "      <th>Clinical Severity Score</th>\n",
              "      <th>SYMPTOM ONSET</th>\n",
              "    </tr>\n",
              "  </thead>\n",
              "  <tbody>\n",
              "    <tr>\n",
              "      <th>0</th>\n",
              "      <td>1</td>\n",
              "      <td>43898</td>\n",
              "    </tr>\n",
              "    <tr>\n",
              "      <th>1</th>\n",
              "      <td>2</td>\n",
              "      <td>43912</td>\n",
              "    </tr>\n",
              "    <tr>\n",
              "      <th>2</th>\n",
              "      <td>1</td>\n",
              "      <td>43908</td>\n",
              "    </tr>\n",
              "    <tr>\n",
              "      <th>3</th>\n",
              "      <td>2</td>\n",
              "      <td>43892</td>\n",
              "    </tr>\n",
              "    <tr>\n",
              "      <th>4</th>\n",
              "      <td>2</td>\n",
              "      <td>43924</td>\n",
              "    </tr>\n",
              "  </tbody>\n",
              "</table>\n",
              "</div>\n",
              "      <button class=\"colab-df-convert\" onclick=\"convertToInteractive('df-f157e6c8-3703-486c-86f8-81cd19dc3bd6')\"\n",
              "              title=\"Convert this dataframe to an interactive table.\"\n",
              "              style=\"display:none;\">\n",
              "        \n",
              "  <svg xmlns=\"http://www.w3.org/2000/svg\" height=\"24px\"viewBox=\"0 0 24 24\"\n",
              "       width=\"24px\">\n",
              "    <path d=\"M0 0h24v24H0V0z\" fill=\"none\"/>\n",
              "    <path d=\"M18.56 5.44l.94 2.06.94-2.06 2.06-.94-2.06-.94-.94-2.06-.94 2.06-2.06.94zm-11 1L8.5 8.5l.94-2.06 2.06-.94-2.06-.94L8.5 2.5l-.94 2.06-2.06.94zm10 10l.94 2.06.94-2.06 2.06-.94-2.06-.94-.94-2.06-.94 2.06-2.06.94z\"/><path d=\"M17.41 7.96l-1.37-1.37c-.4-.4-.92-.59-1.43-.59-.52 0-1.04.2-1.43.59L10.3 9.45l-7.72 7.72c-.78.78-.78 2.05 0 2.83L4 21.41c.39.39.9.59 1.41.59.51 0 1.02-.2 1.41-.59l7.78-7.78 2.81-2.81c.8-.78.8-2.07 0-2.86zM5.41 20L4 18.59l7.72-7.72 1.47 1.35L5.41 20z\"/>\n",
              "  </svg>\n",
              "      </button>\n",
              "      \n",
              "  <style>\n",
              "    .colab-df-container {\n",
              "      display:flex;\n",
              "      flex-wrap:wrap;\n",
              "      gap: 12px;\n",
              "    }\n",
              "\n",
              "    .colab-df-convert {\n",
              "      background-color: #E8F0FE;\n",
              "      border: none;\n",
              "      border-radius: 50%;\n",
              "      cursor: pointer;\n",
              "      display: none;\n",
              "      fill: #1967D2;\n",
              "      height: 32px;\n",
              "      padding: 0 0 0 0;\n",
              "      width: 32px;\n",
              "    }\n",
              "\n",
              "    .colab-df-convert:hover {\n",
              "      background-color: #E2EBFA;\n",
              "      box-shadow: 0px 1px 2px rgba(60, 64, 67, 0.3), 0px 1px 3px 1px rgba(60, 64, 67, 0.15);\n",
              "      fill: #174EA6;\n",
              "    }\n",
              "\n",
              "    [theme=dark] .colab-df-convert {\n",
              "      background-color: #3B4455;\n",
              "      fill: #D2E3FC;\n",
              "    }\n",
              "\n",
              "    [theme=dark] .colab-df-convert:hover {\n",
              "      background-color: #434B5C;\n",
              "      box-shadow: 0px 1px 3px 1px rgba(0, 0, 0, 0.15);\n",
              "      filter: drop-shadow(0px 1px 2px rgba(0, 0, 0, 0.3));\n",
              "      fill: #FFFFFF;\n",
              "    }\n",
              "  </style>\n",
              "\n",
              "      <script>\n",
              "        const buttonEl =\n",
              "          document.querySelector('#df-f157e6c8-3703-486c-86f8-81cd19dc3bd6 button.colab-df-convert');\n",
              "        buttonEl.style.display =\n",
              "          google.colab.kernel.accessAllowed ? 'block' : 'none';\n",
              "\n",
              "        async function convertToInteractive(key) {\n",
              "          const element = document.querySelector('#df-f157e6c8-3703-486c-86f8-81cd19dc3bd6');\n",
              "          const dataTable =\n",
              "            await google.colab.kernel.invokeFunction('convertToInteractive',\n",
              "                                                     [key], {});\n",
              "          if (!dataTable) return;\n",
              "\n",
              "          const docLinkHtml = 'Like what you see? Visit the ' +\n",
              "            '<a target=\"_blank\" href=https://colab.research.google.com/notebooks/data_table.ipynb>data table notebook</a>'\n",
              "            + ' to learn more about interactive tables.';\n",
              "          element.innerHTML = '';\n",
              "          dataTable['output_type'] = 'display_data';\n",
              "          await google.colab.output.renderOutput(dataTable, element);\n",
              "          const docLink = document.createElement('div');\n",
              "          docLink.innerHTML = docLinkHtml;\n",
              "          element.appendChild(docLink);\n",
              "        }\n",
              "      </script>\n",
              "    </div>\n",
              "  </div>\n",
              "  "
            ]
          },
          "metadata": {},
          "execution_count": 45
        }
      ],
      "source": [
        "numeric_data.head()"
      ]
    },
    {
      "cell_type": "code",
      "execution_count": null,
      "metadata": {
        "colab": {
          "base_uri": "https://localhost:8080/"
        },
        "id": "7ow5wo8KVPkE",
        "outputId": "2704105e-23a1-4ecc-d871-2681e3fe4a68"
      },
      "outputs": [
        {
          "output_type": "stream",
          "name": "stdout",
          "text": [
            "<class 'pandas.core.frame.DataFrame'>\n",
            "Int64Index: 658 entries, 0 to 657\n",
            "Data columns (total 49 columns):\n",
            " #   Column                         Non-Null Count  Dtype \n",
            "---  ------                         --------------  ----- \n",
            " 0   AGE RANGE                      658 non-null    object\n",
            " 1   DEATH?                         658 non-null    object\n",
            " 2   DYSPNOEA?                      658 non-null    object\n",
            " 3   FEVER?                         658 non-null    object\n",
            " 4   COUGH?                         658 non-null    object\n",
            " 5   ABDOMINAL SYMPTOMS?            658 non-null    object\n",
            " 6   HEADACHE?                      658 non-null    object\n",
            " 7   CORYZA?                        658 non-null    object\n",
            " 8   INAPPETENCE?                   658 non-null    object\n",
            " 9   ASTHENIA?                      658 non-null    object\n",
            " 10  MYALGIA?                       658 non-null    object\n",
            " 11  ANOSMIA?                       658 non-null    object\n",
            " 12  SOMNOLENCE?                    658 non-null    object\n",
            " 13  MENTAL CONFUSION?              657 non-null    object\n",
            " 14  RESP FREQUENCY                 622 non-null    object\n",
            " 15  RF>24?                         658 non-null    object\n",
            " 16  IMP_SAT_ART_INTER              522 non-null    object\n",
            " 17   SatO2< 93%?                   658 non-null    object\n",
            " 18  ARTERIAL HYPOTENSION           657 non-null    object\n",
            " 19  REDUCED PERIPHERAL PERFUSION?  658 non-null    object\n",
            " 20  AWARENESS LEVEL REDUCTION?     658 non-null    object\n",
            " 21  ARTERIAL HYPERTESION?          656 non-null    object\n",
            " 22  OBESITY?                       657 non-null    object\n",
            " 23   DM?                           658 non-null    object\n",
            " 24  Asthma?                        658 non-null    object\n",
            " 25   COPD?                         658 non-null    object\n",
            " 26   CURRENT SMOKER?               658 non-null    object\n",
            " 27  ex-SMOKER?                     658 non-null    object\n",
            " 28   CURRENT neoplasia?            657 non-null    object\n",
            " 29  TREATED NEOPLASIA?             657 non-null    object\n",
            " 30  CVD?                           658 non-null    object\n",
            " 31   cerebrovascular disease?      658 non-null    object\n",
            " 32  CKD?                           658 non-null    object\n",
            " 33  CT Suggestive of COVID?        658 non-null    object\n",
            " 34  Rounded morphology?            658 non-null    object\n",
            " 35  Crazy Paving?                  658 non-null    object\n",
            " 36  Reverse Halo Sign?             658 non-null    object\n",
            " 37  Bronchial thickening?          658 non-null    object\n",
            " 38  Pleural Effusion               658 non-null    object\n",
            " 39  Lymphdenomegalia               658 non-null    object\n",
            " 40  Distribution of lesions        658 non-null    object\n",
            " 41  2+ Lung Lobes Involvement?     658 non-null    object\n",
            " 42  Bilaterality                   658 non-null    object\n",
            " 43  Right Upper Lobe?              658 non-null    object\n",
            " 44  Right Medium Lobe?             658 non-null    object\n",
            " 45  Right Lower Lobe?              658 non-null    object\n",
            " 46  Left Upper Lobe?               658 non-null    object\n",
            " 47  Left Lower Lobe?               658 non-null    object\n",
            " 48  RAD-COVID SCORE                639 non-null    object\n",
            "dtypes: object(49)\n",
            "memory usage: 257.0+ KB\n"
          ]
        }
      ],
      "source": [
        "non_numeric.info()"
      ]
    },
    {
      "cell_type": "code",
      "execution_count": null,
      "metadata": {
        "id": "ndTxBiISoL2E"
      },
      "outputs": [],
      "source": [
        "import datetime\n"
      ]
    },
    {
      "cell_type": "markdown",
      "metadata": {
        "id": "EBcgqs63_0Ox"
      },
      "source": [
        "Dealing with missing values in the non numeric data"
      ]
    },
    {
      "cell_type": "code",
      "execution_count": null,
      "metadata": {
        "id": "9VV4j-BEuM7A"
      },
      "outputs": [],
      "source": [
        "non_numeric=non_numeric.fillna(method=\"pad\", limit=1)"
      ]
    },
    {
      "cell_type": "code",
      "execution_count": null,
      "metadata": {
        "id": "Kf1XX8E0uQzk"
      },
      "outputs": [],
      "source": [
        "non_numeric=non_numeric.fillna(method=\"bfill\", limit=1)"
      ]
    },
    {
      "cell_type": "code",
      "execution_count": null,
      "metadata": {
        "colab": {
          "base_uri": "https://localhost:8080/"
        },
        "id": "RJiohsXW-rSA",
        "outputId": "3d4e0e36-2688-474c-c446-1be4c5051c65"
      },
      "outputs": [
        {
          "output_type": "stream",
          "name": "stdout",
          "text": [
            "<class 'pandas.core.frame.DataFrame'>\n",
            "Int64Index: 658 entries, 0 to 657\n",
            "Data columns (total 49 columns):\n",
            " #   Column                         Non-Null Count  Dtype \n",
            "---  ------                         --------------  ----- \n",
            " 0   AGE RANGE                      658 non-null    object\n",
            " 1   DEATH?                         658 non-null    object\n",
            " 2   DYSPNOEA?                      658 non-null    object\n",
            " 3   FEVER?                         658 non-null    object\n",
            " 4   COUGH?                         658 non-null    object\n",
            " 5   ABDOMINAL SYMPTOMS?            658 non-null    object\n",
            " 6   HEADACHE?                      658 non-null    object\n",
            " 7   CORYZA?                        658 non-null    object\n",
            " 8   INAPPETENCE?                   658 non-null    object\n",
            " 9   ASTHENIA?                      658 non-null    object\n",
            " 10  MYALGIA?                       658 non-null    object\n",
            " 11  ANOSMIA?                       658 non-null    object\n",
            " 12  SOMNOLENCE?                    658 non-null    object\n",
            " 13  MENTAL CONFUSION?              658 non-null    object\n",
            " 14  RESP FREQUENCY                 658 non-null    object\n",
            " 15  RF>24?                         658 non-null    object\n",
            " 16  IMP_SAT_ART_INTER              641 non-null    object\n",
            " 17   SatO2< 93%?                   658 non-null    object\n",
            " 18  ARTERIAL HYPOTENSION           658 non-null    object\n",
            " 19  REDUCED PERIPHERAL PERFUSION?  658 non-null    object\n",
            " 20  AWARENESS LEVEL REDUCTION?     658 non-null    object\n",
            " 21  ARTERIAL HYPERTESION?          658 non-null    object\n",
            " 22  OBESITY?                       658 non-null    object\n",
            " 23   DM?                           658 non-null    object\n",
            " 24  Asthma?                        658 non-null    object\n",
            " 25   COPD?                         658 non-null    object\n",
            " 26   CURRENT SMOKER?               658 non-null    object\n",
            " 27  ex-SMOKER?                     658 non-null    object\n",
            " 28   CURRENT neoplasia?            658 non-null    object\n",
            " 29  TREATED NEOPLASIA?             658 non-null    object\n",
            " 30  CVD?                           658 non-null    object\n",
            " 31   cerebrovascular disease?      658 non-null    object\n",
            " 32  CKD?                           658 non-null    object\n",
            " 33  CT Suggestive of COVID?        658 non-null    object\n",
            " 34  Rounded morphology?            658 non-null    object\n",
            " 35  Crazy Paving?                  658 non-null    object\n",
            " 36  Reverse Halo Sign?             658 non-null    object\n",
            " 37  Bronchial thickening?          658 non-null    object\n",
            " 38  Pleural Effusion               658 non-null    object\n",
            " 39  Lymphdenomegalia               658 non-null    object\n",
            " 40  Distribution of lesions        658 non-null    object\n",
            " 41  2+ Lung Lobes Involvement?     658 non-null    object\n",
            " 42  Bilaterality                   658 non-null    object\n",
            " 43  Right Upper Lobe?              658 non-null    object\n",
            " 44  Right Medium Lobe?             658 non-null    object\n",
            " 45  Right Lower Lobe?              658 non-null    object\n",
            " 46  Left Upper Lobe?               658 non-null    object\n",
            " 47  Left Lower Lobe?               658 non-null    object\n",
            " 48  RAD-COVID SCORE                658 non-null    object\n",
            "dtypes: object(49)\n",
            "memory usage: 257.0+ KB\n"
          ]
        }
      ],
      "source": [
        "non_numeric.info()"
      ]
    },
    {
      "cell_type": "code",
      "execution_count": null,
      "metadata": {
        "id": "zJGasK8UF9r-"
      },
      "outputs": [],
      "source": [
        "non_numeric['DEATH?'],_=pd.factorize(non_numeric['DEATH?'])"
      ]
    },
    {
      "cell_type": "code",
      "execution_count": null,
      "metadata": {
        "id": "SP5C8MQH_-vY"
      },
      "outputs": [],
      "source": [
        "df_dummies = pd.get_dummies(non_numeric.drop('DEATH?',axis=1))"
      ]
    },
    {
      "cell_type": "code",
      "execution_count": null,
      "metadata": {
        "colab": {
          "base_uri": "https://localhost:8080/",
          "height": 386
        },
        "id": "KNdPsIP-ArDg",
        "outputId": "90a932e4-71a7-461e-9b41-956873770e62"
      },
      "outputs": [
        {
          "output_type": "execute_result",
          "data": {
            "text/plain": [
              "   AGE RANGE_51-60  AGE RANGE_61-70  AGE RANGE_71-80  AGE RANGE_<50  \\\n",
              "0                1                0                0              0   \n",
              "1                0                1                0              0   \n",
              "2                0                0                0              0   \n",
              "3                0                0                0              0   \n",
              "4                0                0                0              0   \n",
              "\n",
              "   AGE RANGE_>80  DYSPNOEA?_NO  DYSPNOEA?_YES  FEVER?_NO  FEVER?_YES  \\\n",
              "0              0             0              1          0           1   \n",
              "1              0             1              0          0           1   \n",
              "2              1             1              0          0           1   \n",
              "3              1             1              0          1           0   \n",
              "4              1             0              1          0           1   \n",
              "\n",
              "   COUGH?_NO  ...  Left Upper Lobe?_No opacites  Left Upper Lobe?_YES  \\\n",
              "0          1  ...                             0                     1   \n",
              "1          0  ...                             0                     1   \n",
              "2          0  ...                             0                     1   \n",
              "3          1  ...                             0                     1   \n",
              "4          1  ...                             0                     0   \n",
              "\n",
              "   Left Lower Lobe?_Lobo Sup Esq  Left Lower Lobe?_NO  \\\n",
              "0                              0                    0   \n",
              "1                              0                    0   \n",
              "2                              0                    0   \n",
              "3                              0                    0   \n",
              "4                              0                    1   \n",
              "\n",
              "   Left Lower Lobe?_No opacites  Left Lower Lobe?_YES  \\\n",
              "0                             0                     1   \n",
              "1                             0                     1   \n",
              "2                             0                     1   \n",
              "3                             0                     1   \n",
              "4                             0                     0   \n",
              "\n",
              "   RAD-COVID SCORE_1 - Mild (<25%)  RAD-COVID SCORE_2 - Moderate (25-50%)  \\\n",
              "0                                1                                      0   \n",
              "1                                1                                      0   \n",
              "2                                1                                      0   \n",
              "3                                0                                      1   \n",
              "4                                1                                      0   \n",
              "\n",
              "   RAD-COVID SCORE_3- Severe (>50%)  RAD-COVID SCORE_Normal  \n",
              "0                                 0                       0  \n",
              "1                                 0                       0  \n",
              "2                                 0                       0  \n",
              "3                                 0                       0  \n",
              "4                                 0                       0  \n",
              "\n",
              "[5 rows x 212 columns]"
            ],
            "text/html": [
              "\n",
              "  <div id=\"df-20a9c48c-8afb-41dc-aa11-9dabbafdfa80\">\n",
              "    <div class=\"colab-df-container\">\n",
              "      <div>\n",
              "<style scoped>\n",
              "    .dataframe tbody tr th:only-of-type {\n",
              "        vertical-align: middle;\n",
              "    }\n",
              "\n",
              "    .dataframe tbody tr th {\n",
              "        vertical-align: top;\n",
              "    }\n",
              "\n",
              "    .dataframe thead th {\n",
              "        text-align: right;\n",
              "    }\n",
              "</style>\n",
              "<table border=\"1\" class=\"dataframe\">\n",
              "  <thead>\n",
              "    <tr style=\"text-align: right;\">\n",
              "      <th></th>\n",
              "      <th>AGE RANGE_51-60</th>\n",
              "      <th>AGE RANGE_61-70</th>\n",
              "      <th>AGE RANGE_71-80</th>\n",
              "      <th>AGE RANGE_&lt;50</th>\n",
              "      <th>AGE RANGE_&gt;80</th>\n",
              "      <th>DYSPNOEA?_NO</th>\n",
              "      <th>DYSPNOEA?_YES</th>\n",
              "      <th>FEVER?_NO</th>\n",
              "      <th>FEVER?_YES</th>\n",
              "      <th>COUGH?_NO</th>\n",
              "      <th>...</th>\n",
              "      <th>Left Upper Lobe?_No opacites</th>\n",
              "      <th>Left Upper Lobe?_YES</th>\n",
              "      <th>Left Lower Lobe?_Lobo Sup Esq</th>\n",
              "      <th>Left Lower Lobe?_NO</th>\n",
              "      <th>Left Lower Lobe?_No opacites</th>\n",
              "      <th>Left Lower Lobe?_YES</th>\n",
              "      <th>RAD-COVID SCORE_1 - Mild (&lt;25%)</th>\n",
              "      <th>RAD-COVID SCORE_2 - Moderate (25-50%)</th>\n",
              "      <th>RAD-COVID SCORE_3- Severe (&gt;50%)</th>\n",
              "      <th>RAD-COVID SCORE_Normal</th>\n",
              "    </tr>\n",
              "  </thead>\n",
              "  <tbody>\n",
              "    <tr>\n",
              "      <th>0</th>\n",
              "      <td>1</td>\n",
              "      <td>0</td>\n",
              "      <td>0</td>\n",
              "      <td>0</td>\n",
              "      <td>0</td>\n",
              "      <td>0</td>\n",
              "      <td>1</td>\n",
              "      <td>0</td>\n",
              "      <td>1</td>\n",
              "      <td>1</td>\n",
              "      <td>...</td>\n",
              "      <td>0</td>\n",
              "      <td>1</td>\n",
              "      <td>0</td>\n",
              "      <td>0</td>\n",
              "      <td>0</td>\n",
              "      <td>1</td>\n",
              "      <td>1</td>\n",
              "      <td>0</td>\n",
              "      <td>0</td>\n",
              "      <td>0</td>\n",
              "    </tr>\n",
              "    <tr>\n",
              "      <th>1</th>\n",
              "      <td>0</td>\n",
              "      <td>1</td>\n",
              "      <td>0</td>\n",
              "      <td>0</td>\n",
              "      <td>0</td>\n",
              "      <td>1</td>\n",
              "      <td>0</td>\n",
              "      <td>0</td>\n",
              "      <td>1</td>\n",
              "      <td>0</td>\n",
              "      <td>...</td>\n",
              "      <td>0</td>\n",
              "      <td>1</td>\n",
              "      <td>0</td>\n",
              "      <td>0</td>\n",
              "      <td>0</td>\n",
              "      <td>1</td>\n",
              "      <td>1</td>\n",
              "      <td>0</td>\n",
              "      <td>0</td>\n",
              "      <td>0</td>\n",
              "    </tr>\n",
              "    <tr>\n",
              "      <th>2</th>\n",
              "      <td>0</td>\n",
              "      <td>0</td>\n",
              "      <td>0</td>\n",
              "      <td>0</td>\n",
              "      <td>1</td>\n",
              "      <td>1</td>\n",
              "      <td>0</td>\n",
              "      <td>0</td>\n",
              "      <td>1</td>\n",
              "      <td>0</td>\n",
              "      <td>...</td>\n",
              "      <td>0</td>\n",
              "      <td>1</td>\n",
              "      <td>0</td>\n",
              "      <td>0</td>\n",
              "      <td>0</td>\n",
              "      <td>1</td>\n",
              "      <td>1</td>\n",
              "      <td>0</td>\n",
              "      <td>0</td>\n",
              "      <td>0</td>\n",
              "    </tr>\n",
              "    <tr>\n",
              "      <th>3</th>\n",
              "      <td>0</td>\n",
              "      <td>0</td>\n",
              "      <td>0</td>\n",
              "      <td>0</td>\n",
              "      <td>1</td>\n",
              "      <td>1</td>\n",
              "      <td>0</td>\n",
              "      <td>1</td>\n",
              "      <td>0</td>\n",
              "      <td>1</td>\n",
              "      <td>...</td>\n",
              "      <td>0</td>\n",
              "      <td>1</td>\n",
              "      <td>0</td>\n",
              "      <td>0</td>\n",
              "      <td>0</td>\n",
              "      <td>1</td>\n",
              "      <td>0</td>\n",
              "      <td>1</td>\n",
              "      <td>0</td>\n",
              "      <td>0</td>\n",
              "    </tr>\n",
              "    <tr>\n",
              "      <th>4</th>\n",
              "      <td>0</td>\n",
              "      <td>0</td>\n",
              "      <td>0</td>\n",
              "      <td>0</td>\n",
              "      <td>1</td>\n",
              "      <td>0</td>\n",
              "      <td>1</td>\n",
              "      <td>0</td>\n",
              "      <td>1</td>\n",
              "      <td>1</td>\n",
              "      <td>...</td>\n",
              "      <td>0</td>\n",
              "      <td>0</td>\n",
              "      <td>0</td>\n",
              "      <td>1</td>\n",
              "      <td>0</td>\n",
              "      <td>0</td>\n",
              "      <td>1</td>\n",
              "      <td>0</td>\n",
              "      <td>0</td>\n",
              "      <td>0</td>\n",
              "    </tr>\n",
              "  </tbody>\n",
              "</table>\n",
              "<p>5 rows × 212 columns</p>\n",
              "</div>\n",
              "      <button class=\"colab-df-convert\" onclick=\"convertToInteractive('df-20a9c48c-8afb-41dc-aa11-9dabbafdfa80')\"\n",
              "              title=\"Convert this dataframe to an interactive table.\"\n",
              "              style=\"display:none;\">\n",
              "        \n",
              "  <svg xmlns=\"http://www.w3.org/2000/svg\" height=\"24px\"viewBox=\"0 0 24 24\"\n",
              "       width=\"24px\">\n",
              "    <path d=\"M0 0h24v24H0V0z\" fill=\"none\"/>\n",
              "    <path d=\"M18.56 5.44l.94 2.06.94-2.06 2.06-.94-2.06-.94-.94-2.06-.94 2.06-2.06.94zm-11 1L8.5 8.5l.94-2.06 2.06-.94-2.06-.94L8.5 2.5l-.94 2.06-2.06.94zm10 10l.94 2.06.94-2.06 2.06-.94-2.06-.94-.94-2.06-.94 2.06-2.06.94z\"/><path d=\"M17.41 7.96l-1.37-1.37c-.4-.4-.92-.59-1.43-.59-.52 0-1.04.2-1.43.59L10.3 9.45l-7.72 7.72c-.78.78-.78 2.05 0 2.83L4 21.41c.39.39.9.59 1.41.59.51 0 1.02-.2 1.41-.59l7.78-7.78 2.81-2.81c.8-.78.8-2.07 0-2.86zM5.41 20L4 18.59l7.72-7.72 1.47 1.35L5.41 20z\"/>\n",
              "  </svg>\n",
              "      </button>\n",
              "      \n",
              "  <style>\n",
              "    .colab-df-container {\n",
              "      display:flex;\n",
              "      flex-wrap:wrap;\n",
              "      gap: 12px;\n",
              "    }\n",
              "\n",
              "    .colab-df-convert {\n",
              "      background-color: #E8F0FE;\n",
              "      border: none;\n",
              "      border-radius: 50%;\n",
              "      cursor: pointer;\n",
              "      display: none;\n",
              "      fill: #1967D2;\n",
              "      height: 32px;\n",
              "      padding: 0 0 0 0;\n",
              "      width: 32px;\n",
              "    }\n",
              "\n",
              "    .colab-df-convert:hover {\n",
              "      background-color: #E2EBFA;\n",
              "      box-shadow: 0px 1px 2px rgba(60, 64, 67, 0.3), 0px 1px 3px 1px rgba(60, 64, 67, 0.15);\n",
              "      fill: #174EA6;\n",
              "    }\n",
              "\n",
              "    [theme=dark] .colab-df-convert {\n",
              "      background-color: #3B4455;\n",
              "      fill: #D2E3FC;\n",
              "    }\n",
              "\n",
              "    [theme=dark] .colab-df-convert:hover {\n",
              "      background-color: #434B5C;\n",
              "      box-shadow: 0px 1px 3px 1px rgba(0, 0, 0, 0.15);\n",
              "      filter: drop-shadow(0px 1px 2px rgba(0, 0, 0, 0.3));\n",
              "      fill: #FFFFFF;\n",
              "    }\n",
              "  </style>\n",
              "\n",
              "      <script>\n",
              "        const buttonEl =\n",
              "          document.querySelector('#df-20a9c48c-8afb-41dc-aa11-9dabbafdfa80 button.colab-df-convert');\n",
              "        buttonEl.style.display =\n",
              "          google.colab.kernel.accessAllowed ? 'block' : 'none';\n",
              "\n",
              "        async function convertToInteractive(key) {\n",
              "          const element = document.querySelector('#df-20a9c48c-8afb-41dc-aa11-9dabbafdfa80');\n",
              "          const dataTable =\n",
              "            await google.colab.kernel.invokeFunction('convertToInteractive',\n",
              "                                                     [key], {});\n",
              "          if (!dataTable) return;\n",
              "\n",
              "          const docLinkHtml = 'Like what you see? Visit the ' +\n",
              "            '<a target=\"_blank\" href=https://colab.research.google.com/notebooks/data_table.ipynb>data table notebook</a>'\n",
              "            + ' to learn more about interactive tables.';\n",
              "          element.innerHTML = '';\n",
              "          dataTable['output_type'] = 'display_data';\n",
              "          await google.colab.output.renderOutput(dataTable, element);\n",
              "          const docLink = document.createElement('div');\n",
              "          docLink.innerHTML = docLinkHtml;\n",
              "          element.appendChild(docLink);\n",
              "        }\n",
              "      </script>\n",
              "    </div>\n",
              "  </div>\n",
              "  "
            ]
          },
          "metadata": {},
          "execution_count": 53
        }
      ],
      "source": [
        "df_dummies.head()"
      ]
    },
    {
      "cell_type": "code",
      "execution_count": null,
      "metadata": {
        "id": "9wP8chvCWknu"
      },
      "outputs": [],
      "source": [
        "objects=pd.concat([df_dummies,non_numeric['DEATH?']], axis=1)"
      ]
    },
    {
      "cell_type": "code",
      "execution_count": null,
      "metadata": {
        "colab": {
          "base_uri": "https://localhost:8080/",
          "height": 386
        },
        "id": "WjR9lHNrSQ3r",
        "outputId": "4f6bf4ed-3e79-4367-a637-e38bcb2e0ed3"
      },
      "outputs": [
        {
          "output_type": "execute_result",
          "data": {
            "text/plain": [
              "   AGE RANGE_51-60  AGE RANGE_61-70  AGE RANGE_71-80  AGE RANGE_<50  \\\n",
              "0                1                0                0              0   \n",
              "1                0                1                0              0   \n",
              "2                0                0                0              0   \n",
              "3                0                0                0              0   \n",
              "4                0                0                0              0   \n",
              "\n",
              "   AGE RANGE_>80  DYSPNOEA?_NO  DYSPNOEA?_YES  FEVER?_NO  FEVER?_YES  \\\n",
              "0              0             0              1          0           1   \n",
              "1              0             1              0          0           1   \n",
              "2              1             1              0          0           1   \n",
              "3              1             1              0          1           0   \n",
              "4              1             0              1          0           1   \n",
              "\n",
              "   COUGH?_NO  ...  Left Upper Lobe?_YES  Left Lower Lobe?_Lobo Sup Esq  \\\n",
              "0          1  ...                     1                              0   \n",
              "1          0  ...                     1                              0   \n",
              "2          0  ...                     1                              0   \n",
              "3          1  ...                     1                              0   \n",
              "4          1  ...                     0                              0   \n",
              "\n",
              "   Left Lower Lobe?_NO  Left Lower Lobe?_No opacites  Left Lower Lobe?_YES  \\\n",
              "0                    0                             0                     1   \n",
              "1                    0                             0                     1   \n",
              "2                    0                             0                     1   \n",
              "3                    0                             0                     1   \n",
              "4                    1                             0                     0   \n",
              "\n",
              "   RAD-COVID SCORE_1 - Mild (<25%)  RAD-COVID SCORE_2 - Moderate (25-50%)  \\\n",
              "0                                1                                      0   \n",
              "1                                1                                      0   \n",
              "2                                1                                      0   \n",
              "3                                0                                      1   \n",
              "4                                1                                      0   \n",
              "\n",
              "   RAD-COVID SCORE_3- Severe (>50%)  RAD-COVID SCORE_Normal  DEATH?  \n",
              "0                                 0                       0       0  \n",
              "1                                 0                       0       1  \n",
              "2                                 0                       0       1  \n",
              "3                                 0                       0       0  \n",
              "4                                 0                       0       1  \n",
              "\n",
              "[5 rows x 213 columns]"
            ],
            "text/html": [
              "\n",
              "  <div id=\"df-88e443fe-d7cc-4354-a0d3-b1f71a1a3062\">\n",
              "    <div class=\"colab-df-container\">\n",
              "      <div>\n",
              "<style scoped>\n",
              "    .dataframe tbody tr th:only-of-type {\n",
              "        vertical-align: middle;\n",
              "    }\n",
              "\n",
              "    .dataframe tbody tr th {\n",
              "        vertical-align: top;\n",
              "    }\n",
              "\n",
              "    .dataframe thead th {\n",
              "        text-align: right;\n",
              "    }\n",
              "</style>\n",
              "<table border=\"1\" class=\"dataframe\">\n",
              "  <thead>\n",
              "    <tr style=\"text-align: right;\">\n",
              "      <th></th>\n",
              "      <th>AGE RANGE_51-60</th>\n",
              "      <th>AGE RANGE_61-70</th>\n",
              "      <th>AGE RANGE_71-80</th>\n",
              "      <th>AGE RANGE_&lt;50</th>\n",
              "      <th>AGE RANGE_&gt;80</th>\n",
              "      <th>DYSPNOEA?_NO</th>\n",
              "      <th>DYSPNOEA?_YES</th>\n",
              "      <th>FEVER?_NO</th>\n",
              "      <th>FEVER?_YES</th>\n",
              "      <th>COUGH?_NO</th>\n",
              "      <th>...</th>\n",
              "      <th>Left Upper Lobe?_YES</th>\n",
              "      <th>Left Lower Lobe?_Lobo Sup Esq</th>\n",
              "      <th>Left Lower Lobe?_NO</th>\n",
              "      <th>Left Lower Lobe?_No opacites</th>\n",
              "      <th>Left Lower Lobe?_YES</th>\n",
              "      <th>RAD-COVID SCORE_1 - Mild (&lt;25%)</th>\n",
              "      <th>RAD-COVID SCORE_2 - Moderate (25-50%)</th>\n",
              "      <th>RAD-COVID SCORE_3- Severe (&gt;50%)</th>\n",
              "      <th>RAD-COVID SCORE_Normal</th>\n",
              "      <th>DEATH?</th>\n",
              "    </tr>\n",
              "  </thead>\n",
              "  <tbody>\n",
              "    <tr>\n",
              "      <th>0</th>\n",
              "      <td>1</td>\n",
              "      <td>0</td>\n",
              "      <td>0</td>\n",
              "      <td>0</td>\n",
              "      <td>0</td>\n",
              "      <td>0</td>\n",
              "      <td>1</td>\n",
              "      <td>0</td>\n",
              "      <td>1</td>\n",
              "      <td>1</td>\n",
              "      <td>...</td>\n",
              "      <td>1</td>\n",
              "      <td>0</td>\n",
              "      <td>0</td>\n",
              "      <td>0</td>\n",
              "      <td>1</td>\n",
              "      <td>1</td>\n",
              "      <td>0</td>\n",
              "      <td>0</td>\n",
              "      <td>0</td>\n",
              "      <td>0</td>\n",
              "    </tr>\n",
              "    <tr>\n",
              "      <th>1</th>\n",
              "      <td>0</td>\n",
              "      <td>1</td>\n",
              "      <td>0</td>\n",
              "      <td>0</td>\n",
              "      <td>0</td>\n",
              "      <td>1</td>\n",
              "      <td>0</td>\n",
              "      <td>0</td>\n",
              "      <td>1</td>\n",
              "      <td>0</td>\n",
              "      <td>...</td>\n",
              "      <td>1</td>\n",
              "      <td>0</td>\n",
              "      <td>0</td>\n",
              "      <td>0</td>\n",
              "      <td>1</td>\n",
              "      <td>1</td>\n",
              "      <td>0</td>\n",
              "      <td>0</td>\n",
              "      <td>0</td>\n",
              "      <td>1</td>\n",
              "    </tr>\n",
              "    <tr>\n",
              "      <th>2</th>\n",
              "      <td>0</td>\n",
              "      <td>0</td>\n",
              "      <td>0</td>\n",
              "      <td>0</td>\n",
              "      <td>1</td>\n",
              "      <td>1</td>\n",
              "      <td>0</td>\n",
              "      <td>0</td>\n",
              "      <td>1</td>\n",
              "      <td>0</td>\n",
              "      <td>...</td>\n",
              "      <td>1</td>\n",
              "      <td>0</td>\n",
              "      <td>0</td>\n",
              "      <td>0</td>\n",
              "      <td>1</td>\n",
              "      <td>1</td>\n",
              "      <td>0</td>\n",
              "      <td>0</td>\n",
              "      <td>0</td>\n",
              "      <td>1</td>\n",
              "    </tr>\n",
              "    <tr>\n",
              "      <th>3</th>\n",
              "      <td>0</td>\n",
              "      <td>0</td>\n",
              "      <td>0</td>\n",
              "      <td>0</td>\n",
              "      <td>1</td>\n",
              "      <td>1</td>\n",
              "      <td>0</td>\n",
              "      <td>1</td>\n",
              "      <td>0</td>\n",
              "      <td>1</td>\n",
              "      <td>...</td>\n",
              "      <td>1</td>\n",
              "      <td>0</td>\n",
              "      <td>0</td>\n",
              "      <td>0</td>\n",
              "      <td>1</td>\n",
              "      <td>0</td>\n",
              "      <td>1</td>\n",
              "      <td>0</td>\n",
              "      <td>0</td>\n",
              "      <td>0</td>\n",
              "    </tr>\n",
              "    <tr>\n",
              "      <th>4</th>\n",
              "      <td>0</td>\n",
              "      <td>0</td>\n",
              "      <td>0</td>\n",
              "      <td>0</td>\n",
              "      <td>1</td>\n",
              "      <td>0</td>\n",
              "      <td>1</td>\n",
              "      <td>0</td>\n",
              "      <td>1</td>\n",
              "      <td>1</td>\n",
              "      <td>...</td>\n",
              "      <td>0</td>\n",
              "      <td>0</td>\n",
              "      <td>1</td>\n",
              "      <td>0</td>\n",
              "      <td>0</td>\n",
              "      <td>1</td>\n",
              "      <td>0</td>\n",
              "      <td>0</td>\n",
              "      <td>0</td>\n",
              "      <td>1</td>\n",
              "    </tr>\n",
              "  </tbody>\n",
              "</table>\n",
              "<p>5 rows × 213 columns</p>\n",
              "</div>\n",
              "      <button class=\"colab-df-convert\" onclick=\"convertToInteractive('df-88e443fe-d7cc-4354-a0d3-b1f71a1a3062')\"\n",
              "              title=\"Convert this dataframe to an interactive table.\"\n",
              "              style=\"display:none;\">\n",
              "        \n",
              "  <svg xmlns=\"http://www.w3.org/2000/svg\" height=\"24px\"viewBox=\"0 0 24 24\"\n",
              "       width=\"24px\">\n",
              "    <path d=\"M0 0h24v24H0V0z\" fill=\"none\"/>\n",
              "    <path d=\"M18.56 5.44l.94 2.06.94-2.06 2.06-.94-2.06-.94-.94-2.06-.94 2.06-2.06.94zm-11 1L8.5 8.5l.94-2.06 2.06-.94-2.06-.94L8.5 2.5l-.94 2.06-2.06.94zm10 10l.94 2.06.94-2.06 2.06-.94-2.06-.94-.94-2.06-.94 2.06-2.06.94z\"/><path d=\"M17.41 7.96l-1.37-1.37c-.4-.4-.92-.59-1.43-.59-.52 0-1.04.2-1.43.59L10.3 9.45l-7.72 7.72c-.78.78-.78 2.05 0 2.83L4 21.41c.39.39.9.59 1.41.59.51 0 1.02-.2 1.41-.59l7.78-7.78 2.81-2.81c.8-.78.8-2.07 0-2.86zM5.41 20L4 18.59l7.72-7.72 1.47 1.35L5.41 20z\"/>\n",
              "  </svg>\n",
              "      </button>\n",
              "      \n",
              "  <style>\n",
              "    .colab-df-container {\n",
              "      display:flex;\n",
              "      flex-wrap:wrap;\n",
              "      gap: 12px;\n",
              "    }\n",
              "\n",
              "    .colab-df-convert {\n",
              "      background-color: #E8F0FE;\n",
              "      border: none;\n",
              "      border-radius: 50%;\n",
              "      cursor: pointer;\n",
              "      display: none;\n",
              "      fill: #1967D2;\n",
              "      height: 32px;\n",
              "      padding: 0 0 0 0;\n",
              "      width: 32px;\n",
              "    }\n",
              "\n",
              "    .colab-df-convert:hover {\n",
              "      background-color: #E2EBFA;\n",
              "      box-shadow: 0px 1px 2px rgba(60, 64, 67, 0.3), 0px 1px 3px 1px rgba(60, 64, 67, 0.15);\n",
              "      fill: #174EA6;\n",
              "    }\n",
              "\n",
              "    [theme=dark] .colab-df-convert {\n",
              "      background-color: #3B4455;\n",
              "      fill: #D2E3FC;\n",
              "    }\n",
              "\n",
              "    [theme=dark] .colab-df-convert:hover {\n",
              "      background-color: #434B5C;\n",
              "      box-shadow: 0px 1px 3px 1px rgba(0, 0, 0, 0.15);\n",
              "      filter: drop-shadow(0px 1px 2px rgba(0, 0, 0, 0.3));\n",
              "      fill: #FFFFFF;\n",
              "    }\n",
              "  </style>\n",
              "\n",
              "      <script>\n",
              "        const buttonEl =\n",
              "          document.querySelector('#df-88e443fe-d7cc-4354-a0d3-b1f71a1a3062 button.colab-df-convert');\n",
              "        buttonEl.style.display =\n",
              "          google.colab.kernel.accessAllowed ? 'block' : 'none';\n",
              "\n",
              "        async function convertToInteractive(key) {\n",
              "          const element = document.querySelector('#df-88e443fe-d7cc-4354-a0d3-b1f71a1a3062');\n",
              "          const dataTable =\n",
              "            await google.colab.kernel.invokeFunction('convertToInteractive',\n",
              "                                                     [key], {});\n",
              "          if (!dataTable) return;\n",
              "\n",
              "          const docLinkHtml = 'Like what you see? Visit the ' +\n",
              "            '<a target=\"_blank\" href=https://colab.research.google.com/notebooks/data_table.ipynb>data table notebook</a>'\n",
              "            + ' to learn more about interactive tables.';\n",
              "          element.innerHTML = '';\n",
              "          dataTable['output_type'] = 'display_data';\n",
              "          await google.colab.output.renderOutput(dataTable, element);\n",
              "          const docLink = document.createElement('div');\n",
              "          docLink.innerHTML = docLinkHtml;\n",
              "          element.appendChild(docLink);\n",
              "        }\n",
              "      </script>\n",
              "    </div>\n",
              "  </div>\n",
              "  "
            ]
          },
          "metadata": {},
          "execution_count": 55
        }
      ],
      "source": [
        "objects.head()"
      ]
    },
    {
      "cell_type": "code",
      "execution_count": null,
      "metadata": {
        "id": "DBgiho-gnr_P"
      },
      "outputs": [],
      "source": [
        "from sklearn.preprocessing import StandardScaler\n"
      ]
    },
    {
      "cell_type": "markdown",
      "metadata": {
        "id": "ayRa4lGlLgjf"
      },
      "source": [
        "## Joining and Scaling Data Imputed by The Regressor model"
      ]
    },
    {
      "cell_type": "code",
      "execution_count": null,
      "metadata": {
        "id": "Y1_NgaBwMBJt"
      },
      "outputs": [],
      "source": [
        "regressor_scaled=StandardScaler().fit_transform(regressor_imputed_df)"
      ]
    },
    {
      "cell_type": "code",
      "execution_count": null,
      "metadata": {
        "id": "0WO651FQMZ4y"
      },
      "outputs": [],
      "source": [
        "regressor_imputed_df=pd.DataFrame(regressor_scaled, columns=numeric_data.columns)"
      ]
    },
    {
      "cell_type": "code",
      "execution_count": null,
      "metadata": {
        "id": "ijTSgVs5MOSr"
      },
      "outputs": [],
      "source": [
        "data=pd.concat([regressor_imputed_df,objects], axis=1)\n"
      ]
    },
    {
      "cell_type": "code",
      "execution_count": null,
      "metadata": {
        "id": "stI469TJbYow"
      },
      "outputs": [],
      "source": [
        "y=data['DEATH?']\n",
        "X=data.iloc[:,:-1]"
      ]
    },
    {
      "cell_type": "code",
      "execution_count": null,
      "metadata": {
        "id": "KhLa2VqkH_vJ"
      },
      "outputs": [],
      "source": [
        "# X=data.iloc[:,:-1]"
      ]
    },
    {
      "cell_type": "markdown",
      "metadata": {
        "id": "SL1SSI82IL5X"
      },
      "source": [
        "## Reducing Dimensionality of X Imputed by Regressor Model"
      ]
    },
    {
      "cell_type": "code",
      "execution_count": null,
      "metadata": {
        "id": "PzYSEzmoIHnV"
      },
      "outputs": [],
      "source": [
        "from sklearn.decomposition import PCA\n",
        "from sklearn.model_selection import GridSearchCV\n",
        "from sklearn.model_selection import cross_val_score\n",
        "from sklearn.model_selection import KFold\n",
        "from sklearn.svm import SVC\n"
      ]
    },
    {
      "cell_type": "code",
      "execution_count": null,
      "metadata": {
        "colab": {
          "base_uri": "https://localhost:8080/"
        },
        "id": "On-xJ6QfIaeU",
        "outputId": "7c335c03-1547-4808-8bb3-b048c0f339ba"
      },
      "outputs": [
        {
          "output_type": "execute_result",
          "data": {
            "text/plain": [
              "(658, 214)"
            ]
          },
          "metadata": {},
          "execution_count": 63
        }
      ],
      "source": [
        "X.shape"
      ]
    },
    {
      "cell_type": "markdown",
      "metadata": {
        "id": "ByQUll54P3us"
      },
      "source": [
        "The following code computes PCA without reducing dimensionality, then computes the minimum\n",
        "number of dimensions required to preserve 95% of the training set’s variance:"
      ]
    },
    {
      "cell_type": "code",
      "execution_count": null,
      "metadata": {
        "id": "9--L3CvlIPeX"
      },
      "outputs": [],
      "source": [
        "pca = PCA()\n",
        "pca.fit(X)\n",
        "cumsum = np.cumsum(pca.explained_variance_ratio_)\n",
        "d = np.argmax(cumsum >= 0.95) + 1"
      ]
    },
    {
      "cell_type": "code",
      "execution_count": null,
      "metadata": {
        "id": "pcnlV1OHIWCX"
      },
      "outputs": [],
      "source": [
        "pca = PCA(n_components=0.95)\n",
        "X_reduced = pca.fit_transform(X)"
      ]
    },
    {
      "cell_type": "code",
      "execution_count": null,
      "metadata": {
        "colab": {
          "base_uri": "https://localhost:8080/"
        },
        "id": "8AolPZgwKV-b",
        "outputId": "70da140d-ea51-4f22-a7cb-23c89cdf4a9a"
      },
      "outputs": [
        {
          "output_type": "execute_result",
          "data": {
            "text/plain": [
              "(658, 56)"
            ]
          },
          "metadata": {},
          "execution_count": 66
        }
      ],
      "source": [
        "X_reduced.shape"
      ]
    },
    {
      "cell_type": "markdown",
      "metadata": {
        "id": "_rWpQh2OxToH"
      },
      "source": [
        "Features selected by PCA from the initial number of features"
      ]
    },
    {
      "cell_type": "code",
      "execution_count": null,
      "metadata": {
        "id": "3Je026vQK9rC"
      },
      "outputs": [],
      "source": [
        "# number of components\n",
        "n_pcs= pca.components_.shape[0]\n",
        "\n",
        "# get the index of the most important feature on EACH component\n",
        "# LIST COMPREHENSION HERE\n",
        "most_important = [np.abs(pca.components_[i]).argmax() for i in range(n_pcs)]\n",
        "\n",
        "initial_feature_names = X.columns\n",
        "# get the names\n",
        "most_important_names = [initial_feature_names[most_important[i]] for i in range(n_pcs)]\n",
        "\n",
        "# LIST COMPREHENSION HERE AGAIN\n",
        "dic = {'PC{}'.format(i): most_important_names[i] for i in range(n_pcs)}\n",
        "\n",
        "# build the dataframe\n",
        "df = pd.DataFrame(dic.items())"
      ]
    },
    {
      "cell_type": "code",
      "execution_count": null,
      "metadata": {
        "id": "6D0xBu9Bxdxs"
      },
      "outputs": [],
      "source": [
        "selected_features=list(df.iloc[:,1])"
      ]
    },
    {
      "cell_type": "code",
      "execution_count": null,
      "metadata": {
        "colab": {
          "base_uri": "https://localhost:8080/"
        },
        "id": "yFdqxRIVOQMp",
        "outputId": "5a470d75-4974-454b-d368-3a1b88a06b1a"
      },
      "outputs": [
        {
          "output_type": "execute_result",
          "data": {
            "text/plain": [
              "56"
            ]
          },
          "metadata": {},
          "execution_count": 69
        }
      ],
      "source": [
        "pca.n_components_\n"
      ]
    },
    {
      "cell_type": "code",
      "execution_count": null,
      "metadata": {
        "colab": {
          "base_uri": "https://localhost:8080/"
        },
        "id": "G-PKSPaIA0CA",
        "outputId": "f0ed3899-1a2f-498e-e2ee-a2586cb36fe7"
      },
      "outputs": [
        {
          "output_type": "execute_result",
          "data": {
            "text/plain": [
              "['Clinical Severity Score',\n",
              " 'SYMPTOM ONSET',\n",
              " 'SYMPTOM ONSET',\n",
              " 'SYMPTOM ONSET',\n",
              " 'FEVER?_NO',\n",
              " 'ARTERIAL HYPERTESION?_YES',\n",
              " 'Clinical Severity Score',\n",
              " 'FEVER?_NO',\n",
              " 'MYALGIA?_NO',\n",
              " 'MYALGIA?_NO',\n",
              " 'Bronchial thickening?_YES',\n",
              " 'Bronchial thickening?_YES',\n",
              " 'ABDOMINAL SYMPTOMS?_NO',\n",
              " 'Reverse Halo Sign?_YES',\n",
              " ' SatO2< 93%?_NO',\n",
              " 'ASTHENIA?_NO',\n",
              " ' DM?_YES',\n",
              " 'INAPPETENCE?_NO',\n",
              " 'RESP FREQUENCY_14',\n",
              " 'AGE RANGE_71-80',\n",
              " 'RESP FREQUENCY_14',\n",
              " 'AGE RANGE_71-80',\n",
              " 'HEADACHE?_YES',\n",
              " 'ex-SMOKER?_YES',\n",
              " 'RAD-COVID SCORE_1 - Mild (<25%)',\n",
              " 'AGE RANGE_61-70',\n",
              " 'OBESITY?_NO',\n",
              " 'CORYZA?_NO',\n",
              " 'RESP FREQUENCY_16',\n",
              " 'RESP FREQUENCY_16',\n",
              " 'Crazy Paving?_No ',\n",
              " 'RESP FREQUENCY_15',\n",
              " 'RAD-COVID SCORE_1 - Mild (<25%)',\n",
              " 'ARTERIAL HYPOTENSION_NO',\n",
              " 'IMP_SAT_ART_INTER_96',\n",
              " 'AGE RANGE_51-60',\n",
              " 'IMP_SAT_ART_INTER_96',\n",
              " 'TREATED NEOPLASIA?_NO',\n",
              " 'AGE RANGE_51-60',\n",
              " 'IMP_SAT_ART_INTER_96',\n",
              " 'IMP_SAT_ART_INTER_96',\n",
              " 'ANOSMIA?_YES',\n",
              " ' COPD?_YES',\n",
              " 'RESP FREQUENCY_15',\n",
              " 'IMP_SAT_ART_INTER_95',\n",
              " 'RESP FREQUENCY_20',\n",
              " 'IMP_SAT_ART_INTER_95',\n",
              " 'IMP_SAT_ART_INTER_93',\n",
              " 'IMP_SAT_ART_INTER_90',\n",
              " 'IMP_SAT_ART_INTER_90',\n",
              " 'IMP_SAT_ART_INTER_91',\n",
              " 'IMP_SAT_ART_INTER_93',\n",
              " 'IMP_SAT_ART_INTER_94',\n",
              " 'IMP_SAT_ART_INTER_94',\n",
              " 'IMP_SAT_ART_INTER_91',\n",
              " 'RF>24?_YES']"
            ]
          },
          "metadata": {},
          "execution_count": 70
        }
      ],
      "source": [
        "selected_features"
      ]
    },
    {
      "cell_type": "markdown",
      "metadata": {
        "id": "t6Y1ksvEQhJj"
      },
      "source": [
        "Training Models with PCA X Imputed by Regressor Model and without Cross Validation"
      ]
    },
    {
      "cell_type": "code",
      "execution_count": null,
      "metadata": {
        "id": "4HlptCReQEgC"
      },
      "outputs": [],
      "source": [
        "from keras.models import Sequential\n",
        "from keras.layers import Dense\n",
        "from keras.utils import np_utils\n"
      ]
    },
    {
      "cell_type": "code",
      "execution_count": null,
      "metadata": {
        "id": "aSSP-snVQZdO"
      },
      "outputs": [],
      "source": [
        "from sklearn.model_selection import train_test_split\n",
        "import xgboost as xgb\n",
        "from sklearn.metrics import classification_report\n"
      ]
    },
    {
      "cell_type": "code",
      "execution_count": null,
      "metadata": {
        "id": "_WBf_zc8Qu71"
      },
      "outputs": [],
      "source": [
        "Xtrain,Xtest,Ytrain,Ytest=train_test_split(X_reduced,y,random_state=42,stratify=y)"
      ]
    },
    {
      "cell_type": "code",
      "execution_count": null,
      "metadata": {
        "id": "DDHwisY4Q80_"
      },
      "outputs": [],
      "source": [
        "batch_size = 128\n",
        "num_classes = 1\n",
        "epochs = 50"
      ]
    },
    {
      "cell_type": "code",
      "execution_count": null,
      "metadata": {
        "id": "WdWM_BCbRCer"
      },
      "outputs": [],
      "source": [
        "# model = Sequential()\n",
        "# model.add(Dense(58, activation='relu', input_dim=(56)))\n",
        "# model.add(Dense(60, activation='relu'))\n",
        "# # model.add(Dense(128, activation='relu'))\n",
        "# # model.add(Dense(64, activation='relu'))\n",
        "# model.add(Dense(num_classes, activation='sigmoid'))"
      ]
    },
    {
      "cell_type": "code",
      "execution_count": null,
      "metadata": {
        "id": "gBAbNoY1ROBU"
      },
      "outputs": [],
      "source": [
        "# model.summary()\n"
      ]
    },
    {
      "cell_type": "code",
      "execution_count": null,
      "metadata": {
        "id": "ozyO3ZaGRQ4w"
      },
      "outputs": [],
      "source": [
        "# model.compile(loss='binary_crossentropy',\n",
        "#               optimizer='RMSprop',\n",
        "#               metrics=['accuracy'])\n",
        "\n"
      ]
    },
    {
      "cell_type": "code",
      "execution_count": null,
      "metadata": {
        "id": "_ulvFdaIRz6u"
      },
      "outputs": [],
      "source": [
        "# history = model.fit(Xtrain, Ytrain,batch_size=batch_size,epochs=epochs,verbose=0,\n",
        "#                     validation_data=(Xtest, Ytest))"
      ]
    },
    {
      "cell_type": "code",
      "execution_count": null,
      "metadata": {
        "id": "gX8Iw2S3RkGg"
      },
      "outputs": [],
      "source": [
        "# loss,accuracy=model.evaluate(Xtest,Ytest)\n",
        "# print(\"Accuracy: %.2f\"%(accuracy*100),\"%\")"
      ]
    },
    {
      "cell_type": "code",
      "execution_count": null,
      "metadata": {
        "id": "jR4yvN3pXwp5"
      },
      "outputs": [],
      "source": [
        "import matplotlib.pyplot as plt\n",
        "import pickle\n",
        "from sklearn import metrics"
      ]
    },
    {
      "cell_type": "code",
      "execution_count": null,
      "metadata": {
        "id": "C-6766TjXw1F"
      },
      "outputs": [],
      "source": [
        "# filename = '/content/drive/My Drive/Colab Notebooks/Explainable-AI/Paper-2/models/2-exp/Regressor/MLP/PCA_Without_Cross_Validation/MLP_PCA_without_Cross-Validation.sav'\n",
        "# pickle.dump(model, open(filename, 'wb')) "
      ]
    },
    {
      "cell_type": "code",
      "execution_count": null,
      "metadata": {
        "id": "Nr-EW8LzX0aj"
      },
      "outputs": [],
      "source": [
        "loaded_model = pickle.load(open('/content/drive/My Drive/Colab Notebooks/Explainable-AI/Paper-2/models/2-exp/Regressor/MLP/PCA_Without_Cross_Validation/MLP_PCA_without_Cross-Validation.sav', 'rb'))\n",
        "y_pred = loaded_model.predict(Xtest)\n",
        "fpr_mlp, tpr_mlp, _ = metrics.roc_curve(Ytest, y_pred)\n",
        "auc_mlp = round(metrics.roc_auc_score(Ytest, y_pred), 4)"
      ]
    },
    {
      "cell_type": "code",
      "execution_count": null,
      "metadata": {
        "colab": {
          "base_uri": "https://localhost:8080/"
        },
        "id": "6aYWfC2VOx5V",
        "outputId": "0f6aa304-1fc4-400b-9f6e-b321c75f450a"
      },
      "outputs": [
        {
          "output_type": "stream",
          "name": "stdout",
          "text": [
            "\n",
            "CR by library method=\n",
            "               precision    recall  f1-score   support\n",
            "\n",
            "           0       0.60      0.55      0.58        47\n",
            "           1       0.83      0.86      0.84       118\n",
            "\n",
            "    accuracy                           0.77       165\n",
            "   macro avg       0.72      0.70      0.71       165\n",
            "weighted avg       0.76      0.77      0.77       165\n",
            "\n"
          ]
        }
      ],
      "source": [
        "y_pred=np.round(loaded_model.predict(Xtest)).ravel()\n",
        "print(\"\\nCR by library method=\\n\",\n",
        "          classification_report(Ytest, y_pred))"
      ]
    },
    {
      "cell_type": "code",
      "execution_count": null,
      "metadata": {
        "id": "rzHykmtCX4gG"
      },
      "outputs": [],
      "source": [
        "MLP_Regressor_imputed_PCA_Non_Cross_accuracy=float(classification_report(Ytest, y_pred).split()[15])"
      ]
    },
    {
      "cell_type": "code",
      "execution_count": null,
      "metadata": {
        "colab": {
          "base_uri": "https://localhost:8080/"
        },
        "id": "5fW_WsDZPO8m",
        "outputId": "b0bc5255-898e-408e-9c84-c13452a35ca3"
      },
      "outputs": [
        {
          "output_type": "execute_result",
          "data": {
            "text/plain": [
              "1"
            ]
          },
          "metadata": {},
          "execution_count": 85
        }
      ],
      "source": [
        "y_pred.ndim"
      ]
    },
    {
      "cell_type": "code",
      "execution_count": null,
      "metadata": {
        "colab": {
          "base_uri": "https://localhost:8080/"
        },
        "id": "RZEfdFsEPSCn",
        "outputId": "f93d50db-3319-4eba-917d-bc7f6f96c5e2"
      },
      "outputs": [
        {
          "output_type": "execute_result",
          "data": {
            "text/plain": [
              "1"
            ]
          },
          "metadata": {},
          "execution_count": 86
        }
      ],
      "source": [
        "Ytest.ndim"
      ]
    },
    {
      "cell_type": "code",
      "execution_count": null,
      "metadata": {
        "id": "2l3xyyfYScCD"
      },
      "outputs": [],
      "source": [
        "import xgboost as xgb\n"
      ]
    },
    {
      "cell_type": "code",
      "execution_count": null,
      "metadata": {
        "id": "_T0OXQIW_ZV6"
      },
      "outputs": [],
      "source": [
        "# model=xgb.XGBClassifier(learning_rate =0.1,\n",
        "#  n_estimators=1000,\n",
        "#  max_depth=5,\n",
        "#  min_child_weight=1,\n",
        "#  gamma=0,\n",
        "#  subsample=0.8,\n",
        "#  colsample_bytree=0.8,\n",
        "#  objective= 'binary:logistic',\n",
        "#  nthread=4,\n",
        "#  scale_pos_weight=1,\n",
        "#  seed=27)\n"
      ]
    },
    {
      "cell_type": "code",
      "execution_count": null,
      "metadata": {
        "id": "bG7S2Oqs_u5i"
      },
      "outputs": [],
      "source": [
        "# model.fit(Xtrain, Ytrain)"
      ]
    },
    {
      "cell_type": "code",
      "execution_count": null,
      "metadata": {
        "id": "Skm_zan7Yaog"
      },
      "outputs": [],
      "source": [
        "# filename = '/content/drive/My Drive/Colab Notebooks/Explainable-AI/Paper-2/models/2-exp/Regressor/XGB/PCA_Without_Cross_Validation/XGB_PCA_without_Cross-Validation.sav'\n",
        "# pickle.dump(model, open(filename, 'wb')) "
      ]
    },
    {
      "cell_type": "code",
      "execution_count": null,
      "metadata": {
        "id": "TQw4JkAPYayQ"
      },
      "outputs": [],
      "source": [
        "loaded_model = pickle.load(open('/content/drive/My Drive/Colab Notebooks/Explainable-AI/Paper-2/models/2-exp/Regressor/XGB/PCA_Without_Cross_Validation/XGB_PCA_without_Cross-Validation.sav', 'rb'))\n",
        "y_pred = loaded_model.predict(Xtest)\n",
        "fpr_xgb, tpr_xgb, _ = metrics.roc_curve(Ytest, y_pred)\n",
        "auc_xgb = round(metrics.roc_auc_score(Ytest, y_pred), 4)\n"
      ]
    },
    {
      "cell_type": "code",
      "execution_count": null,
      "metadata": {
        "colab": {
          "base_uri": "https://localhost:8080/"
        },
        "id": "qlrORiUpRKsn",
        "outputId": "d308be52-0eaa-4ab8-9860-81bf346a623d"
      },
      "outputs": [
        {
          "output_type": "stream",
          "name": "stdout",
          "text": [
            "\n",
            "CR by library method=\n",
            "               precision    recall  f1-score   support\n",
            "\n",
            "           0       0.63      0.51      0.56        47\n",
            "           1       0.82      0.88      0.85       118\n",
            "\n",
            "    accuracy                           0.78       165\n",
            "   macro avg       0.73      0.70      0.71       165\n",
            "weighted avg       0.77      0.78      0.77       165\n",
            "\n"
          ]
        }
      ],
      "source": [
        "y_pred=np.round(loaded_model.predict(Xtest)).ravel()\n",
        "print(\"\\nCR by library method=\\n\",\n",
        "          classification_report(Ytest, y_pred))"
      ]
    },
    {
      "cell_type": "code",
      "execution_count": null,
      "metadata": {
        "colab": {
          "base_uri": "https://localhost:8080/"
        },
        "id": "sIcr0BO9YmaH",
        "outputId": "7c38ea4c-c5ff-46d0-9c39-8ce1ea9564ca"
      },
      "outputs": [
        {
          "output_type": "execute_result",
          "data": {
            "text/plain": [
              "0.78"
            ]
          },
          "metadata": {},
          "execution_count": 93
        }
      ],
      "source": [
        "XGB_Regressor_imputed_PCA_Non_Cross_accuracy=float(classification_report(Ytest, y_pred).split()[15])\n",
        "XGB_Regressor_imputed_PCA_Non_Cross_accuracy"
      ]
    },
    {
      "cell_type": "code",
      "execution_count": null,
      "metadata": {
        "id": "iEgprM_eByxh"
      },
      "outputs": [],
      "source": [
        "from sklearn.metrics import accuracy_score"
      ]
    },
    {
      "cell_type": "code",
      "execution_count": null,
      "metadata": {
        "id": "-LBXqtOBAABI"
      },
      "outputs": [],
      "source": [
        "# y_pred=model.predict(Xtest)\n",
        "# print(\"The accuracy is %.2f\"%(accuracy_score(y_pred,Ytest)*100),\"%\")"
      ]
    },
    {
      "cell_type": "code",
      "execution_count": null,
      "metadata": {
        "id": "Q8YWCg3yOAaW"
      },
      "outputs": [],
      "source": [
        "# clf=SVC()\n",
        "# clf.fit(Xtrain,Ytrain)\n",
        "# y_pred=clf.predict(Xtest)\n",
        "# print(\"The accuracy is %.2f\"%(accuracy_score(y_pred,Ytest)*100),\"%\")"
      ]
    },
    {
      "cell_type": "code",
      "execution_count": null,
      "metadata": {
        "id": "0GWOFejwY35b"
      },
      "outputs": [],
      "source": [
        "# filename = '/content/drive/My Drive/Colab Notebooks/Explainable-AI/Paper-2/models/2-exp/Regressor/SVM/PCA_Without_Cross_Validation/SVM_PCA_without_Cross-Validation.sav'\n",
        "# pickle.dump(clf, open(filename, 'wb')) \n"
      ]
    },
    {
      "cell_type": "code",
      "execution_count": null,
      "metadata": {
        "id": "OKIhYQM8Y4Cw"
      },
      "outputs": [],
      "source": [
        "loaded_model = pickle.load(open('/content/drive/My Drive/Colab Notebooks/Explainable-AI/Paper-2/models/2-exp/Regressor/SVM/PCA_Without_Cross_Validation/SVM_PCA_without_Cross-Validation.sav', 'rb'))\n",
        "y_pred = loaded_model.predict(Xtest)\n",
        "fpr_svc, tpr_svc, _ = metrics.roc_curve(Ytest, y_pred)\n",
        "auc_svc = round(metrics.roc_auc_score(Ytest, y_pred), 4)\n"
      ]
    },
    {
      "cell_type": "code",
      "execution_count": null,
      "metadata": {
        "id": "qU8s9oNLRQyb",
        "colab": {
          "base_uri": "https://localhost:8080/"
        },
        "outputId": "cedab47b-938b-427f-afd5-4077ccba11ed"
      },
      "outputs": [
        {
          "output_type": "stream",
          "name": "stdout",
          "text": [
            "\n",
            "CR by library method=\n",
            "               precision    recall  f1-score   support\n",
            "\n",
            "           0       0.55      0.47      0.51        47\n",
            "           1       0.80      0.85      0.82       118\n",
            "\n",
            "    accuracy                           0.74       165\n",
            "   macro avg       0.68      0.66      0.66       165\n",
            "weighted avg       0.73      0.74      0.73       165\n",
            "\n"
          ]
        }
      ],
      "source": [
        "y_pred=np.round(loaded_model.predict(Xtest)).ravel()\n",
        "print(\"\\nCR by library method=\\n\",\n",
        "          classification_report(Ytest, y_pred))"
      ]
    },
    {
      "cell_type": "code",
      "execution_count": null,
      "metadata": {
        "id": "Rp5WREPrY-bg",
        "colab": {
          "base_uri": "https://localhost:8080/"
        },
        "outputId": "0f1a39d1-2af7-4b09-ee6a-ca7a73fae4d4"
      },
      "outputs": [
        {
          "output_type": "execute_result",
          "data": {
            "text/plain": [
              "0.74"
            ]
          },
          "metadata": {},
          "execution_count": 100
        }
      ],
      "source": [
        "SVC_Regressor_imputed_PCA_accuracy=float(classification_report(Ytest, y_pred).split()[15])\n",
        "SVC_Regressor_imputed_PCA_accuracy"
      ]
    },
    {
      "cell_type": "code",
      "execution_count": null,
      "metadata": {
        "id": "NOXOASkEZHXg",
        "colab": {
          "base_uri": "https://localhost:8080/",
          "height": 494
        },
        "outputId": "93bd9afc-2312-4c74-b432-1a88536a602c"
      },
      "outputs": [
        {
          "output_type": "stream",
          "name": "stderr",
          "text": [
            "/usr/local/lib/python3.7/dist-packages/ipykernel_launcher.py:4: MatplotlibDeprecationWarning: Adding an axes using the same arguments as a previous axes currently reuses the earlier instance.  In a future version, a new instance will always be created and returned.  Meanwhile, this warning can be suppressed, and the future behavior ensured, by passing a unique label to each axes instance.\n",
            "  after removing the cwd from sys.path.\n",
            "/usr/local/lib/python3.7/dist-packages/ipykernel_launcher.py:6: MatplotlibDeprecationWarning: Adding an axes using the same arguments as a previous axes currently reuses the earlier instance.  In a future version, a new instance will always be created and returned.  Meanwhile, this warning can be suppressed, and the future behavior ensured, by passing a unique label to each axes instance.\n",
            "  \n"
          ]
        },
        {
          "output_type": "execute_result",
          "data": {
            "text/plain": [
              "<matplotlib.legend.Legend at 0x7f976bf42810>"
            ]
          },
          "metadata": {},
          "execution_count": 101
        },
        {
          "output_type": "display_data",
          "data": {
            "text/plain": [
              "<Figure size 1188x972 with 1 Axes>"
            ],
            "image/png": "[encoded data removed]"
          },
          "metadata": {
            "needs_background": "light"
          }
        }
      ],
      "source": [
        "plt.gcf().set_size_inches(16.5, 13.5)\n",
        "plt.subplot(211)\n",
        "plt.plot(fpr_mlp,tpr_mlp,marker='.',label=\"MLP_PCA_Non-CV, AUC=\"+str(auc_mlp))\n",
        "plt.subplot(211)\n",
        "plt.plot(fpr_xgb,tpr_xgb,linestyle='--',label=\"XGBoost_PCA_Non-CV, AUC=\"+str(auc_xgb))\n",
        "plt.subplot(211)\n",
        "plt.plot(fpr_svc,tpr_svc,linestyle='--',label=\"SVC_PCA_Non-CV, AUC=\"+str(auc_svc))\n",
        "plt.xlabel('False Positive Rate')\n",
        "plt.ylabel('True Positive Rate')\n",
        "plt.title(\"ROC Curve Plot of PCA without Cross-Validation\")\n",
        "plt.legend()"
      ]
    },
    {
      "cell_type": "markdown",
      "metadata": {
        "id": "L949GjFIOLat"
      },
      "source": [
        "## Training Models with PCA X Imputed by Regressor Model and with Cross Validation"
      ]
    },
    {
      "cell_type": "code",
      "execution_count": null,
      "metadata": {
        "id": "GyajZ7Kmg8u-",
        "colab": {
          "base_uri": "https://localhost:8080/"
        },
        "outputId": "c3ca8b5e-9818-40dc-d3a5-fae897f33ec1"
      },
      "outputs": [
        {
          "output_type": "stream",
          "name": "stdout",
          "text": [
            "------------------------------------------------------------------------\n",
            "Training for fold 1 ...\n",
            "Score for fold 1: loss of 0.7082468271255493; accuracy of 75.90909004211426%\n",
            "------------------------------------------------------------------------\n",
            "Training for fold 2 ...\n",
            "Score for fold 2: loss of 0.5655208826065063; accuracy of 78.99543642997742%\n",
            "------------------------------------------------------------------------\n",
            "Training for fold 3 ...\n",
            "Score for fold 3: loss of 0.7324817180633545; accuracy of 78.53881120681763%\n",
            "\n",
            "CR by library method=\n",
            "               precision    recall  f1-score   support\n",
            "\n",
            "           0       0.58      0.66      0.62        58\n",
            "           1       0.87      0.83      0.85       161\n",
            "\n",
            "    accuracy                           0.79       219\n",
            "   macro avg       0.73      0.74      0.73       219\n",
            "weighted avg       0.79      0.79      0.79       219\n",
            "\n"
          ]
        }
      ],
      "source": [
        "\n",
        "# K-fold Cross Validation model evaluation\n",
        "acc_per_fold=[]\n",
        "loss_per_fold=[]\n",
        "inputs =np.array(X_reduced)\n",
        "targets = np.array(y)\n",
        "kfold = KFold(n_splits=3, shuffle=True)\n",
        "fold_no = 1\n",
        "for train, test in kfold.split(inputs, targets):\n",
        "\n",
        "  # Define the model architecture\n",
        "  model = Sequential()\n",
        "  model.add(Dense(58, activation='relu', input_dim=(56)))\n",
        "  model.add(Dense(60, activation='relu'))\n",
        "  model.add(Dense(num_classes, activation='sigmoid'))\n",
        "\n",
        "  # Compile the model\n",
        "  model.compile(loss='binary_crossentropy',\n",
        "              optimizer='RMSprop',\n",
        "              metrics=['accuracy'])\n",
        "\n",
        "\n",
        "  # Generate a print\n",
        "  print('------------------------------------------------------------------------')\n",
        "  print(f'Training for fold {fold_no} ...')\n",
        "\n",
        "  # Fit data to model\n",
        "  history = model.fit(inputs[train], targets[train],\n",
        "              batch_size=batch_size,\n",
        "              epochs=epochs,\n",
        "              verbose=0)\n",
        "  # Generate generalization metrics\n",
        "  scores = model.evaluate(inputs[test], targets[test], verbose=0)\n",
        "  print(f'Score for fold {fold_no}: {model.metrics_names[0]} of {scores[0]}; {model.metrics_names[1]} of {scores[1]*100}%')\n",
        "  acc_per_fold.append(scores[1] * 100)\n",
        "  loss_per_fold.append(scores[0])\n",
        "\n",
        "  # Increase fold number\n",
        "  fold_no = fold_no + 1\n",
        "y_pred=np.round(model.predict(inputs[test])).ravel()\n",
        "print(\"\\nCR by library method=\\n\",\n",
        "          classification_report(targets[test], y_pred))"
      ]
    },
    {
      "cell_type": "code",
      "execution_count": null,
      "metadata": {
        "id": "x0vlCo4dZPrY"
      },
      "outputs": [],
      "source": [
        "# filename = '/content/drive/My Drive/Colab Notebooks/Explainable-AI/Paper-2/models/2-exp/Regressor/MLP/PCA_Cross_Validation/MLP_PCA_Cross_Validation.sav'\n",
        "# pickle.dump(model, open(filename, 'wb')) \n"
      ]
    },
    {
      "cell_type": "code",
      "execution_count": null,
      "metadata": {
        "id": "fRSZFNFSZR9v"
      },
      "outputs": [],
      "source": [
        "loaded_model = pickle.load(open('/content/drive/My Drive/Colab Notebooks/Explainable-AI/Paper-2/models/2-exp/Regressor/MLP/PCA_Cross_Validation/MLP_PCA_Cross_Validation.sav', 'rb'))\n",
        "y_pred = loaded_model.predict(Xtest)\n",
        "fpr_mlp, tpr_mlp, _ = metrics.roc_curve(Ytest, y_pred)\n",
        "auc_mlp = round(metrics.roc_auc_score(Ytest, y_pred), 4)"
      ]
    },
    {
      "cell_type": "code",
      "execution_count": null,
      "metadata": {
        "id": "68rvuSktZW_b",
        "colab": {
          "base_uri": "https://localhost:8080/"
        },
        "outputId": "8ae3d1e2-0705-4af7-e14c-c2a6f7c53e7f"
      },
      "outputs": [
        {
          "output_type": "stream",
          "name": "stdout",
          "text": [
            "\n",
            "CR by library method=\n",
            "               precision    recall  f1-score   support\n",
            "\n",
            "           0       0.86      0.86      0.86        58\n",
            "           1       0.95      0.95      0.95       161\n",
            "\n",
            "    accuracy                           0.93       219\n",
            "   macro avg       0.91      0.91      0.91       219\n",
            "weighted avg       0.93      0.93      0.93       219\n",
            "\n"
          ]
        }
      ],
      "source": [
        "y_pred=np.round(loaded_model.predict(inputs[test])).ravel()\n",
        "print(\"\\nCR by library method=\\n\",\n",
        "          classification_report(targets[test], y_pred))"
      ]
    },
    {
      "cell_type": "code",
      "execution_count": null,
      "metadata": {
        "id": "FKs7va7sZXsE",
        "colab": {
          "base_uri": "https://localhost:8080/"
        },
        "outputId": "46463cc5-0f22-46d6-81aa-0f48bb6e387f"
      },
      "outputs": [
        {
          "output_type": "execute_result",
          "data": {
            "text/plain": [
              "0.9061897622617262"
            ]
          },
          "metadata": {},
          "execution_count": 106
        }
      ],
      "source": [
        "MLP_Regressor_imputed_PCA_Cross_Validation_AUC=metrics.roc_auc_score(targets[test], y_pred)\n",
        "MLP_Regressor_imputed_PCA_Cross_Validation_AUC"
      ]
    },
    {
      "cell_type": "markdown",
      "metadata": {
        "id": "5xkHWV5jOYmE"
      },
      "source": [
        "XGB boost with K-fold cross validation"
      ]
    },
    {
      "cell_type": "code",
      "execution_count": null,
      "metadata": {
        "id": "7XjO3jqzOaIn"
      },
      "outputs": [],
      "source": [
        "# cv = KFold(n_splits=3)\n",
        "# PARAMETERS = {\"subsample\":[0.5, 0.75, 1],\n",
        "#               \"colsample_bytree\":[0.5, 0.75, 1],\n",
        "#               \"max_depth\":[2,5, 6, 12],\n",
        "#               \"min_child_weight\":[1,5,15],\n",
        "#               \"learning_rate\":[0.3, 0.1, 0.03],\n",
        "#               \"n_estimators\":[100,500,1000]}\n",
        "# full = xgb.XGBClassifier(n_estimators=100, n_jobs=-1)\n",
        "# model_gs = GridSearchCV(full,param_grid=PARAMETERS,cv=cv,scoring=\"accuracy\")\n",
        "# model_gs.fit(Xtrain,Ytrain, eval_metric=\"error\",verbose=0)\n",
        "# y_pred=model_gs.predict(Xtest)\n",
        "# print(\"The accuracy is %.2f\"%(accuracy_score(y_pred,Ytest)*100),\"%\")"
      ]
    },
    {
      "cell_type": "code",
      "execution_count": null,
      "metadata": {
        "id": "LvkvmiiqZmOu"
      },
      "outputs": [],
      "source": [
        "# filename = '/content/drive/My Drive/Colab Notebooks/Explainable-AI/Paper-2/models/2-exp/Regressor/XGB/PCA_Cross_Validation/XGB_PCA_Cross_Validation.sav'\n",
        "# pickle.dump(model_gs, open(filename, 'wb')) \n"
      ]
    },
    {
      "cell_type": "code",
      "execution_count": null,
      "metadata": {
        "id": "WeZjC-M-ZmcK"
      },
      "outputs": [],
      "source": [
        "loaded_model = pickle.load(open('/content/drive/My Drive/Colab Notebooks/Explainable-AI/Paper-2/models/2-exp/Regressor/XGB/PCA_Cross_Validation/XGB_PCA_Cross_Validation.sav', 'rb'))\n",
        "y_pred = loaded_model.predict(Xtest)\n",
        "fpr_xgb, tpr_xgb, _ = metrics.roc_curve(Ytest, y_pred)\n",
        "auc_xgb= round(metrics.roc_auc_score(Ytest, y_pred), 4)\n"
      ]
    },
    {
      "cell_type": "code",
      "execution_count": null,
      "metadata": {
        "id": "kuA-4OmARVet",
        "colab": {
          "base_uri": "https://localhost:8080/"
        },
        "outputId": "4cad6a48-ac77-4f11-aeb9-b9b93f726fcb"
      },
      "outputs": [
        {
          "output_type": "stream",
          "name": "stdout",
          "text": [
            "\n",
            "CR by library method=\n",
            "               precision    recall  f1-score   support\n",
            "\n",
            "           0       0.58      0.45      0.51        47\n",
            "           1       0.80      0.87      0.83       118\n",
            "\n",
            "    accuracy                           0.75       165\n",
            "   macro avg       0.69      0.66      0.67       165\n",
            "weighted avg       0.74      0.75      0.74       165\n",
            "\n"
          ]
        }
      ],
      "source": [
        "y_pred=np.round(loaded_model.predict(Xtest)).ravel()\n",
        "print(\"\\nCR by library method=\\n\",\n",
        "          classification_report(Ytest, y_pred))"
      ]
    },
    {
      "cell_type": "code",
      "execution_count": null,
      "metadata": {
        "id": "2VNhvxTXZsWR",
        "colab": {
          "base_uri": "https://localhost:8080/"
        },
        "outputId": "31b670c3-a10a-4867-8f81-df28171cba71"
      },
      "outputs": [
        {
          "output_type": "execute_result",
          "data": {
            "text/plain": [
              "0.75"
            ]
          },
          "metadata": {},
          "execution_count": 111
        }
      ],
      "source": [
        "XGBoost_Regressor_imputed_PCA_Cross_Validation_accuracy=float(classification_report(Ytest, y_pred).split()[15])\n",
        "XGBoost_Regressor_imputed_PCA_Cross_Validation_accuracy"
      ]
    },
    {
      "cell_type": "markdown",
      "metadata": {
        "id": "RqRujHZ4OhUQ"
      },
      "source": [
        "Support Vector Machine with cross validation"
      ]
    },
    {
      "cell_type": "code",
      "execution_count": null,
      "metadata": {
        "id": "pJQHC6mLOkaA"
      },
      "outputs": [],
      "source": [
        "# tuned_parameters =  [{'kernel': ['rbf'], 'gamma': [1e-2, 1e-3, 1e-4, 1e-5],\n",
        "#                      'C': [0.001, 0.10, 0.1, 10, 25, 50, 100, 1000]},\n",
        "#                     {'kernel': ['sigmoid'], 'gamma': [1e-2, 1e-3, 1e-4, 1e-5],\n",
        "#                      'C': [0.001, 0.10, 0.1, 10, 25, 50, 100, 1000] },{'kernel': ['linear'], 'C': [0.001, 0.10, 0.1, 10, 25, 50, 100, 1000]}] \n",
        "# clf = GridSearchCV(SVC(), tuned_parameters, cv=cv,\n",
        "#                        scoring='accuracy')\n",
        "# clf.fit(Xtrain,Ytrain)\n",
        "# y_pred=clf.predict(Xtest)\n",
        "# print(\"The accuracy is %.2f\"%(accuracy_score(y_pred,Ytest)*100),\"%\")"
      ]
    },
    {
      "cell_type": "code",
      "execution_count": null,
      "metadata": {
        "id": "iqT5DgekZ2Q6"
      },
      "outputs": [],
      "source": [
        "# filename = '/content/drive/My Drive/Colab Notebooks/Explainable-AI/Paper-2/models/2-exp/Regressor/SVM/PCA_Cross_Validation/SVM_PCA_Cross_Validation.sav'\n",
        "# pickle.dump(clf, open(filename, 'wb')) \n"
      ]
    },
    {
      "cell_type": "code",
      "execution_count": null,
      "metadata": {
        "id": "tfOoW8obZ2eD"
      },
      "outputs": [],
      "source": [
        "loaded_model = pickle.load(open('/content/drive/My Drive/Colab Notebooks/Explainable-AI/Paper-2/models/2-exp/Regressor/SVM/PCA_Cross_Validation/SVM_PCA_Cross_Validation.sav', 'rb'))\n",
        "y_pred = loaded_model.predict(Xtest)\n",
        "fpr_svc, tpr_svc, _ = metrics.roc_curve(Ytest, y_pred)\n",
        "auc_svc = round(metrics.roc_auc_score(Ytest, y_pred), 4)"
      ]
    },
    {
      "cell_type": "code",
      "execution_count": null,
      "metadata": {
        "id": "kHkUsz3aRdZ0",
        "colab": {
          "base_uri": "https://localhost:8080/"
        },
        "outputId": "0a6c79d8-5d80-45d3-dfe5-888cdd13fc55"
      },
      "outputs": [
        {
          "output_type": "stream",
          "name": "stdout",
          "text": [
            "\n",
            "CR by library method=\n",
            "               precision    recall  f1-score   support\n",
            "\n",
            "           0       0.60      0.62      0.61        47\n",
            "           1       0.85      0.84      0.84       118\n",
            "\n",
            "    accuracy                           0.78       165\n",
            "   macro avg       0.73      0.73      0.73       165\n",
            "weighted avg       0.78      0.78      0.78       165\n",
            "\n"
          ]
        }
      ],
      "source": [
        "y_pred=np.round(loaded_model.predict(Xtest)).ravel()\n",
        "print(\"\\nCR by library method=\\n\",\n",
        "          classification_report(Ytest, y_pred))"
      ]
    },
    {
      "cell_type": "code",
      "execution_count": null,
      "metadata": {
        "id": "-BaI3aIEZ-Db",
        "colab": {
          "base_uri": "https://localhost:8080/"
        },
        "outputId": "ef69395e-0905-4709-ab73-2dad6bd3a8ec"
      },
      "outputs": [
        {
          "output_type": "execute_result",
          "data": {
            "text/plain": [
              "0.78"
            ]
          },
          "metadata": {},
          "execution_count": 116
        }
      ],
      "source": [
        "SVC_Regressor_imputed_PCA_Cross_Validation_accuracy=float(classification_report(Ytest, y_pred).split()[15])\n",
        "SVC_Regressor_imputed_PCA_Cross_Validation_accuracy"
      ]
    },
    {
      "cell_type": "code",
      "execution_count": null,
      "metadata": {
        "id": "14N_9m_ZaGJw",
        "colab": {
          "base_uri": "https://localhost:8080/",
          "height": 494
        },
        "outputId": "dde5ff0b-6492-41b5-9e6b-828e1a134daa"
      },
      "outputs": [
        {
          "output_type": "stream",
          "name": "stderr",
          "text": [
            "/usr/local/lib/python3.7/dist-packages/ipykernel_launcher.py:4: MatplotlibDeprecationWarning: Adding an axes using the same arguments as a previous axes currently reuses the earlier instance.  In a future version, a new instance will always be created and returned.  Meanwhile, this warning can be suppressed, and the future behavior ensured, by passing a unique label to each axes instance.\n",
            "  after removing the cwd from sys.path.\n",
            "/usr/local/lib/python3.7/dist-packages/ipykernel_launcher.py:6: MatplotlibDeprecationWarning: Adding an axes using the same arguments as a previous axes currently reuses the earlier instance.  In a future version, a new instance will always be created and returned.  Meanwhile, this warning can be suppressed, and the future behavior ensured, by passing a unique label to each axes instance.\n",
            "  \n"
          ]
        },
        {
          "output_type": "execute_result",
          "data": {
            "text/plain": [
              "<matplotlib.legend.Legend at 0x7f976c270fd0>"
            ]
          },
          "metadata": {},
          "execution_count": 117
        },
        {
          "output_type": "display_data",
          "data": {
            "text/plain": [
              "<Figure size 1188x972 with 1 Axes>"
            ],
            "image/png": "[encoded data removed]"
          },
          "metadata": {
            "needs_background": "light"
          }
        }
      ],
      "source": [
        "plt.gcf().set_size_inches(16.5, 13.5)\n",
        "plt.subplot(211)\n",
        "plt.plot(fpr_mlp,tpr_mlp,linestyle='--',label=\"MLP_PCA_CV, AUC=\"+str(auc_mlp))\n",
        "plt.subplot(211)\n",
        "plt.plot(fpr_xgb,tpr_xgb,linestyle='--',label=\"XGBoost_PCA_CV, AUC=\"+str(auc_xgb))\n",
        "plt.subplot(211)\n",
        "plt.plot(fpr_svc,tpr_svc,linestyle='--',label=\"SVC_PCA_CV, AUC=\"+str(auc_svc))\n",
        "plt.xlabel('False Positive Rate')\n",
        "plt.ylabel('True Positive Rate')\n",
        "plt.title(\"ROC Curve Plot of PCA with Cross-Validation\")\n",
        "plt.legend()"
      ]
    },
    {
      "cell_type": "markdown",
      "metadata": {
        "id": "SSJ4RbfFPZqw"
      },
      "source": [
        "# Training Models with Non-PCA X Imputed by Regressor Model and without Cross Validation"
      ]
    },
    {
      "cell_type": "code",
      "execution_count": null,
      "metadata": {
        "id": "tR_6bov5PpFF"
      },
      "outputs": [],
      "source": [
        "Xtrain,Xtest,Ytrain,Ytest=train_test_split(X,y,random_state=42,stratify=y)"
      ]
    },
    {
      "cell_type": "code",
      "execution_count": null,
      "metadata": {
        "id": "wAv86yUCP9Ow"
      },
      "outputs": [],
      "source": [
        "# m = Sequential()\n",
        "# m.add(Dense(216, activation='relu', input_dim=(214)))\n",
        "# m.add(Dense(218, activation='relu'))\n",
        "# # m.add(Dense(128, activation='relu'))\n",
        "# # m.add(Dense(64, activation='relu'))\n",
        "# m.add(Dense(num_classes, activation='sigmoid'))"
      ]
    },
    {
      "cell_type": "code",
      "execution_count": null,
      "metadata": {
        "id": "KQgQzDRxP-38"
      },
      "outputs": [],
      "source": [
        "# m.compile(loss='binary_crossentropy',\n",
        "#               optimizer='RMSprop',\n",
        "#               metrics=['accuracy'])\n",
        "# history = m.fit(Xtrain, Ytrain,batch_size=batch_size,epochs=epochs,verbose=0,\n",
        "#                     validation_data=(Xtest, Ytest))"
      ]
    },
    {
      "cell_type": "code",
      "execution_count": null,
      "metadata": {
        "id": "Aorxvu01QELJ"
      },
      "outputs": [],
      "source": [
        "# loss,accuracy=m.evaluate(Xtest,Ytest)\n",
        "# print(\"Accuracy: %.2f\"%(accuracy*100),\"%\")"
      ]
    },
    {
      "cell_type": "code",
      "execution_count": null,
      "metadata": {
        "id": "0bJGCAvReuUp"
      },
      "outputs": [],
      "source": [
        "# filename = '/content/drive/My Drive/Colab Notebooks/Explainable-AI/Paper-2/models/2-exp/Regressor/MLP/Non_PCA_Without_Cross_Validation/MLP_Non_PCA_Without_Cross_Validation.sav'\n",
        "# pickle.dump(m, open(filename, 'wb')) \n"
      ]
    },
    {
      "cell_type": "code",
      "execution_count": null,
      "metadata": {
        "id": "u5znvZyQeues"
      },
      "outputs": [],
      "source": [
        "loaded_model = pickle.load(open('/content/drive/My Drive/Colab Notebooks/Explainable-AI/Paper-2/models/2-exp/Regressor/MLP/Non_PCA_Without_Cross_Validation/MLP_Non_PCA_Without_Cross_Validation.sav', 'rb'))\n",
        "y_pred = loaded_model.predict(Xtest)\n",
        "fpr_mlp, tpr_mlp, _ = metrics.roc_curve(Ytest, y_pred)\n",
        "auc_mlp = round(metrics.roc_auc_score(Ytest, y_pred), 4)"
      ]
    },
    {
      "cell_type": "code",
      "execution_count": null,
      "metadata": {
        "id": "QkSPCw_iRkD3",
        "colab": {
          "base_uri": "https://localhost:8080/"
        },
        "outputId": "9a6d5f8a-db98-460c-e49a-9c050ecd6a56"
      },
      "outputs": [
        {
          "output_type": "stream",
          "name": "stdout",
          "text": [
            "\n",
            "CR by library method=\n",
            "               precision    recall  f1-score   support\n",
            "\n",
            "           0       0.62      0.62      0.62        47\n",
            "           1       0.85      0.85      0.85       118\n",
            "\n",
            "    accuracy                           0.78       165\n",
            "   macro avg       0.73      0.73      0.73       165\n",
            "weighted avg       0.78      0.78      0.78       165\n",
            "\n"
          ]
        }
      ],
      "source": [
        "y_pred=np.round(loaded_model.predict(Xtest)).ravel()\n",
        "print(\"\\nCR by library method=\\n\",\n",
        "          classification_report(Ytest, y_pred))"
      ]
    },
    {
      "cell_type": "code",
      "execution_count": null,
      "metadata": {
        "id": "AnAgIAe1e3G5",
        "colab": {
          "base_uri": "https://localhost:8080/"
        },
        "outputId": "eb20dd60-cb8b-4d0f-a99b-703db8817498"
      },
      "outputs": [
        {
          "output_type": "execute_result",
          "data": {
            "text/plain": [
              "0.78"
            ]
          },
          "metadata": {},
          "execution_count": 125
        }
      ],
      "source": [
        "MLP_Regressor_imputed_Non_PCA_Non_Cross_accuracy=float(classification_report(Ytest, y_pred).split()[15])\n",
        "MLP_Regressor_imputed_Non_PCA_Non_Cross_accuracy"
      ]
    },
    {
      "cell_type": "markdown",
      "metadata": {
        "id": "X0YY8udrQM9o"
      },
      "source": [
        "XGB boost without K-fold cross validation\n"
      ]
    },
    {
      "cell_type": "code",
      "execution_count": null,
      "metadata": {
        "id": "Z2axu29CQSMw"
      },
      "outputs": [],
      "source": [
        "# full_boost=xgb.XGBClassifier(learning_rate =0.1,\n",
        "#  n_estimators=1000,\n",
        "#  max_depth=5,\n",
        "#  min_child_weight=1,\n",
        "#  gamma=0,\n",
        "#  subsample=0.8,\n",
        "#  colsample_bytree=0.8,\n",
        "#  objective= 'binary:logistic',\n",
        "#  nthread=4,\n",
        "#  scale_pos_weight=1,\n",
        "#  seed=27)\n",
        "# full_boost.fit(np.array(Xtrain), Ytrain)\n",
        "# y_pred=full_boost.predict(np.array(Xtest))\n",
        "# print(\"The accuracy is %.2f\"%(accuracy_score(y_pred,Ytest)*100),\"%\")"
      ]
    },
    {
      "cell_type": "code",
      "execution_count": null,
      "metadata": {
        "id": "uBQa4quZfapy"
      },
      "outputs": [],
      "source": [
        "# filename = '/content/drive/My Drive/Colab Notebooks/Explainable-AI/Paper-2/models/2-exp/Regressor/XGB/Non_PCA_Without_Cross_Validation/XGB_Non_PCA_Without_Cross_Validation.sav' \n",
        "# pickle.dump(full_boost, open(filename, 'wb')) \n"
      ]
    },
    {
      "cell_type": "code",
      "execution_count": null,
      "metadata": {
        "id": "L3iIeOlCfbIq"
      },
      "outputs": [],
      "source": [
        "loadedmodel = pickle.load(open('/content/drive/My Drive/Colab Notebooks/Explainable-AI/Paper-2/models/2-exp/Regressor/XGB/Non_PCA_Without_Cross_Validation/XGB_Non_PCA_Without_Cross_Validation.sav', 'rb'))\n",
        "y_pred = loadedmodel.predict(np.array(Xtest))\n",
        "fpr_xgb, tpr_xgb, _ = metrics.roc_curve(Ytest, y_pred)\n",
        "auc_xgb = round(metrics.roc_auc_score(Ytest, y_pred), 4)\n"
      ]
    },
    {
      "cell_type": "code",
      "execution_count": null,
      "metadata": {
        "id": "Lx0JgT4MRoUE",
        "colab": {
          "base_uri": "https://localhost:8080/"
        },
        "outputId": "4babc26f-fef7-4a81-f403-a2739a04b729"
      },
      "outputs": [
        {
          "output_type": "stream",
          "name": "stdout",
          "text": [
            "\n",
            "CR by library method=\n",
            "               precision    recall  f1-score   support\n",
            "\n",
            "           0       0.55      0.51      0.53        47\n",
            "           1       0.81      0.83      0.82       118\n",
            "\n",
            "    accuracy                           0.74       165\n",
            "   macro avg       0.68      0.67      0.67       165\n",
            "weighted avg       0.73      0.74      0.74       165\n",
            "\n"
          ]
        }
      ],
      "source": [
        "y_pred=np.round(loadedmodel.predict(np.array(Xtest))).ravel()\n",
        "print(\"\\nCR by library method=\\n\",\n",
        "          classification_report(Ytest, y_pred))"
      ]
    },
    {
      "cell_type": "code",
      "execution_count": null,
      "metadata": {
        "id": "7s6V7DthfhZw",
        "colab": {
          "base_uri": "https://localhost:8080/"
        },
        "outputId": "8ed79562-a560-4add-c4ad-908eebd80efa"
      },
      "outputs": [
        {
          "output_type": "execute_result",
          "data": {
            "text/plain": [
              "0.74"
            ]
          },
          "metadata": {},
          "execution_count": 130
        }
      ],
      "source": [
        "XGBoost_Regressor_imputed_Non_PCA_Non_Cross_accuracy=float(classification_report(Ytest, y_pred).split()[15])\n",
        "XGBoost_Regressor_imputed_Non_PCA_Non_Cross_accuracy"
      ]
    },
    {
      "cell_type": "code",
      "execution_count": null,
      "metadata": {
        "id": "BXhwRdXMgtYV",
        "colab": {
          "base_uri": "https://localhost:8080/"
        },
        "outputId": "6cdcbefb-4323-45f0-d71d-ccaf4440a8d6"
      },
      "outputs": [
        {
          "output_type": "execute_result",
          "data": {
            "text/plain": [
              "(165, 214)"
            ]
          },
          "metadata": {},
          "execution_count": 131
        }
      ],
      "source": [
        "Xtest.shape"
      ]
    },
    {
      "cell_type": "markdown",
      "metadata": {
        "id": "4SMkCC2PQWB8"
      },
      "source": [
        "Support Vector Machine with cross validation"
      ]
    },
    {
      "cell_type": "code",
      "execution_count": null,
      "metadata": {
        "id": "wVuf6NWRQa1w"
      },
      "outputs": [],
      "source": [
        "# clf=SVC()\n",
        "# clf.fit(Xtrain,Ytrain)\n",
        "# y_pred=clf.predict(Xtest)\n",
        "# print(\"The accuracy is %.2f\"%(accuracy_score(y_pred,Ytest)*100),\"%\")"
      ]
    },
    {
      "cell_type": "code",
      "execution_count": null,
      "metadata": {
        "id": "KCWmxd2_f77Y"
      },
      "outputs": [],
      "source": [
        "# filename = '/content/drive/My Drive/Colab Notebooks/Explainable-AI/Paper-2/models/2-exp/Regressor/SVM/Non_PCA_Without_Cross_Validation/SVM_Non_PCA_Without_Cross_Validation.sav'\n",
        "# pickle.dump(clf, open(filename, 'wb')) \n"
      ]
    },
    {
      "cell_type": "code",
      "execution_count": null,
      "metadata": {
        "id": "EdSksc51f8j0"
      },
      "outputs": [],
      "source": [
        "loaded_model = pickle.load(open('/content/drive/My Drive/Colab Notebooks/Explainable-AI/Paper-2/models/2-exp/Regressor/SVM/Non_PCA_Without_Cross_Validation/SVM_Non_PCA_Without_Cross_Validation.sav', 'rb'))\n",
        "y_pred = loaded_model.predict(Xtest)\n",
        "fpr_svc, tpr_svc, _ = metrics.roc_curve(Ytest, y_pred)\n",
        "auc_svc = round(metrics.roc_auc_score(Ytest, y_pred), 4)"
      ]
    },
    {
      "cell_type": "code",
      "execution_count": null,
      "metadata": {
        "id": "azf9_BbgRtLd",
        "colab": {
          "base_uri": "https://localhost:8080/"
        },
        "outputId": "4a3cdc85-4bfd-4872-f715-5ce09b9c0ba8"
      },
      "outputs": [
        {
          "output_type": "stream",
          "name": "stdout",
          "text": [
            "\n",
            "CR by library method=\n",
            "               precision    recall  f1-score   support\n",
            "\n",
            "           0       0.59      0.51      0.55        47\n",
            "           1       0.81      0.86      0.83       118\n",
            "\n",
            "    accuracy                           0.76       165\n",
            "   macro avg       0.70      0.68      0.69       165\n",
            "weighted avg       0.75      0.76      0.75       165\n",
            "\n"
          ]
        }
      ],
      "source": [
        "y_pred=np.round(loaded_model.predict(Xtest)).ravel()\n",
        "print(\"\\nCR by library method=\\n\",\n",
        "          classification_report(Ytest, y_pred))"
      ]
    },
    {
      "cell_type": "code",
      "execution_count": null,
      "metadata": {
        "id": "tsiq-8mohbzS",
        "colab": {
          "base_uri": "https://localhost:8080/"
        },
        "outputId": "c3216269-8b65-4908-dc59-677930bb0d79"
      },
      "outputs": [
        {
          "output_type": "execute_result",
          "data": {
            "text/plain": [
              "0.76"
            ]
          },
          "metadata": {},
          "execution_count": 136
        }
      ],
      "source": [
        "SVC_Regressor_imputed_Non_PCA_Non_Cross_accuracy=float(classification_report(Ytest, y_pred).split()[15])\n",
        "SVC_Regressor_imputed_Non_PCA_Non_Cross_accuracy"
      ]
    },
    {
      "cell_type": "code",
      "execution_count": null,
      "metadata": {
        "id": "VB9A5JFNhucd",
        "colab": {
          "base_uri": "https://localhost:8080/",
          "height": 494
        },
        "outputId": "89745d6d-1c28-4c33-eb39-d8a0d941963a"
      },
      "outputs": [
        {
          "output_type": "stream",
          "name": "stderr",
          "text": [
            "/usr/local/lib/python3.7/dist-packages/ipykernel_launcher.py:4: MatplotlibDeprecationWarning: Adding an axes using the same arguments as a previous axes currently reuses the earlier instance.  In a future version, a new instance will always be created and returned.  Meanwhile, this warning can be suppressed, and the future behavior ensured, by passing a unique label to each axes instance.\n",
            "  after removing the cwd from sys.path.\n",
            "/usr/local/lib/python3.7/dist-packages/ipykernel_launcher.py:6: MatplotlibDeprecationWarning: Adding an axes using the same arguments as a previous axes currently reuses the earlier instance.  In a future version, a new instance will always be created and returned.  Meanwhile, this warning can be suppressed, and the future behavior ensured, by passing a unique label to each axes instance.\n",
            "  \n"
          ]
        },
        {
          "output_type": "execute_result",
          "data": {
            "text/plain": [
              "<matplotlib.legend.Legend at 0x7f976b6b9650>"
            ]
          },
          "metadata": {},
          "execution_count": 137
        },
        {
          "output_type": "display_data",
          "data": {
            "text/plain": [
              "<Figure size 1188x972 with 1 Axes>"
            ],
            "image/png": "[encoded data removed]"
          },
          "metadata": {
            "needs_background": "light"
          }
        }
      ],
      "source": [
        "plt.gcf().set_size_inches(16.5, 13.5)\n",
        "plt.subplot(211)\n",
        "plt.plot(fpr_mlp,tpr_mlp, linestyle='--',label=\"MLP_Non-PCA_Non-CV, AUC=\"+str(auc_mlp))\n",
        "plt.subplot(211)\n",
        "plt.plot(fpr_xgb,tpr_xgb, linestyle='--',label=\"XGBoost_Non-PCA_Non-CV, AUC=\"+str(auc_xgb))\n",
        "plt.subplot(211)\n",
        "plt.plot(fpr_svc,tpr_svc, linestyle='--',label=\"SVC_Non-PCA_Non-CV, AUC=\"+str(auc_svc))\n",
        "plt.xlabel('False Positive Rate')\n",
        "plt.ylabel('True Positive Rate')\n",
        "plt.title(\"ROC Curve Plot of Non-PCA without Cross-Validation\")\n",
        "plt.legend()"
      ]
    },
    {
      "cell_type": "markdown",
      "metadata": {
        "id": "FL7Agq59QirZ"
      },
      "source": [
        "## Training Models with Non-PCA X Imputed by Regressor Model and with Cross Validation"
      ]
    },
    {
      "cell_type": "code",
      "execution_count": null,
      "metadata": {
        "id": "Y8_S-Qo8hUiT",
        "colab": {
          "base_uri": "https://localhost:8080/"
        },
        "outputId": "9dc5d084-dcdc-4de4-8c91-f5914fcb6b24"
      },
      "outputs": [
        {
          "output_type": "stream",
          "name": "stdout",
          "text": [
            "------------------------------------------------------------------------\n",
            "Training for fold 1 ...\n",
            "Score for fold 1: loss of 0.6136958003044128; accuracy of 82.27272629737854%\n",
            "------------------------------------------------------------------------\n",
            "Training for fold 2 ...\n",
            "Score for fold 2: loss of 0.8867802023887634; accuracy of 76.7123281955719%\n",
            "------------------------------------------------------------------------\n",
            "Training for fold 3 ...\n",
            "Score for fold 3: loss of 0.821671187877655; accuracy of 76.7123281955719%\n",
            "\n",
            "CR by library method=\n",
            "               precision    recall  f1-score   support\n",
            "\n",
            "           0       0.64      0.47      0.54        64\n",
            "           1       0.80      0.89      0.84       155\n",
            "\n",
            "    accuracy                           0.77       219\n",
            "   macro avg       0.72      0.68      0.69       219\n",
            "weighted avg       0.75      0.77      0.76       219\n",
            "\n"
          ]
        }
      ],
      "source": [
        "\n",
        "# K-fold Cross Validation model evaluation\n",
        "acc_per_fold=[]\n",
        "loss_per_fold=[]\n",
        "inputs =np.array(X)\n",
        "targets = np.array(y)\n",
        "kfold = KFold(n_splits=3, shuffle=True)\n",
        "fold_no = 1\n",
        "for train, test in kfold.split(inputs, targets):\n",
        "\n",
        "  # Define the model architecture\n",
        "  model = Sequential()\n",
        "  model.add(Dense(216, activation='relu', input_dim=(214)))\n",
        "  model.add(Dense(218, activation='relu'))\n",
        "  model.add(Dense(num_classes, activation='sigmoid'))\n",
        "\n",
        "  # Compile the model\n",
        "  model.compile(loss='binary_crossentropy',\n",
        "              optimizer='RMSprop',\n",
        "              metrics=['accuracy'])\n",
        "\n",
        "\n",
        "  # Generate a print\n",
        "  print('------------------------------------------------------------------------')\n",
        "  print(f'Training for fold {fold_no} ...')\n",
        "\n",
        "  # Fit data to model\n",
        "  history = model.fit(inputs[train], targets[train],\n",
        "              batch_size=batch_size,\n",
        "              epochs=epochs,\n",
        "              verbose=0)\n",
        "  # Generate generalization metrics\n",
        "  scores = model.evaluate(inputs[test], targets[test], verbose=0)\n",
        "  print(f'Score for fold {fold_no}: {model.metrics_names[0]} of {scores[0]}; {model.metrics_names[1]} of {scores[1]*100}%')\n",
        "  acc_per_fold.append(scores[1] * 100)\n",
        "  loss_per_fold.append(scores[0])\n",
        "\n",
        "  # Increase fold number\n",
        "  fold_no = fold_no + 1\n",
        "y_pred=np.round(model.predict(inputs[test])).ravel()\n",
        "print(\"\\nCR by library method=\\n\",\n",
        "          classification_report(targets[test], y_pred))"
      ]
    },
    {
      "cell_type": "code",
      "execution_count": null,
      "metadata": {
        "id": "JUSeW6wDh5X9"
      },
      "outputs": [],
      "source": [
        "# filename = '/content/drive/My Drive/Colab Notebooks/Explainable-AI/Paper-2/models/2-exp/Regressor/MLP/Non_PCA_Cross_Validation/MLP_Non_PCA_Cross_Validation.sav'\n",
        "# pickle.dump(model, open(filename, 'wb')) \n"
      ]
    },
    {
      "cell_type": "code",
      "execution_count": null,
      "metadata": {
        "id": "UnsVHcbAh5nh"
      },
      "outputs": [],
      "source": [
        "loaded_model = pickle.load(open('/content/drive/My Drive/Colab Notebooks/Explainable-AI/Paper-2/models/2-exp/Regressor/MLP/Non_PCA_Cross_Validation/MLP_Non_PCA_Cross_Validation.sav', 'rb'))\n",
        "y_pred = loaded_model.predict(Xtest)\n",
        "fpr_mlp, tpr_mlp, _ = metrics.roc_curve(Ytest, y_pred)\n",
        "auc_mlp = round(metrics.roc_auc_score(Ytest, y_pred), 4)"
      ]
    },
    {
      "cell_type": "code",
      "execution_count": null,
      "metadata": {
        "id": "iL3LisJqiDk5",
        "colab": {
          "base_uri": "https://localhost:8080/"
        },
        "outputId": "49349f3e-d153-4277-895f-c8e9b1efafff"
      },
      "outputs": [
        {
          "output_type": "stream",
          "name": "stdout",
          "text": [
            "\n",
            "CR by library method=\n",
            "               precision    recall  f1-score   support\n",
            "\n",
            "           0       0.89      0.84      0.86        64\n",
            "           1       0.94      0.95      0.95       155\n",
            "\n",
            "    accuracy                           0.92       219\n",
            "   macro avg       0.91      0.90      0.90       219\n",
            "weighted avg       0.92      0.92      0.92       219\n",
            "\n"
          ]
        }
      ],
      "source": [
        "y_pred=np.round(loaded_model.predict(inputs[test])).ravel()\n",
        "print(\"\\nCR by library method=\\n\",\n",
        "          classification_report(targets[test], y_pred))"
      ]
    },
    {
      "cell_type": "code",
      "execution_count": null,
      "metadata": {
        "id": "45LpJNDNiD-t",
        "colab": {
          "base_uri": "https://localhost:8080/"
        },
        "outputId": "04072321-5b65-406d-879b-505a6dfc8697"
      },
      "outputs": [
        {
          "output_type": "execute_result",
          "data": {
            "text/plain": [
              "0.92"
            ]
          },
          "metadata": {},
          "execution_count": 142
        }
      ],
      "source": [
        "MLP_Regressor_imputed_Non_PCA_Cross_Validation_accuracy=float((classification_report(targets[test], y_pred)).split()[15])\n",
        "MLP_Regressor_imputed_Non_PCA_Cross_Validation_accuracy"
      ]
    },
    {
      "cell_type": "markdown",
      "metadata": {
        "id": "azHC80XtQw58"
      },
      "source": [
        "XGB boost with K-fold cross validation"
      ]
    },
    {
      "cell_type": "code",
      "execution_count": null,
      "metadata": {
        "id": "uaGp62ocQyXA"
      },
      "outputs": [],
      "source": [
        "# cv = KFold(n_splits=2)\n",
        "# PARAMETERS = {\"subsample\":[0.5, 0.75, 1],\n",
        "#               \"colsample_bytree\":[0.5, 0.75, 1],\n",
        "#               \"max_depth\":[2,5, 6, 12],\n",
        "#               \"min_child_weight\":[1,5,15],\n",
        "#               \"learning_rate\":[0.3, 0.1, 0.03],\n",
        "#               \"n_estimators\":[100,500,1000]}\n",
        "# full = xgb.XGBClassifier(n_estimators=100, n_jobs=-1)\n",
        "# model_gs = GridSearchCV(full,param_grid=PARAMETERS,cv=cv,scoring=\"accuracy\")\n",
        "# model_gs.fit(np.array(Xtrain),Ytrain, eval_metric=\"error\",verbose=0)\n",
        "# y_pred=model_gs.predict(np.array(Xtest))\n",
        "# print(\"The accuracy is %.2f\"%(accuracy_score(y_pred,Ytest)*100),\"%\")"
      ]
    },
    {
      "cell_type": "code",
      "execution_count": null,
      "metadata": {
        "id": "2x-etKuKid3H"
      },
      "outputs": [],
      "source": [
        "# filename = '/content/drive/My Drive/Colab Notebooks/Explainable-AI/Paper-2/models/2-exp/Regressor/XGB/Non_PCA_Cross_Validation/XGB_Non_PCA_Cross_Validation.sav'\n",
        "# pickle.dump(model_gs, open(filename, 'wb')) \n"
      ]
    },
    {
      "cell_type": "code",
      "execution_count": null,
      "metadata": {
        "id": "Cf0qyDhFieGG"
      },
      "outputs": [],
      "source": [
        "loadedmodel = pickle.load(open('/content/drive/My Drive/Colab Notebooks/Explainable-AI/Paper-2/models/2-exp/Regressor/XGB/Non_PCA_Cross_Validation/XGB_Non_PCA_Cross_Validation.sav', 'rb'))\n",
        "y_pred = loadedmodel.predict(np.array(Xtest))\n",
        "fpr_xgb, tpr_xgb, _ = metrics.roc_curve(Ytest, y_pred)\n",
        "auc_xgb = round(metrics.roc_auc_score(Ytest, y_pred), 4)"
      ]
    },
    {
      "cell_type": "code",
      "execution_count": null,
      "metadata": {
        "id": "eRIU06UQRvYJ",
        "colab": {
          "base_uri": "https://localhost:8080/"
        },
        "outputId": "3f56fe98-0bdb-4d67-aa0d-2b9ae5be78e3"
      },
      "outputs": [
        {
          "output_type": "stream",
          "name": "stdout",
          "text": [
            "\n",
            "CR by library method=\n",
            "               precision    recall  f1-score   support\n",
            "\n",
            "           0       0.54      0.45      0.49        47\n",
            "           1       0.79      0.85      0.82       118\n",
            "\n",
            "    accuracy                           0.73       165\n",
            "   macro avg       0.67      0.65      0.65       165\n",
            "weighted avg       0.72      0.73      0.73       165\n",
            "\n"
          ]
        }
      ],
      "source": [
        "y_pred=np.round(loadedmodel.predict(np.array(Xtest))).ravel()\n",
        "print(\"\\nCR by library method=\\n\",\n",
        "          classification_report(Ytest, y_pred))"
      ]
    },
    {
      "cell_type": "code",
      "execution_count": null,
      "metadata": {
        "id": "zi3LJuqviof1",
        "colab": {
          "base_uri": "https://localhost:8080/"
        },
        "outputId": "746cad3b-d11a-45ce-feb7-72f6bcdd7f3b"
      },
      "outputs": [
        {
          "output_type": "execute_result",
          "data": {
            "text/plain": [
              "0.73"
            ]
          },
          "metadata": {},
          "execution_count": 147
        }
      ],
      "source": [
        "XGBoost_Regressor_imputed_Non_PCA_Cross_Validation_accuracy=float(classification_report(Ytest, y_pred).split()[15])\n",
        "XGBoost_Regressor_imputed_Non_PCA_Cross_Validation_accuracy"
      ]
    },
    {
      "cell_type": "markdown",
      "metadata": {
        "id": "Io4hqRoFQ2Nr"
      },
      "source": [
        "Support Vector Machine with cross validation"
      ]
    },
    {
      "cell_type": "code",
      "execution_count": null,
      "metadata": {
        "id": "UOwVApsCQ7WY"
      },
      "outputs": [],
      "source": [
        "# tuned_parameters =  [{'kernel': ['rbf'], 'gamma': [1e-2, 1e-3, 1e-4, 1e-5],\n",
        "#                      'C': [0.001, 0.10, 0.1, 10, 25, 50, 100, 1000]},\n",
        "#                     {'kernel': ['sigmoid'], 'gamma': [1e-2, 1e-3, 1e-4, 1e-5],\n",
        "#                      'C': [0.001, 0.10, 0.1, 10, 25, 50, 100, 1000] },{'kernel': ['linear'], 'C': [0.001, 0.10, 0.1, 10, 25, 50, 100, 1000]}] \n",
        "# clf = GridSearchCV(SVC(), tuned_parameters, cv=cv,\n",
        "#                        scoring='accuracy')\n",
        "# clf.fit(Xtrain,Ytrain)\n",
        "# y_pred=clf.predict(Xtest)\n",
        "# print(\"The accuracy is %.2f\"%(accuracy_score(y_pred,Ytest)*100),\"%\")"
      ]
    },
    {
      "cell_type": "code",
      "execution_count": null,
      "metadata": {
        "id": "3uDDeGE8i2we"
      },
      "outputs": [],
      "source": [
        "# filename = '/content/drive/My Drive/Colab Notebooks/Explainable-AI/Paper-2/models/2-exp/Regressor/SVM/Non_PCA_Cross_Validation/SVM_Non_PCA_Cross_Validation.sav'\n",
        "# pickle.dump(clf, open(filename, 'wb')) \n"
      ]
    },
    {
      "cell_type": "code",
      "execution_count": null,
      "metadata": {
        "id": "pQvKe2ZSi26G"
      },
      "outputs": [],
      "source": [
        "loaded_model = pickle.load(open('/content/drive/My Drive/Colab Notebooks/Explainable-AI/Paper-2/models/2-exp/Regressor/SVM/Non_PCA_Cross_Validation/SVM_Non_PCA_Cross_Validation.sav', 'rb'))\n",
        "y_pred = loaded_model.predict(Xtest)\n",
        "fpr_svc, tpr_svc, _ = metrics.roc_curve(Ytest, y_pred)\n",
        "auc_svc = round(metrics.roc_auc_score(Ytest, y_pred), 4)"
      ]
    },
    {
      "cell_type": "code",
      "execution_count": null,
      "metadata": {
        "id": "cPQ4O-C9RyLa",
        "colab": {
          "base_uri": "https://localhost:8080/"
        },
        "outputId": "e897c4d0-64c1-4cc6-d77b-a76075d825db"
      },
      "outputs": [
        {
          "output_type": "stream",
          "name": "stdout",
          "text": [
            "\n",
            "CR by library method=\n",
            "               precision    recall  f1-score   support\n",
            "\n",
            "           0       0.60      0.51      0.55        47\n",
            "           1       0.82      0.86      0.84       118\n",
            "\n",
            "    accuracy                           0.76       165\n",
            "   macro avg       0.71      0.69      0.70       165\n",
            "weighted avg       0.75      0.76      0.76       165\n",
            "\n"
          ]
        }
      ],
      "source": [
        "y_pred=np.round(loaded_model.predict(Xtest)).ravel()\n",
        "print(\"\\nCR by library method=\\n\",\n",
        "          classification_report(Ytest, y_pred))"
      ]
    },
    {
      "cell_type": "code",
      "execution_count": null,
      "metadata": {
        "colab": {
          "base_uri": "https://localhost:8080/"
        },
        "id": "Z2OPqY_PjK4q",
        "outputId": "379daa51-3b1c-4ca3-866b-cb7a7e7a67b4"
      },
      "outputs": [
        {
          "output_type": "execute_result",
          "data": {
            "text/plain": [
              "0.76"
            ]
          },
          "metadata": {},
          "execution_count": 152
        }
      ],
      "source": [
        "SVC_Regressor_imputed_Non_PCA_Cross_Validation_accuracy=float(classification_report(Ytest, y_pred).split()[15])\n",
        "SVC_Regressor_imputed_Non_PCA_Cross_Validation_accuracy"
      ]
    },
    {
      "cell_type": "code",
      "execution_count": null,
      "metadata": {
        "colab": {
          "base_uri": "https://localhost:8080/",
          "height": 494
        },
        "id": "whfbwDhAjLLH",
        "outputId": "86936b4f-96ec-4d50-a668-501c7aa21c0c"
      },
      "outputs": [
        {
          "output_type": "stream",
          "name": "stderr",
          "text": [
            "/usr/local/lib/python3.7/dist-packages/ipykernel_launcher.py:4: MatplotlibDeprecationWarning: Adding an axes using the same arguments as a previous axes currently reuses the earlier instance.  In a future version, a new instance will always be created and returned.  Meanwhile, this warning can be suppressed, and the future behavior ensured, by passing a unique label to each axes instance.\n",
            "  after removing the cwd from sys.path.\n",
            "/usr/local/lib/python3.7/dist-packages/ipykernel_launcher.py:6: MatplotlibDeprecationWarning: Adding an axes using the same arguments as a previous axes currently reuses the earlier instance.  In a future version, a new instance will always be created and returned.  Meanwhile, this warning can be suppressed, and the future behavior ensured, by passing a unique label to each axes instance.\n",
            "  \n"
          ]
        },
        {
          "output_type": "execute_result",
          "data": {
            "text/plain": [
              "<matplotlib.legend.Legend at 0x7f976c157510>"
            ]
          },
          "metadata": {},
          "execution_count": 153
        },
        {
          "output_type": "display_data",
          "data": {
            "text/plain": [
              "<Figure size 1188x972 with 1 Axes>"
            ],
            "image/png": "[encoded data removed]"
          },
          "metadata": {
            "needs_background": "light"
          }
        }
      ],
      "source": [
        "plt.gcf().set_size_inches(16.5, 13.5)\n",
        "plt.subplot(211)\n",
        "plt.plot(fpr_mlp,tpr_mlp, linestyle='--',label=\"MLP_Non-PCA_CV, AUC=\"+str(auc_mlp))\n",
        "plt.subplot(211)\n",
        "plt.plot(fpr_xgb,tpr_xgb, linestyle='--',label=\"XGBoost_Non-PCA_CV, AUC=\"+str(auc_xgb))\n",
        "plt.subplot(211)\n",
        "plt.plot(fpr_svc,tpr_svc, linestyle='--',label=\"SVC_Non-PCA_CV, AUC=\"+str(auc_svc))\n",
        "plt.xlabel('False Positive Rate')\n",
        "plt.ylabel('True Positive Rate')\n",
        "plt.title(\"ROC Curve Plot of Non-PCA with Cross-Validation\")\n",
        "plt.legend()"
      ]
    },
    {
      "cell_type": "markdown",
      "metadata": {
        "id": "5Ra74Zy0RCJc"
      },
      "source": [
        "### Joining and Scaling Data Imputed by the Multivariate Imputation method\n"
      ]
    },
    {
      "cell_type": "code",
      "execution_count": null,
      "metadata": {
        "id": "aTtuudSXXvlL"
      },
      "outputs": [],
      "source": [
        "multivariate_scaled=StandardScaler().fit_transform(num_df)\n",
        "multivariate_imputed_df=pd.DataFrame(multivariate_scaled, columns=numeric_data.columns)"
      ]
    },
    {
      "cell_type": "code",
      "execution_count": null,
      "metadata": {
        "id": "0pvLQ4S3WVWY"
      },
      "outputs": [],
      "source": [
        "data=pd.concat([multivariate_imputed_df,objects], axis=1)\n"
      ]
    },
    {
      "cell_type": "code",
      "execution_count": null,
      "metadata": {
        "id": "sFd3RoYUYpGH"
      },
      "outputs": [],
      "source": [
        "y=data['DEATH?']\n",
        "X=data.iloc[:,:-1]"
      ]
    },
    {
      "cell_type": "code",
      "execution_count": null,
      "metadata": {
        "id": "0n5ucAQcYs4N"
      },
      "outputs": [],
      "source": [
        "pca = PCA()\n",
        "pca.fit(X)\n",
        "cumsum = np.cumsum(pca.explained_variance_ratio_)\n",
        "d = np.argmax(cumsum >= 0.95) + 1\n",
        "pca = PCA(n_components=0.95)\n",
        "X_reduced = pca.fit_transform(X)"
      ]
    },
    {
      "cell_type": "code",
      "execution_count": null,
      "metadata": {
        "id": "q50aCkLRY40A"
      },
      "outputs": [],
      "source": [
        "# number of components\n",
        "n_pcs= pca.components_.shape[0]\n",
        "\n",
        "# get the index of the most important feature on EACH component\n",
        "# LIST COMPREHENSION HERE\n",
        "most_important = [np.abs(pca.components_[i]).argmax() for i in range(n_pcs)]\n",
        "\n",
        "initial_feature_names = X.columns\n",
        "# get the names\n",
        "most_important_names = [initial_feature_names[most_important[i]] for i in range(n_pcs)]\n",
        "\n",
        "# LIST COMPREHENSION HERE AGAIN\n",
        "dic = {'PC{}'.format(i): most_important_names[i] for i in range(n_pcs)}\n",
        "\n",
        "# build the dataframe\n",
        "df = pd.DataFrame(dic.items())"
      ]
    },
    {
      "cell_type": "code",
      "execution_count": null,
      "metadata": {
        "id": "fFBUzqAsY5wl"
      },
      "outputs": [],
      "source": [
        "Xtrain,Xtest,Ytrain,Ytest=train_test_split(X_reduced,y,random_state=42,stratify=y)"
      ]
    },
    {
      "cell_type": "code",
      "execution_count": null,
      "metadata": {
        "colab": {
          "base_uri": "https://localhost:8080/"
        },
        "id": "LKdRZIST3e7k",
        "outputId": "15f97f9a-3fc6-4816-e3c2-f5072a7c50ec"
      },
      "outputs": [
        {
          "output_type": "execute_result",
          "data": {
            "text/plain": [
              "(658, 56)"
            ]
          },
          "metadata": {},
          "execution_count": 160
        }
      ],
      "source": [
        "X_reduced.shape"
      ]
    },
    {
      "cell_type": "markdown",
      "metadata": {
        "id": "DmrUxXq3S0eE"
      },
      "source": [
        "## Training Models with PCA X Imputed by Multivariate Method and without Cross Validation"
      ]
    },
    {
      "cell_type": "code",
      "execution_count": null,
      "metadata": {
        "id": "XDA2Db-NS4tW"
      },
      "outputs": [],
      "source": [
        "# model = Sequential()\n",
        "# model.add(Dense(58, activation='relu', input_dim=(56)))\n",
        "# model.add(Dense(60, activation='relu'))\n",
        "# # model.add(Dense(128, activation='relu'))\n",
        "# # model.add(Dense(64, activation='relu'))\n",
        "# model.add(Dense(num_classes, activation='sigmoid'))"
      ]
    },
    {
      "cell_type": "code",
      "execution_count": null,
      "metadata": {
        "id": "Q0tzUBBDTLRF"
      },
      "outputs": [],
      "source": [
        "# model.compile(loss='binary_crossentropy',\n",
        "#               optimizer='RMSprop',\n",
        "#               metrics=['accuracy'])\n",
        "# history = model.fit(Xtrain, Ytrain,batch_size=batch_size,epochs=epochs,verbose=0,\n",
        "#                     validation_data=(Xtest, Ytest))"
      ]
    },
    {
      "cell_type": "code",
      "execution_count": null,
      "metadata": {
        "id": "0eQd8v3ATRyB"
      },
      "outputs": [],
      "source": [
        "# loss,accuracy=model.evaluate(Xtest,Ytest)\n",
        "# print(\"Accuracy: %.2f\"%(accuracy*100),\"%\")"
      ]
    },
    {
      "cell_type": "code",
      "execution_count": null,
      "metadata": {
        "id": "XuOd1bz6qmm9"
      },
      "outputs": [],
      "source": [
        "# filename = '/content/drive/My Drive/Colab Notebooks/Explainable-AI/Paper-2/models/2-exp/Multivariate/MLP/PCA_Without_Cross_Validation/MLP_PCA_Without_Cross_Validation.sav'\n",
        "# pickle.dump(model, open(filename, 'wb')) \n"
      ]
    },
    {
      "cell_type": "code",
      "execution_count": null,
      "metadata": {
        "id": "t3o_qQ-Hqmxh"
      },
      "outputs": [],
      "source": [
        "loaded_model = pickle.load(open('/content/drive/My Drive/Colab Notebooks/Explainable-AI/Paper-2/models/2-exp/Multivariate/MLP/PCA_Without_Cross_Validation/MLP_PCA_Without_Cross_Validation.sav', 'rb'))\n",
        "y_pred = loaded_model.predict(Xtest)\n",
        "fpr_mlp, tpr_mlp, _ = metrics.roc_curve(Ytest, y_pred)\n",
        "auc_mlp = round(metrics.roc_auc_score(Ytest, y_pred), 4)"
      ]
    },
    {
      "cell_type": "code",
      "execution_count": null,
      "metadata": {
        "colab": {
          "base_uri": "https://localhost:8080/"
        },
        "id": "iwuF26V4R5A6",
        "outputId": "2bcadf70-6ee5-4b46-a440-d5a5535c789a"
      },
      "outputs": [
        {
          "output_type": "stream",
          "name": "stdout",
          "text": [
            "\n",
            "CR by library method=\n",
            "               precision    recall  f1-score   support\n",
            "\n",
            "           0       0.62      0.55      0.58        47\n",
            "           1       0.83      0.86      0.85       118\n",
            "\n",
            "    accuracy                           0.78       165\n",
            "   macro avg       0.72      0.71      0.72       165\n",
            "weighted avg       0.77      0.78      0.77       165\n",
            "\n"
          ]
        }
      ],
      "source": [
        "y_pred=np.round(loaded_model.predict(Xtest)).ravel()\n",
        "print(\"\\nCR by library method=\\n\",\n",
        "          classification_report(Ytest, y_pred))"
      ]
    },
    {
      "cell_type": "code",
      "execution_count": null,
      "metadata": {
        "colab": {
          "base_uri": "https://localhost:8080/"
        },
        "id": "GiwFZ18vqnmt",
        "outputId": "4a9927a0-c845-4223-93f9-cbf5bfb76aa5"
      },
      "outputs": [
        {
          "output_type": "execute_result",
          "data": {
            "text/plain": [
              "0.78"
            ]
          },
          "metadata": {},
          "execution_count": 167
        }
      ],
      "source": [
        "MLP_Multivariate_imputed_PCA_Non_Cross_accuracy=float(classification_report(Ytest, y_pred).split()[15])\n",
        "MLP_Multivariate_imputed_PCA_Non_Cross_accuracy"
      ]
    },
    {
      "cell_type": "code",
      "execution_count": null,
      "metadata": {
        "id": "zutipWKvTUnc"
      },
      "outputs": [],
      "source": [
        "# model=xgb.XGBClassifier(learning_rate =0.1,\n",
        "#  n_estimators=1000,\n",
        "#  max_depth=5,\n",
        "#  min_child_weight=1,\n",
        "#  gamma=0,\n",
        "#  subsample=0.8,\n",
        "#  colsample_bytree=0.8,\n",
        "#  objective= 'binary:logistic',\n",
        "#  nthread=4,\n",
        "#  scale_pos_weight=1,\n",
        "#  seed=27)\n"
      ]
    },
    {
      "cell_type": "code",
      "execution_count": null,
      "metadata": {
        "id": "X9fe-CeLTX8j"
      },
      "outputs": [],
      "source": [
        "# model.fit(Xtrain, Ytrain)"
      ]
    },
    {
      "cell_type": "code",
      "execution_count": null,
      "metadata": {
        "id": "2X9YszyHTasV"
      },
      "outputs": [],
      "source": [
        "# y_pred=model.predict(Xtest)\n",
        "# print(\"The accuracy is %.2f\"%(accuracy_score(y_pred,Ytest)*100),\"%\")"
      ]
    },
    {
      "cell_type": "code",
      "execution_count": null,
      "metadata": {
        "id": "JZcTqKglrLHd"
      },
      "outputs": [],
      "source": [
        "# filename = '/content/drive/My Drive/Colab Notebooks/Explainable-AI/Paper-2/models/2-exp/Multivariate/XGB/PCA_Without_Cross_Validation/XGB_PCA_Without_Cross_Validation.sav'\n",
        "# pickle.dump(model, open(filename, 'wb')) "
      ]
    },
    {
      "cell_type": "code",
      "execution_count": null,
      "metadata": {
        "id": "yhAD_zR4rLTU"
      },
      "outputs": [],
      "source": [
        "loaded_model = pickle.load(open('/content/drive/My Drive/Colab Notebooks/Explainable-AI/Paper-2/models/2-exp/Multivariate/XGB/PCA_Without_Cross_Validation/XGB_PCA_Without_Cross_Validation.sav', 'rb'))\n",
        "y_pred = loaded_model.predict(Xtest)\n",
        "fpr_xgb, tpr_xgb, _ = metrics.roc_curve(Ytest, y_pred)\n",
        "auc_xgb = round(metrics.roc_auc_score(Ytest, y_pred), 4)\n"
      ]
    },
    {
      "cell_type": "code",
      "execution_count": null,
      "metadata": {
        "colab": {
          "base_uri": "https://localhost:8080/"
        },
        "id": "mMPBmGQQR8ah",
        "outputId": "e3f7d48c-9c0a-494d-a782-86df574b582b"
      },
      "outputs": [
        {
          "output_type": "stream",
          "name": "stdout",
          "text": [
            "\n",
            "CR by library method=\n",
            "               precision    recall  f1-score   support\n",
            "\n",
            "           0       0.63      0.51      0.56        47\n",
            "           1       0.82      0.88      0.85       118\n",
            "\n",
            "    accuracy                           0.78       165\n",
            "   macro avg       0.73      0.70      0.71       165\n",
            "weighted avg       0.77      0.78      0.77       165\n",
            "\n"
          ]
        }
      ],
      "source": [
        "y_pred=np.round(loaded_model.predict(Xtest)).ravel()\n",
        "print(\"\\nCR by library method=\\n\",\n",
        "          classification_report(Ytest, y_pred))"
      ]
    },
    {
      "cell_type": "code",
      "execution_count": null,
      "metadata": {
        "colab": {
          "base_uri": "https://localhost:8080/"
        },
        "id": "pnLiGI6YrMDp",
        "outputId": "9fef3e26-2255-4baa-e113-c3615c322939"
      },
      "outputs": [
        {
          "output_type": "execute_result",
          "data": {
            "text/plain": [
              "0.78"
            ]
          },
          "metadata": {},
          "execution_count": 174
        }
      ],
      "source": [
        "XGBoost_Multivariate_imputed_PCA_accuracy=float(classification_report(Ytest, y_pred).split()[15])\n",
        "XGBoost_Multivariate_imputed_PCA_accuracy"
      ]
    },
    {
      "cell_type": "code",
      "execution_count": null,
      "metadata": {
        "id": "4w5WJzlhTd1m"
      },
      "outputs": [],
      "source": [
        "# clf=SVC()\n",
        "# clf.fit(Xtrain,Ytrain)\n",
        "# y_pred=clf.predict(Xtest)\n",
        "# print(\"The accuracy is %.2f\"%(accuracy_score(y_pred,Ytest)*100),\"%\")"
      ]
    },
    {
      "cell_type": "code",
      "execution_count": null,
      "metadata": {
        "id": "FoXGCOzPrecW"
      },
      "outputs": [],
      "source": [
        "# filename = '/content/drive/My Drive/Colab Notebooks/Explainable-AI/Paper-2/models/2-exp/Multivariate/SVM/PCA_Without_Cross_Validation/SVM_PCA_Without_Cross_Validation.sav'\n",
        "# pickle.dump(clf, open(filename, 'wb')) \n"
      ]
    },
    {
      "cell_type": "code",
      "execution_count": null,
      "metadata": {
        "id": "F0LJRlDgrg--"
      },
      "outputs": [],
      "source": [
        "loaded_model = pickle.load(open('/content/drive/My Drive/Colab Notebooks/Explainable-AI/Paper-2/models/2-exp/Multivariate/SVM/PCA_Without_Cross_Validation/SVM_PCA_Without_Cross_Validation.sav', 'rb'))\n",
        "y_pred = loaded_model.predict(Xtest)\n",
        "fpr_svc, tpr_svc, _ = metrics.roc_curve(Ytest, y_pred)\n",
        "auc_svc = round(metrics.roc_auc_score(Ytest, y_pred), 4)\n"
      ]
    },
    {
      "cell_type": "code",
      "execution_count": null,
      "metadata": {
        "colab": {
          "base_uri": "https://localhost:8080/"
        },
        "id": "elgtTr86R-pr",
        "outputId": "2098aa98-2b81-4630-9c8c-2720ea73db62"
      },
      "outputs": [
        {
          "output_type": "stream",
          "name": "stdout",
          "text": [
            "\n",
            "CR by library method=\n",
            "               precision    recall  f1-score   support\n",
            "\n",
            "           0       0.55      0.47      0.51        47\n",
            "           1       0.80      0.85      0.82       118\n",
            "\n",
            "    accuracy                           0.74       165\n",
            "   macro avg       0.68      0.66      0.66       165\n",
            "weighted avg       0.73      0.74      0.73       165\n",
            "\n"
          ]
        }
      ],
      "source": [
        "y_pred=np.round(loaded_model.predict(Xtest)).ravel()\n",
        "print(\"\\nCR by library method=\\n\",\n",
        "          classification_report(Ytest, y_pred))"
      ]
    },
    {
      "cell_type": "code",
      "execution_count": null,
      "metadata": {
        "colab": {
          "base_uri": "https://localhost:8080/"
        },
        "id": "-bKWCi94rsNt",
        "outputId": "2e5fec5a-8481-4ba6-8e05-72f09f541845"
      },
      "outputs": [
        {
          "output_type": "execute_result",
          "data": {
            "text/plain": [
              "0.74"
            ]
          },
          "metadata": {},
          "execution_count": 179
        }
      ],
      "source": [
        "SVC_Multivariate_imputed_PCA_accuracy=float(classification_report(Ytest, y_pred).split()[15])\n",
        "SVC_Multivariate_imputed_PCA_accuracy"
      ]
    },
    {
      "cell_type": "code",
      "execution_count": null,
      "metadata": {
        "colab": {
          "base_uri": "https://localhost:8080/",
          "height": 494
        },
        "id": "SxxNPwjlrtkJ",
        "outputId": "c7d1cc60-38a8-45d5-8235-54f57d5b7722"
      },
      "outputs": [
        {
          "output_type": "stream",
          "name": "stderr",
          "text": [
            "/usr/local/lib/python3.7/dist-packages/ipykernel_launcher.py:4: MatplotlibDeprecationWarning: Adding an axes using the same arguments as a previous axes currently reuses the earlier instance.  In a future version, a new instance will always be created and returned.  Meanwhile, this warning can be suppressed, and the future behavior ensured, by passing a unique label to each axes instance.\n",
            "  after removing the cwd from sys.path.\n",
            "/usr/local/lib/python3.7/dist-packages/ipykernel_launcher.py:6: MatplotlibDeprecationWarning: Adding an axes using the same arguments as a previous axes currently reuses the earlier instance.  In a future version, a new instance will always be created and returned.  Meanwhile, this warning can be suppressed, and the future behavior ensured, by passing a unique label to each axes instance.\n",
            "  \n"
          ]
        },
        {
          "output_type": "execute_result",
          "data": {
            "text/plain": [
              "<matplotlib.legend.Legend at 0x7f976bf77410>"
            ]
          },
          "metadata": {},
          "execution_count": 180
        },
        {
          "output_type": "display_data",
          "data": {
            "text/plain": [
              "<Figure size 1188x972 with 1 Axes>"
            ],
            "image/png": "[encoded data removed]"
          },
          "metadata": {
            "needs_background": "light"
          }
        }
      ],
      "source": [
        "plt.gcf().set_size_inches(16.5, 13.5)\n",
        "plt.subplot(211)\n",
        "plt.plot(fpr_mlp,tpr_mlp,marker='.',label=\"MLP_PCA_Non-CV, AUC=\"+str(auc_mlp))\n",
        "plt.subplot(211)\n",
        "plt.plot(fpr_xgb,tpr_xgb,linestyle='--',label=\"XGBoost_PCA_Non-CV, AUC=\"+str(auc_xgb))\n",
        "plt.subplot(211)\n",
        "plt.plot(fpr_svc,tpr_svc,linestyle='--',label=\"SVC_PCA_Non-CV, AUC=\"+str(auc_svc))\n",
        "plt.xlabel('False Positive Rate')\n",
        "plt.ylabel('True Positive Rate')\n",
        "plt.title(\"ROC Curve Plot of PCA without Cross Validation\")\n",
        "plt.legend()"
      ]
    },
    {
      "cell_type": "markdown",
      "metadata": {
        "id": "_4qZsDKJTf9G"
      },
      "source": [
        "## Training Models with PCA X Imputed by Multivariate Model and with Cross Validation"
      ]
    },
    {
      "cell_type": "code",
      "execution_count": null,
      "metadata": {
        "colab": {
          "base_uri": "https://localhost:8080/"
        },
        "id": "bYEvKH9-tWqK",
        "outputId": "6d1d6336-d4b1-480d-dce2-4eff8269edd5"
      },
      "outputs": [
        {
          "output_type": "stream",
          "name": "stdout",
          "text": [
            "------------------------------------------------------------------------\n",
            "Training for fold 1 ...\n",
            "Score for fold 1: loss of 0.6174365878105164; accuracy of 78.63636612892151%\n",
            "------------------------------------------------------------------------\n",
            "Training for fold 2 ...\n",
            "Score for fold 2: loss of 0.5818538665771484; accuracy of 77.16894745826721%\n",
            "------------------------------------------------------------------------\n",
            "Training for fold 3 ...\n",
            "Score for fold 3: loss of 0.5662097930908203; accuracy of 78.53881120681763%\n",
            "\n",
            "CR by library method=\n",
            "               precision    recall  f1-score   support\n",
            "\n",
            "           0       0.61      0.58      0.59        59\n",
            "           1       0.85      0.86      0.85       160\n",
            "\n",
            "    accuracy                           0.79       219\n",
            "   macro avg       0.73      0.72      0.72       219\n",
            "weighted avg       0.78      0.79      0.78       219\n",
            "\n"
          ]
        }
      ],
      "source": [
        "\n",
        "# K-fold Cross Validation model evaluation\n",
        "acc_per_fold=[]\n",
        "loss_per_fold=[]\n",
        "inputs =np.array(X_reduced)\n",
        "targets = np.array(y)\n",
        "kfold = KFold(n_splits=3, shuffle=True)\n",
        "fold_no = 1\n",
        "for train, test in kfold.split(inputs, targets):\n",
        "\n",
        "  # Define the model architecture\n",
        "  model = Sequential()\n",
        "  model.add(Dense(58, activation='relu', input_dim=(56)))\n",
        "  model.add(Dense(60, activation='relu'))\n",
        "  model.add(Dense(num_classes, activation='sigmoid'))\n",
        "\n",
        "  # Compile the model\n",
        "  model.compile(loss='binary_crossentropy',\n",
        "              optimizer='RMSprop',\n",
        "              metrics=['accuracy'])\n",
        "\n",
        "\n",
        "  # Generate a print\n",
        "  print('------------------------------------------------------------------------')\n",
        "  print(f'Training for fold {fold_no} ...')\n",
        "\n",
        "  # Fit data to model\n",
        "  history = model.fit(inputs[train], targets[train],\n",
        "              batch_size=batch_size,\n",
        "              epochs=epochs,\n",
        "              verbose=0)\n",
        "  # Generate generalization metrics\n",
        "  scores = model.evaluate(inputs[test], targets[test], verbose=0)\n",
        "  print(f'Score for fold {fold_no}: {model.metrics_names[0]} of {scores[0]}; {model.metrics_names[1]} of {scores[1]*100}%')\n",
        "  acc_per_fold.append(scores[1] * 100)\n",
        "  loss_per_fold.append(scores[0])\n",
        "\n",
        "  # Increase fold number\n",
        "  fold_no = fold_no + 1\n",
        "y_pred=np.round(model.predict(inputs[test])).ravel()\n",
        "print(\"\\nCR by library method=\\n\",\n",
        "          classification_report(targets[test], y_pred))"
      ]
    },
    {
      "cell_type": "code",
      "execution_count": null,
      "metadata": {
        "id": "c6OpdHN9sLK8"
      },
      "outputs": [],
      "source": [
        "# filename = '/content/drive/My Drive/Colab Notebooks/Explainable-AI/Paper-2/models/2-exp/Multivariate/MLP/PCA_Cross_Validation/MLP_PCA_Cross_Validation.sav'\n",
        "# pickle.dump(model, open(filename, 'wb')) \n"
      ]
    },
    {
      "cell_type": "code",
      "execution_count": null,
      "metadata": {
        "id": "x28OXUZpsLhK"
      },
      "outputs": [],
      "source": [
        "loaded_model = pickle.load(open('/content/drive/My Drive/Colab Notebooks/Explainable-AI/Paper-2/models/2-exp/Multivariate/MLP/PCA_Cross_Validation/MLP_PCA_Cross_Validation.sav', 'rb'))\n",
        "y_pred = loaded_model.predict(Xtest)\n",
        "fpr_mlp, tpr_mlp, _ = metrics.roc_curve(Ytest, y_pred)\n",
        "auc_mlp = round(metrics.roc_auc_score(Ytest, y_pred), 4)"
      ]
    },
    {
      "cell_type": "code",
      "execution_count": null,
      "metadata": {
        "colab": {
          "base_uri": "https://localhost:8080/"
        },
        "id": "Pf6UvcAIsLxA",
        "outputId": "fed35697-f9da-489a-8ee0-a502c1afa234"
      },
      "outputs": [
        {
          "output_type": "stream",
          "name": "stdout",
          "text": [
            "\n",
            "CR by library method=\n",
            "               precision    recall  f1-score   support\n",
            "\n",
            "           0       0.93      0.90      0.91        59\n",
            "           1       0.96      0.97      0.97       160\n",
            "\n",
            "    accuracy                           0.95       219\n",
            "   macro avg       0.95      0.94      0.94       219\n",
            "weighted avg       0.95      0.95      0.95       219\n",
            "\n"
          ]
        }
      ],
      "source": [
        "y_pred=np.round(loaded_model.predict(inputs[test])).ravel()\n",
        "print(\"\\nCR by library method=\\n\",\n",
        "          classification_report(targets[test], y_pred))"
      ]
    },
    {
      "cell_type": "code",
      "execution_count": null,
      "metadata": {
        "colab": {
          "base_uri": "https://localhost:8080/"
        },
        "id": "GGyLBZMJsU7T",
        "outputId": "793af2af-e35f-44ea-e9ae-fa907f88e40a"
      },
      "outputs": [
        {
          "output_type": "execute_result",
          "data": {
            "text/plain": [
              "0.95"
            ]
          },
          "metadata": {},
          "execution_count": 185
        }
      ],
      "source": [
        "MLP_Multivariate_imputed_PCA_Cross_Validation_accuracy=float((classification_report(targets[test], y_pred)).split()[15])\n",
        "MLP_Multivariate_imputed_PCA_Cross_Validation_accuracy"
      ]
    },
    {
      "cell_type": "code",
      "execution_count": null,
      "metadata": {
        "id": "hLIETuLeTjag"
      },
      "outputs": [],
      "source": [
        "# cv = KFold(n_splits=3)\n",
        "# PARAMETERS = {\"subsample\":[0.5, 0.75, 1],\n",
        "#               \"colsample_bytree\":[0.5, 0.75, 1],\n",
        "#               \"max_depth\":[2,5, 6, 12],\n",
        "#               \"min_child_weight\":[1,5,15],\n",
        "#               \"learning_rate\":[0.3, 0.1, 0.03],\n",
        "#               \"n_estimators\":[100,500,1000]}\n",
        "# full = xgb.XGBClassifier(n_estimators=100, n_jobs=-1)\n",
        "# model_gs = GridSearchCV(full,param_grid=PARAMETERS,cv=cv,scoring=\"accuracy\")\n",
        "# model_gs.fit(Xtrain,Ytrain, eval_metric=\"error\",verbose=0)\n",
        "# y_pred=model_gs.predict(Xtest)\n",
        "# print(\"The accuracy is %.2f\"%(accuracy_score(y_pred,Ytest)*100),\"%\")"
      ]
    },
    {
      "cell_type": "code",
      "execution_count": null,
      "metadata": {
        "id": "VlTGCdeOsfhz"
      },
      "outputs": [],
      "source": [
        "# filename = '/content/drive/My Drive/Colab Notebooks/Explainable-AI/Paper-2/models/2-exp/Multivariate/XGB/PCA_Cross_Validation/XGB_PCA_Cross_Validation.sav'\n",
        "# pickle.dump(model_gs, open(filename, 'wb')) \n"
      ]
    },
    {
      "cell_type": "code",
      "execution_count": null,
      "metadata": {
        "id": "Adl89-EBsfuX"
      },
      "outputs": [],
      "source": [
        "loaded_model = pickle.load(open('/content/drive/My Drive/Colab Notebooks/Explainable-AI/Paper-2/models/2-exp/Multivariate/XGB/PCA_Cross_Validation/XGB_PCA_Cross_Validation.sav', 'rb'))\n",
        "y_pred = loaded_model.predict(Xtest)\n",
        "fpr_xgb, tpr_xgb, _ = metrics.roc_curve(Ytest, y_pred)\n",
        "auc_xgb= round(metrics.roc_auc_score(Ytest, y_pred), 4)\n"
      ]
    },
    {
      "cell_type": "code",
      "execution_count": null,
      "metadata": {
        "colab": {
          "base_uri": "https://localhost:8080/"
        },
        "id": "ZTNWdFOxSBZe",
        "outputId": "444d71de-3d09-4e0a-f06e-edb01e1c3a0d"
      },
      "outputs": [
        {
          "output_type": "stream",
          "name": "stdout",
          "text": [
            "\n",
            "CR by library method=\n",
            "               precision    recall  f1-score   support\n",
            "\n",
            "           0       0.58      0.45      0.51        47\n",
            "           1       0.80      0.87      0.83       118\n",
            "\n",
            "    accuracy                           0.75       165\n",
            "   macro avg       0.69      0.66      0.67       165\n",
            "weighted avg       0.74      0.75      0.74       165\n",
            "\n"
          ]
        }
      ],
      "source": [
        "y_pred=np.round(loaded_model.predict(Xtest)).ravel()\n",
        "print(\"\\nCR by library method=\\n\",\n",
        "          classification_report(Ytest, y_pred))"
      ]
    },
    {
      "cell_type": "code",
      "execution_count": null,
      "metadata": {
        "colab": {
          "base_uri": "https://localhost:8080/"
        },
        "id": "PXHnJ9nLsgpn",
        "outputId": "91987e7e-8534-4c30-c6da-687000c0d46b"
      },
      "outputs": [
        {
          "output_type": "execute_result",
          "data": {
            "text/plain": [
              "0.75"
            ]
          },
          "metadata": {},
          "execution_count": 190
        }
      ],
      "source": [
        "XGBoost_Multivariate_imputed_PCA_Cross_Validation_accuracy=float(classification_report(Ytest, y_pred).split()[15])\n",
        "XGBoost_Multivariate_imputed_PCA_Cross_Validation_accuracy"
      ]
    },
    {
      "cell_type": "code",
      "execution_count": null,
      "metadata": {
        "id": "wPuvlcn1TsP8"
      },
      "outputs": [],
      "source": [
        "# cv = KFold(n_splits=3)\n",
        "\n",
        "# tuned_parameters =  [{'kernel': ['rbf'], 'gamma': [1e-2, 1e-3, 1e-4, 1e-5],\n",
        "#                      'C': [0.001, 0.10, 0.1, 10, 25, 50, 100, 1000]},\n",
        "#                     {'kernel': ['sigmoid'], 'gamma': [1e-2, 1e-3, 1e-4, 1e-5],\n",
        "#                      'C': [0.001, 0.10, 0.1, 10, 25, 50, 100, 1000] },{'kernel': ['linear'], 'C': [0.001, 0.10, 0.1, 10, 25, 50, 100, 1000]}] \n",
        "# clf = GridSearchCV(SVC(), tuned_parameters, cv=cv,\n",
        "#                        scoring='accuracy')\n",
        "# clf.fit(Xtrain,Ytrain)\n",
        "# y_pred=clf.predict(Xtest)\n",
        "# print(\"The accuracy is %.2f\"%(accuracy_score(y_pred,Ytest)*100),\"%\")"
      ]
    },
    {
      "cell_type": "code",
      "source": [
        "# filename = '/content/drive/My Drive/Colab Notebooks/Explainable-AI/Paper-2/models/2-exp/Multivariate/SVM/PCA_Cross_Validation/SVM_PCA_Cross_Validation.sav'\n",
        "# pickle.dump(clf, open(filename, 'wb')) "
      ],
      "metadata": {
        "id": "pfnYDKKAshev"
      },
      "execution_count": null,
      "outputs": []
    },
    {
      "cell_type": "code",
      "source": [
        "loaded_model = pickle.load(open('/content/drive/My Drive/Colab Notebooks/Explainable-AI/Paper-2/models/2-exp/Multivariate/SVM/PCA_Cross_Validation/SVM_PCA_Cross_Validation.sav', 'rb'))\n",
        "y_pred = loaded_model.predict(Xtest)\n",
        "fpr_svc, tpr_svc, _ = metrics.roc_curve(Ytest, y_pred)\n",
        "auc_svc = round(metrics.roc_auc_score(Ytest, y_pred), 4)"
      ],
      "metadata": {
        "id": "RcbzXlWMsi4X"
      },
      "execution_count": null,
      "outputs": []
    },
    {
      "cell_type": "code",
      "execution_count": null,
      "metadata": {
        "colab": {
          "base_uri": "https://localhost:8080/"
        },
        "id": "YnsLiShqSDEj",
        "outputId": "69ed827e-5685-4f4a-ce56-e10fb694b390"
      },
      "outputs": [
        {
          "output_type": "stream",
          "name": "stdout",
          "text": [
            "\n",
            "CR by library method=\n",
            "               precision    recall  f1-score   support\n",
            "\n",
            "           0       0.60      0.62      0.61        47\n",
            "           1       0.85      0.84      0.84       118\n",
            "\n",
            "    accuracy                           0.78       165\n",
            "   macro avg       0.73      0.73      0.73       165\n",
            "weighted avg       0.78      0.78      0.78       165\n",
            "\n"
          ]
        }
      ],
      "source": [
        "y_pred=np.round(loaded_model.predict(Xtest)).ravel()\n",
        "print(\"\\nCR by library method=\\n\",\n",
        "          classification_report(Ytest, y_pred))"
      ]
    },
    {
      "cell_type": "code",
      "source": [
        "SVC_Multivariate_imputed_PCA_Cross_Validation_accuracy=float(classification_report(Ytest, y_pred).split()[15])\n",
        "SVC_Multivariate_imputed_PCA_Cross_Validation_accuracy"
      ],
      "metadata": {
        "colab": {
          "base_uri": "https://localhost:8080/"
        },
        "id": "ZIDPzhxTsr4u",
        "outputId": "a4ecbf3e-fe4f-4faf-efe7-679b40fa5e15"
      },
      "execution_count": null,
      "outputs": [
        {
          "output_type": "execute_result",
          "data": {
            "text/plain": [
              "0.78"
            ]
          },
          "metadata": {},
          "execution_count": 195
        }
      ]
    },
    {
      "cell_type": "code",
      "source": [
        "plt.gcf().set_size_inches(16.5, 13.5)\n",
        "plt.subplot(211)\n",
        "plt.plot(fpr_mlp,tpr_mlp,linestyle='--',label=\"MLP_PCA_CV, AUC=\"+str(auc_mlp))\n",
        "plt.subplot(211)\n",
        "plt.plot(fpr_xgb,tpr_xgb,linestyle='--',label=\"XGBoost_PCA_CV, AUC=\"+str(auc_xgb))\n",
        "plt.subplot(211)\n",
        "plt.plot(fpr_svc,tpr_svc,linestyle='--',label=\"SVC_PCA_CV, AUC=\"+str(auc_svc))\n",
        "plt.xlabel('False Positive Rate')\n",
        "plt.ylabel('True Positive Rate')\n",
        "plt.title(\"ROC Curve Plot of PCA with Cross Validation\")\n",
        "plt.legend()"
      ],
      "metadata": {
        "colab": {
          "base_uri": "https://localhost:8080/",
          "height": 494
        },
        "id": "NGFc1M6_swG2",
        "outputId": "4928c4a4-9556-42f5-d5f5-a104488a0877"
      },
      "execution_count": null,
      "outputs": [
        {
          "output_type": "stream",
          "name": "stderr",
          "text": [
            "/usr/local/lib/python3.7/dist-packages/ipykernel_launcher.py:4: MatplotlibDeprecationWarning: Adding an axes using the same arguments as a previous axes currently reuses the earlier instance.  In a future version, a new instance will always be created and returned.  Meanwhile, this warning can be suppressed, and the future behavior ensured, by passing a unique label to each axes instance.\n",
            "  after removing the cwd from sys.path.\n",
            "/usr/local/lib/python3.7/dist-packages/ipykernel_launcher.py:6: MatplotlibDeprecationWarning: Adding an axes using the same arguments as a previous axes currently reuses the earlier instance.  In a future version, a new instance will always be created and returned.  Meanwhile, this warning can be suppressed, and the future behavior ensured, by passing a unique label to each axes instance.\n",
            "  \n"
          ]
        },
        {
          "output_type": "execute_result",
          "data": {
            "text/plain": [
              "<matplotlib.legend.Legend at 0x7f976c6fb2d0>"
            ]
          },
          "metadata": {},
          "execution_count": 196
        },
        {
          "output_type": "display_data",
          "data": {
            "text/plain": [
              "<Figure size 1188x972 with 1 Axes>"
            ],
            "image/png": "[encoded data removed]"
          },
          "metadata": {
            "needs_background": "light"
          }
        }
      ]
    },
    {
      "cell_type": "markdown",
      "metadata": {
        "id": "D7avBFaBTubF"
      },
      "source": [
        "## Training Models with Non-PCA X Imputed by Multivariate Model and without Cross Validation"
      ]
    },
    {
      "cell_type": "code",
      "execution_count": null,
      "metadata": {
        "id": "COU6aM9STySt"
      },
      "outputs": [],
      "source": [
        "Xtrain,Xtest,Ytrain,Ytest=train_test_split(X,y,random_state=42,stratify=y)"
      ]
    },
    {
      "cell_type": "code",
      "execution_count": null,
      "metadata": {
        "id": "pGXDgSh1T8i9"
      },
      "outputs": [],
      "source": [
        "# m = Sequential()\n",
        "# m.add(Dense(216, activation='relu', input_dim=(214)))\n",
        "# m.add(Dense(218, activation='relu'))\n",
        "# # m.add(Dense(128, activation='relu'))\n",
        "# # m.add(Dense(64, activation='relu'))\n",
        "# m.add(Dense(num_classes, activation='sigmoid'))"
      ]
    },
    {
      "cell_type": "code",
      "execution_count": null,
      "metadata": {
        "id": "yBR32AYAT-oW"
      },
      "outputs": [],
      "source": [
        "# m.compile(loss='binary_crossentropy',\n",
        "#               optimizer='RMSprop',\n",
        "#               metrics=['accuracy'])\n",
        "# history = m.fit(Xtrain, Ytrain,batch_size=batch_size,epochs=epochs,verbose=0,\n",
        "#                     validation_data=(Xtest, Ytest))"
      ]
    },
    {
      "cell_type": "code",
      "execution_count": null,
      "metadata": {
        "id": "TgiyuGTsUA1f"
      },
      "outputs": [],
      "source": [
        "# loss,accuracy=m.evaluate(Xtest,Ytest)\n",
        "# print(\"Accuracy: %.2f\"%(accuracy*100),\"%\")"
      ]
    },
    {
      "cell_type": "code",
      "source": [
        "# filename = '/content/drive/My Drive/Colab Notebooks/Explainable-AI/Paper-2/models/2-exp/Multivariate/MLP/Non_PCA_Without_Cross_Validation/MLP_Non_PCA_Without_Cross_Validation.sav'\n",
        "# pickle.dump(m, open(filename, 'wb')) "
      ],
      "metadata": {
        "id": "2NUBOgdgtAxw"
      },
      "execution_count": null,
      "outputs": []
    },
    {
      "cell_type": "code",
      "source": [
        "loaded_model = pickle.load(open('/content/drive/My Drive/Colab Notebooks/Explainable-AI/Paper-2/models/2-exp/Multivariate/MLP/Non_PCA_Without_Cross_Validation/MLP_Non_PCA_Without_Cross_Validation.sav', 'rb'))\n",
        "y_pred = loaded_model.predict(Xtest)\n",
        "fpr_mlp, tpr_mlp, _ = metrics.roc_curve(Ytest, y_pred)\n",
        "auc_mlp = round(metrics.roc_auc_score(Ytest, y_pred), 4)"
      ],
      "metadata": {
        "id": "2uj8lZMLtA83"
      },
      "execution_count": null,
      "outputs": []
    },
    {
      "cell_type": "code",
      "execution_count": null,
      "metadata": {
        "colab": {
          "base_uri": "https://localhost:8080/"
        },
        "id": "5miq0Os9SFvD",
        "outputId": "feea2719-2af9-4cea-c769-1648347d7793"
      },
      "outputs": [
        {
          "output_type": "stream",
          "name": "stdout",
          "text": [
            "\n",
            "CR by library method=\n",
            "               precision    recall  f1-score   support\n",
            "\n",
            "           0       0.57      0.55      0.56        47\n",
            "           1       0.82      0.83      0.83       118\n",
            "\n",
            "    accuracy                           0.75       165\n",
            "   macro avg       0.69      0.69      0.69       165\n",
            "weighted avg       0.75      0.75      0.75       165\n",
            "\n"
          ]
        }
      ],
      "source": [
        "y_pred=np.round(loaded_model.predict(Xtest)).ravel()\n",
        "print(\"\\nCR by library method=\\n\",\n",
        "          classification_report(Ytest, y_pred))"
      ]
    },
    {
      "cell_type": "code",
      "source": [
        "MLP_Multivariate_imputed_Non_PCA_Non_Cross_accuracy=float(classification_report(Ytest, y_pred).split()[15])\n",
        "MLP_Multivariate_imputed_Non_PCA_Non_Cross_accuracy"
      ],
      "metadata": {
        "colab": {
          "base_uri": "https://localhost:8080/"
        },
        "id": "3ee9LcbHtIa1",
        "outputId": "29eec681-de06-4178-91d8-eca3258e48a3"
      },
      "execution_count": null,
      "outputs": [
        {
          "output_type": "execute_result",
          "data": {
            "text/plain": [
              "0.75"
            ]
          },
          "metadata": {},
          "execution_count": 204
        }
      ]
    },
    {
      "cell_type": "code",
      "execution_count": null,
      "metadata": {
        "id": "06PJqGGbUFnC"
      },
      "outputs": [],
      "source": [
        "# full_boost=xgb.XGBClassifier(learning_rate =0.1,\n",
        "#  n_estimators=1000,\n",
        "#  max_depth=5,\n",
        "#  min_child_weight=1,\n",
        "#  gamma=0,\n",
        "#  subsample=0.8,\n",
        "#  colsample_bytree=0.8,\n",
        "#  objective= 'binary:logistic',\n",
        "#  nthread=4,\n",
        "#  scale_pos_weight=1,\n",
        "#  seed=27)\n",
        "# full_boost.fit(np.array(Xtrain), Ytrain)\n",
        "# y_pred=full_boost.predict(np.array(Xtest))\n",
        "# print(\"The accuracy is %.2f\"%(accuracy_score(y_pred,Ytest)*100),\"%\")"
      ]
    },
    {
      "cell_type": "code",
      "source": [
        "# filename = '/content/drive/My Drive/Colab Notebooks/Explainable-AI/Paper-2/models/2-exp/Multivariate/XGB/Non_PCA_Without_Cross_Validation/XGB_Non_PCA_Without_Cross_Validation.sav' \n",
        "# pickle.dump(full_boost, open(filename, 'wb')) \n"
      ],
      "metadata": {
        "id": "cQSbvlFZtUQm"
      },
      "execution_count": null,
      "outputs": []
    },
    {
      "cell_type": "code",
      "source": [
        "loadedmodel = pickle.load(open('/content/drive/My Drive/Colab Notebooks/Explainable-AI/Paper-2/models/2-exp/Multivariate/XGB/Non_PCA_Without_Cross_Validation/XGB_Non_PCA_Without_Cross_Validation.sav', 'rb'))\n",
        "y_pred = loadedmodel.predict(np.array(Xtest))\n",
        "fpr_xgb, tpr_xgb, _ = metrics.roc_curve(Ytest, y_pred)\n",
        "auc_xgb = round(metrics.roc_auc_score(Ytest, y_pred), 4)\n"
      ],
      "metadata": {
        "id": "li3WCaXytUmS"
      },
      "execution_count": null,
      "outputs": []
    },
    {
      "cell_type": "code",
      "execution_count": null,
      "metadata": {
        "colab": {
          "base_uri": "https://localhost:8080/"
        },
        "id": "wKUpv2TXSIwq",
        "outputId": "0cdf9b2f-4256-4344-e4ef-01f45f0711a2"
      },
      "outputs": [
        {
          "output_type": "stream",
          "name": "stdout",
          "text": [
            "\n",
            "CR by library method=\n",
            "               precision    recall  f1-score   support\n",
            "\n",
            "           0       0.55      0.51      0.53        47\n",
            "           1       0.81      0.83      0.82       118\n",
            "\n",
            "    accuracy                           0.74       165\n",
            "   macro avg       0.68      0.67      0.67       165\n",
            "weighted avg       0.73      0.74      0.74       165\n",
            "\n"
          ]
        }
      ],
      "source": [
        "y_pred=np.round(loadedmodel.predict(np.array(Xtest))).ravel()\n",
        "print(\"\\nCR by library method=\\n\",\n",
        "          classification_report(Ytest, y_pred))"
      ]
    },
    {
      "cell_type": "code",
      "source": [
        "XGBoost_Multivariate_imputed_Non_PCA_Non_Cross_accuracy=float(classification_report(Ytest, y_pred).split()[15])\n",
        "XGBoost_Multivariate_imputed_Non_PCA_Non_Cross_accuracy"
      ],
      "metadata": {
        "colab": {
          "base_uri": "https://localhost:8080/"
        },
        "id": "72Qm5QNmtgeg",
        "outputId": "3bd66700-5ca3-4820-c6f8-343c90558afc"
      },
      "execution_count": null,
      "outputs": [
        {
          "output_type": "execute_result",
          "data": {
            "text/plain": [
              "0.74"
            ]
          },
          "metadata": {},
          "execution_count": 209
        }
      ]
    },
    {
      "cell_type": "code",
      "execution_count": null,
      "metadata": {
        "id": "GpgtouRvUIAK"
      },
      "outputs": [],
      "source": [
        "# clf=SVC()\n",
        "# clf.fit(Xtrain,Ytrain)\n",
        "# y_pred=clf.predict(Xtest)\n",
        "# print(\"The accuracy is %.2f\"%(accuracy_score(y_pred,Ytest)*100),\"%\")"
      ]
    },
    {
      "cell_type": "code",
      "source": [
        "# filename = '/content/drive/My Drive/Colab Notebooks/Explainable-AI/Paper-2/models/2-exp/Multivariate/SVM/Non_PCA_Without_Cross_Validation/SVM_Non_PCA_Without_Cross_Validation.sav'\n",
        "# pickle.dump(clf, open(filename, 'wb')) \n"
      ],
      "metadata": {
        "id": "4cBigKF5uD46"
      },
      "execution_count": null,
      "outputs": []
    },
    {
      "cell_type": "code",
      "source": [
        "loaded_model = pickle.load(open('/content/drive/My Drive/Colab Notebooks/Explainable-AI/Paper-2/models/2-exp/Multivariate/SVM/Non_PCA_Without_Cross_Validation/SVM_Non_PCA_Without_Cross_Validation.sav', 'rb'))\n",
        "y_pred = loaded_model.predict(Xtest)\n",
        "fpr_svc, tpr_svc, _ = metrics.roc_curve(Ytest, y_pred)\n",
        "auc_svc = round(metrics.roc_auc_score(Ytest, y_pred), 4)"
      ],
      "metadata": {
        "id": "YUJMtZKIuEFO"
      },
      "execution_count": null,
      "outputs": []
    },
    {
      "cell_type": "code",
      "execution_count": null,
      "metadata": {
        "colab": {
          "base_uri": "https://localhost:8080/"
        },
        "id": "DxHBnF98SMdt",
        "outputId": "6458858c-8143-45c5-9e04-e79ebd7c55a6"
      },
      "outputs": [
        {
          "output_type": "stream",
          "name": "stdout",
          "text": [
            "\n",
            "CR by library method=\n",
            "               precision    recall  f1-score   support\n",
            "\n",
            "           0       0.59      0.51      0.55        47\n",
            "           1       0.81      0.86      0.83       118\n",
            "\n",
            "    accuracy                           0.76       165\n",
            "   macro avg       0.70      0.68      0.69       165\n",
            "weighted avg       0.75      0.76      0.75       165\n",
            "\n"
          ]
        }
      ],
      "source": [
        "y_pred=np.round(loaded_model.predict(Xtest)).ravel()\n",
        "print(\"\\nCR by library method=\\n\",\n",
        "          classification_report(Ytest, y_pred))"
      ]
    },
    {
      "cell_type": "code",
      "source": [
        "SVC_Multivariate_imputed_Non_PCA_Non_Cross_accuracy=float(classification_report(Ytest, y_pred).split()[15])\n",
        "SVC_Multivariate_imputed_Non_PCA_Non_Cross_accuracy"
      ],
      "metadata": {
        "colab": {
          "base_uri": "https://localhost:8080/"
        },
        "id": "EwZiFiNGuWuZ",
        "outputId": "3763662b-ab35-4e8d-aa7f-b223f3162af4"
      },
      "execution_count": null,
      "outputs": [
        {
          "output_type": "execute_result",
          "data": {
            "text/plain": [
              "0.76"
            ]
          },
          "metadata": {},
          "execution_count": 214
        }
      ]
    },
    {
      "cell_type": "code",
      "source": [
        "plt.gcf().set_size_inches(16.5, 13.5)\n",
        "plt.subplot(211)\n",
        "plt.plot(fpr_mlp,tpr_mlp, linestyle='--',label=\"MLP_Non-PCA_Non-CV, AUC=\"+str(auc_mlp))\n",
        "plt.subplot(211)\n",
        "plt.plot(fpr_xgb,tpr_xgb, linestyle='--',label=\"XGBoost_Non-PCA_Non-CV, AUC=\"+str(auc_xgb))\n",
        "plt.subplot(211)\n",
        "plt.plot(fpr_svc,tpr_svc, linestyle='--',label=\"SVC_Non-PCA_Non-CV, AUC=\"+str(auc_svc))\n",
        "plt.xlabel('False Positive Rate')\n",
        "plt.ylabel('True Positive Rate')\n",
        "plt.title(\"ROC Curve Plot of Non-PCA without Cross Validation\")\n",
        "plt.legend()"
      ],
      "metadata": {
        "colab": {
          "base_uri": "https://localhost:8080/",
          "height": 494
        },
        "id": "DIbfpqIduhcN",
        "outputId": "62df0c1a-4f06-47c3-a383-b28562cd941f"
      },
      "execution_count": null,
      "outputs": [
        {
          "output_type": "stream",
          "name": "stderr",
          "text": [
            "/usr/local/lib/python3.7/dist-packages/ipykernel_launcher.py:4: MatplotlibDeprecationWarning: Adding an axes using the same arguments as a previous axes currently reuses the earlier instance.  In a future version, a new instance will always be created and returned.  Meanwhile, this warning can be suppressed, and the future behavior ensured, by passing a unique label to each axes instance.\n",
            "  after removing the cwd from sys.path.\n",
            "/usr/local/lib/python3.7/dist-packages/ipykernel_launcher.py:6: MatplotlibDeprecationWarning: Adding an axes using the same arguments as a previous axes currently reuses the earlier instance.  In a future version, a new instance will always be created and returned.  Meanwhile, this warning can be suppressed, and the future behavior ensured, by passing a unique label to each axes instance.\n",
            "  \n"
          ]
        },
        {
          "output_type": "execute_result",
          "data": {
            "text/plain": [
              "<matplotlib.legend.Legend at 0x7f976c2bf9d0>"
            ]
          },
          "metadata": {},
          "execution_count": 215
        },
        {
          "output_type": "display_data",
          "data": {
            "text/plain": [
              "<Figure size 1188x972 with 1 Axes>"
            ],
            "image/png": "[encoded data removed]"
          },
          "metadata": {
            "needs_background": "light"
          }
        }
      ]
    },
    {
      "cell_type": "markdown",
      "metadata": {
        "id": "pHivuF8MUKc7"
      },
      "source": [
        "### Training Models with Non-PCA X Imputed by Multivariate Model and with Cross Validation"
      ]
    },
    {
      "cell_type": "code",
      "execution_count": null,
      "metadata": {
        "colab": {
          "base_uri": "https://localhost:8080/"
        },
        "id": "R9il_gPwto0i",
        "outputId": "606461db-75e5-4e59-c872-96beba99d5ba"
      },
      "outputs": [
        {
          "output_type": "stream",
          "name": "stdout",
          "text": [
            "------------------------------------------------------------------------\n",
            "Training for fold 1 ...\n",
            "Score for fold 1: loss of 0.9587986469268799; accuracy of 75.90909004211426%\n",
            "------------------------------------------------------------------------\n",
            "Training for fold 2 ...\n",
            "Score for fold 2: loss of 0.6106985211372375; accuracy of 81.73515796661377%\n",
            "------------------------------------------------------------------------\n",
            "Training for fold 3 ...\n",
            "Score for fold 3: loss of 1.0882402658462524; accuracy of 72.60273694992065%\n",
            "\n",
            "CR by library method=\n",
            "               precision    recall  f1-score   support\n",
            "\n",
            "           0       0.54      0.51      0.52        65\n",
            "           1       0.80      0.82      0.81       154\n",
            "\n",
            "    accuracy                           0.73       219\n",
            "   macro avg       0.67      0.66      0.67       219\n",
            "weighted avg       0.72      0.73      0.72       219\n",
            "\n"
          ]
        }
      ],
      "source": [
        "\n",
        "# K-fold Cross Validation model evaluation\n",
        "acc_per_fold=[]\n",
        "loss_per_fold=[]\n",
        "inputs =np.array(X)\n",
        "targets = np.array(y)\n",
        "kfold = KFold(n_splits=3, shuffle=True)\n",
        "fold_no = 1\n",
        "for train, test in kfold.split(inputs, targets):\n",
        "\n",
        "  # Define the model architecture\n",
        "  model = Sequential()\n",
        "  model.add(Dense(216, activation='relu', input_dim=(214)))\n",
        "  model.add(Dense(218, activation='relu'))\n",
        "  model.add(Dense(num_classes, activation='sigmoid'))\n",
        "\n",
        "  # Compile the model\n",
        "  model.compile(loss='binary_crossentropy',\n",
        "              optimizer='RMSprop',\n",
        "              metrics=['accuracy'])\n",
        "\n",
        "\n",
        "  # Generate a print\n",
        "  print('------------------------------------------------------------------------')\n",
        "  print(f'Training for fold {fold_no} ...')\n",
        "\n",
        "  # Fit data to model\n",
        "  history = model.fit(inputs[train], targets[train],\n",
        "              batch_size=batch_size,\n",
        "              epochs=epochs,\n",
        "              verbose=0)\n",
        "  # Generate generalization metrics\n",
        "  scores = model.evaluate(inputs[test], targets[test], verbose=0)\n",
        "  print(f'Score for fold {fold_no}: {model.metrics_names[0]} of {scores[0]}; {model.metrics_names[1]} of {scores[1]*100}%')\n",
        "  acc_per_fold.append(scores[1] * 100)\n",
        "  loss_per_fold.append(scores[0])\n",
        "\n",
        "  # Increase fold number\n",
        "  fold_no = fold_no + 1\n",
        "y_pred=np.round(model.predict(inputs[test])).ravel()\n",
        "print(\"\\nCR by library method=\\n\",\n",
        "          classification_report(targets[test], y_pred))"
      ]
    },
    {
      "cell_type": "code",
      "source": [
        "# filename = '/content/drive/My Drive/Colab Notebooks/Explainable-AI/Paper-2/models/2-exp/Multivariate/MLP/Non_PCA_Cross_Validation/MLP_Non_PCA_Cross_Validation.sav'\n",
        "# pickle.dump(model, open(filename, 'wb')) "
      ],
      "metadata": {
        "id": "MIO5xYv4uRyb"
      },
      "execution_count": null,
      "outputs": []
    },
    {
      "cell_type": "code",
      "source": [
        "loaded_model = pickle.load(open('/content/drive/My Drive/Colab Notebooks/Explainable-AI/Paper-2/models/2-exp/Multivariate/MLP/Non_PCA_Cross_Validation/MLP_Non_PCA_Cross_Validation.sav', 'rb'))\n",
        "y_pred = loaded_model.predict(Xtest)\n",
        "fpr_mlp, tpr_mlp, _ = metrics.roc_curve(Ytest, y_pred)\n",
        "auc_mlp = round(metrics.roc_auc_score(Ytest, y_pred), 4)"
      ],
      "metadata": {
        "id": "krKYScz8uR9e"
      },
      "execution_count": null,
      "outputs": []
    },
    {
      "cell_type": "code",
      "source": [
        "y_pred=np.round(loaded_model.predict(inputs[test])).ravel()\n",
        "print(\"\\nCR by library method=\\n\",\n",
        "          classification_report(targets[test], y_pred))"
      ],
      "metadata": {
        "colab": {
          "base_uri": "https://localhost:8080/"
        },
        "id": "atTz5h06uwx_",
        "outputId": "8f266b7a-d815-4b48-9099-6427f7245a99"
      },
      "execution_count": null,
      "outputs": [
        {
          "output_type": "stream",
          "name": "stdout",
          "text": [
            "\n",
            "CR by library method=\n",
            "               precision    recall  f1-score   support\n",
            "\n",
            "           0       0.98      0.78      0.87        65\n",
            "           1       0.92      0.99      0.95       154\n",
            "\n",
            "    accuracy                           0.93       219\n",
            "   macro avg       0.95      0.89      0.91       219\n",
            "weighted avg       0.94      0.93      0.93       219\n",
            "\n"
          ]
        }
      ]
    },
    {
      "cell_type": "code",
      "source": [
        "MLP_Multivariate_imputed_Non_PCA_Cross_Validation_accuracy=float((classification_report(targets[test], y_pred)).split()[15])\n",
        "MLP_Multivariate_imputed_Non_PCA_Cross_Validation_accuracy"
      ],
      "metadata": {
        "colab": {
          "base_uri": "https://localhost:8080/"
        },
        "id": "pQ7wLWhpuw2G",
        "outputId": "679294ff-1f2f-45f3-e1e3-1395a96fad2d"
      },
      "execution_count": null,
      "outputs": [
        {
          "output_type": "execute_result",
          "data": {
            "text/plain": [
              "0.93"
            ]
          },
          "metadata": {},
          "execution_count": 220
        }
      ]
    },
    {
      "cell_type": "code",
      "execution_count": null,
      "metadata": {
        "id": "6U3yN--MUObc"
      },
      "outputs": [],
      "source": [
        "# cv = KFold(n_splits=3)\n",
        "# PARAMETERS = {\"subsample\":[0.5, 0.75, 1],\n",
        "#               \"colsample_bytree\":[0.5, 0.75, 1],\n",
        "#               \"max_depth\":[2,5, 6, 12],\n",
        "#               \"min_child_weight\":[1,5,15],\n",
        "#               \"learning_rate\":[0.3, 0.1, 0.03],\n",
        "#               \"n_estimators\":[100,500,1000]}\n",
        "# full = xgb.XGBClassifier(n_estimators=100, n_jobs=-1)\n",
        "# model_gs = GridSearchCV(full,param_grid=PARAMETERS,cv=cv,scoring=\"accuracy\")\n",
        "# model_gs.fit(np.array(Xtrain),Ytrain, eval_metric=\"error\",verbose=0)\n",
        "# y_pred=model_gs.predict(np.array(Xtest))\n",
        "# print(\"The accuracy is %.2f\"%(accuracy_score(y_pred,Ytest)*100),\"%\")"
      ]
    },
    {
      "cell_type": "code",
      "source": [
        "# filename = '/content/drive/My Drive/Colab Notebooks/Explainable-AI/Paper-2/models/2-exp/Multivariate/XGB/Non_PCA_Cross_Validation/XGB_Non_PCA_Cross_Validation.sav'\n",
        "# pickle.dump(model_gs, open(filename, 'wb')) \n"
      ],
      "metadata": {
        "id": "F77NnxIUvE2Z"
      },
      "execution_count": null,
      "outputs": []
    },
    {
      "cell_type": "code",
      "source": [
        "loadedmodel = pickle.load(open('/content/drive/My Drive/Colab Notebooks/Explainable-AI/Paper-2/models/2-exp/Multivariate/XGB/Non_PCA_Cross_Validation/XGB_Non_PCA_Cross_Validation.sav', 'rb'))\n",
        "y_pred = loadedmodel.predict(np.array(Xtest))\n",
        "fpr_xgb, tpr_xgb, _ = metrics.roc_curve(Ytest, y_pred)\n",
        "auc_xgb = round(metrics.roc_auc_score(Ytest, y_pred), 4)\n"
      ],
      "metadata": {
        "id": "J_Eb8eqdvFu5"
      },
      "execution_count": null,
      "outputs": []
    },
    {
      "cell_type": "code",
      "execution_count": null,
      "metadata": {
        "id": "sXSzqGZeSPeZ",
        "colab": {
          "base_uri": "https://localhost:8080/"
        },
        "outputId": "33643788-b0f2-4449-9b97-e72249368782"
      },
      "outputs": [
        {
          "output_type": "stream",
          "name": "stdout",
          "text": [
            "\n",
            "CR by library method=\n",
            "               precision    recall  f1-score   support\n",
            "\n",
            "           0       0.56      0.51      0.53        47\n",
            "           1       0.81      0.84      0.82       118\n",
            "\n",
            "    accuracy                           0.75       165\n",
            "   macro avg       0.68      0.67      0.68       165\n",
            "weighted avg       0.74      0.75      0.74       165\n",
            "\n"
          ]
        }
      ],
      "source": [
        "y_pred=np.round(loadedmodel.predict(np.array(Xtest))).ravel()\n",
        "print(\"\\nCR by library method=\\n\",\n",
        "          classification_report(Ytest, y_pred))"
      ]
    },
    {
      "cell_type": "code",
      "source": [
        "XGBoost_Multivariate_imputed_Non_PCA_Cross_Validation_accuracy=float(classification_report(Ytest, y_pred).split()[15])\n",
        "XGBoost_Multivariate_imputed_Non_PCA_Cross_Validation_accuracy"
      ],
      "metadata": {
        "id": "RztJJ-HkvOBv",
        "colab": {
          "base_uri": "https://localhost:8080/"
        },
        "outputId": "54da0b8d-c912-46f7-fb32-f50cb873a3ad"
      },
      "execution_count": null,
      "outputs": [
        {
          "output_type": "execute_result",
          "data": {
            "text/plain": [
              "0.75"
            ]
          },
          "metadata": {},
          "execution_count": 225
        }
      ]
    },
    {
      "cell_type": "code",
      "execution_count": null,
      "metadata": {
        "id": "0bEuo0PjUVwL"
      },
      "outputs": [],
      "source": [
        "# tuned_parameters =  [{'kernel': ['rbf'], 'gamma': [1e-2, 1e-3, 1e-4, 1e-5],\n",
        "#                      'C': [0.001, 0.10, 0.1, 10, 25, 50, 100, 1000]},\n",
        "#                     {'kernel': ['sigmoid'], 'gamma': [1e-2, 1e-3, 1e-4, 1e-5],\n",
        "#                      'C': [0.001, 0.10, 0.1, 10, 25, 50, 100, 1000] },{'kernel': ['linear'], 'C': [0.001, 0.10, 0.1, 10, 25, 50, 100, 1000]}] \n",
        "# clf = GridSearchCV(SVC(), tuned_parameters, cv=cv,\n",
        "#                        scoring='accuracy')\n",
        "# clf.fit(Xtrain,Ytrain)\n",
        "# y_pred=clf.predict(Xtest)\n",
        "# print(\"The accuracy is %.2f\"%(accuracy_score(y_pred,Ytest)*100),\"%\")"
      ]
    },
    {
      "cell_type": "code",
      "source": [
        "# filename = '/content/drive/My Drive/Colab Notebooks/Explainable-AI/Paper-2/models/2-exp/Multivariate/SVM/Non_PCA_Cross_Validation/SVM_Non_PCA_Cross_Validation.sav'\n",
        "# pickle.dump(clf, open(filename, 'wb')) \n"
      ],
      "metadata": {
        "id": "3WD7x6vyvX2K"
      },
      "execution_count": null,
      "outputs": []
    },
    {
      "cell_type": "code",
      "source": [
        "loaded_model = pickle.load(open('/content/drive/My Drive/Colab Notebooks/Explainable-AI/Paper-2/models/2-exp/Multivariate/SVM/Non_PCA_Cross_Validation/SVM_Non_PCA_Cross_Validation.sav', 'rb'))\n",
        "y_pred = loaded_model.predict(Xtest)\n",
        "fpr_svc, tpr_svc, _ = metrics.roc_curve(Ytest, y_pred)\n",
        "auc_svc = round(metrics.roc_auc_score(Ytest, y_pred), 4)"
      ],
      "metadata": {
        "id": "i20mM3J8vYA9"
      },
      "execution_count": null,
      "outputs": []
    },
    {
      "cell_type": "code",
      "execution_count": null,
      "metadata": {
        "id": "u9pkw0YQSSZ3",
        "colab": {
          "base_uri": "https://localhost:8080/"
        },
        "outputId": "2a156477-d88f-49b5-ac41-35e1931e46b5"
      },
      "outputs": [
        {
          "output_type": "stream",
          "name": "stdout",
          "text": [
            "\n",
            "CR by library method=\n",
            "               precision    recall  f1-score   support\n",
            "\n",
            "           0       0.59      0.51      0.55        47\n",
            "           1       0.81      0.86      0.83       118\n",
            "\n",
            "    accuracy                           0.76       165\n",
            "   macro avg       0.70      0.68      0.69       165\n",
            "weighted avg       0.75      0.76      0.75       165\n",
            "\n"
          ]
        }
      ],
      "source": [
        "y_pred=np.round(loaded_model.predict(Xtest)).ravel()\n",
        "print(\"\\nCR by library method=\\n\",\n",
        "          classification_report(Ytest, y_pred))"
      ]
    },
    {
      "cell_type": "code",
      "source": [
        "SVC_Multivariate_imputed_Non_PCA_Cross_Validation_accuracy=float(classification_report(Ytest, y_pred).split()[15])\n",
        "SVC_Multivariate_imputed_Non_PCA_Cross_Validation_accuracy"
      ],
      "metadata": {
        "id": "3TqLWHdVvf0O",
        "colab": {
          "base_uri": "https://localhost:8080/"
        },
        "outputId": "e001c739-f027-4e09-889c-2201b124ada0"
      },
      "execution_count": null,
      "outputs": [
        {
          "output_type": "execute_result",
          "data": {
            "text/plain": [
              "0.76"
            ]
          },
          "metadata": {},
          "execution_count": 230
        }
      ]
    },
    {
      "cell_type": "code",
      "source": [
        "plt.gcf().set_size_inches(16.5, 13.5)\n",
        "plt.subplot(211)\n",
        "plt.plot(fpr_mlp,tpr_mlp, linestyle='--',label=\"MLP_Non-PCA_CV, AUC=\"+str(auc_mlp))\n",
        "plt.subplot(211)\n",
        "plt.plot(fpr_xgb,tpr_xgb, linestyle='--',label=\"XGBoost_Non-PCA_CV, AUC=\"+str(auc_xgb))\n",
        "plt.subplot(211)\n",
        "plt.plot(fpr_svc,tpr_svc, linestyle='--',label=\"SVC_Non-PCA_CV, AUC=\"+str(auc_svc))\n",
        "plt.xlabel('False Positive Rate')\n",
        "plt.ylabel('True Positive Rate')\n",
        "plt.title(\"ROC Curve Plot of Non-PCA with Cross Validation\")\n",
        "plt.legend()"
      ],
      "metadata": {
        "id": "IRNcL4dSvibo",
        "colab": {
          "base_uri": "https://localhost:8080/",
          "height": 494
        },
        "outputId": "3812fa17-db61-4b7b-97b5-f348fee7254b"
      },
      "execution_count": null,
      "outputs": [
        {
          "output_type": "stream",
          "name": "stderr",
          "text": [
            "/usr/local/lib/python3.7/dist-packages/ipykernel_launcher.py:4: MatplotlibDeprecationWarning: Adding an axes using the same arguments as a previous axes currently reuses the earlier instance.  In a future version, a new instance will always be created and returned.  Meanwhile, this warning can be suppressed, and the future behavior ensured, by passing a unique label to each axes instance.\n",
            "  after removing the cwd from sys.path.\n",
            "/usr/local/lib/python3.7/dist-packages/ipykernel_launcher.py:6: MatplotlibDeprecationWarning: Adding an axes using the same arguments as a previous axes currently reuses the earlier instance.  In a future version, a new instance will always be created and returned.  Meanwhile, this warning can be suppressed, and the future behavior ensured, by passing a unique label to each axes instance.\n",
            "  \n"
          ]
        },
        {
          "output_type": "execute_result",
          "data": {
            "text/plain": [
              "<matplotlib.legend.Legend at 0x7f976c3b2ed0>"
            ]
          },
          "metadata": {},
          "execution_count": 231
        },
        {
          "output_type": "display_data",
          "data": {
            "text/plain": [
              "<Figure size 1188x972 with 1 Axes>"
            ],
            "image/png": "[encoded data removed]"
          },
          "metadata": {
            "needs_background": "light"
          }
        }
      ]
    },
    {
      "cell_type": "markdown",
      "metadata": {
        "id": "BtrPwpWnUlPV"
      },
      "source": [
        "# Joining and Scaling Data Imputed by the Univariate Imputation method"
      ]
    },
    {
      "cell_type": "code",
      "execution_count": null,
      "metadata": {
        "id": "ITeWLejgUpUo"
      },
      "outputs": [],
      "source": [
        "\n",
        "univariate_scaled=StandardScaler().fit_transform(simple_imputed_df)\n",
        "univariate_imputed_df=pd.DataFrame(univariate_scaled, columns=numeric_data.columns)"
      ]
    },
    {
      "cell_type": "code",
      "execution_count": null,
      "metadata": {
        "id": "WrLKtjLhVAw7"
      },
      "outputs": [],
      "source": [
        "data=pd.concat([univariate_imputed_df,objects], axis=1)\n",
        "y=data['DEATH?']\n",
        "X=data.iloc[:,:-1]"
      ]
    },
    {
      "cell_type": "code",
      "execution_count": null,
      "metadata": {
        "id": "M0kOSRgYVUwr"
      },
      "outputs": [],
      "source": [
        "pca = PCA()\n",
        "pca.fit(X)\n",
        "cumsum = np.cumsum(pca.explained_variance_ratio_)\n",
        "d = np.argmax(cumsum >= 0.95) + 1\n",
        "pca = PCA(n_components=0.95)\n",
        "X_reduced = pca.fit_transform(X)"
      ]
    },
    {
      "cell_type": "code",
      "execution_count": null,
      "metadata": {
        "id": "igB4vtqiVXvs"
      },
      "outputs": [],
      "source": [
        "# number of components\n",
        "n_pcs= pca.components_.shape[0]\n",
        "\n",
        "# get the index of the most important feature on EACH component\n",
        "# LIST COMPREHENSION HERE\n",
        "most_important = [np.abs(pca.components_[i]).argmax() for i in range(n_pcs)]\n",
        "\n",
        "initial_feature_names = X.columns\n",
        "# get the names\n",
        "most_important_names = [initial_feature_names[most_important[i]] for i in range(n_pcs)]\n",
        "\n",
        "# LIST COMPREHENSION HERE AGAIN\n",
        "dic = {'PC{}'.format(i): most_important_names[i] for i in range(n_pcs)}\n",
        "\n",
        "# build the dataframe\n",
        "df = pd.DataFrame(dic.items())"
      ]
    },
    {
      "cell_type": "code",
      "execution_count": null,
      "metadata": {
        "id": "WALhpV6WVaZr"
      },
      "outputs": [],
      "source": [
        "Xtrain,Xtest,Ytrain,Ytest=train_test_split(X_reduced,y,random_state=42,stratify=y)"
      ]
    },
    {
      "cell_type": "code",
      "execution_count": null,
      "metadata": {
        "colab": {
          "base_uri": "https://localhost:8080/"
        },
        "id": "uKa1cLcoVgAF",
        "outputId": "c8de0c39-05df-4d6c-b3f3-0226fd3020ae"
      },
      "outputs": [
        {
          "output_type": "execute_result",
          "data": {
            "text/plain": [
              "(658, 56)"
            ]
          },
          "metadata": {},
          "execution_count": 238
        }
      ],
      "source": [
        "X_reduced.shape"
      ]
    },
    {
      "cell_type": "markdown",
      "metadata": {
        "id": "fgk6x4QNVpwx"
      },
      "source": [
        "### Training Models with PCA X Imputed by Univariate Model and without Cross Validation\n",
        "\n"
      ]
    },
    {
      "cell_type": "code",
      "execution_count": null,
      "metadata": {
        "id": "2nitxaHJVrOb"
      },
      "outputs": [],
      "source": [
        "model = Sequential()\n",
        "model.add(Dense(58, activation='relu', input_dim=(56)))\n",
        "model.add(Dense(60, activation='relu'))\n",
        "# model.add(Dense(128, activation='relu'))\n",
        "# model.add(Dense(64, activation='relu'))\n",
        "model.add(Dense(num_classes, activation='sigmoid'))"
      ]
    },
    {
      "cell_type": "code",
      "execution_count": null,
      "metadata": {
        "id": "kbFU2wDHVzXP"
      },
      "outputs": [],
      "source": [
        "model.compile(loss='binary_crossentropy',\n",
        "              optimizer='RMSprop',\n",
        "              metrics=['accuracy'])\n",
        "history = model.fit(Xtrain, Ytrain,batch_size=batch_size,epochs=epochs,verbose=0,\n",
        "                    validation_data=(Xtest, Ytest))"
      ]
    },
    {
      "cell_type": "code",
      "execution_count": null,
      "metadata": {
        "colab": {
          "base_uri": "https://localhost:8080/"
        },
        "id": "lQVrNag2V4_Q",
        "outputId": "dc6f897f-6fd5-4458-e414-0c4de91cf352"
      },
      "outputs": [
        {
          "output_type": "stream",
          "name": "stdout",
          "text": [
            "6/6 [==============================] - 0s 3ms/step - loss: 0.8310 - accuracy: 0.7636\n",
            "Accuracy: 76.36 %\n"
          ]
        }
      ],
      "source": [
        "loss,accuracy=model.evaluate(Xtest,Ytest)\n",
        "print(\"Accuracy: %.2f\"%(accuracy*100),\"%\")"
      ]
    },
    {
      "cell_type": "code",
      "source": [
        "filename = '/content/drive/My Drive/Colab Notebooks/Explainable-AI/Paper-2/models/2-exp/Univariate/MLP/PCA_Without_Cross_Validation/MLP_PCA_Without_Cross_Validation.sav'\n",
        "pickle.dump(model, open(filename, 'wb')) \n"
      ],
      "metadata": {
        "colab": {
          "base_uri": "https://localhost:8080/"
        },
        "id": "9ao9hz3ofzLs",
        "outputId": "b90e9cc8-ab2e-4299-d6e4-6a92cc680069"
      },
      "execution_count": null,
      "outputs": [
        {
          "output_type": "stream",
          "name": "stdout",
          "text": [
            "INFO:tensorflow:Assets written to: ram://048b88cb-920f-4612-a05f-42cdf2815784/assets\n"
          ]
        }
      ]
    },
    {
      "cell_type": "code",
      "source": [
        "loaded_model = pickle.load(open('/content/drive/My Drive/Colab Notebooks/Explainable-AI/Paper-2/models/2-exp/Univariate/MLP/PCA_Without_Cross_Validation/MLP_PCA_Without_Cross_Validation.sav', 'rb'))\n",
        "y_pred = loaded_model.predict(Xtest)\n",
        "fpr_mlp, tpr_mlp, _ = metrics.roc_curve(Ytest, y_pred)\n",
        "auc_mlp = round(metrics.roc_auc_score(Ytest, y_pred), 4)"
      ],
      "metadata": {
        "id": "YB7Exi5nfzUt"
      },
      "execution_count": null,
      "outputs": []
    },
    {
      "cell_type": "code",
      "execution_count": null,
      "metadata": {
        "colab": {
          "base_uri": "https://localhost:8080/"
        },
        "id": "gUbND4ZBSXUD",
        "outputId": "28fe8be9-a724-4bd7-d7b8-8dd79899d7f5"
      },
      "outputs": [
        {
          "output_type": "stream",
          "name": "stdout",
          "text": [
            "\n",
            "CR by library method=\n",
            "               precision    recall  f1-score   support\n",
            "\n",
            "           0       0.58      0.60      0.59        47\n",
            "           1       0.84      0.83      0.83       118\n",
            "\n",
            "    accuracy                           0.76       165\n",
            "   macro avg       0.71      0.71      0.71       165\n",
            "weighted avg       0.77      0.76      0.76       165\n",
            "\n"
          ]
        }
      ],
      "source": [
        "y_pred=np.round(loaded_model.predict(Xtest)).ravel()\n",
        "print(\"\\nCR by library method=\\n\",\n",
        "          classification_report(Ytest, y_pred))"
      ]
    },
    {
      "cell_type": "code",
      "source": [
        "MLP_Univariate_imputed_PCA_Non_Cross_accuracy=float(classification_report(Ytest, y_pred).split()[15])\n",
        "MLP_Univariate_imputed_PCA_Non_Cross_accuracy"
      ],
      "metadata": {
        "colab": {
          "base_uri": "https://localhost:8080/"
        },
        "id": "-avnIOqRgc1Q",
        "outputId": "8bab781b-5dde-4db8-a7cb-310cac2ab0b8"
      },
      "execution_count": null,
      "outputs": [
        {
          "output_type": "execute_result",
          "data": {
            "text/plain": [
              "0.76"
            ]
          },
          "metadata": {},
          "execution_count": 246
        }
      ]
    },
    {
      "cell_type": "code",
      "execution_count": null,
      "metadata": {
        "colab": {
          "base_uri": "https://localhost:8080/"
        },
        "id": "2OC1BAAcWAYi",
        "outputId": "6174eb0b-2953-4784-a781-f8244cab5289"
      },
      "outputs": [
        {
          "output_type": "stream",
          "name": "stdout",
          "text": [
            "The accuracy is 77.58 %\n"
          ]
        }
      ],
      "source": [
        "model=xgb.XGBClassifier(learning_rate =0.1,\n",
        " n_estimators=1000,\n",
        " max_depth=5,\n",
        " min_child_weight=1,\n",
        " gamma=0,\n",
        " subsample=0.8,\n",
        " colsample_bytree=0.8,\n",
        " objective= 'binary:logistic',\n",
        " nthread=4,\n",
        " scale_pos_weight=1,\n",
        " seed=27)\n",
        "model.fit(Xtrain, Ytrain)\n",
        "y_pred=model.predict(Xtest)\n",
        "print(\"The accuracy is %.2f\"%(accuracy_score(y_pred,Ytest)*100),\"%\")"
      ]
    },
    {
      "cell_type": "code",
      "source": [
        "filename = '/content/drive/My Drive/Colab Notebooks/Explainable-AI/Paper-2/models/2-exp/Univariate/XGB/PCA_Without_Cross_Validation/XGB_PCA_Without_Cross_Validation.sav'\n",
        "pickle.dump(model, open(filename, 'wb')) \n"
      ],
      "metadata": {
        "id": "5-djP3bjgenR"
      },
      "execution_count": null,
      "outputs": []
    },
    {
      "cell_type": "code",
      "source": [
        "loaded_model = pickle.load(open('/content/drive/My Drive/Colab Notebooks/Explainable-AI/Paper-2/models/2-exp/Univariate/XGB/PCA_Without_Cross_Validation/XGB_PCA_Without_Cross_Validation.sav', 'rb'))\n",
        "y_pred = loaded_model.predict(Xtest)\n",
        "fpr_xgb, tpr_xgb, _ = metrics.roc_curve(Ytest, y_pred)\n",
        "auc_xgb = round(metrics.roc_auc_score(Ytest, y_pred), 4)\n"
      ],
      "metadata": {
        "id": "4_lN-K9vge-e"
      },
      "execution_count": null,
      "outputs": []
    },
    {
      "cell_type": "code",
      "execution_count": null,
      "metadata": {
        "colab": {
          "base_uri": "https://localhost:8080/"
        },
        "id": "ASfWVxKTSaDy",
        "outputId": "10ffdd9e-0227-46b0-f843-cb04cb2ec3c9"
      },
      "outputs": [
        {
          "output_type": "stream",
          "name": "stdout",
          "text": [
            "\n",
            "CR by library method=\n",
            "               precision    recall  f1-score   support\n",
            "\n",
            "           0       0.63      0.51      0.56        47\n",
            "           1       0.82      0.88      0.85       118\n",
            "\n",
            "    accuracy                           0.78       165\n",
            "   macro avg       0.73      0.70      0.71       165\n",
            "weighted avg       0.77      0.78      0.77       165\n",
            "\n"
          ]
        }
      ],
      "source": [
        "y_pred=np.round(loaded_model.predict(Xtest)).ravel()\n",
        "print(\"\\nCR by library method=\\n\",\n",
        "          classification_report(Ytest, y_pred))"
      ]
    },
    {
      "cell_type": "code",
      "source": [
        "XGBoost_Univariate_imputed_PCA_accuracy=float(classification_report(Ytest, y_pred).split()[15])\n",
        "XGBoost_Univariate_imputed_PCA_accuracy"
      ],
      "metadata": {
        "colab": {
          "base_uri": "https://localhost:8080/"
        },
        "id": "7oHY4Ch5gwI4",
        "outputId": "90b81b8a-9db7-460b-e629-afb08f63e8e1"
      },
      "execution_count": null,
      "outputs": [
        {
          "output_type": "execute_result",
          "data": {
            "text/plain": [
              "0.78"
            ]
          },
          "metadata": {},
          "execution_count": 254
        }
      ]
    },
    {
      "cell_type": "code",
      "execution_count": null,
      "metadata": {
        "colab": {
          "base_uri": "https://localhost:8080/"
        },
        "id": "dQtysrxWWIjK",
        "outputId": "e4e98962-2e76-4df8-ffb8-50c3a1b97a88"
      },
      "outputs": [
        {
          "output_type": "stream",
          "name": "stdout",
          "text": [
            "The accuracy is 73.94 %\n"
          ]
        }
      ],
      "source": [
        "clf=SVC()\n",
        "clf.fit(Xtrain,Ytrain)\n",
        "y_pred=clf.predict(Xtest)\n",
        "print(\"The accuracy is %.2f\"%(accuracy_score(y_pred,Ytest)*100),\"%\")"
      ]
    },
    {
      "cell_type": "code",
      "source": [
        "filename = '/content/drive/My Drive/Colab Notebooks/Explainable-AI/Paper-2/models/2-exp/Univariate/SVM/PCA_Without_Cross_Validation/SVM_PCA_Without_Cross_Validation.sav'\n",
        "pickle.dump(clf, open(filename, 'wb')) \n"
      ],
      "metadata": {
        "id": "c09SKMDqgtir"
      },
      "execution_count": null,
      "outputs": []
    },
    {
      "cell_type": "code",
      "source": [
        "loaded_model = pickle.load(open('/content/drive/My Drive/Colab Notebooks/Explainable-AI/Paper-2/models/2-exp/Univariate/SVM/PCA_Without_Cross_Validation/SVM_PCA_Without_Cross_Validation.sav', 'rb'))\n",
        "y_pred = loaded_model.predict(Xtest)\n",
        "fpr_svc, tpr_svc, _ = metrics.roc_curve(Ytest, y_pred)\n",
        "auc_svc = round(metrics.roc_auc_score(Ytest, y_pred), 4)\n"
      ],
      "metadata": {
        "id": "tSY535Gag02q"
      },
      "execution_count": null,
      "outputs": []
    },
    {
      "cell_type": "code",
      "execution_count": null,
      "metadata": {
        "colab": {
          "base_uri": "https://localhost:8080/"
        },
        "id": "vOo1drrBSeDK",
        "outputId": "a8604f99-2980-427e-96fd-9bc434042f41"
      },
      "outputs": [
        {
          "output_type": "stream",
          "name": "stdout",
          "text": [
            "\n",
            "CR by library method=\n",
            "               precision    recall  f1-score   support\n",
            "\n",
            "           0       0.55      0.47      0.51        47\n",
            "           1       0.80      0.85      0.82       118\n",
            "\n",
            "    accuracy                           0.74       165\n",
            "   macro avg       0.68      0.66      0.66       165\n",
            "weighted avg       0.73      0.74      0.73       165\n",
            "\n"
          ]
        }
      ],
      "source": [
        "y_pred=np.round(loaded_model.predict(Xtest)).ravel()\n",
        "print(\"\\nCR by library method=\\n\",\n",
        "          classification_report(Ytest, y_pred))"
      ]
    },
    {
      "cell_type": "code",
      "source": [
        "SVC_Univariate_imputed_PCA_accuracy=float(classification_report(Ytest, y_pred).split()[15])\n",
        "SVC_Univariate_imputed_PCA_accuracy"
      ],
      "metadata": {
        "colab": {
          "base_uri": "https://localhost:8080/"
        },
        "id": "9IdTcEhyhBq4",
        "outputId": "8d1d93fa-b421-45bb-b4c8-01097ce11600"
      },
      "execution_count": null,
      "outputs": [
        {
          "output_type": "execute_result",
          "data": {
            "text/plain": [
              "0.74"
            ]
          },
          "metadata": {},
          "execution_count": 259
        }
      ]
    },
    {
      "cell_type": "code",
      "source": [
        "plt.gcf().set_size_inches(16.5, 13.5)\n",
        "plt.subplot(211)\n",
        "plt.plot(fpr_mlp,tpr_mlp,marker='.',label=\"MLP_PCA_Non-CV, AUC=\"+str(auc_mlp))\n",
        "plt.subplot(211)\n",
        "plt.plot(fpr_xgb,tpr_xgb,linestyle='--',label=\"XGBoost_PCA_Non-CV, AUC=\"+str(auc_xgb))\n",
        "plt.subplot(211)\n",
        "plt.plot(fpr_svc,tpr_svc,linestyle='--',label=\"SVC_PCA_Non-CV, AUC=\"+str(auc_svc))\n",
        "plt.xlabel('False Positive Rate')\n",
        "plt.ylabel('True Positive Rate')\n",
        "plt.title(\"ROC Curve Plot of PCA without Cross Validation\")\n",
        "plt.legend()"
      ],
      "metadata": {
        "colab": {
          "base_uri": "https://localhost:8080/",
          "height": 494
        },
        "id": "A3bhxoNmhFEs",
        "outputId": "6335740a-5e58-416a-c0b5-038d903cb27d"
      },
      "execution_count": null,
      "outputs": [
        {
          "output_type": "stream",
          "name": "stderr",
          "text": [
            "/usr/local/lib/python3.7/dist-packages/ipykernel_launcher.py:4: MatplotlibDeprecationWarning: Adding an axes using the same arguments as a previous axes currently reuses the earlier instance.  In a future version, a new instance will always be created and returned.  Meanwhile, this warning can be suppressed, and the future behavior ensured, by passing a unique label to each axes instance.\n",
            "  after removing the cwd from sys.path.\n",
            "/usr/local/lib/python3.7/dist-packages/ipykernel_launcher.py:6: MatplotlibDeprecationWarning: Adding an axes using the same arguments as a previous axes currently reuses the earlier instance.  In a future version, a new instance will always be created and returned.  Meanwhile, this warning can be suppressed, and the future behavior ensured, by passing a unique label to each axes instance.\n",
            "  \n"
          ]
        },
        {
          "output_type": "execute_result",
          "data": {
            "text/plain": [
              "<matplotlib.legend.Legend at 0x7f976c11d210>"
            ]
          },
          "metadata": {},
          "execution_count": 260
        },
        {
          "output_type": "display_data",
          "data": {
            "text/plain": [
              "<Figure size 1188x972 with 1 Axes>"
            ],
            "image/png": "[encoded data removed]"
          },
          "metadata": {
            "needs_background": "light"
          }
        }
      ]
    },
    {
      "cell_type": "markdown",
      "metadata": {
        "id": "Tg2WFqByWLJP"
      },
      "source": [
        "## Training Models with PCA X Imputed by Univariate Model and with Cross Validation"
      ]
    },
    {
      "cell_type": "code",
      "execution_count": null,
      "metadata": {
        "colab": {
          "base_uri": "https://localhost:8080/"
        },
        "id": "rr3xT27LFWLw",
        "outputId": "329c2550-9975-4bf0-b9f0-6f72be32a7fc"
      },
      "outputs": [
        {
          "output_type": "stream",
          "name": "stdout",
          "text": [
            "------------------------------------------------------------------------\n",
            "Training for fold 1 ...\n",
            "Score for fold 1: loss of 0.49006813764572144; accuracy of 78.63636612892151%\n",
            "------------------------------------------------------------------------\n",
            "Training for fold 2 ...\n",
            "Score for fold 2: loss of 0.8878279328346252; accuracy of 75.79908967018127%\n",
            "------------------------------------------------------------------------\n",
            "Training for fold 3 ...\n",
            "Score for fold 3: loss of 0.5935280919075012; accuracy of 75.79908967018127%\n",
            "\n",
            "CR by library method=\n",
            "               precision    recall  f1-score   support\n",
            "\n",
            "           0       0.54      0.53      0.53        57\n",
            "           1       0.83      0.84      0.84       162\n",
            "\n",
            "    accuracy                           0.76       219\n",
            "   macro avg       0.69      0.68      0.68       219\n",
            "weighted avg       0.76      0.76      0.76       219\n",
            "\n"
          ]
        }
      ],
      "source": [
        "\n",
        "# K-fold Cross Validation model evaluation\n",
        "acc_per_fold=[]\n",
        "loss_per_fold=[]\n",
        "inputs =np.array(X_reduced)\n",
        "targets = np.array(y)\n",
        "kfold = KFold(n_splits=3, shuffle=True)\n",
        "fold_no = 1\n",
        "for train, test in kfold.split(inputs, targets):\n",
        "\n",
        "  # Define the model architecture\n",
        "  model = Sequential()\n",
        "  model.add(Dense(58, activation='relu', input_dim=(56)))\n",
        "  model.add(Dense(60, activation='relu'))\n",
        "  model.add(Dense(num_classes, activation='sigmoid'))\n",
        "\n",
        "  # Compile the model\n",
        "  model.compile(loss='binary_crossentropy',\n",
        "              optimizer='RMSprop',\n",
        "              metrics=['accuracy'])\n",
        "\n",
        "\n",
        "  # Generate a print\n",
        "  print('------------------------------------------------------------------------')\n",
        "  print(f'Training for fold {fold_no} ...')\n",
        "\n",
        "  # Fit data to model\n",
        "  history = model.fit(inputs[train], targets[train],\n",
        "              batch_size=batch_size,\n",
        "              epochs=epochs,\n",
        "              verbose=0)\n",
        "  # Generate generalization metrics\n",
        "  scores = model.evaluate(inputs[test], targets[test], verbose=0)\n",
        "  print(f'Score for fold {fold_no}: {model.metrics_names[0]} of {scores[0]}; {model.metrics_names[1]} of {scores[1]*100}%')\n",
        "  acc_per_fold.append(scores[1] * 100)\n",
        "  loss_per_fold.append(scores[0])\n",
        "\n",
        "  # Increase fold number\n",
        "  fold_no = fold_no + 1\n",
        "y_pred=np.round(model.predict(inputs[test])).ravel()\n",
        "print(\"\\nCR by library method=\\n\",\n",
        "          classification_report(targets[test], y_pred))"
      ]
    },
    {
      "cell_type": "code",
      "source": [
        "filename = '/content/drive/My Drive/Colab Notebooks/Explainable-AI/Paper-2/models/2-exp/Univariate/MLP/PCA_Cross_Validation/MLP_PCA_Cross_Validation.sav'\n",
        "pickle.dump(model, open(filename, 'wb')) \n"
      ],
      "metadata": {
        "colab": {
          "base_uri": "https://localhost:8080/"
        },
        "id": "U999dzMrhLZ2",
        "outputId": "66fb949c-bf6e-4672-d29e-f3ccfd2331d1"
      },
      "execution_count": null,
      "outputs": [
        {
          "output_type": "stream",
          "name": "stdout",
          "text": [
            "INFO:tensorflow:Assets written to: ram://e1be9793-367b-4dc1-80b8-c89f253a9771/assets\n"
          ]
        }
      ]
    },
    {
      "cell_type": "code",
      "source": [
        "loaded_model = pickle.load(open('/content/drive/My Drive/Colab Notebooks/Explainable-AI/Paper-2/models/2-exp/Univariate/MLP/PCA_Cross_Validation/MLP_PCA_Cross_Validation.sav', 'rb'))\n",
        "y_pred = loaded_model.predict(Xtest)\n",
        "fpr_mlp, tpr_mlp, _ = metrics.roc_curve(Ytest, y_pred)\n",
        "auc_mlp = round(metrics.roc_auc_score(Ytest, y_pred), 4)"
      ],
      "metadata": {
        "id": "rj1n9RtJhLgi"
      },
      "execution_count": null,
      "outputs": []
    },
    {
      "cell_type": "code",
      "source": [
        "y_pred=np.round(loaded_model.predict(inputs[test])).ravel()\n",
        "print(\"\\nCR by library method=\\n\",\n",
        "          classification_report(targets[test], y_pred))"
      ],
      "metadata": {
        "colab": {
          "base_uri": "https://localhost:8080/"
        },
        "id": "-HYI0T1vhLqX",
        "outputId": "0a419077-9a12-4410-b2b9-4d2a6939a71a"
      },
      "execution_count": null,
      "outputs": [
        {
          "output_type": "stream",
          "name": "stdout",
          "text": [
            "\n",
            "CR by library method=\n",
            "               precision    recall  f1-score   support\n",
            "\n",
            "           0       0.54      0.53      0.53        57\n",
            "           1       0.83      0.84      0.84       162\n",
            "\n",
            "    accuracy                           0.76       219\n",
            "   macro avg       0.69      0.68      0.68       219\n",
            "weighted avg       0.76      0.76      0.76       219\n",
            "\n"
          ]
        }
      ]
    },
    {
      "cell_type": "code",
      "source": [
        "MLP_Univariate_imputed_PCA_Cross_Validation_accuracy=float((classification_report(targets[test], y_pred)).split()[15])\n",
        "MLP_Univariate_imputed_PCA_Cross_Validation_accuracy"
      ],
      "metadata": {
        "colab": {
          "base_uri": "https://localhost:8080/"
        },
        "id": "PCOxxntvhL5E",
        "outputId": "6e211e49-5fac-4a20-8572-50130807163a"
      },
      "execution_count": null,
      "outputs": [
        {
          "output_type": "execute_result",
          "data": {
            "text/plain": [
              "0.76"
            ]
          },
          "metadata": {},
          "execution_count": 265
        }
      ]
    },
    {
      "cell_type": "code",
      "execution_count": null,
      "metadata": {
        "colab": {
          "base_uri": "https://localhost:8080/"
        },
        "id": "5secaBT1WP_G",
        "outputId": "612d732e-a78c-4e08-cd69-56d70b57fc42"
      },
      "outputs": [
        {
          "output_type": "stream",
          "name": "stdout",
          "text": [
            "The accuracy is 75.15 %\n"
          ]
        }
      ],
      "source": [
        "cv = KFold(n_splits=3)\n",
        "PARAMETERS = {\"subsample\":[0.5, 0.75, 1],\n",
        "              \"colsample_bytree\":[0.5, 0.75, 1],\n",
        "              \"max_depth\":[2,5, 6, 12],\n",
        "              \"min_child_weight\":[1,5,15],\n",
        "              \"learning_rate\":[0.3, 0.1, 0.03],\n",
        "              \"n_estimators\":[100,500,1000]}\n",
        "full = xgb.XGBClassifier(n_estimators=100, n_jobs=-1)\n",
        "model_gs = GridSearchCV(full,param_grid=PARAMETERS,cv=cv,scoring=\"accuracy\")\n",
        "model_gs.fit(np.array(Xtrain),Ytrain, eval_metric=\"error\",verbose=0)\n",
        "y_pred=model_gs.predict(np.array(Xtest))\n",
        "print(\"The accuracy is %.2f\"%(accuracy_score(y_pred,Ytest)*100),\"%\")"
      ]
    },
    {
      "cell_type": "code",
      "source": [
        "filename = '/content/drive/My Drive/Colab Notebooks/Explainable-AI/Paper-2/models/2-exp/Univariate/XGB/PCA_Cross_Validation/XGB_PCA_Cross_Validation.sav'\n",
        "pickle.dump(model_gs, open(filename, 'wb')) \n"
      ],
      "metadata": {
        "id": "rkh-9aVahcM2"
      },
      "execution_count": null,
      "outputs": []
    },
    {
      "cell_type": "code",
      "source": [
        "loaded_model = pickle.load(open('/content/drive/My Drive/Colab Notebooks/Explainable-AI/Paper-2/models/2-exp/Univariate/XGB/PCA_Cross_Validation/XGB_PCA_Cross_Validation.sav', 'rb'))\n",
        "y_pred = loaded_model.predict(Xtest)\n",
        "fpr_xgb, tpr_xgb, _ = metrics.roc_curve(Ytest, y_pred)\n",
        "auc_xgb= round(metrics.roc_auc_score(Ytest, y_pred), 4)\n"
      ],
      "metadata": {
        "id": "5RJTRKm7hcYC"
      },
      "execution_count": null,
      "outputs": []
    },
    {
      "cell_type": "code",
      "execution_count": null,
      "metadata": {
        "colab": {
          "base_uri": "https://localhost:8080/"
        },
        "id": "JMbvlARXSgrY",
        "outputId": "1a0546f0-3f8f-492a-90b3-53756a76a10c"
      },
      "outputs": [
        {
          "output_type": "stream",
          "name": "stdout",
          "text": [
            "\n",
            "CR by library method=\n",
            "               precision    recall  f1-score   support\n",
            "\n",
            "           0       0.58      0.45      0.51        47\n",
            "           1       0.80      0.87      0.83       118\n",
            "\n",
            "    accuracy                           0.75       165\n",
            "   macro avg       0.69      0.66      0.67       165\n",
            "weighted avg       0.74      0.75      0.74       165\n",
            "\n"
          ]
        }
      ],
      "source": [
        "y_pred=np.round(loaded_model.predict(np.array(Xtest))).ravel()\n",
        "print(\"\\nCR by library method=\\n\",\n",
        "          classification_report(Ytest, y_pred))"
      ]
    },
    {
      "cell_type": "code",
      "source": [
        "XGBoost_Univariate_imputed_PCA_Cross_Validation_accuracy=float(classification_report(Ytest, y_pred).split()[15])\n",
        "XGBoost_Univariate_imputed_PCA_Cross_Validation_accuracy"
      ],
      "metadata": {
        "colab": {
          "base_uri": "https://localhost:8080/"
        },
        "id": "BYcsbeYghjKX",
        "outputId": "139dffe7-072d-4c5d-9c44-f612f873a6a5"
      },
      "execution_count": null,
      "outputs": [
        {
          "output_type": "execute_result",
          "data": {
            "text/plain": [
              "0.75"
            ]
          },
          "metadata": {},
          "execution_count": 270
        }
      ]
    },
    {
      "cell_type": "code",
      "execution_count": null,
      "metadata": {
        "colab": {
          "base_uri": "https://localhost:8080/"
        },
        "id": "NsDj3nZkWTr7",
        "outputId": "6280bdb7-5223-4b51-9892-2a3dd9c87b7f"
      },
      "outputs": [
        {
          "output_type": "stream",
          "name": "stdout",
          "text": [
            "The accuracy is 77.58 %\n"
          ]
        }
      ],
      "source": [
        "tuned_parameters =  [{'kernel': ['rbf'], 'gamma': [1e-2, 1e-3, 1e-4, 1e-5],\n",
        "                     'C': [0.001, 0.10, 0.1, 10, 25, 50, 100, 1000]},\n",
        "                    {'kernel': ['sigmoid'], 'gamma': [1e-2, 1e-3, 1e-4, 1e-5],\n",
        "                     'C': [0.001, 0.10, 0.1, 10, 25, 50, 100, 1000] },{'kernel': ['linear'], 'C': [0.001, 0.10, 0.1, 10, 25, 50, 100, 1000]}] \n",
        "clf = GridSearchCV(SVC(), tuned_parameters, cv=cv,\n",
        "                       scoring='accuracy')\n",
        "clf.fit(Xtrain,Ytrain)\n",
        "y_pred=clf.predict(Xtest)\n",
        "print(\"The accuracy is %.2f\"%(accuracy_score(y_pred,Ytest)*100),\"%\")"
      ]
    },
    {
      "cell_type": "code",
      "source": [
        "filename = '/content/drive/My Drive/Colab Notebooks/Explainable-AI/Paper-2/models/2-exp/Univariate/SVM/PCA_Cross_Validation/SVM_PCA_Cross_Validation.sav'\n",
        "pickle.dump(clf, open(filename, 'wb')) \n"
      ],
      "metadata": {
        "id": "1gskgFDxhsLM"
      },
      "execution_count": null,
      "outputs": []
    },
    {
      "cell_type": "code",
      "source": [
        "loaded_model = pickle.load(open('/content/drive/My Drive/Colab Notebooks/Explainable-AI/Paper-2/models/2-exp/Univariate/SVM/PCA_Cross_Validation/SVM_PCA_Cross_Validation.sav', 'rb'))\n",
        "y_pred = loaded_model.predict(Xtest)\n",
        "fpr_svc, tpr_svc, _ = metrics.roc_curve(Ytest, y_pred)\n",
        "auc_svc = round(metrics.roc_auc_score(Ytest, y_pred), 4)"
      ],
      "metadata": {
        "id": "eGaeNfOkhuTY"
      },
      "execution_count": null,
      "outputs": []
    },
    {
      "cell_type": "code",
      "execution_count": null,
      "metadata": {
        "colab": {
          "base_uri": "https://localhost:8080/"
        },
        "id": "O1zv2dQBSipT",
        "outputId": "aca07dbb-e86b-42c3-b857-0b2fa53e6e38"
      },
      "outputs": [
        {
          "output_type": "stream",
          "name": "stdout",
          "text": [
            "\n",
            "CR by library method=\n",
            "               precision    recall  f1-score   support\n",
            "\n",
            "           0       0.60      0.62      0.61        47\n",
            "           1       0.85      0.84      0.84       118\n",
            "\n",
            "    accuracy                           0.78       165\n",
            "   macro avg       0.73      0.73      0.73       165\n",
            "weighted avg       0.78      0.78      0.78       165\n",
            "\n"
          ]
        }
      ],
      "source": [
        "y_pred=np.round(loaded_model.predict(Xtest)).ravel()\n",
        "print(\"\\nCR by library method=\\n\",\n",
        "          classification_report(Ytest, y_pred))"
      ]
    },
    {
      "cell_type": "code",
      "source": [
        "SVC_Univariate_imputed_PCA_Cross_Validation_accuracy=float(classification_report(Ytest, y_pred).split()[15])\n",
        "SVC_Univariate_imputed_PCA_Cross_Validation_accuracy"
      ],
      "metadata": {
        "colab": {
          "base_uri": "https://localhost:8080/"
        },
        "id": "HE-IXzEAiFUI",
        "outputId": "77c81ac4-e626-45ba-fd2c-b84ac88c2ac2"
      },
      "execution_count": null,
      "outputs": [
        {
          "output_type": "execute_result",
          "data": {
            "text/plain": [
              "0.78"
            ]
          },
          "metadata": {},
          "execution_count": 279
        }
      ]
    },
    {
      "cell_type": "code",
      "source": [
        "plt.gcf().set_size_inches(16.5, 13.5)\n",
        "plt.subplot(211)\n",
        "plt.plot(fpr_mlp,tpr_mlp,linestyle='--',label=\"MLP_PCA_CV, AUC=\"+str(auc_mlp))\n",
        "plt.subplot(211)\n",
        "plt.plot(fpr_xgb,tpr_xgb,linestyle='--',label=\"XGBoost_PCA_CV, AUC=\"+str(auc_xgb))\n",
        "plt.subplot(211)\n",
        "plt.plot(fpr_svc,tpr_svc,linestyle='--',label=\"SVC_PCA_CV, AUC=\"+str(auc_svc))\n",
        "plt.xlabel('False Positive Rate')\n",
        "plt.ylabel('True Positive Rate')\n",
        "plt.title(\"ROC Curve Plot of PCA with Cross Validation\")\n",
        "plt.legend()"
      ],
      "metadata": {
        "colab": {
          "base_uri": "https://localhost:8080/",
          "height": 494
        },
        "id": "GVgaMW9giF4c",
        "outputId": "049ffaee-ab2e-42b8-f8ce-19d6c7e8b2fa"
      },
      "execution_count": null,
      "outputs": [
        {
          "output_type": "stream",
          "name": "stderr",
          "text": [
            "/usr/local/lib/python3.7/dist-packages/ipykernel_launcher.py:4: MatplotlibDeprecationWarning: Adding an axes using the same arguments as a previous axes currently reuses the earlier instance.  In a future version, a new instance will always be created and returned.  Meanwhile, this warning can be suppressed, and the future behavior ensured, by passing a unique label to each axes instance.\n",
            "  after removing the cwd from sys.path.\n",
            "/usr/local/lib/python3.7/dist-packages/ipykernel_launcher.py:6: MatplotlibDeprecationWarning: Adding an axes using the same arguments as a previous axes currently reuses the earlier instance.  In a future version, a new instance will always be created and returned.  Meanwhile, this warning can be suppressed, and the future behavior ensured, by passing a unique label to each axes instance.\n",
            "  \n"
          ]
        },
        {
          "output_type": "execute_result",
          "data": {
            "text/plain": [
              "<matplotlib.legend.Legend at 0x7f976bf57e50>"
            ]
          },
          "metadata": {},
          "execution_count": 280
        },
        {
          "output_type": "display_data",
          "data": {
            "text/plain": [
              "<Figure size 1188x972 with 1 Axes>"
            ],
            "image/png": "[encoded data removed]"
          },
          "metadata": {
            "needs_background": "light"
          }
        }
      ]
    },
    {
      "cell_type": "markdown",
      "metadata": {
        "id": "ibMLsJnZWXbq"
      },
      "source": [
        "# Training Models with Non-PCA X Imputed by Univariate Model and without Cross Validation"
      ]
    },
    {
      "cell_type": "code",
      "execution_count": null,
      "metadata": {
        "id": "owKijn39Wexx"
      },
      "outputs": [],
      "source": [
        "Xtrain,Xtest,Ytrain,Ytest=train_test_split(X,y,random_state=42,stratify=y)"
      ]
    },
    {
      "cell_type": "code",
      "execution_count": null,
      "metadata": {
        "id": "Dv11AYV4WhqD"
      },
      "outputs": [],
      "source": [
        "m = Sequential()\n",
        "m.add(Dense(216, activation='relu', input_dim=(214)))\n",
        "m.add(Dense(218, activation='relu'))\n",
        "# m.add(Dense(128, activation='relu'))\n",
        "# m.add(Dense(64, activation='relu'))\n",
        "m.add(Dense(num_classes, activation='sigmoid'))"
      ]
    },
    {
      "cell_type": "code",
      "execution_count": null,
      "metadata": {
        "id": "AMFAkJ6JWkO7"
      },
      "outputs": [],
      "source": [
        "m.compile(loss='binary_crossentropy',\n",
        "              optimizer='RMSprop',\n",
        "              metrics=['accuracy'])\n",
        "history = m.fit(Xtrain, Ytrain,batch_size=batch_size,epochs=epochs,verbose=0,\n",
        "                    validation_data=(Xtest, Ytest))"
      ]
    },
    {
      "cell_type": "code",
      "execution_count": null,
      "metadata": {
        "colab": {
          "base_uri": "https://localhost:8080/"
        },
        "id": "dVeE4ajkWmqM",
        "outputId": "b5ea81a1-4a88-46fc-8026-940d204cc550"
      },
      "outputs": [
        {
          "output_type": "stream",
          "name": "stdout",
          "text": [
            "6/6 [==============================] - 0s 3ms/step - loss: 0.8533 - accuracy: 0.7576\n",
            "Accuracy: 75.76 %\n"
          ]
        }
      ],
      "source": [
        "loss,accuracy=m.evaluate(Xtest,Ytest)\n",
        "print(\"Accuracy: %.2f\"%(accuracy*100),\"%\")"
      ]
    },
    {
      "cell_type": "code",
      "source": [
        "filename = '/content/drive/My Drive/Colab Notebooks/Explainable-AI/Paper-2/models/2-exp/Univariate/MLP/Non_PCA_Without_Cross_Validation/MLP_Non_PCA_Without_Cross_Validation.sav'\n",
        "pickle.dump(m, open(filename, 'wb')) \n"
      ],
      "metadata": {
        "colab": {
          "base_uri": "https://localhost:8080/"
        },
        "id": "uAEzBg8BiArn",
        "outputId": "dd2bd182-7155-4766-9867-6e835597b809"
      },
      "execution_count": null,
      "outputs": [
        {
          "output_type": "stream",
          "name": "stdout",
          "text": [
            "INFO:tensorflow:Assets written to: ram://b1c818c2-400c-470c-ba8c-2a47f0dc60a0/assets\n"
          ]
        }
      ]
    },
    {
      "cell_type": "code",
      "source": [
        "loaded_model = pickle.load(open('/content/drive/My Drive/Colab Notebooks/Explainable-AI/Paper-2/models/2-exp/Univariate/MLP/Non_PCA_Without_Cross_Validation/MLP_Non_PCA_Without_Cross_Validation.sav', 'rb'))\n",
        "y_pred = loaded_model.predict(Xtest)\n",
        "fpr_mlp, tpr_mlp, _ = metrics.roc_curve(Ytest, y_pred)\n",
        "auc_mlp = round(metrics.roc_auc_score(Ytest, y_pred), 4)"
      ],
      "metadata": {
        "id": "kpDuXXQuiAzQ"
      },
      "execution_count": null,
      "outputs": []
    },
    {
      "cell_type": "code",
      "execution_count": null,
      "metadata": {
        "colab": {
          "base_uri": "https://localhost:8080/"
        },
        "id": "BbuSMYvESoGi",
        "outputId": "9e542611-0d20-4e05-9bc7-dd17f8984fe2"
      },
      "outputs": [
        {
          "output_type": "stream",
          "name": "stdout",
          "text": [
            "\n",
            "CR by library method=\n",
            "               precision    recall  f1-score   support\n",
            "\n",
            "           0       0.57      0.60      0.58        47\n",
            "           1       0.84      0.82      0.83       118\n",
            "\n",
            "    accuracy                           0.76       165\n",
            "   macro avg       0.70      0.71      0.71       165\n",
            "weighted avg       0.76      0.76      0.76       165\n",
            "\n"
          ]
        }
      ],
      "source": [
        "y_pred=np.round(loaded_model.predict(Xtest)).ravel()\n",
        "print(\"\\nCR by library method=\\n\",\n",
        "          classification_report(Ytest, y_pred))"
      ]
    },
    {
      "cell_type": "code",
      "source": [
        "MLP_Univariate_imputed_Non_PCA_Non_Cross_accuracy=float(classification_report(Ytest, y_pred).split()[15])\n",
        "MLP_Univariate_imputed_Non_PCA_Non_Cross_accuracy"
      ],
      "metadata": {
        "colab": {
          "base_uri": "https://localhost:8080/"
        },
        "id": "7EMIwHiwiaro",
        "outputId": "7c837887-fb4a-4103-cf0a-58fa39820133"
      },
      "execution_count": null,
      "outputs": [
        {
          "output_type": "execute_result",
          "data": {
            "text/plain": [
              "0.76"
            ]
          },
          "metadata": {},
          "execution_count": 284
        }
      ]
    },
    {
      "cell_type": "code",
      "execution_count": null,
      "metadata": {
        "colab": {
          "base_uri": "https://localhost:8080/"
        },
        "id": "tbd-dRlyWoww",
        "outputId": "2132e870-eddb-41fb-ff19-a94ff424375a"
      },
      "outputs": [
        {
          "output_type": "stream",
          "name": "stdout",
          "text": [
            "The accuracy is 73.94 %\n"
          ]
        }
      ],
      "source": [
        "full_boost=xgb.XGBClassifier(learning_rate =0.1,\n",
        " n_estimators=1000,\n",
        " max_depth=5,\n",
        " min_child_weight=1,\n",
        " gamma=0,\n",
        " subsample=0.8,\n",
        " colsample_bytree=0.8,\n",
        " objective= 'binary:logistic',\n",
        " nthread=4,\n",
        " scale_pos_weight=1,\n",
        " seed=27)\n",
        "full_boost.fit(np.array(Xtrain), Ytrain)\n",
        "y_pred=full_boost.predict(np.array(Xtest))\n",
        "print(\"The accuracy is %.2f\"%(accuracy_score(y_pred,Ytest)*100),\"%\")"
      ]
    },
    {
      "cell_type": "code",
      "source": [
        "filename = '/content/drive/My Drive/Colab Notebooks/Explainable-AI/Paper-2/models/2-exp/Univariate/XGB/Non_PCA_Without_Cross_Validation/XGB_Non_PCA_Without_Cross_Validation.sav' \n",
        "pickle.dump(full_boost, open(filename, 'wb')) \n"
      ],
      "metadata": {
        "id": "fEFFS8C-ih9j"
      },
      "execution_count": null,
      "outputs": []
    },
    {
      "cell_type": "code",
      "source": [
        "loadedmodel = pickle.load(open('/content/drive/My Drive/Colab Notebooks/Explainable-AI/Paper-2/models/2-exp/Univariate/XGB/Non_PCA_Without_Cross_Validation/XGB_Non_PCA_Without_Cross_Validation.sav', 'rb'))\n",
        "y_pred = loadedmodel.predict(np.array(Xtest))\n",
        "fpr_xgb, tpr_xgb, _ = metrics.roc_curve(Ytest, y_pred)\n",
        "auc_xgb = round(metrics.roc_auc_score(Ytest, y_pred), 4)\n"
      ],
      "metadata": {
        "id": "hTI7MG8NiiJK"
      },
      "execution_count": null,
      "outputs": []
    },
    {
      "cell_type": "code",
      "execution_count": null,
      "metadata": {
        "colab": {
          "base_uri": "https://localhost:8080/"
        },
        "id": "iLXUN1sRSr9g",
        "outputId": "0292cb90-826c-4b1d-e4a7-fa57a8eaa6f3"
      },
      "outputs": [
        {
          "output_type": "stream",
          "name": "stdout",
          "text": [
            "\n",
            "CR by library method=\n",
            "               precision    recall  f1-score   support\n",
            "\n",
            "           0       0.55      0.51      0.53        47\n",
            "           1       0.81      0.83      0.82       118\n",
            "\n",
            "    accuracy                           0.74       165\n",
            "   macro avg       0.68      0.67      0.67       165\n",
            "weighted avg       0.73      0.74      0.74       165\n",
            "\n"
          ]
        }
      ],
      "source": [
        "y_pred=np.round(loadedmodel.predict(np.array(Xtest))).ravel()\n",
        "print(\"\\nCR by library method=\\n\",\n",
        "          classification_report(Ytest, y_pred))"
      ]
    },
    {
      "cell_type": "code",
      "source": [
        "XGBoost_Univariate_imputed_Non_PCA_Non_Cross_accuracy=float(classification_report(Ytest, y_pred).split()[15])\n",
        "XGBoost_Univariate_imputed_Non_PCA_Non_Cross_accuracy"
      ],
      "metadata": {
        "colab": {
          "base_uri": "https://localhost:8080/"
        },
        "id": "2bAsv43Xivaq",
        "outputId": "f1e4691e-f094-421e-b459-d8b9c99de284"
      },
      "execution_count": null,
      "outputs": [
        {
          "output_type": "execute_result",
          "data": {
            "text/plain": [
              "0.74"
            ]
          },
          "metadata": {},
          "execution_count": 290
        }
      ]
    },
    {
      "cell_type": "code",
      "execution_count": null,
      "metadata": {
        "colab": {
          "base_uri": "https://localhost:8080/"
        },
        "id": "uWIc51ZtWwnP",
        "outputId": "b38c96ec-695e-4c0e-9244-7c043c9064c9"
      },
      "outputs": [
        {
          "output_type": "stream",
          "name": "stdout",
          "text": [
            "The accuracy is 75.76 %\n"
          ]
        }
      ],
      "source": [
        "clf=SVC()\n",
        "clf.fit(Xtrain,Ytrain)\n",
        "y_pred=clf.predict(Xtest)\n",
        "print(\"The accuracy is %.2f\"%(accuracy_score(y_pred,Ytest)*100),\"%\")"
      ]
    },
    {
      "cell_type": "code",
      "source": [
        "filename = '/content/drive/My Drive/Colab Notebooks/Explainable-AI/Paper-2/models/2-exp/Univariate/SVM/Non_PCA_Without_Cross_Validation/SVM_Non_PCA_Without_Cross_Validation.sav'\n",
        "pickle.dump(clf, open(filename, 'wb')) \n"
      ],
      "metadata": {
        "id": "TijO5r6qi0IN"
      },
      "execution_count": null,
      "outputs": []
    },
    {
      "cell_type": "code",
      "source": [
        "loaded_model = pickle.load(open('/content/drive/My Drive/Colab Notebooks/Explainable-AI/Paper-2/models/2-exp/Univariate/SVM/Non_PCA_Without_Cross_Validation/SVM_Non_PCA_Without_Cross_Validation.sav', 'rb'))\n",
        "y_pred = loaded_model.predict(Xtest)\n",
        "fpr_svc, tpr_svc, _ = metrics.roc_curve(Ytest, y_pred)\n",
        "auc_svc = round(metrics.roc_auc_score(Ytest, y_pred), 4)"
      ],
      "metadata": {
        "id": "XYRPmy2Yi0RT"
      },
      "execution_count": null,
      "outputs": []
    },
    {
      "cell_type": "code",
      "execution_count": null,
      "metadata": {
        "colab": {
          "base_uri": "https://localhost:8080/"
        },
        "id": "b_SGkB-VSvcw",
        "outputId": "4420fda2-9b42-4956-c23c-e0239ba099c6"
      },
      "outputs": [
        {
          "output_type": "stream",
          "name": "stdout",
          "text": [
            "\n",
            "CR by library method=\n",
            "               precision    recall  f1-score   support\n",
            "\n",
            "           0       0.59      0.51      0.55        47\n",
            "           1       0.81      0.86      0.83       118\n",
            "\n",
            "    accuracy                           0.76       165\n",
            "   macro avg       0.70      0.68      0.69       165\n",
            "weighted avg       0.75      0.76      0.75       165\n",
            "\n"
          ]
        }
      ],
      "source": [
        "y_pred=np.round(loaded_model.predict(Xtest)).ravel()\n",
        "print(\"\\nCR by library method=\\n\",\n",
        "          classification_report(Ytest, y_pred))"
      ]
    },
    {
      "cell_type": "code",
      "source": [
        "SVC_Univariate_imputed_Non_PCA_Non_Cross_accuracy=float(classification_report(Ytest, y_pred).split()[15])\n",
        "SVC_Univariate_imputed_Non_PCA_Non_Cross_accuracy"
      ],
      "metadata": {
        "colab": {
          "base_uri": "https://localhost:8080/"
        },
        "id": "r1_kKw26i-vj",
        "outputId": "0e074f83-2da9-4e5d-c4da-3b7381e3c9b0"
      },
      "execution_count": null,
      "outputs": [
        {
          "output_type": "execute_result",
          "data": {
            "text/plain": [
              "0.76"
            ]
          },
          "metadata": {},
          "execution_count": 295
        }
      ]
    },
    {
      "cell_type": "code",
      "source": [
        "plt.gcf().set_size_inches(16.5, 13.5)\n",
        "plt.subplot(211)\n",
        "plt.plot(fpr_mlp,tpr_mlp, linestyle='--',label=\"MLP_Non-PCA_Non-CV, AUC=\"+str(auc_mlp))\n",
        "plt.subplot(211)\n",
        "plt.plot(fpr_xgb,tpr_xgb, linestyle='--',label=\"XGBoost_Non-PCA_Non-CV, AUC=\"+str(auc_xgb))\n",
        "plt.subplot(211)\n",
        "plt.plot(fpr_svc,tpr_svc, linestyle='--',label=\"SVC_Non-PCA_Non-CV, AUC=\"+str(auc_svc))\n",
        "plt.xlabel('False Positive Rate')\n",
        "plt.ylabel('True Positive Rate')\n",
        "plt.title(\"ROC Curve Plot of Non-PCA without Cross Validation\")\n",
        "plt.legend()"
      ],
      "metadata": {
        "colab": {
          "base_uri": "https://localhost:8080/",
          "height": 494
        },
        "id": "jb-Ozeaoi_Au",
        "outputId": "02c4b529-5e6c-449b-b333-e611924bc5f9"
      },
      "execution_count": null,
      "outputs": [
        {
          "output_type": "stream",
          "name": "stderr",
          "text": [
            "/usr/local/lib/python3.7/dist-packages/ipykernel_launcher.py:4: MatplotlibDeprecationWarning: Adding an axes using the same arguments as a previous axes currently reuses the earlier instance.  In a future version, a new instance will always be created and returned.  Meanwhile, this warning can be suppressed, and the future behavior ensured, by passing a unique label to each axes instance.\n",
            "  after removing the cwd from sys.path.\n",
            "/usr/local/lib/python3.7/dist-packages/ipykernel_launcher.py:6: MatplotlibDeprecationWarning: Adding an axes using the same arguments as a previous axes currently reuses the earlier instance.  In a future version, a new instance will always be created and returned.  Meanwhile, this warning can be suppressed, and the future behavior ensured, by passing a unique label to each axes instance.\n",
            "  \n"
          ]
        },
        {
          "output_type": "execute_result",
          "data": {
            "text/plain": [
              "<matplotlib.legend.Legend at 0x7f976b3d8b10>"
            ]
          },
          "metadata": {},
          "execution_count": 296
        },
        {
          "output_type": "display_data",
          "data": {
            "text/plain": [
              "<Figure size 1188x972 with 1 Axes>"
            ],
            "image/png": "[encoded data removed]"
          },
          "metadata": {
            "needs_background": "light"
          }
        }
      ]
    },
    {
      "cell_type": "markdown",
      "metadata": {
        "id": "yIUMh1YWW0CJ"
      },
      "source": [
        "# Training Models with Non-PCA X Imputed by Univariate Model and with Cross Validation"
      ]
    },
    {
      "cell_type": "code",
      "execution_count": null,
      "metadata": {
        "colab": {
          "base_uri": "https://localhost:8080/"
        },
        "id": "PEdQcJV_FnE7",
        "outputId": "888e1791-9cc4-4cb9-a28d-ebfaddf29994"
      },
      "outputs": [
        {
          "output_type": "stream",
          "name": "stdout",
          "text": [
            "------------------------------------------------------------------------\n",
            "Training for fold 1 ...\n",
            "Score for fold 1: loss of 1.9306693077087402; accuracy of 73.18181991577148%\n",
            "------------------------------------------------------------------------\n",
            "Training for fold 2 ...\n",
            "Score for fold 2: loss of 1.0283918380737305; accuracy of 75.79908967018127%\n",
            "------------------------------------------------------------------------\n",
            "Training for fold 3 ...\n",
            "Score for fold 3: loss of 0.7141172289848328; accuracy of 78.53881120681763%\n",
            "\n",
            "CR by library method=\n",
            "               precision    recall  f1-score   support\n",
            "\n",
            "           0       0.55      0.67      0.61        54\n",
            "           1       0.88      0.82      0.85       165\n",
            "\n",
            "    accuracy                           0.79       219\n",
            "   macro avg       0.72      0.75      0.73       219\n",
            "weighted avg       0.80      0.79      0.79       219\n",
            "\n"
          ]
        }
      ],
      "source": [
        "\n",
        "# K-fold Cross Validation model evaluation\n",
        "acc_per_fold=[]\n",
        "loss_per_fold=[]\n",
        "inputs =np.array(X)\n",
        "targets = np.array(y)\n",
        "kfold = KFold(n_splits=3, shuffle=True)\n",
        "fold_no = 1\n",
        "for train, test in kfold.split(inputs, targets):\n",
        "\n",
        "  # Define the model architecture\n",
        "  model = Sequential()\n",
        "  model.add(Dense(216, activation='relu', input_dim=(214)))\n",
        "  model.add(Dense(218, activation='relu'))\n",
        "  model.add(Dense(num_classes, activation='sigmoid'))\n",
        "\n",
        "  # Compile the model\n",
        "  model.compile(loss='binary_crossentropy',\n",
        "              optimizer='RMSprop',\n",
        "              metrics=['accuracy'])\n",
        "\n",
        "\n",
        "  # Generate a print\n",
        "  print('------------------------------------------------------------------------')\n",
        "  print(f'Training for fold {fold_no} ...')\n",
        "\n",
        "  # Fit data to model\n",
        "  history = model.fit(inputs[train], targets[train],\n",
        "              batch_size=batch_size,\n",
        "              epochs=epochs,\n",
        "              verbose=0)\n",
        "  # Generate generalization metrics\n",
        "  scores = model.evaluate(inputs[test], targets[test], verbose=0)\n",
        "  print(f'Score for fold {fold_no}: {model.metrics_names[0]} of {scores[0]}; {model.metrics_names[1]} of {scores[1]*100}%')\n",
        "  acc_per_fold.append(scores[1] * 100)\n",
        "  loss_per_fold.append(scores[0])\n",
        "\n",
        "  # Increase fold number\n",
        "  fold_no = fold_no + 1\n",
        "y_pred=np.round(model.predict(inputs[test])).ravel()\n",
        "print(\"\\nCR by library method=\\n\",\n",
        "          classification_report(targets[test], y_pred))"
      ]
    },
    {
      "cell_type": "code",
      "source": [
        "filename = '/content/drive/My Drive/Colab Notebooks/Explainable-AI/Paper-2/models/2-exp/Univariate/MLP/Non_PCA_Cross_Validation/MLP_Non_PCA_Cross_Validation.sav'\n",
        "pickle.dump(model, open(filename, 'wb')) \n"
      ],
      "metadata": {
        "colab": {
          "base_uri": "https://localhost:8080/"
        },
        "id": "jAQPxImajGS7",
        "outputId": "bedd44bd-8b00-4987-ff48-3a465608ae7f"
      },
      "execution_count": null,
      "outputs": [
        {
          "output_type": "stream",
          "name": "stdout",
          "text": [
            "INFO:tensorflow:Assets written to: ram://eb513d95-58c6-42ae-b60a-b6273e835f69/assets\n"
          ]
        },
        {
          "output_type": "stream",
          "name": "stderr",
          "text": [
            "INFO:tensorflow:Assets written to: ram://eb513d95-58c6-42ae-b60a-b6273e835f69/assets\n"
          ]
        }
      ]
    },
    {
      "cell_type": "code",
      "source": [
        "loaded_model = pickle.load(open('/content/drive/My Drive/Colab Notebooks/Explainable-AI/Paper-2/models/2-exp/Univariate/MLP/Non_PCA_Cross_Validation/MLP_Non_PCA_Cross_Validation.sav', 'rb'))\n",
        "y_pred = loaded_model.predict(Xtest)\n",
        "fpr_mlp, tpr_mlp, _ = metrics.roc_curve(Ytest, y_pred)\n",
        "auc_mlp = round(metrics.roc_auc_score(Ytest, y_pred), 4)"
      ],
      "metadata": {
        "id": "aNKnONA2jGbC"
      },
      "execution_count": null,
      "outputs": []
    },
    {
      "cell_type": "code",
      "source": [
        "y_pred=np.round(loaded_model.predict(np.array(Xtest))).ravel()\n",
        "print(\"\\nCR by library method=\\n\",\n",
        "          classification_report(Ytest, y_pred))"
      ],
      "metadata": {
        "colab": {
          "base_uri": "https://localhost:8080/"
        },
        "id": "5iGyP2N3pYaM",
        "outputId": "5a739e77-8743-4b6a-9bed-18c9d909fefe"
      },
      "execution_count": null,
      "outputs": [
        {
          "output_type": "stream",
          "name": "stdout",
          "text": [
            "\n",
            "CR by library method=\n",
            "               precision    recall  f1-score   support\n",
            "\n",
            "           0       0.81      0.83      0.82        47\n",
            "           1       0.93      0.92      0.93       118\n",
            "\n",
            "    accuracy                           0.90       165\n",
            "   macro avg       0.87      0.88      0.87       165\n",
            "weighted avg       0.90      0.90      0.90       165\n",
            "\n"
          ]
        }
      ]
    },
    {
      "cell_type": "code",
      "execution_count": null,
      "metadata": {
        "colab": {
          "base_uri": "https://localhost:8080/"
        },
        "id": "n7Yz9S8gW6Q_",
        "outputId": "913d76b6-08b6-485e-93ce-2e43566b6349"
      },
      "outputs": [
        {
          "output_type": "stream",
          "name": "stdout",
          "text": [
            "The accuracy is 74.55 %\n"
          ]
        }
      ],
      "source": [
        "cv = KFold(n_splits=3)\n",
        "PARAMETERS = {\"subsample\":[0.5, 0.75, 1],\n",
        "              \"colsample_bytree\":[0.5, 0.75, 1],\n",
        "              \"max_depth\":[2,5, 6, 12],\n",
        "              \"min_child_weight\":[1,5,15],\n",
        "              \"learning_rate\":[0.3, 0.1, 0.03],\n",
        "              \"n_estimators\":[100,500,1000]}\n",
        "full = xgb.XGBClassifier(n_estimators=100, n_jobs=-1)\n",
        "model_gs = GridSearchCV(full,param_grid=PARAMETERS,cv=cv,scoring=\"accuracy\")\n",
        "model_gs.fit(np.array(Xtrain),Ytrain, eval_metric=\"error\",verbose=0)\n",
        "y_pred=model_gs.predict(np.array(Xtest))\n",
        "print(\"The accuracy is %.2f\"%(accuracy_score(y_pred,Ytest)*100),\"%\")"
      ]
    },
    {
      "cell_type": "code",
      "source": [
        "filename = '/content/drive/My Drive/Colab Notebooks/Explainable-AI/Paper-2/models/2-exp/Univariate/XGB/Non_PCA_Cross_Validation/XGB_Non_PCA_Cross_Validation.sav'\n",
        "pickle.dump(model_gs, open(filename, 'wb')) \n"
      ],
      "metadata": {
        "id": "CrWEkJ0sjTuz"
      },
      "execution_count": null,
      "outputs": []
    },
    {
      "cell_type": "code",
      "source": [
        "loadedmodel = pickle.load(open('/content/drive/My Drive/Colab Notebooks/Explainable-AI/Paper-2/models/2-exp/Univariate/XGB/Non_PCA_Cross_Validation/XGB_Non_PCA_Cross_Validation.sav', 'rb'))\n",
        "y_pred = loadedmodel.predict(np.array(Xtest))\n",
        "fpr_xgb, tpr_xgb, _ = metrics.roc_curve(Ytest, y_pred)\n",
        "auc_xgb = round(metrics.roc_auc_score(Ytest, y_pred), 4)\n"
      ],
      "metadata": {
        "id": "8-9YaRWBjT4H"
      },
      "execution_count": null,
      "outputs": []
    },
    {
      "cell_type": "code",
      "execution_count": null,
      "metadata": {
        "colab": {
          "base_uri": "https://localhost:8080/"
        },
        "id": "-TzggY3_Sx2R",
        "outputId": "8ad5c2a7-2394-40ea-be39-de9bbcd06d47"
      },
      "outputs": [
        {
          "output_type": "stream",
          "name": "stdout",
          "text": [
            "\n",
            "CR by library method=\n",
            "               precision    recall  f1-score   support\n",
            "\n",
            "           0       0.56      0.51      0.53        47\n",
            "           1       0.81      0.84      0.82       118\n",
            "\n",
            "    accuracy                           0.75       165\n",
            "   macro avg       0.68      0.67      0.68       165\n",
            "weighted avg       0.74      0.75      0.74       165\n",
            "\n"
          ]
        }
      ],
      "source": [
        "y_pred=np.round(loadedmodel.predict(np.array(Xtest))).ravel()\n",
        "print(\"\\nCR by library method=\\n\",\n",
        "          classification_report(Ytest, y_pred))"
      ]
    },
    {
      "cell_type": "code",
      "source": [
        "XGBoost_Univariate_imputed_Non_PCA_Cross_Validation_accuracy=float(classification_report(Ytest, y_pred).split()[15])\n",
        "XGBoost_Univariate_imputed_Non_PCA_Cross_Validation_accuracy"
      ],
      "metadata": {
        "colab": {
          "base_uri": "https://localhost:8080/"
        },
        "id": "84YnbBU0jgYo",
        "outputId": "52708304-19cd-41c6-f148-f24dca4b22f8"
      },
      "execution_count": null,
      "outputs": [
        {
          "output_type": "execute_result",
          "data": {
            "text/plain": [
              "0.75"
            ]
          },
          "metadata": {},
          "execution_count": 315
        }
      ]
    },
    {
      "cell_type": "code",
      "execution_count": null,
      "metadata": {
        "colab": {
          "base_uri": "https://localhost:8080/"
        },
        "id": "RzZn8xgiW-QY",
        "outputId": "c5591ad5-240b-41aa-d0b3-36a95669c35b"
      },
      "outputs": [
        {
          "output_type": "stream",
          "name": "stdout",
          "text": [
            "The accuracy is 75.76 %\n"
          ]
        }
      ],
      "source": [
        "tuned_parameters =  [{'kernel': ['rbf'], 'gamma': [1e-2, 1e-3, 1e-4, 1e-5],\n",
        "                     'C': [0.001, 0.10, 0.1, 10, 25, 50, 100, 1000]},\n",
        "                    {'kernel': ['sigmoid'], 'gamma': [1e-2, 1e-3, 1e-4, 1e-5],\n",
        "                     'C': [0.001, 0.10, 0.1, 10, 25, 50, 100, 1000] },{'kernel': ['linear'], 'C': [0.001, 0.10, 0.1, 10, 25, 50, 100, 1000]}] \n",
        "clf = GridSearchCV(SVC(), tuned_parameters, cv=cv,\n",
        "                       scoring='accuracy')\n",
        "clf.fit(Xtrain,Ytrain)\n",
        "y_pred=clf.predict(Xtest)\n",
        "print(\"The accuracy is %.2f\"%(accuracy_score(y_pred,Ytest)*100),\"%\")"
      ]
    },
    {
      "cell_type": "code",
      "source": [
        "filename = '/content/drive/My Drive/Colab Notebooks/Explainable-AI/Paper-2/models/2-exp/Univariate/SVM/Non_PCA_Cross_Validation/SVM_Non_PCA_Cross_Validation.sav'\n",
        "pickle.dump(clf, open(filename, 'wb')) \n"
      ],
      "metadata": {
        "id": "J3L4e2DwjizC"
      },
      "execution_count": null,
      "outputs": []
    },
    {
      "cell_type": "code",
      "source": [
        "loaded_model = pickle.load(open('/content/drive/My Drive/Colab Notebooks/Explainable-AI/Paper-2/models/2-exp/Univariate/SVM/Non_PCA_Cross_Validation/SVM_Non_PCA_Cross_Validation.sav', 'rb'))\n",
        "y_pred = loaded_model.predict(Xtest)\n",
        "fpr_svc, tpr_svc, _ = metrics.roc_curve(Ytest, y_pred)\n",
        "auc_svc = round(metrics.roc_auc_score(Ytest, y_pred), 4)"
      ],
      "metadata": {
        "id": "_MnkAj7rji9u"
      },
      "execution_count": null,
      "outputs": []
    },
    {
      "cell_type": "code",
      "execution_count": null,
      "metadata": {
        "colab": {
          "base_uri": "https://localhost:8080/"
        },
        "id": "cpZE5UCFSzhW",
        "outputId": "dbcbdb3a-7ea5-4bad-9ffd-0c0431a76383"
      },
      "outputs": [
        {
          "output_type": "stream",
          "name": "stdout",
          "text": [
            "\n",
            "CR by library method=\n",
            "               precision    recall  f1-score   support\n",
            "\n",
            "           0       0.59      0.51      0.55        47\n",
            "           1       0.81      0.86      0.83       118\n",
            "\n",
            "    accuracy                           0.76       165\n",
            "   macro avg       0.70      0.68      0.69       165\n",
            "weighted avg       0.75      0.76      0.75       165\n",
            "\n"
          ]
        }
      ],
      "source": [
        "y_pred=np.round(loaded_model.predict(Xtest)).ravel()\n",
        "print(\"\\nCR by library method=\\n\",\n",
        "          classification_report(Ytest, y_pred))"
      ]
    },
    {
      "cell_type": "code",
      "execution_count": null,
      "metadata": {
        "id": "p60lSlT0VWyx",
        "colab": {
          "base_uri": "https://localhost:8080/"
        },
        "outputId": "ab3bb51a-0ed6-42e8-f223-8c60c2fecbef"
      },
      "outputs": [
        {
          "output_type": "execute_result",
          "data": {
            "text/plain": [
              "0.76"
            ]
          },
          "metadata": {},
          "execution_count": 320
        }
      ],
      "source": [
        "SVC_Univariate_imputed_Non_PCA_Cross_Validation_accuracy=float(classification_report(Ytest, y_pred).split()[15])\n",
        "SVC_Univariate_imputed_Non_PCA_Cross_Validation_accuracy"
      ]
    },
    {
      "cell_type": "code",
      "source": [
        "plt.gcf().set_size_inches(16.5, 13.5)\n",
        "plt.subplot(211)\n",
        "plt.plot(fpr_mlp,tpr_mlp, linestyle='--',label=\"MLP_Non-PCA_CV, AUC=\"+str(auc_mlp))\n",
        "plt.subplot(211)\n",
        "plt.plot(fpr_xgb,tpr_xgb, linestyle='--',label=\"XGBoost_Non-PCA_CV, AUC=\"+str(auc_xgb))\n",
        "plt.subplot(211)\n",
        "plt.plot(fpr_svc,tpr_svc, linestyle='--',label=\"SVC_Non-PCA_CV, AUC=\"+str(auc_svc))\n",
        "plt.xlabel('False Positive Rate')\n",
        "plt.ylabel('True Positive Rate')\n",
        "plt.title(\"ROC Curve Plot of Non-PCA with Cross Validation\")\n",
        "plt.legend()"
      ],
      "metadata": {
        "colab": {
          "base_uri": "https://localhost:8080/",
          "height": 494
        },
        "id": "lm8wYWaEjxvQ",
        "outputId": "80e608f2-abb2-4f13-a521-2229853318a7"
      },
      "execution_count": null,
      "outputs": [
        {
          "output_type": "stream",
          "name": "stderr",
          "text": [
            "/usr/local/lib/python3.7/dist-packages/ipykernel_launcher.py:4: MatplotlibDeprecationWarning: Adding an axes using the same arguments as a previous axes currently reuses the earlier instance.  In a future version, a new instance will always be created and returned.  Meanwhile, this warning can be suppressed, and the future behavior ensured, by passing a unique label to each axes instance.\n",
            "  after removing the cwd from sys.path.\n",
            "/usr/local/lib/python3.7/dist-packages/ipykernel_launcher.py:6: MatplotlibDeprecationWarning: Adding an axes using the same arguments as a previous axes currently reuses the earlier instance.  In a future version, a new instance will always be created and returned.  Meanwhile, this warning can be suppressed, and the future behavior ensured, by passing a unique label to each axes instance.\n",
            "  \n"
          ]
        },
        {
          "output_type": "execute_result",
          "data": {
            "text/plain": [
              "<matplotlib.legend.Legend at 0x7f975cee84d0>"
            ]
          },
          "metadata": {},
          "execution_count": 321
        },
        {
          "output_type": "display_data",
          "data": {
            "text/plain": [
              "<Figure size 1188x972 with 1 Axes>"
            ],
            "image/png": "[encoded data removed]"
          },
          "metadata": {
            "needs_background": "light"
          }
        }
      ]
    },
    {
      "cell_type": "code",
      "source": [],
      "metadata": {
        "id": "5wiBr4qlj0U2"
      },
      "execution_count": null,
      "outputs": []
    }
  ],
  "metadata": {
    "accelerator": "GPU",
    "colab": {
      "provenance": []
    },
    "kernelspec": {
      "display_name": "Python 3",
      "name": "python3"
    },
    "language_info": {
      "name": "python"
    }
  },
  "nbformat": 4,
  "nbformat_minor": 0
}